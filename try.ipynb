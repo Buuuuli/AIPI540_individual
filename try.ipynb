{
  "nbformat": 4,
  "nbformat_minor": 0,
  "metadata": {
    "colab": {
      "name": "Untitled5.ipynb",
      "provenance": [],
      "machine_shape": "hm",
      "authorship_tag": "ABX9TyMe/f1ohJEpy5hb3oTPu16r",
      "include_colab_link": true
    },
    "kernelspec": {
      "name": "python3",
      "display_name": "Python 3"
    },
    "language_info": {
      "name": "python"
    },
    "accelerator": "GPU"
  },
  "cells": [
    {
      "cell_type": "markdown",
      "metadata": {
        "id": "view-in-github",
        "colab_type": "text"
      },
      "source": [
        "<a href=\"https://colab.research.google.com/github/Buuuuli/AIPI540_individual/blob/main/try.ipynb\" target=\"_parent\"><img src=\"https://colab.research.google.com/assets/colab-badge.svg\" alt=\"Open In Colab\"/></a>"
      ]
    },
    {
      "cell_type": "code",
      "execution_count": null,
      "metadata": {
        "colab": {
          "base_uri": "https://localhost:8080/"
        },
        "id": "oVO59Z87vlcY",
        "outputId": "2dc0f59e-8353-4b22-bb54-0acc7de34796"
      },
      "outputs": [
        {
          "output_type": "stream",
          "name": "stdout",
          "text": [
            "Mounted at /content/drive\n"
          ]
        }
      ],
      "source": [
        "from os.path import join\n",
        "from google.colab import drive\n",
        "\n",
        "ROOT = \"/content/drive\"\n",
        "drive.mount(ROOT, force_remount=False)"
      ]
    },
    {
      "cell_type": "code",
      "source": [
        "#PROJ =\"MyDrive/repos\"\n",
        "#PROJECT_PATH = join(ROOT, PROJ)\n",
        "#!mkdir \"PROJECT_PATH\""
      ],
      "metadata": {
        "id": "wpZAVlC2vt3n"
      },
      "execution_count": null,
      "outputs": []
    },
    {
      "cell_type": "code",
      "source": [
        "!ls"
      ],
      "metadata": {
        "colab": {
          "base_uri": "https://localhost:8080/"
        },
        "id": "4_ExL1gSvt5x",
        "outputId": "6b751cf3-304a-48a5-c845-ea2e34c296d1"
      },
      "execution_count": null,
      "outputs": [
        {
          "output_type": "stream",
          "name": "stdout",
          "text": [
            "drive  sample_data\n"
          ]
        }
      ]
    },
    {
      "cell_type": "code",
      "source": [
        "%cd /content/drive/\"My Drive\"/AIPI540"
      ],
      "metadata": {
        "colab": {
          "base_uri": "https://localhost:8080/"
        },
        "id": "srqjyPn4vt7f",
        "outputId": "ebdf4246-d94c-4478-f8a4-3649211111f4"
      },
      "execution_count": null,
      "outputs": [
        {
          "output_type": "stream",
          "name": "stdout",
          "text": [
            "/content/drive/My Drive/AIPI540\n"
          ]
        }
      ]
    },
    {
      "cell_type": "code",
      "source": [
        "import os\n",
        "import urllib.request\n",
        "import zipfile\n",
        "import copy\n",
        "import time\n",
        "import numpy as np\n",
        "import pandas as pd\n",
        "import torch\n",
        "from torchvision import datasets, transforms\n",
        "import torchvision\n",
        "from torch.utils.data import DataLoader, TensorDataset\n",
        "import torch.nn as nn\n",
        "import torch.nn.functional as F\n",
        "import torch.optim as optim\n",
        "from torchvision.datasets import FashionMNIST\n",
        "from torchsummary import summary\n",
        "import cv2 as cv\n",
        "import glob\n",
        "from PIL import Image\n",
        "import pickle as pkl\n",
        "from tqdm import tqdm\n",
        "\n",
        "\n",
        "\n",
        "from sklearn.tree import DecisionTreeClassifier, DecisionTreeRegressor, plot_tree\n",
        "from sklearn.ensemble import RandomForestClassifier\n",
        "from sklearn.model_selection import train_test_split\n",
        "import matplotlib.pyplot as plt"
      ],
      "metadata": {
        "id": "n4c9ECsa6fw6"
      },
      "execution_count": 55,
      "outputs": []
    },
    {
      "cell_type": "code",
      "source": [
        "# check what types of image we get\n",
        "#set the image directory\n",
        "files = os.listdir(\"./image/\")\n",
        "# print the types of image\n",
        "print(set([x.split(\".\")[1] for x in files]))\n"
      ],
      "metadata": {
        "id": "sDkJeDUI6f56",
        "outputId": "7c3bed00-14be-475a-d527-816369f0c8d6",
        "colab": {
          "base_uri": "https://localhost:8080/"
        }
      },
      "execution_count": null,
      "outputs": [
        {
          "output_type": "stream",
          "name": "stdout",
          "text": [
            "{'jpg'}\n"
          ]
        }
      ]
    },
    {
      "cell_type": "code",
      "source": [
        "# prepare the directory for each image type\n",
        "extensions = (\"*.jpg\")\n",
        "path = []\n",
        "for extension in extensions:\n",
        "    path.extend(glob.glob(\"./image/\"+extension))"
      ],
      "metadata": {
        "id": "4wY5KZeT6f8n"
      },
      "execution_count": null,
      "outputs": []
    },
    {
      "cell_type": "code",
      "source": [
        "# set the transforms\n",
        "trans = transforms.Compose([transforms.ToTensor(),\n",
        "        transforms.Normalize([0.485, 0.456, 0.406], [0.229, 0.224, 0.225])])"
      ],
      "metadata": {
        "id": "Zu_F2FHgGY3m"
      },
      "execution_count": null,
      "outputs": []
    },
    {
      "cell_type": "code",
      "source": [
        "# read data\n",
        "cv_img = []\n",
        "for img in tqdm(path):\n",
        "    # read image > to Tensor > permute the data > resize > flatten\n",
        "    try:\n",
        "      n = trans(cv.imread(img))\n",
        "    except:\n",
        "      print(img)\n",
        "      pass\n",
        "    cv_img.append(n)"
      ],
      "metadata": {
        "id": "-n6xyPMK6f-4",
        "outputId": "0c740f7a-ea2c-4bdc-b711-afd5769e9062",
        "colab": {
          "base_uri": "https://localhost:8080/"
        }
      },
      "execution_count": null,
      "outputs": [
        {
          "output_type": "stream",
          "name": "stderr",
          "text": [
            "  0%|          | 27/10016 [00:21<2:38:52,  1.05it/s]"
          ]
        },
        {
          "output_type": "stream",
          "name": "stdout",
          "text": [
            "./image/ISIC_0033327.jpg\n"
          ]
        },
        {
          "output_type": "stream",
          "name": "stderr",
          "text": [
            "\r  0%|          | 28/10016 [00:22<2:26:22,  1.14it/s]"
          ]
        },
        {
          "output_type": "stream",
          "name": "stdout",
          "text": [
            "./image/ISIC_0033335.jpg\n"
          ]
        },
        {
          "output_type": "stream",
          "name": "stderr",
          "text": [
            "  0%|          | 30/10016 [00:24<2:57:17,  1.07s/it]"
          ]
        },
        {
          "output_type": "stream",
          "name": "stdout",
          "text": [
            "./image/ISIC_0033358.jpg\n"
          ]
        },
        {
          "output_type": "stream",
          "name": "stderr",
          "text": [
            "  0%|          | 39/10016 [00:30<1:32:13,  1.80it/s]"
          ]
        }
      ]
    },
    {
      "cell_type": "code",
      "source": [
        "cv_img[2]"
      ],
      "metadata": {
        "id": "Xxi2kR80CzmT",
        "outputId": "86ee06ac-872c-4f46-8792-63a0c9c9fc0b",
        "colab": {
          "base_uri": "https://localhost:8080/"
        }
      },
      "execution_count": null,
      "outputs": [
        {
          "output_type": "execute_result",
          "data": {
            "text/plain": [
              "tensor([[[205, 169, 185],\n",
              "         [207, 172, 186],\n",
              "         [210, 176, 187],\n",
              "         ...,\n",
              "         [187, 150, 176],\n",
              "         [183, 148, 174],\n",
              "         [176, 145, 174]],\n",
              "\n",
              "        [[202, 171, 186],\n",
              "         [206, 175, 184],\n",
              "         [208, 172, 186],\n",
              "         ...,\n",
              "         [182, 147, 174],\n",
              "         [181, 147, 171],\n",
              "         [176, 144, 175]],\n",
              "\n",
              "        [[204, 171, 185],\n",
              "         [204, 171, 185],\n",
              "         [207, 171, 185],\n",
              "         ...,\n",
              "         [178, 147, 174],\n",
              "         [179, 142, 174],\n",
              "         [177, 142, 176]],\n",
              "\n",
              "        ...,\n",
              "\n",
              "        [[201, 171, 190],\n",
              "         [199, 171, 190],\n",
              "         [197, 170, 186],\n",
              "         ...,\n",
              "         [171, 132, 178],\n",
              "         [169, 131, 179],\n",
              "         [168, 132, 176]],\n",
              "\n",
              "        [[204, 173, 188],\n",
              "         [201, 174, 190],\n",
              "         [205, 170, 190],\n",
              "         ...,\n",
              "         [178, 139, 184],\n",
              "         [175, 139, 183],\n",
              "         [172, 138, 178]],\n",
              "\n",
              "        [[205, 171, 188],\n",
              "         [204, 172, 191],\n",
              "         [206, 170, 192],\n",
              "         ...,\n",
              "         [180, 145, 185],\n",
              "         [181, 142, 187],\n",
              "         [180, 138, 185]]], dtype=torch.uint8)"
            ]
          },
          "metadata": {},
          "execution_count": 9
        }
      ]
    },
    {
      "cell_type": "code",
      "source": [
        ""
      ],
      "metadata": {
        "id": "YuUE0NRb8myq"
      },
      "execution_count": null,
      "outputs": []
    },
    {
      "cell_type": "code",
      "source": [
        "# Split training data to get a validation set\n",
        "num_train = int(len(train_dataset) * 0.95)\n",
        "split_train_dataset, split_valid_dataset = random_split(train_dataset, [num_train, len(train_dataset) - num_train])"
      ],
      "metadata": {
        "id": "G1IBOtW68m1A"
      },
      "execution_count": null,
      "outputs": []
    },
    {
      "cell_type": "code",
      "source": [
        "batch_size = 16\n",
        "\n",
        "train_loader = DataLoader(train_data, batch_size=batch_size, shuffle=True)\n",
        "test_loader = DataLoader(test_data, batch_size=batch_size, shuffle=False)"
      ],
      "metadata": {
        "id": "qnmhkXArFeB4"
      },
      "execution_count": null,
      "outputs": []
    },
    {
      "cell_type": "code",
      "source": [
        "#with open('./read_imgs.pkl','wb') as fp:\n",
        "  #pkl.dump(cv_img,fp)"
      ],
      "metadata": {
        "id": "quux7fOjOHbJ"
      },
      "execution_count": null,
      "outputs": []
    },
    {
      "cell_type": "code",
      "source": [
        "with open('./read_imgs.pkl', 'rb') as fp:\n",
        "  imgs = pkl.load(fp)"
      ],
      "metadata": {
        "id": "u9a1h8MiCkUK"
      },
      "execution_count": null,
      "outputs": []
    },
    {
      "cell_type": "code",
      "source": [
        ""
      ],
      "metadata": {
        "id": "kx2Tn2G5D4vP"
      },
      "execution_count": null,
      "outputs": []
    },
    {
      "cell_type": "code",
      "source": [
        ""
      ],
      "metadata": {
        "id": "EFe0GSzTD4xv"
      },
      "execution_count": null,
      "outputs": []
    },
    {
      "cell_type": "code",
      "source": [
        "# Instantiate pre-trained resnet\n",
        "net = torchvision.models.resnet18(pretrained=True)\n",
        "# Shut off autograd for all layers to freeze model so the layer weights are not trained\n",
        "for param in net.parameters():\n",
        "    param.requires_grad = False\n",
        "\n",
        "# Display a summary of the layers of the model and output shape after each layer\n",
        "summary(net,(images.shape[1:]),batch_size=batch_size,device=\"cpu\")"
      ],
      "metadata": {
        "id": "eO4_eDahD4zo"
      },
      "execution_count": null,
      "outputs": []
    },
    {
      "cell_type": "code",
      "source": [
        "# Get the number of inputs to final Linear layer\n",
        "num_ftrs = net.fc.in_features\n",
        "# Replace final Linear layer with a new Linear with the same number of inputs but just 2 outputs,\n",
        "# since we have 2 classes - bees and ants\n",
        "net.fc = nn.Linear(num_ftrs, 2)"
      ],
      "metadata": {
        "id": "nvgh2a-oD43c"
      },
      "execution_count": null,
      "outputs": []
    },
    {
      "cell_type": "code",
      "source": [
        "# Cross entropy loss combines softmax and nn.NLLLoss() in one single class.\n",
        "criterion = nn.CrossEntropyLoss()\n",
        "\n",
        "# Define optimizer\n",
        "optimizer = optim.SGD(net.parameters(), lr=0.001, momentum=0.9)"
      ],
      "metadata": {
        "id": "38jngcTVD45t"
      },
      "execution_count": null,
      "outputs": []
    },
    {
      "cell_type": "code",
      "source": [
        ""
      ],
      "metadata": {
        "id": "Ex9NiV6hD47s"
      },
      "execution_count": null,
      "outputs": []
    },
    {
      "cell_type": "code",
      "source": [
        ""
      ],
      "metadata": {
        "id": "6bXiJwy2-QYr"
      },
      "execution_count": null,
      "outputs": []
    },
    {
      "cell_type": "code",
      "source": [
        ""
      ],
      "metadata": {
        "id": "VnU3QCw_-QbG"
      },
      "execution_count": null,
      "outputs": []
    },
    {
      "cell_type": "code",
      "source": [
        ""
      ],
      "metadata": {
        "id": "5NNGQ8pC-Qcy"
      },
      "execution_count": null,
      "outputs": []
    },
    {
      "cell_type": "code",
      "source": [
        ""
      ],
      "metadata": {
        "id": "872NnxTX-Qez"
      },
      "execution_count": null,
      "outputs": []
    },
    {
      "cell_type": "code",
      "source": [
        ""
      ],
      "metadata": {
        "id": "1f8mE3gx-QhA"
      },
      "execution_count": null,
      "outputs": []
    },
    {
      "cell_type": "code",
      "source": [
        "url1 = 'https://github.com/Buuuuli/AIPI540_individual/blob/main/metadata/raw_metadata.csv?raw=true'"
      ],
      "metadata": {
        "id": "Xj1WsMEED5B6"
      },
      "execution_count": 56,
      "outputs": []
    },
    {
      "cell_type": "code",
      "source": [
        "url = 'https://github.com/Buuuuli/AIPI540_individual/blob/main/metadata/tidy_data.csv?raw=true'\n",
        "df = pd.read_csv(url1,index_col=0)\n",
        "print(df.head(5))"
      ],
      "metadata": {
        "id": "z2I-8vJDCzow",
        "outputId": "62bed9f2-1ef9-400b-c661-bd322ebb9d8a",
        "colab": {
          "base_uri": "https://localhost:8080/"
        }
      },
      "execution_count": 57,
      "outputs": [
        {
          "output_type": "stream",
          "name": "stdout",
          "text": [
            "                 image_id   dx    dx_type   age     sex     localization\n",
            "lesion_id                                                               \n",
            "HAM_0000550  ISIC_0024306   nv  follow_up  45.0    male            trunk\n",
            "HAM_0003577  ISIC_0024307   nv  follow_up  50.0    male  lower extremity\n",
            "HAM_0001477  ISIC_0024308   nv  follow_up  55.0  female            trunk\n",
            "HAM_0000484  ISIC_0024309   nv  follow_up  40.0    male            trunk\n",
            "HAM_0003350  ISIC_0024310  mel      histo  60.0    male            chest\n"
          ]
        }
      ]
    },
    {
      "cell_type": "code",
      "source": [
        "df.dx.value_counts()"
      ],
      "metadata": {
        "id": "C0-vuuhEYIlL",
        "outputId": "681e2ec5-4a43-4626-eb8c-31ab9668774e",
        "colab": {
          "base_uri": "https://localhost:8080/"
        }
      },
      "execution_count": 58,
      "outputs": [
        {
          "output_type": "execute_result",
          "data": {
            "text/plain": [
              "nv       6705\n",
              "mel      1113\n",
              "bkl      1099\n",
              "bcc       514\n",
              "akiec     327\n",
              "vasc      142\n",
              "df        115\n",
              "Name: dx, dtype: int64"
            ]
          },
          "metadata": {},
          "execution_count": 58
        }
      ]
    },
    {
      "cell_type": "code",
      "source": [
        "#df['dx'] = df['dx'].map({\"nv\":0,\"mel\":1,\"bkl\":2,\"bcc\":3,\"akiec\":4,\"vasc\":5,\"df\":6})"
      ],
      "metadata": {
        "id": "YFyb4rGnYa0x"
      },
      "execution_count": null,
      "outputs": []
    },
    {
      "cell_type": "code",
      "source": [
        "# group age\n",
        "bins =[0,10,20,30,40,50,60,70,80,90]\n",
        "labels = ['children','teenage','young','adult','midage','old1','old2','old3','older']\n",
        "\n",
        "df['ageGroup'] = pd.cut(df['age'], bins=bins, labels=labels, right=False)\n",
        "\n",
        "df = df.drop(\"age\", axis=1)"
      ],
      "metadata": {
        "id": "_t2XqEJGY7hL"
      },
      "execution_count": 59,
      "outputs": []
    },
    {
      "cell_type": "code",
      "source": [
        "# {0: 'akiec', 1: 'bcc', 2: 'bkl', 3: 'df', 4: 'mel', 5: 'nv', 6: 'vasc'}\n",
        "dx_dict = dict(enumerate(df['dx'].astype('category').cat.categories))\n",
        "\n",
        "# {0: 'confocal', 1: 'consensus', 2: 'follow_up', 3: 'histo'}\n",
        "dx_type_dict = dict(enumerate(df['dx_type'].astype('category').cat.categories))\n",
        "\n",
        "# {0: 'female', 1: 'male', 2: 'unknown'}\n",
        "sex_dict = dict(enumerate(df['sex'].astype('category').cat.categories))\n",
        "\n",
        "# {0: 'abdomen', 1: 'acral', 2: 'back', 3: 'chest', 4: 'ear',\n",
        "# 5: 'face', 6: 'foot', 7: 'genital', 8: 'hand', 9: 'lower extremity',\n",
        "# 10: 'neck', 11: 'scalp', 12: 'trunk', 13: 'unknown', 14: 'upper extremity'}\n",
        "localization_dict = dict(enumerate(df['localization'].astype('category').cat.categories))\n",
        "\n",
        "# {0: 'children', 1: 'teenage', 2: 'young', 3: 'adult', 4: 'midage',\n",
        "# 5: 'old', 6: 'old2', 7: 'old3', 8: 'older'}\n",
        "ageGroup_dict = dict(enumerate(df['ageGroup'].astype('category').cat.categories))"
      ],
      "metadata": {
        "id": "vAlh13gvfnYb"
      },
      "execution_count": 60,
      "outputs": []
    },
    {
      "cell_type": "code",
      "source": [
        "# encode 'dx','dx_type','sex', 'localization'\n",
        "for col in ['dx','dx_type','sex','localization','ageGroup']:\n",
        "    df[col] = df[col].astype('category') # Convert to category type\n",
        "    df[col] = df[col].cat.codes # Convert to numerical code"
      ],
      "metadata": {
        "id": "i4dNhPsKf8AF"
      },
      "execution_count": 61,
      "outputs": []
    },
    {
      "cell_type": "code",
      "source": [
        "df.dx.value_counts()"
      ],
      "metadata": {
        "id": "-yxsXe5ibZQJ",
        "outputId": "24281bf6-65f5-4347-be84-f4acdd4df183",
        "colab": {
          "base_uri": "https://localhost:8080/"
        }
      },
      "execution_count": 65,
      "outputs": [
        {
          "output_type": "execute_result",
          "data": {
            "text/plain": [
              "5    6705\n",
              "4    1113\n",
              "2    1099\n",
              "1     514\n",
              "0     327\n",
              "6     142\n",
              "3     115\n",
              "Name: dx, dtype: int64"
            ]
          },
          "metadata": {},
          "execution_count": 65
        }
      ]
    },
    {
      "cell_type": "code",
      "source": [
        "#df['dx_type'] = df['dx_type'].map({\"histo\":0,\"follow_up\":1,\"consensus\":2,\"confocal\":3})"
      ],
      "metadata": {
        "id": "-vdWtfAYbemg"
      },
      "execution_count": null,
      "outputs": []
    },
    {
      "cell_type": "code",
      "source": [
        "#df.sex.value_counts()"
      ],
      "metadata": {
        "id": "J6q1KWIYbtlY",
        "outputId": "8cb6bbb0-477b-437f-c4da-e69c6c68adb4",
        "colab": {
          "base_uri": "https://localhost:8080/"
        }
      },
      "execution_count": null,
      "outputs": [
        {
          "output_type": "execute_result",
          "data": {
            "text/plain": [
              "male       5406\n",
              "female     4552\n",
              "unknown      57\n",
              "Name: sex, dtype: int64"
            ]
          },
          "metadata": {},
          "execution_count": 43
        }
      ]
    },
    {
      "cell_type": "code",
      "source": [
        "#df['sex'] = df['sex'].map({\"male\":0,\"female\":1,\"unknow\":2})"
      ],
      "metadata": {
        "id": "X3eMkweRbzQL"
      },
      "execution_count": null,
      "outputs": []
    },
    {
      "cell_type": "code",
      "source": [
        "#df.localization.value_counts()"
      ],
      "metadata": {
        "id": "ZagTAQfhb6nq",
        "outputId": "d9899f52-0b9c-4916-c48b-bec993a97e22",
        "colab": {
          "base_uri": "https://localhost:8080/"
        }
      },
      "execution_count": null,
      "outputs": [
        {
          "output_type": "execute_result",
          "data": {
            "text/plain": [
              "back               2192\n",
              "lower extremity    2077\n",
              "trunk              1404\n",
              "upper extremity    1118\n",
              "abdomen            1022\n",
              "face                745\n",
              "chest               407\n",
              "foot                319\n",
              "unknown             234\n",
              "neck                168\n",
              "scalp               128\n",
              "hand                 90\n",
              "ear                  56\n",
              "genital              48\n",
              "acral                 7\n",
              "Name: localization, dtype: int64"
            ]
          },
          "metadata": {},
          "execution_count": 45
        }
      ]
    },
    {
      "cell_type": "code",
      "source": [
        "#df['localization'] = df['localization'].map({\"back\":0,\"lower extremity\":1,\"trunk\":2,\"upper extremity\":3,\"abdomen\":4,\"face\":5,\"chest\":6,\n",
        "                                             \"foot\":7,\"unkown\":8,\"neck\":9,\"scalp\":10,\"hand\":11,\"ear\":12,\"genital\":13,\"acral\":14})"
      ],
      "metadata": {
        "id": "YYuA_k08cCni"
      },
      "execution_count": null,
      "outputs": []
    },
    {
      "cell_type": "code",
      "source": [
        "#df.ageGroup.value_counts()"
      ],
      "metadata": {
        "id": "raDW3X70c64f",
        "outputId": "0bf8cf61-1984-422c-ad0e-887ba10cfafc",
        "colab": {
          "base_uri": "https://localhost:8080/"
        }
      },
      "execution_count": null,
      "outputs": [
        {
          "output_type": "execute_result",
          "data": {
            "text/plain": [
              "midage      2284\n",
              "old1        2196\n",
              "old2        1534\n",
              "old3        1374\n",
              "adult       1217\n",
              "older        694\n",
              "young        416\n",
              "children     125\n",
              "teenage      118\n",
              "Name: ageGroup, dtype: int64"
            ]
          },
          "metadata": {},
          "execution_count": 47
        }
      ]
    },
    {
      "cell_type": "code",
      "source": [
        "#df['ageGroup'] = df['ageGroup'].map({\"teenage\":0,\"children\":1,\"young\":2,\"older\":3,\"adult\":4,\"old3\":5,\"old2\":6,\n",
        "                                             \"old1\":7,\"midage\":8})"
      ],
      "metadata": {
        "id": "KS2y1Csrc_L2"
      },
      "execution_count": null,
      "outputs": []
    },
    {
      "cell_type": "code",
      "source": [
        "#df.head()"
      ],
      "metadata": {
        "id": "cEHMrdJPY7jT",
        "outputId": "8876748f-68d0-4124-82a9-2c4e261a2f86",
        "colab": {
          "base_uri": "https://localhost:8080/",
          "height": 237
        }
      },
      "execution_count": null,
      "outputs": [
        {
          "output_type": "execute_result",
          "data": {
            "text/plain": [
              "                 image_id  dx  dx_type  sex  localization ageGroup\n",
              "lesion_id                                                         \n",
              "HAM_0000550  ISIC_0024306   0        1  0.0           2.0        8\n",
              "HAM_0003577  ISIC_0024307   0        1  0.0           1.0        7\n",
              "HAM_0001477  ISIC_0024308   0        1  1.0           2.0        7\n",
              "HAM_0000484  ISIC_0024309   0        1  0.0           2.0        8\n",
              "HAM_0003350  ISIC_0024310   1        0  0.0           6.0        6"
            ],
            "text/html": [
              "\n",
              "  <div id=\"df-73bebeee-6199-423a-b00c-5e8ca2d3f0d8\">\n",
              "    <div class=\"colab-df-container\">\n",
              "      <div>\n",
              "<style scoped>\n",
              "    .dataframe tbody tr th:only-of-type {\n",
              "        vertical-align: middle;\n",
              "    }\n",
              "\n",
              "    .dataframe tbody tr th {\n",
              "        vertical-align: top;\n",
              "    }\n",
              "\n",
              "    .dataframe thead th {\n",
              "        text-align: right;\n",
              "    }\n",
              "</style>\n",
              "<table border=\"1\" class=\"dataframe\">\n",
              "  <thead>\n",
              "    <tr style=\"text-align: right;\">\n",
              "      <th></th>\n",
              "      <th>image_id</th>\n",
              "      <th>dx</th>\n",
              "      <th>dx_type</th>\n",
              "      <th>sex</th>\n",
              "      <th>localization</th>\n",
              "      <th>ageGroup</th>\n",
              "    </tr>\n",
              "    <tr>\n",
              "      <th>lesion_id</th>\n",
              "      <th></th>\n",
              "      <th></th>\n",
              "      <th></th>\n",
              "      <th></th>\n",
              "      <th></th>\n",
              "      <th></th>\n",
              "    </tr>\n",
              "  </thead>\n",
              "  <tbody>\n",
              "    <tr>\n",
              "      <th>HAM_0000550</th>\n",
              "      <td>ISIC_0024306</td>\n",
              "      <td>0</td>\n",
              "      <td>1</td>\n",
              "      <td>0.0</td>\n",
              "      <td>2.0</td>\n",
              "      <td>8</td>\n",
              "    </tr>\n",
              "    <tr>\n",
              "      <th>HAM_0003577</th>\n",
              "      <td>ISIC_0024307</td>\n",
              "      <td>0</td>\n",
              "      <td>1</td>\n",
              "      <td>0.0</td>\n",
              "      <td>1.0</td>\n",
              "      <td>7</td>\n",
              "    </tr>\n",
              "    <tr>\n",
              "      <th>HAM_0001477</th>\n",
              "      <td>ISIC_0024308</td>\n",
              "      <td>0</td>\n",
              "      <td>1</td>\n",
              "      <td>1.0</td>\n",
              "      <td>2.0</td>\n",
              "      <td>7</td>\n",
              "    </tr>\n",
              "    <tr>\n",
              "      <th>HAM_0000484</th>\n",
              "      <td>ISIC_0024309</td>\n",
              "      <td>0</td>\n",
              "      <td>1</td>\n",
              "      <td>0.0</td>\n",
              "      <td>2.0</td>\n",
              "      <td>8</td>\n",
              "    </tr>\n",
              "    <tr>\n",
              "      <th>HAM_0003350</th>\n",
              "      <td>ISIC_0024310</td>\n",
              "      <td>1</td>\n",
              "      <td>0</td>\n",
              "      <td>0.0</td>\n",
              "      <td>6.0</td>\n",
              "      <td>6</td>\n",
              "    </tr>\n",
              "  </tbody>\n",
              "</table>\n",
              "</div>\n",
              "      <button class=\"colab-df-convert\" onclick=\"convertToInteractive('df-73bebeee-6199-423a-b00c-5e8ca2d3f0d8')\"\n",
              "              title=\"Convert this dataframe to an interactive table.\"\n",
              "              style=\"display:none;\">\n",
              "        \n",
              "  <svg xmlns=\"http://www.w3.org/2000/svg\" height=\"24px\"viewBox=\"0 0 24 24\"\n",
              "       width=\"24px\">\n",
              "    <path d=\"M0 0h24v24H0V0z\" fill=\"none\"/>\n",
              "    <path d=\"M18.56 5.44l.94 2.06.94-2.06 2.06-.94-2.06-.94-.94-2.06-.94 2.06-2.06.94zm-11 1L8.5 8.5l.94-2.06 2.06-.94-2.06-.94L8.5 2.5l-.94 2.06-2.06.94zm10 10l.94 2.06.94-2.06 2.06-.94-2.06-.94-.94-2.06-.94 2.06-2.06.94z\"/><path d=\"M17.41 7.96l-1.37-1.37c-.4-.4-.92-.59-1.43-.59-.52 0-1.04.2-1.43.59L10.3 9.45l-7.72 7.72c-.78.78-.78 2.05 0 2.83L4 21.41c.39.39.9.59 1.41.59.51 0 1.02-.2 1.41-.59l7.78-7.78 2.81-2.81c.8-.78.8-2.07 0-2.86zM5.41 20L4 18.59l7.72-7.72 1.47 1.35L5.41 20z\"/>\n",
              "  </svg>\n",
              "      </button>\n",
              "      \n",
              "  <style>\n",
              "    .colab-df-container {\n",
              "      display:flex;\n",
              "      flex-wrap:wrap;\n",
              "      gap: 12px;\n",
              "    }\n",
              "\n",
              "    .colab-df-convert {\n",
              "      background-color: #E8F0FE;\n",
              "      border: none;\n",
              "      border-radius: 50%;\n",
              "      cursor: pointer;\n",
              "      display: none;\n",
              "      fill: #1967D2;\n",
              "      height: 32px;\n",
              "      padding: 0 0 0 0;\n",
              "      width: 32px;\n",
              "    }\n",
              "\n",
              "    .colab-df-convert:hover {\n",
              "      background-color: #E2EBFA;\n",
              "      box-shadow: 0px 1px 2px rgba(60, 64, 67, 0.3), 0px 1px 3px 1px rgba(60, 64, 67, 0.15);\n",
              "      fill: #174EA6;\n",
              "    }\n",
              "\n",
              "    [theme=dark] .colab-df-convert {\n",
              "      background-color: #3B4455;\n",
              "      fill: #D2E3FC;\n",
              "    }\n",
              "\n",
              "    [theme=dark] .colab-df-convert:hover {\n",
              "      background-color: #434B5C;\n",
              "      box-shadow: 0px 1px 3px 1px rgba(0, 0, 0, 0.15);\n",
              "      filter: drop-shadow(0px 1px 2px rgba(0, 0, 0, 0.3));\n",
              "      fill: #FFFFFF;\n",
              "    }\n",
              "  </style>\n",
              "\n",
              "      <script>\n",
              "        const buttonEl =\n",
              "          document.querySelector('#df-73bebeee-6199-423a-b00c-5e8ca2d3f0d8 button.colab-df-convert');\n",
              "        buttonEl.style.display =\n",
              "          google.colab.kernel.accessAllowed ? 'block' : 'none';\n",
              "\n",
              "        async function convertToInteractive(key) {\n",
              "          const element = document.querySelector('#df-73bebeee-6199-423a-b00c-5e8ca2d3f0d8');\n",
              "          const dataTable =\n",
              "            await google.colab.kernel.invokeFunction('convertToInteractive',\n",
              "                                                     [key], {});\n",
              "          if (!dataTable) return;\n",
              "\n",
              "          const docLinkHtml = 'Like what you see? Visit the ' +\n",
              "            '<a target=\"_blank\" href=https://colab.research.google.com/notebooks/data_table.ipynb>data table notebook</a>'\n",
              "            + ' to learn more about interactive tables.';\n",
              "          element.innerHTML = '';\n",
              "          dataTable['output_type'] = 'display_data';\n",
              "          await google.colab.output.renderOutput(dataTable, element);\n",
              "          const docLink = document.createElement('div');\n",
              "          docLink.innerHTML = docLinkHtml;\n",
              "          element.appendChild(docLink);\n",
              "        }\n",
              "      </script>\n",
              "    </div>\n",
              "  </div>\n",
              "  "
            ]
          },
          "metadata": {},
          "execution_count": 49
        }
      ]
    },
    {
      "cell_type": "code",
      "source": [
        "X_meta = df[['dx_type','sex','localization','ageGroup']]"
      ],
      "metadata": {
        "id": "aea1c9XdC0Hk"
      },
      "execution_count": 66,
      "outputs": []
    },
    {
      "cell_type": "code",
      "source": [
        "y_meta = df[['dx']]"
      ],
      "metadata": {
        "id": "29-j-T3mU-TV"
      },
      "execution_count": 67,
      "outputs": []
    },
    {
      "cell_type": "code",
      "source": [
        "X_train_meta, X_test_meta, y_train_meta, y_test_meta = train_test_split(X_meta, y_meta, test_size=0.2,shuffle=True ,random_state=45)"
      ],
      "metadata": {
        "id": "6BGE69OFU-Vt"
      },
      "execution_count": 68,
      "outputs": []
    },
    {
      "cell_type": "code",
      "source": [
        "from sklearn.model_selection import GridSearchCV\n",
        "\n",
        "params = {'min_samples_leaf':[1,3,10],'n_estimators':[100,1000],\n",
        "          'max_features':[0.1,0.5,1.],'max_samples':[0.5,None],'max_depth':[7]}\n",
        "\n",
        "model = RandomForestClassifier()\n",
        "grid_search = GridSearchCV(model,params,cv=3,verbose=10)\n",
        "grid_search.fit(X_train_meta,y_train_meta)"
      ],
      "metadata": {
        "id": "9CuA4uLYZ785",
        "outputId": "96a0e38c-287a-410c-f0a6-6430b93e89db",
        "colab": {
          "base_uri": "https://localhost:8080/"
        }
      },
      "execution_count": 69,
      "outputs": [
        {
          "output_type": "stream",
          "name": "stdout",
          "text": [
            "Fitting 3 folds for each of 36 candidates, totalling 108 fits\n",
            "[CV 1/3; 1/36] START max_depth=7, max_features=0.1, max_samples=0.5, min_samples_leaf=1, n_estimators=100\n"
          ]
        },
        {
          "output_type": "stream",
          "name": "stderr",
          "text": [
            "/usr/local/lib/python3.7/dist-packages/sklearn/model_selection/_validation.py:680: DataConversionWarning: A column-vector y was passed when a 1d array was expected. Please change the shape of y to (n_samples,), for example using ravel().\n",
            "  estimator.fit(X_train, y_train, **fit_params)\n"
          ]
        },
        {
          "output_type": "stream",
          "name": "stdout",
          "text": [
            "[CV 1/3; 1/36] END max_depth=7, max_features=0.1, max_samples=0.5, min_samples_leaf=1, n_estimators=100;, score=0.721 total time=   0.3s\n",
            "[CV 2/3; 1/36] START max_depth=7, max_features=0.1, max_samples=0.5, min_samples_leaf=1, n_estimators=100\n"
          ]
        },
        {
          "output_type": "stream",
          "name": "stderr",
          "text": [
            "/usr/local/lib/python3.7/dist-packages/sklearn/model_selection/_validation.py:680: DataConversionWarning: A column-vector y was passed when a 1d array was expected. Please change the shape of y to (n_samples,), for example using ravel().\n",
            "  estimator.fit(X_train, y_train, **fit_params)\n"
          ]
        },
        {
          "output_type": "stream",
          "name": "stdout",
          "text": [
            "[CV 2/3; 1/36] END max_depth=7, max_features=0.1, max_samples=0.5, min_samples_leaf=1, n_estimators=100;, score=0.712 total time=   0.3s\n",
            "[CV 3/3; 1/36] START max_depth=7, max_features=0.1, max_samples=0.5, min_samples_leaf=1, n_estimators=100\n"
          ]
        },
        {
          "output_type": "stream",
          "name": "stderr",
          "text": [
            "/usr/local/lib/python3.7/dist-packages/sklearn/model_selection/_validation.py:680: DataConversionWarning: A column-vector y was passed when a 1d array was expected. Please change the shape of y to (n_samples,), for example using ravel().\n",
            "  estimator.fit(X_train, y_train, **fit_params)\n"
          ]
        },
        {
          "output_type": "stream",
          "name": "stdout",
          "text": [
            "[CV 3/3; 1/36] END max_depth=7, max_features=0.1, max_samples=0.5, min_samples_leaf=1, n_estimators=100;, score=0.714 total time=   0.3s\n",
            "[CV 1/3; 2/36] START max_depth=7, max_features=0.1, max_samples=0.5, min_samples_leaf=1, n_estimators=1000\n"
          ]
        },
        {
          "output_type": "stream",
          "name": "stderr",
          "text": [
            "/usr/local/lib/python3.7/dist-packages/sklearn/model_selection/_validation.py:680: DataConversionWarning: A column-vector y was passed when a 1d array was expected. Please change the shape of y to (n_samples,), for example using ravel().\n",
            "  estimator.fit(X_train, y_train, **fit_params)\n"
          ]
        },
        {
          "output_type": "stream",
          "name": "stdout",
          "text": [
            "[CV 1/3; 2/36] END max_depth=7, max_features=0.1, max_samples=0.5, min_samples_leaf=1, n_estimators=1000;, score=0.719 total time=   2.7s\n",
            "[CV 2/3; 2/36] START max_depth=7, max_features=0.1, max_samples=0.5, min_samples_leaf=1, n_estimators=1000\n"
          ]
        },
        {
          "output_type": "stream",
          "name": "stderr",
          "text": [
            "/usr/local/lib/python3.7/dist-packages/sklearn/model_selection/_validation.py:680: DataConversionWarning: A column-vector y was passed when a 1d array was expected. Please change the shape of y to (n_samples,), for example using ravel().\n",
            "  estimator.fit(X_train, y_train, **fit_params)\n"
          ]
        },
        {
          "output_type": "stream",
          "name": "stdout",
          "text": [
            "[CV 2/3; 2/36] END max_depth=7, max_features=0.1, max_samples=0.5, min_samples_leaf=1, n_estimators=1000;, score=0.714 total time=   2.7s\n",
            "[CV 3/3; 2/36] START max_depth=7, max_features=0.1, max_samples=0.5, min_samples_leaf=1, n_estimators=1000\n"
          ]
        },
        {
          "output_type": "stream",
          "name": "stderr",
          "text": [
            "/usr/local/lib/python3.7/dist-packages/sklearn/model_selection/_validation.py:680: DataConversionWarning: A column-vector y was passed when a 1d array was expected. Please change the shape of y to (n_samples,), for example using ravel().\n",
            "  estimator.fit(X_train, y_train, **fit_params)\n"
          ]
        },
        {
          "output_type": "stream",
          "name": "stdout",
          "text": [
            "[CV 3/3; 2/36] END max_depth=7, max_features=0.1, max_samples=0.5, min_samples_leaf=1, n_estimators=1000;, score=0.716 total time=   2.7s\n",
            "[CV 1/3; 3/36] START max_depth=7, max_features=0.1, max_samples=0.5, min_samples_leaf=3, n_estimators=100\n"
          ]
        },
        {
          "output_type": "stream",
          "name": "stderr",
          "text": [
            "/usr/local/lib/python3.7/dist-packages/sklearn/model_selection/_validation.py:680: DataConversionWarning: A column-vector y was passed when a 1d array was expected. Please change the shape of y to (n_samples,), for example using ravel().\n",
            "  estimator.fit(X_train, y_train, **fit_params)\n"
          ]
        },
        {
          "output_type": "stream",
          "name": "stdout",
          "text": [
            "[CV 1/3; 3/36] END max_depth=7, max_features=0.1, max_samples=0.5, min_samples_leaf=3, n_estimators=100;, score=0.712 total time=   0.3s\n",
            "[CV 2/3; 3/36] START max_depth=7, max_features=0.1, max_samples=0.5, min_samples_leaf=3, n_estimators=100\n"
          ]
        },
        {
          "output_type": "stream",
          "name": "stderr",
          "text": [
            "/usr/local/lib/python3.7/dist-packages/sklearn/model_selection/_validation.py:680: DataConversionWarning: A column-vector y was passed when a 1d array was expected. Please change the shape of y to (n_samples,), for example using ravel().\n",
            "  estimator.fit(X_train, y_train, **fit_params)\n"
          ]
        },
        {
          "output_type": "stream",
          "name": "stdout",
          "text": [
            "[CV 2/3; 3/36] END max_depth=7, max_features=0.1, max_samples=0.5, min_samples_leaf=3, n_estimators=100;, score=0.708 total time=   0.3s\n",
            "[CV 3/3; 3/36] START max_depth=7, max_features=0.1, max_samples=0.5, min_samples_leaf=3, n_estimators=100\n"
          ]
        },
        {
          "output_type": "stream",
          "name": "stderr",
          "text": [
            "/usr/local/lib/python3.7/dist-packages/sklearn/model_selection/_validation.py:680: DataConversionWarning: A column-vector y was passed when a 1d array was expected. Please change the shape of y to (n_samples,), for example using ravel().\n",
            "  estimator.fit(X_train, y_train, **fit_params)\n"
          ]
        },
        {
          "output_type": "stream",
          "name": "stdout",
          "text": [
            "[CV 3/3; 3/36] END max_depth=7, max_features=0.1, max_samples=0.5, min_samples_leaf=3, n_estimators=100;, score=0.713 total time=   0.3s\n",
            "[CV 1/3; 4/36] START max_depth=7, max_features=0.1, max_samples=0.5, min_samples_leaf=3, n_estimators=1000\n"
          ]
        },
        {
          "output_type": "stream",
          "name": "stderr",
          "text": [
            "/usr/local/lib/python3.7/dist-packages/sklearn/model_selection/_validation.py:680: DataConversionWarning: A column-vector y was passed when a 1d array was expected. Please change the shape of y to (n_samples,), for example using ravel().\n",
            "  estimator.fit(X_train, y_train, **fit_params)\n"
          ]
        },
        {
          "output_type": "stream",
          "name": "stdout",
          "text": [
            "[CV 1/3; 4/36] END max_depth=7, max_features=0.1, max_samples=0.5, min_samples_leaf=3, n_estimators=1000;, score=0.713 total time=   2.6s\n",
            "[CV 2/3; 4/36] START max_depth=7, max_features=0.1, max_samples=0.5, min_samples_leaf=3, n_estimators=1000\n"
          ]
        },
        {
          "output_type": "stream",
          "name": "stderr",
          "text": [
            "/usr/local/lib/python3.7/dist-packages/sklearn/model_selection/_validation.py:680: DataConversionWarning: A column-vector y was passed when a 1d array was expected. Please change the shape of y to (n_samples,), for example using ravel().\n",
            "  estimator.fit(X_train, y_train, **fit_params)\n"
          ]
        },
        {
          "output_type": "stream",
          "name": "stdout",
          "text": [
            "[CV 2/3; 4/36] END max_depth=7, max_features=0.1, max_samples=0.5, min_samples_leaf=3, n_estimators=1000;, score=0.709 total time=   2.6s\n",
            "[CV 3/3; 4/36] START max_depth=7, max_features=0.1, max_samples=0.5, min_samples_leaf=3, n_estimators=1000\n"
          ]
        },
        {
          "output_type": "stream",
          "name": "stderr",
          "text": [
            "/usr/local/lib/python3.7/dist-packages/sklearn/model_selection/_validation.py:680: DataConversionWarning: A column-vector y was passed when a 1d array was expected. Please change the shape of y to (n_samples,), for example using ravel().\n",
            "  estimator.fit(X_train, y_train, **fit_params)\n"
          ]
        },
        {
          "output_type": "stream",
          "name": "stdout",
          "text": [
            "[CV 3/3; 4/36] END max_depth=7, max_features=0.1, max_samples=0.5, min_samples_leaf=3, n_estimators=1000;, score=0.712 total time=   2.6s\n",
            "[CV 1/3; 5/36] START max_depth=7, max_features=0.1, max_samples=0.5, min_samples_leaf=10, n_estimators=100\n"
          ]
        },
        {
          "output_type": "stream",
          "name": "stderr",
          "text": [
            "/usr/local/lib/python3.7/dist-packages/sklearn/model_selection/_validation.py:680: DataConversionWarning: A column-vector y was passed when a 1d array was expected. Please change the shape of y to (n_samples,), for example using ravel().\n",
            "  estimator.fit(X_train, y_train, **fit_params)\n"
          ]
        },
        {
          "output_type": "stream",
          "name": "stdout",
          "text": [
            "[CV 1/3; 5/36] END max_depth=7, max_features=0.1, max_samples=0.5, min_samples_leaf=10, n_estimators=100;, score=0.710 total time=   0.3s\n",
            "[CV 2/3; 5/36] START max_depth=7, max_features=0.1, max_samples=0.5, min_samples_leaf=10, n_estimators=100\n"
          ]
        },
        {
          "output_type": "stream",
          "name": "stderr",
          "text": [
            "/usr/local/lib/python3.7/dist-packages/sklearn/model_selection/_validation.py:680: DataConversionWarning: A column-vector y was passed when a 1d array was expected. Please change the shape of y to (n_samples,), for example using ravel().\n",
            "  estimator.fit(X_train, y_train, **fit_params)\n"
          ]
        },
        {
          "output_type": "stream",
          "name": "stdout",
          "text": [
            "[CV 2/3; 5/36] END max_depth=7, max_features=0.1, max_samples=0.5, min_samples_leaf=10, n_estimators=100;, score=0.705 total time=   0.3s\n",
            "[CV 3/3; 5/36] START max_depth=7, max_features=0.1, max_samples=0.5, min_samples_leaf=10, n_estimators=100\n"
          ]
        },
        {
          "output_type": "stream",
          "name": "stderr",
          "text": [
            "/usr/local/lib/python3.7/dist-packages/sklearn/model_selection/_validation.py:680: DataConversionWarning: A column-vector y was passed when a 1d array was expected. Please change the shape of y to (n_samples,), for example using ravel().\n",
            "  estimator.fit(X_train, y_train, **fit_params)\n"
          ]
        },
        {
          "output_type": "stream",
          "name": "stdout",
          "text": [
            "[CV 3/3; 5/36] END max_depth=7, max_features=0.1, max_samples=0.5, min_samples_leaf=10, n_estimators=100;, score=0.708 total time=   0.3s\n",
            "[CV 1/3; 6/36] START max_depth=7, max_features=0.1, max_samples=0.5, min_samples_leaf=10, n_estimators=1000\n"
          ]
        },
        {
          "output_type": "stream",
          "name": "stderr",
          "text": [
            "/usr/local/lib/python3.7/dist-packages/sklearn/model_selection/_validation.py:680: DataConversionWarning: A column-vector y was passed when a 1d array was expected. Please change the shape of y to (n_samples,), for example using ravel().\n",
            "  estimator.fit(X_train, y_train, **fit_params)\n"
          ]
        },
        {
          "output_type": "stream",
          "name": "stdout",
          "text": [
            "[CV 1/3; 6/36] END max_depth=7, max_features=0.1, max_samples=0.5, min_samples_leaf=10, n_estimators=1000;, score=0.707 total time=   2.6s\n",
            "[CV 2/3; 6/36] START max_depth=7, max_features=0.1, max_samples=0.5, min_samples_leaf=10, n_estimators=1000\n"
          ]
        },
        {
          "output_type": "stream",
          "name": "stderr",
          "text": [
            "/usr/local/lib/python3.7/dist-packages/sklearn/model_selection/_validation.py:680: DataConversionWarning: A column-vector y was passed when a 1d array was expected. Please change the shape of y to (n_samples,), for example using ravel().\n",
            "  estimator.fit(X_train, y_train, **fit_params)\n"
          ]
        },
        {
          "output_type": "stream",
          "name": "stdout",
          "text": [
            "[CV 2/3; 6/36] END max_depth=7, max_features=0.1, max_samples=0.5, min_samples_leaf=10, n_estimators=1000;, score=0.703 total time=   2.6s\n",
            "[CV 3/3; 6/36] START max_depth=7, max_features=0.1, max_samples=0.5, min_samples_leaf=10, n_estimators=1000\n"
          ]
        },
        {
          "output_type": "stream",
          "name": "stderr",
          "text": [
            "/usr/local/lib/python3.7/dist-packages/sklearn/model_selection/_validation.py:680: DataConversionWarning: A column-vector y was passed when a 1d array was expected. Please change the shape of y to (n_samples,), for example using ravel().\n",
            "  estimator.fit(X_train, y_train, **fit_params)\n"
          ]
        },
        {
          "output_type": "stream",
          "name": "stdout",
          "text": [
            "[CV 3/3; 6/36] END max_depth=7, max_features=0.1, max_samples=0.5, min_samples_leaf=10, n_estimators=1000;, score=0.709 total time=   2.7s\n",
            "[CV 1/3; 7/36] START max_depth=7, max_features=0.1, max_samples=None, min_samples_leaf=1, n_estimators=100\n"
          ]
        },
        {
          "output_type": "stream",
          "name": "stderr",
          "text": [
            "/usr/local/lib/python3.7/dist-packages/sklearn/model_selection/_validation.py:680: DataConversionWarning: A column-vector y was passed when a 1d array was expected. Please change the shape of y to (n_samples,), for example using ravel().\n",
            "  estimator.fit(X_train, y_train, **fit_params)\n"
          ]
        },
        {
          "output_type": "stream",
          "name": "stdout",
          "text": [
            "[CV 1/3; 7/36] END max_depth=7, max_features=0.1, max_samples=None, min_samples_leaf=1, n_estimators=100;, score=0.720 total time=   0.3s\n",
            "[CV 2/3; 7/36] START max_depth=7, max_features=0.1, max_samples=None, min_samples_leaf=1, n_estimators=100\n"
          ]
        },
        {
          "output_type": "stream",
          "name": "stderr",
          "text": [
            "/usr/local/lib/python3.7/dist-packages/sklearn/model_selection/_validation.py:680: DataConversionWarning: A column-vector y was passed when a 1d array was expected. Please change the shape of y to (n_samples,), for example using ravel().\n",
            "  estimator.fit(X_train, y_train, **fit_params)\n"
          ]
        },
        {
          "output_type": "stream",
          "name": "stdout",
          "text": [
            "[CV 2/3; 7/36] END max_depth=7, max_features=0.1, max_samples=None, min_samples_leaf=1, n_estimators=100;, score=0.713 total time=   0.3s\n",
            "[CV 3/3; 7/36] START max_depth=7, max_features=0.1, max_samples=None, min_samples_leaf=1, n_estimators=100\n"
          ]
        },
        {
          "output_type": "stream",
          "name": "stderr",
          "text": [
            "/usr/local/lib/python3.7/dist-packages/sklearn/model_selection/_validation.py:680: DataConversionWarning: A column-vector y was passed when a 1d array was expected. Please change the shape of y to (n_samples,), for example using ravel().\n",
            "  estimator.fit(X_train, y_train, **fit_params)\n"
          ]
        },
        {
          "output_type": "stream",
          "name": "stdout",
          "text": [
            "[CV 3/3; 7/36] END max_depth=7, max_features=0.1, max_samples=None, min_samples_leaf=1, n_estimators=100;, score=0.717 total time=   0.3s\n",
            "[CV 1/3; 8/36] START max_depth=7, max_features=0.1, max_samples=None, min_samples_leaf=1, n_estimators=1000\n"
          ]
        },
        {
          "output_type": "stream",
          "name": "stderr",
          "text": [
            "/usr/local/lib/python3.7/dist-packages/sklearn/model_selection/_validation.py:680: DataConversionWarning: A column-vector y was passed when a 1d array was expected. Please change the shape of y to (n_samples,), for example using ravel().\n",
            "  estimator.fit(X_train, y_train, **fit_params)\n"
          ]
        },
        {
          "output_type": "stream",
          "name": "stdout",
          "text": [
            "[CV 1/3; 8/36] END max_depth=7, max_features=0.1, max_samples=None, min_samples_leaf=1, n_estimators=1000;, score=0.717 total time=   2.9s\n",
            "[CV 2/3; 8/36] START max_depth=7, max_features=0.1, max_samples=None, min_samples_leaf=1, n_estimators=1000\n"
          ]
        },
        {
          "output_type": "stream",
          "name": "stderr",
          "text": [
            "/usr/local/lib/python3.7/dist-packages/sklearn/model_selection/_validation.py:680: DataConversionWarning: A column-vector y was passed when a 1d array was expected. Please change the shape of y to (n_samples,), for example using ravel().\n",
            "  estimator.fit(X_train, y_train, **fit_params)\n"
          ]
        },
        {
          "output_type": "stream",
          "name": "stdout",
          "text": [
            "[CV 2/3; 8/36] END max_depth=7, max_features=0.1, max_samples=None, min_samples_leaf=1, n_estimators=1000;, score=0.711 total time=   2.9s\n",
            "[CV 3/3; 8/36] START max_depth=7, max_features=0.1, max_samples=None, min_samples_leaf=1, n_estimators=1000\n"
          ]
        },
        {
          "output_type": "stream",
          "name": "stderr",
          "text": [
            "/usr/local/lib/python3.7/dist-packages/sklearn/model_selection/_validation.py:680: DataConversionWarning: A column-vector y was passed when a 1d array was expected. Please change the shape of y to (n_samples,), for example using ravel().\n",
            "  estimator.fit(X_train, y_train, **fit_params)\n"
          ]
        },
        {
          "output_type": "stream",
          "name": "stdout",
          "text": [
            "[CV 3/3; 8/36] END max_depth=7, max_features=0.1, max_samples=None, min_samples_leaf=1, n_estimators=1000;, score=0.715 total time=   2.8s\n",
            "[CV 1/3; 9/36] START max_depth=7, max_features=0.1, max_samples=None, min_samples_leaf=3, n_estimators=100\n"
          ]
        },
        {
          "output_type": "stream",
          "name": "stderr",
          "text": [
            "/usr/local/lib/python3.7/dist-packages/sklearn/model_selection/_validation.py:680: DataConversionWarning: A column-vector y was passed when a 1d array was expected. Please change the shape of y to (n_samples,), for example using ravel().\n",
            "  estimator.fit(X_train, y_train, **fit_params)\n"
          ]
        },
        {
          "output_type": "stream",
          "name": "stdout",
          "text": [
            "[CV 1/3; 9/36] END max_depth=7, max_features=0.1, max_samples=None, min_samples_leaf=3, n_estimators=100;, score=0.716 total time=   0.3s\n",
            "[CV 2/3; 9/36] START max_depth=7, max_features=0.1, max_samples=None, min_samples_leaf=3, n_estimators=100\n"
          ]
        },
        {
          "output_type": "stream",
          "name": "stderr",
          "text": [
            "/usr/local/lib/python3.7/dist-packages/sklearn/model_selection/_validation.py:680: DataConversionWarning: A column-vector y was passed when a 1d array was expected. Please change the shape of y to (n_samples,), for example using ravel().\n",
            "  estimator.fit(X_train, y_train, **fit_params)\n"
          ]
        },
        {
          "output_type": "stream",
          "name": "stdout",
          "text": [
            "[CV 2/3; 9/36] END max_depth=7, max_features=0.1, max_samples=None, min_samples_leaf=3, n_estimators=100;, score=0.711 total time=   0.3s\n",
            "[CV 3/3; 9/36] START max_depth=7, max_features=0.1, max_samples=None, min_samples_leaf=3, n_estimators=100\n"
          ]
        },
        {
          "output_type": "stream",
          "name": "stderr",
          "text": [
            "/usr/local/lib/python3.7/dist-packages/sklearn/model_selection/_validation.py:680: DataConversionWarning: A column-vector y was passed when a 1d array was expected. Please change the shape of y to (n_samples,), for example using ravel().\n",
            "  estimator.fit(X_train, y_train, **fit_params)\n"
          ]
        },
        {
          "output_type": "stream",
          "name": "stdout",
          "text": [
            "[CV 3/3; 9/36] END max_depth=7, max_features=0.1, max_samples=None, min_samples_leaf=3, n_estimators=100;, score=0.711 total time=   0.3s\n",
            "[CV 1/3; 10/36] START max_depth=7, max_features=0.1, max_samples=None, min_samples_leaf=3, n_estimators=1000\n"
          ]
        },
        {
          "output_type": "stream",
          "name": "stderr",
          "text": [
            "/usr/local/lib/python3.7/dist-packages/sklearn/model_selection/_validation.py:680: DataConversionWarning: A column-vector y was passed when a 1d array was expected. Please change the shape of y to (n_samples,), for example using ravel().\n",
            "  estimator.fit(X_train, y_train, **fit_params)\n"
          ]
        },
        {
          "output_type": "stream",
          "name": "stdout",
          "text": [
            "[CV 1/3; 10/36] END max_depth=7, max_features=0.1, max_samples=None, min_samples_leaf=3, n_estimators=1000;, score=0.711 total time=   2.9s\n",
            "[CV 2/3; 10/36] START max_depth=7, max_features=0.1, max_samples=None, min_samples_leaf=3, n_estimators=1000\n"
          ]
        },
        {
          "output_type": "stream",
          "name": "stderr",
          "text": [
            "/usr/local/lib/python3.7/dist-packages/sklearn/model_selection/_validation.py:680: DataConversionWarning: A column-vector y was passed when a 1d array was expected. Please change the shape of y to (n_samples,), for example using ravel().\n",
            "  estimator.fit(X_train, y_train, **fit_params)\n"
          ]
        },
        {
          "output_type": "stream",
          "name": "stdout",
          "text": [
            "[CV 2/3; 10/36] END max_depth=7, max_features=0.1, max_samples=None, min_samples_leaf=3, n_estimators=1000;, score=0.708 total time=   2.8s\n",
            "[CV 3/3; 10/36] START max_depth=7, max_features=0.1, max_samples=None, min_samples_leaf=3, n_estimators=1000\n"
          ]
        },
        {
          "output_type": "stream",
          "name": "stderr",
          "text": [
            "/usr/local/lib/python3.7/dist-packages/sklearn/model_selection/_validation.py:680: DataConversionWarning: A column-vector y was passed when a 1d array was expected. Please change the shape of y to (n_samples,), for example using ravel().\n",
            "  estimator.fit(X_train, y_train, **fit_params)\n"
          ]
        },
        {
          "output_type": "stream",
          "name": "stdout",
          "text": [
            "[CV 3/3; 10/36] END max_depth=7, max_features=0.1, max_samples=None, min_samples_leaf=3, n_estimators=1000;, score=0.714 total time=   2.8s\n",
            "[CV 1/3; 11/36] START max_depth=7, max_features=0.1, max_samples=None, min_samples_leaf=10, n_estimators=100\n"
          ]
        },
        {
          "output_type": "stream",
          "name": "stderr",
          "text": [
            "/usr/local/lib/python3.7/dist-packages/sklearn/model_selection/_validation.py:680: DataConversionWarning: A column-vector y was passed when a 1d array was expected. Please change the shape of y to (n_samples,), for example using ravel().\n",
            "  estimator.fit(X_train, y_train, **fit_params)\n"
          ]
        },
        {
          "output_type": "stream",
          "name": "stdout",
          "text": [
            "[CV 1/3; 11/36] END max_depth=7, max_features=0.1, max_samples=None, min_samples_leaf=10, n_estimators=100;, score=0.711 total time=   0.3s\n",
            "[CV 2/3; 11/36] START max_depth=7, max_features=0.1, max_samples=None, min_samples_leaf=10, n_estimators=100\n"
          ]
        },
        {
          "output_type": "stream",
          "name": "stderr",
          "text": [
            "/usr/local/lib/python3.7/dist-packages/sklearn/model_selection/_validation.py:680: DataConversionWarning: A column-vector y was passed when a 1d array was expected. Please change the shape of y to (n_samples,), for example using ravel().\n",
            "  estimator.fit(X_train, y_train, **fit_params)\n"
          ]
        },
        {
          "output_type": "stream",
          "name": "stdout",
          "text": [
            "[CV 2/3; 11/36] END max_depth=7, max_features=0.1, max_samples=None, min_samples_leaf=10, n_estimators=100;, score=0.704 total time=   0.3s\n",
            "[CV 3/3; 11/36] START max_depth=7, max_features=0.1, max_samples=None, min_samples_leaf=10, n_estimators=100\n"
          ]
        },
        {
          "output_type": "stream",
          "name": "stderr",
          "text": [
            "/usr/local/lib/python3.7/dist-packages/sklearn/model_selection/_validation.py:680: DataConversionWarning: A column-vector y was passed when a 1d array was expected. Please change the shape of y to (n_samples,), for example using ravel().\n",
            "  estimator.fit(X_train, y_train, **fit_params)\n"
          ]
        },
        {
          "output_type": "stream",
          "name": "stdout",
          "text": [
            "[CV 3/3; 11/36] END max_depth=7, max_features=0.1, max_samples=None, min_samples_leaf=10, n_estimators=100;, score=0.712 total time=   0.3s\n",
            "[CV 1/3; 12/36] START max_depth=7, max_features=0.1, max_samples=None, min_samples_leaf=10, n_estimators=1000\n"
          ]
        },
        {
          "output_type": "stream",
          "name": "stderr",
          "text": [
            "/usr/local/lib/python3.7/dist-packages/sklearn/model_selection/_validation.py:680: DataConversionWarning: A column-vector y was passed when a 1d array was expected. Please change the shape of y to (n_samples,), for example using ravel().\n",
            "  estimator.fit(X_train, y_train, **fit_params)\n"
          ]
        },
        {
          "output_type": "stream",
          "name": "stdout",
          "text": [
            "[CV 1/3; 12/36] END max_depth=7, max_features=0.1, max_samples=None, min_samples_leaf=10, n_estimators=1000;, score=0.713 total time=   2.8s\n",
            "[CV 2/3; 12/36] START max_depth=7, max_features=0.1, max_samples=None, min_samples_leaf=10, n_estimators=1000\n"
          ]
        },
        {
          "output_type": "stream",
          "name": "stderr",
          "text": [
            "/usr/local/lib/python3.7/dist-packages/sklearn/model_selection/_validation.py:680: DataConversionWarning: A column-vector y was passed when a 1d array was expected. Please change the shape of y to (n_samples,), for example using ravel().\n",
            "  estimator.fit(X_train, y_train, **fit_params)\n"
          ]
        },
        {
          "output_type": "stream",
          "name": "stdout",
          "text": [
            "[CV 2/3; 12/36] END max_depth=7, max_features=0.1, max_samples=None, min_samples_leaf=10, n_estimators=1000;, score=0.704 total time=   2.8s\n",
            "[CV 3/3; 12/36] START max_depth=7, max_features=0.1, max_samples=None, min_samples_leaf=10, n_estimators=1000\n"
          ]
        },
        {
          "output_type": "stream",
          "name": "stderr",
          "text": [
            "/usr/local/lib/python3.7/dist-packages/sklearn/model_selection/_validation.py:680: DataConversionWarning: A column-vector y was passed when a 1d array was expected. Please change the shape of y to (n_samples,), for example using ravel().\n",
            "  estimator.fit(X_train, y_train, **fit_params)\n"
          ]
        },
        {
          "output_type": "stream",
          "name": "stdout",
          "text": [
            "[CV 3/3; 12/36] END max_depth=7, max_features=0.1, max_samples=None, min_samples_leaf=10, n_estimators=1000;, score=0.710 total time=   2.8s\n",
            "[CV 1/3; 13/36] START max_depth=7, max_features=0.5, max_samples=0.5, min_samples_leaf=1, n_estimators=100\n"
          ]
        },
        {
          "output_type": "stream",
          "name": "stderr",
          "text": [
            "/usr/local/lib/python3.7/dist-packages/sklearn/model_selection/_validation.py:680: DataConversionWarning: A column-vector y was passed when a 1d array was expected. Please change the shape of y to (n_samples,), for example using ravel().\n",
            "  estimator.fit(X_train, y_train, **fit_params)\n"
          ]
        },
        {
          "output_type": "stream",
          "name": "stdout",
          "text": [
            "[CV 1/3; 13/36] END max_depth=7, max_features=0.5, max_samples=0.5, min_samples_leaf=1, n_estimators=100;, score=0.712 total time=   0.3s\n",
            "[CV 2/3; 13/36] START max_depth=7, max_features=0.5, max_samples=0.5, min_samples_leaf=1, n_estimators=100\n"
          ]
        },
        {
          "output_type": "stream",
          "name": "stderr",
          "text": [
            "/usr/local/lib/python3.7/dist-packages/sklearn/model_selection/_validation.py:680: DataConversionWarning: A column-vector y was passed when a 1d array was expected. Please change the shape of y to (n_samples,), for example using ravel().\n",
            "  estimator.fit(X_train, y_train, **fit_params)\n"
          ]
        },
        {
          "output_type": "stream",
          "name": "stdout",
          "text": [
            "[CV 2/3; 13/36] END max_depth=7, max_features=0.5, max_samples=0.5, min_samples_leaf=1, n_estimators=100;, score=0.713 total time=   0.3s\n",
            "[CV 3/3; 13/36] START max_depth=7, max_features=0.5, max_samples=0.5, min_samples_leaf=1, n_estimators=100\n"
          ]
        },
        {
          "output_type": "stream",
          "name": "stderr",
          "text": [
            "/usr/local/lib/python3.7/dist-packages/sklearn/model_selection/_validation.py:680: DataConversionWarning: A column-vector y was passed when a 1d array was expected. Please change the shape of y to (n_samples,), for example using ravel().\n",
            "  estimator.fit(X_train, y_train, **fit_params)\n"
          ]
        },
        {
          "output_type": "stream",
          "name": "stdout",
          "text": [
            "[CV 3/3; 13/36] END max_depth=7, max_features=0.5, max_samples=0.5, min_samples_leaf=1, n_estimators=100;, score=0.716 total time=   0.3s\n",
            "[CV 1/3; 14/36] START max_depth=7, max_features=0.5, max_samples=0.5, min_samples_leaf=1, n_estimators=1000\n"
          ]
        },
        {
          "output_type": "stream",
          "name": "stderr",
          "text": [
            "/usr/local/lib/python3.7/dist-packages/sklearn/model_selection/_validation.py:680: DataConversionWarning: A column-vector y was passed when a 1d array was expected. Please change the shape of y to (n_samples,), for example using ravel().\n",
            "  estimator.fit(X_train, y_train, **fit_params)\n"
          ]
        },
        {
          "output_type": "stream",
          "name": "stdout",
          "text": [
            "[CV 1/3; 14/36] END max_depth=7, max_features=0.5, max_samples=0.5, min_samples_leaf=1, n_estimators=1000;, score=0.721 total time=   2.8s\n",
            "[CV 2/3; 14/36] START max_depth=7, max_features=0.5, max_samples=0.5, min_samples_leaf=1, n_estimators=1000\n"
          ]
        },
        {
          "output_type": "stream",
          "name": "stderr",
          "text": [
            "/usr/local/lib/python3.7/dist-packages/sklearn/model_selection/_validation.py:680: DataConversionWarning: A column-vector y was passed when a 1d array was expected. Please change the shape of y to (n_samples,), for example using ravel().\n",
            "  estimator.fit(X_train, y_train, **fit_params)\n"
          ]
        },
        {
          "output_type": "stream",
          "name": "stdout",
          "text": [
            "[CV 2/3; 14/36] END max_depth=7, max_features=0.5, max_samples=0.5, min_samples_leaf=1, n_estimators=1000;, score=0.709 total time=   2.8s\n",
            "[CV 3/3; 14/36] START max_depth=7, max_features=0.5, max_samples=0.5, min_samples_leaf=1, n_estimators=1000\n"
          ]
        },
        {
          "output_type": "stream",
          "name": "stderr",
          "text": [
            "/usr/local/lib/python3.7/dist-packages/sklearn/model_selection/_validation.py:680: DataConversionWarning: A column-vector y was passed when a 1d array was expected. Please change the shape of y to (n_samples,), for example using ravel().\n",
            "  estimator.fit(X_train, y_train, **fit_params)\n"
          ]
        },
        {
          "output_type": "stream",
          "name": "stdout",
          "text": [
            "[CV 3/3; 14/36] END max_depth=7, max_features=0.5, max_samples=0.5, min_samples_leaf=1, n_estimators=1000;, score=0.716 total time=   2.7s\n",
            "[CV 1/3; 15/36] START max_depth=7, max_features=0.5, max_samples=0.5, min_samples_leaf=3, n_estimators=100\n"
          ]
        },
        {
          "output_type": "stream",
          "name": "stderr",
          "text": [
            "/usr/local/lib/python3.7/dist-packages/sklearn/model_selection/_validation.py:680: DataConversionWarning: A column-vector y was passed when a 1d array was expected. Please change the shape of y to (n_samples,), for example using ravel().\n",
            "  estimator.fit(X_train, y_train, **fit_params)\n"
          ]
        },
        {
          "output_type": "stream",
          "name": "stdout",
          "text": [
            "[CV 1/3; 15/36] END max_depth=7, max_features=0.5, max_samples=0.5, min_samples_leaf=3, n_estimators=100;, score=0.720 total time=   0.3s\n",
            "[CV 2/3; 15/36] START max_depth=7, max_features=0.5, max_samples=0.5, min_samples_leaf=3, n_estimators=100\n"
          ]
        },
        {
          "output_type": "stream",
          "name": "stderr",
          "text": [
            "/usr/local/lib/python3.7/dist-packages/sklearn/model_selection/_validation.py:680: DataConversionWarning: A column-vector y was passed when a 1d array was expected. Please change the shape of y to (n_samples,), for example using ravel().\n",
            "  estimator.fit(X_train, y_train, **fit_params)\n"
          ]
        },
        {
          "output_type": "stream",
          "name": "stdout",
          "text": [
            "[CV 2/3; 15/36] END max_depth=7, max_features=0.5, max_samples=0.5, min_samples_leaf=3, n_estimators=100;, score=0.714 total time=   0.3s\n",
            "[CV 3/3; 15/36] START max_depth=7, max_features=0.5, max_samples=0.5, min_samples_leaf=3, n_estimators=100\n"
          ]
        },
        {
          "output_type": "stream",
          "name": "stderr",
          "text": [
            "/usr/local/lib/python3.7/dist-packages/sklearn/model_selection/_validation.py:680: DataConversionWarning: A column-vector y was passed when a 1d array was expected. Please change the shape of y to (n_samples,), for example using ravel().\n",
            "  estimator.fit(X_train, y_train, **fit_params)\n"
          ]
        },
        {
          "output_type": "stream",
          "name": "stdout",
          "text": [
            "[CV 3/3; 15/36] END max_depth=7, max_features=0.5, max_samples=0.5, min_samples_leaf=3, n_estimators=100;, score=0.717 total time=   0.3s\n",
            "[CV 1/3; 16/36] START max_depth=7, max_features=0.5, max_samples=0.5, min_samples_leaf=3, n_estimators=1000\n"
          ]
        },
        {
          "output_type": "stream",
          "name": "stderr",
          "text": [
            "/usr/local/lib/python3.7/dist-packages/sklearn/model_selection/_validation.py:680: DataConversionWarning: A column-vector y was passed when a 1d array was expected. Please change the shape of y to (n_samples,), for example using ravel().\n",
            "  estimator.fit(X_train, y_train, **fit_params)\n"
          ]
        },
        {
          "output_type": "stream",
          "name": "stdout",
          "text": [
            "[CV 1/3; 16/36] END max_depth=7, max_features=0.5, max_samples=0.5, min_samples_leaf=3, n_estimators=1000;, score=0.718 total time=   2.7s\n",
            "[CV 2/3; 16/36] START max_depth=7, max_features=0.5, max_samples=0.5, min_samples_leaf=3, n_estimators=1000\n"
          ]
        },
        {
          "output_type": "stream",
          "name": "stderr",
          "text": [
            "/usr/local/lib/python3.7/dist-packages/sklearn/model_selection/_validation.py:680: DataConversionWarning: A column-vector y was passed when a 1d array was expected. Please change the shape of y to (n_samples,), for example using ravel().\n",
            "  estimator.fit(X_train, y_train, **fit_params)\n"
          ]
        },
        {
          "output_type": "stream",
          "name": "stdout",
          "text": [
            "[CV 2/3; 16/36] END max_depth=7, max_features=0.5, max_samples=0.5, min_samples_leaf=3, n_estimators=1000;, score=0.710 total time=   2.7s\n",
            "[CV 3/3; 16/36] START max_depth=7, max_features=0.5, max_samples=0.5, min_samples_leaf=3, n_estimators=1000\n"
          ]
        },
        {
          "output_type": "stream",
          "name": "stderr",
          "text": [
            "/usr/local/lib/python3.7/dist-packages/sklearn/model_selection/_validation.py:680: DataConversionWarning: A column-vector y was passed when a 1d array was expected. Please change the shape of y to (n_samples,), for example using ravel().\n",
            "  estimator.fit(X_train, y_train, **fit_params)\n"
          ]
        },
        {
          "output_type": "stream",
          "name": "stdout",
          "text": [
            "[CV 3/3; 16/36] END max_depth=7, max_features=0.5, max_samples=0.5, min_samples_leaf=3, n_estimators=1000;, score=0.718 total time=   2.8s\n",
            "[CV 1/3; 17/36] START max_depth=7, max_features=0.5, max_samples=0.5, min_samples_leaf=10, n_estimators=100\n"
          ]
        },
        {
          "output_type": "stream",
          "name": "stderr",
          "text": [
            "/usr/local/lib/python3.7/dist-packages/sklearn/model_selection/_validation.py:680: DataConversionWarning: A column-vector y was passed when a 1d array was expected. Please change the shape of y to (n_samples,), for example using ravel().\n",
            "  estimator.fit(X_train, y_train, **fit_params)\n"
          ]
        },
        {
          "output_type": "stream",
          "name": "stdout",
          "text": [
            "[CV 1/3; 17/36] END max_depth=7, max_features=0.5, max_samples=0.5, min_samples_leaf=10, n_estimators=100;, score=0.713 total time=   0.3s\n",
            "[CV 2/3; 17/36] START max_depth=7, max_features=0.5, max_samples=0.5, min_samples_leaf=10, n_estimators=100\n"
          ]
        },
        {
          "output_type": "stream",
          "name": "stderr",
          "text": [
            "/usr/local/lib/python3.7/dist-packages/sklearn/model_selection/_validation.py:680: DataConversionWarning: A column-vector y was passed when a 1d array was expected. Please change the shape of y to (n_samples,), for example using ravel().\n",
            "  estimator.fit(X_train, y_train, **fit_params)\n"
          ]
        },
        {
          "output_type": "stream",
          "name": "stdout",
          "text": [
            "[CV 2/3; 17/36] END max_depth=7, max_features=0.5, max_samples=0.5, min_samples_leaf=10, n_estimators=100;, score=0.708 total time=   0.3s\n",
            "[CV 3/3; 17/36] START max_depth=7, max_features=0.5, max_samples=0.5, min_samples_leaf=10, n_estimators=100\n"
          ]
        },
        {
          "output_type": "stream",
          "name": "stderr",
          "text": [
            "/usr/local/lib/python3.7/dist-packages/sklearn/model_selection/_validation.py:680: DataConversionWarning: A column-vector y was passed when a 1d array was expected. Please change the shape of y to (n_samples,), for example using ravel().\n",
            "  estimator.fit(X_train, y_train, **fit_params)\n"
          ]
        },
        {
          "output_type": "stream",
          "name": "stdout",
          "text": [
            "[CV 3/3; 17/36] END max_depth=7, max_features=0.5, max_samples=0.5, min_samples_leaf=10, n_estimators=100;, score=0.714 total time=   0.3s\n",
            "[CV 1/3; 18/36] START max_depth=7, max_features=0.5, max_samples=0.5, min_samples_leaf=10, n_estimators=1000\n"
          ]
        },
        {
          "output_type": "stream",
          "name": "stderr",
          "text": [
            "/usr/local/lib/python3.7/dist-packages/sklearn/model_selection/_validation.py:680: DataConversionWarning: A column-vector y was passed when a 1d array was expected. Please change the shape of y to (n_samples,), for example using ravel().\n",
            "  estimator.fit(X_train, y_train, **fit_params)\n"
          ]
        },
        {
          "output_type": "stream",
          "name": "stdout",
          "text": [
            "[CV 1/3; 18/36] END max_depth=7, max_features=0.5, max_samples=0.5, min_samples_leaf=10, n_estimators=1000;, score=0.719 total time=   2.7s\n",
            "[CV 2/3; 18/36] START max_depth=7, max_features=0.5, max_samples=0.5, min_samples_leaf=10, n_estimators=1000\n"
          ]
        },
        {
          "output_type": "stream",
          "name": "stderr",
          "text": [
            "/usr/local/lib/python3.7/dist-packages/sklearn/model_selection/_validation.py:680: DataConversionWarning: A column-vector y was passed when a 1d array was expected. Please change the shape of y to (n_samples,), for example using ravel().\n",
            "  estimator.fit(X_train, y_train, **fit_params)\n"
          ]
        },
        {
          "output_type": "stream",
          "name": "stdout",
          "text": [
            "[CV 2/3; 18/36] END max_depth=7, max_features=0.5, max_samples=0.5, min_samples_leaf=10, n_estimators=1000;, score=0.708 total time=   2.7s\n",
            "[CV 3/3; 18/36] START max_depth=7, max_features=0.5, max_samples=0.5, min_samples_leaf=10, n_estimators=1000\n"
          ]
        },
        {
          "output_type": "stream",
          "name": "stderr",
          "text": [
            "/usr/local/lib/python3.7/dist-packages/sklearn/model_selection/_validation.py:680: DataConversionWarning: A column-vector y was passed when a 1d array was expected. Please change the shape of y to (n_samples,), for example using ravel().\n",
            "  estimator.fit(X_train, y_train, **fit_params)\n"
          ]
        },
        {
          "output_type": "stream",
          "name": "stdout",
          "text": [
            "[CV 3/3; 18/36] END max_depth=7, max_features=0.5, max_samples=0.5, min_samples_leaf=10, n_estimators=1000;, score=0.713 total time=   2.7s\n",
            "[CV 1/3; 19/36] START max_depth=7, max_features=0.5, max_samples=None, min_samples_leaf=1, n_estimators=100\n"
          ]
        },
        {
          "output_type": "stream",
          "name": "stderr",
          "text": [
            "/usr/local/lib/python3.7/dist-packages/sklearn/model_selection/_validation.py:680: DataConversionWarning: A column-vector y was passed when a 1d array was expected. Please change the shape of y to (n_samples,), for example using ravel().\n",
            "  estimator.fit(X_train, y_train, **fit_params)\n"
          ]
        },
        {
          "output_type": "stream",
          "name": "stdout",
          "text": [
            "[CV 1/3; 19/36] END max_depth=7, max_features=0.5, max_samples=None, min_samples_leaf=1, n_estimators=100;, score=0.719 total time=   0.3s\n",
            "[CV 2/3; 19/36] START max_depth=7, max_features=0.5, max_samples=None, min_samples_leaf=1, n_estimators=100\n"
          ]
        },
        {
          "output_type": "stream",
          "name": "stderr",
          "text": [
            "/usr/local/lib/python3.7/dist-packages/sklearn/model_selection/_validation.py:680: DataConversionWarning: A column-vector y was passed when a 1d array was expected. Please change the shape of y to (n_samples,), for example using ravel().\n",
            "  estimator.fit(X_train, y_train, **fit_params)\n"
          ]
        },
        {
          "output_type": "stream",
          "name": "stdout",
          "text": [
            "[CV 2/3; 19/36] END max_depth=7, max_features=0.5, max_samples=None, min_samples_leaf=1, n_estimators=100;, score=0.708 total time=   0.3s\n",
            "[CV 3/3; 19/36] START max_depth=7, max_features=0.5, max_samples=None, min_samples_leaf=1, n_estimators=100\n"
          ]
        },
        {
          "output_type": "stream",
          "name": "stderr",
          "text": [
            "/usr/local/lib/python3.7/dist-packages/sklearn/model_selection/_validation.py:680: DataConversionWarning: A column-vector y was passed when a 1d array was expected. Please change the shape of y to (n_samples,), for example using ravel().\n",
            "  estimator.fit(X_train, y_train, **fit_params)\n"
          ]
        },
        {
          "output_type": "stream",
          "name": "stdout",
          "text": [
            "[CV 3/3; 19/36] END max_depth=7, max_features=0.5, max_samples=None, min_samples_leaf=1, n_estimators=100;, score=0.718 total time=   0.3s\n",
            "[CV 1/3; 20/36] START max_depth=7, max_features=0.5, max_samples=None, min_samples_leaf=1, n_estimators=1000\n"
          ]
        },
        {
          "output_type": "stream",
          "name": "stderr",
          "text": [
            "/usr/local/lib/python3.7/dist-packages/sklearn/model_selection/_validation.py:680: DataConversionWarning: A column-vector y was passed when a 1d array was expected. Please change the shape of y to (n_samples,), for example using ravel().\n",
            "  estimator.fit(X_train, y_train, **fit_params)\n"
          ]
        },
        {
          "output_type": "stream",
          "name": "stdout",
          "text": [
            "[CV 1/3; 20/36] END max_depth=7, max_features=0.5, max_samples=None, min_samples_leaf=1, n_estimators=1000;, score=0.720 total time=   3.1s\n",
            "[CV 2/3; 20/36] START max_depth=7, max_features=0.5, max_samples=None, min_samples_leaf=1, n_estimators=1000\n"
          ]
        },
        {
          "output_type": "stream",
          "name": "stderr",
          "text": [
            "/usr/local/lib/python3.7/dist-packages/sklearn/model_selection/_validation.py:680: DataConversionWarning: A column-vector y was passed when a 1d array was expected. Please change the shape of y to (n_samples,), for example using ravel().\n",
            "  estimator.fit(X_train, y_train, **fit_params)\n"
          ]
        },
        {
          "output_type": "stream",
          "name": "stdout",
          "text": [
            "[CV 2/3; 20/36] END max_depth=7, max_features=0.5, max_samples=None, min_samples_leaf=1, n_estimators=1000;, score=0.709 total time=   3.0s\n",
            "[CV 3/3; 20/36] START max_depth=7, max_features=0.5, max_samples=None, min_samples_leaf=1, n_estimators=1000\n"
          ]
        },
        {
          "output_type": "stream",
          "name": "stderr",
          "text": [
            "/usr/local/lib/python3.7/dist-packages/sklearn/model_selection/_validation.py:680: DataConversionWarning: A column-vector y was passed when a 1d array was expected. Please change the shape of y to (n_samples,), for example using ravel().\n",
            "  estimator.fit(X_train, y_train, **fit_params)\n"
          ]
        },
        {
          "output_type": "stream",
          "name": "stdout",
          "text": [
            "[CV 3/3; 20/36] END max_depth=7, max_features=0.5, max_samples=None, min_samples_leaf=1, n_estimators=1000;, score=0.718 total time=   3.1s\n",
            "[CV 1/3; 21/36] START max_depth=7, max_features=0.5, max_samples=None, min_samples_leaf=3, n_estimators=100\n"
          ]
        },
        {
          "output_type": "stream",
          "name": "stderr",
          "text": [
            "/usr/local/lib/python3.7/dist-packages/sklearn/model_selection/_validation.py:680: DataConversionWarning: A column-vector y was passed when a 1d array was expected. Please change the shape of y to (n_samples,), for example using ravel().\n",
            "  estimator.fit(X_train, y_train, **fit_params)\n"
          ]
        },
        {
          "output_type": "stream",
          "name": "stdout",
          "text": [
            "[CV 1/3; 21/36] END max_depth=7, max_features=0.5, max_samples=None, min_samples_leaf=3, n_estimators=100;, score=0.715 total time=   0.3s\n",
            "[CV 2/3; 21/36] START max_depth=7, max_features=0.5, max_samples=None, min_samples_leaf=3, n_estimators=100\n"
          ]
        },
        {
          "output_type": "stream",
          "name": "stderr",
          "text": [
            "/usr/local/lib/python3.7/dist-packages/sklearn/model_selection/_validation.py:680: DataConversionWarning: A column-vector y was passed when a 1d array was expected. Please change the shape of y to (n_samples,), for example using ravel().\n",
            "  estimator.fit(X_train, y_train, **fit_params)\n"
          ]
        },
        {
          "output_type": "stream",
          "name": "stdout",
          "text": [
            "[CV 2/3; 21/36] END max_depth=7, max_features=0.5, max_samples=None, min_samples_leaf=3, n_estimators=100;, score=0.714 total time=   0.3s\n",
            "[CV 3/3; 21/36] START max_depth=7, max_features=0.5, max_samples=None, min_samples_leaf=3, n_estimators=100\n"
          ]
        },
        {
          "output_type": "stream",
          "name": "stderr",
          "text": [
            "/usr/local/lib/python3.7/dist-packages/sklearn/model_selection/_validation.py:680: DataConversionWarning: A column-vector y was passed when a 1d array was expected. Please change the shape of y to (n_samples,), for example using ravel().\n",
            "  estimator.fit(X_train, y_train, **fit_params)\n"
          ]
        },
        {
          "output_type": "stream",
          "name": "stdout",
          "text": [
            "[CV 3/3; 21/36] END max_depth=7, max_features=0.5, max_samples=None, min_samples_leaf=3, n_estimators=100;, score=0.715 total time=   0.3s\n",
            "[CV 1/3; 22/36] START max_depth=7, max_features=0.5, max_samples=None, min_samples_leaf=3, n_estimators=1000\n"
          ]
        },
        {
          "output_type": "stream",
          "name": "stderr",
          "text": [
            "/usr/local/lib/python3.7/dist-packages/sklearn/model_selection/_validation.py:680: DataConversionWarning: A column-vector y was passed when a 1d array was expected. Please change the shape of y to (n_samples,), for example using ravel().\n",
            "  estimator.fit(X_train, y_train, **fit_params)\n"
          ]
        },
        {
          "output_type": "stream",
          "name": "stdout",
          "text": [
            "[CV 1/3; 22/36] END max_depth=7, max_features=0.5, max_samples=None, min_samples_leaf=3, n_estimators=1000;, score=0.719 total time=   3.0s\n",
            "[CV 2/3; 22/36] START max_depth=7, max_features=0.5, max_samples=None, min_samples_leaf=3, n_estimators=1000\n"
          ]
        },
        {
          "output_type": "stream",
          "name": "stderr",
          "text": [
            "/usr/local/lib/python3.7/dist-packages/sklearn/model_selection/_validation.py:680: DataConversionWarning: A column-vector y was passed when a 1d array was expected. Please change the shape of y to (n_samples,), for example using ravel().\n",
            "  estimator.fit(X_train, y_train, **fit_params)\n"
          ]
        },
        {
          "output_type": "stream",
          "name": "stdout",
          "text": [
            "[CV 2/3; 22/36] END max_depth=7, max_features=0.5, max_samples=None, min_samples_leaf=3, n_estimators=1000;, score=0.709 total time=   3.0s\n",
            "[CV 3/3; 22/36] START max_depth=7, max_features=0.5, max_samples=None, min_samples_leaf=3, n_estimators=1000\n"
          ]
        },
        {
          "output_type": "stream",
          "name": "stderr",
          "text": [
            "/usr/local/lib/python3.7/dist-packages/sklearn/model_selection/_validation.py:680: DataConversionWarning: A column-vector y was passed when a 1d array was expected. Please change the shape of y to (n_samples,), for example using ravel().\n",
            "  estimator.fit(X_train, y_train, **fit_params)\n"
          ]
        },
        {
          "output_type": "stream",
          "name": "stdout",
          "text": [
            "[CV 3/3; 22/36] END max_depth=7, max_features=0.5, max_samples=None, min_samples_leaf=3, n_estimators=1000;, score=0.718 total time=   3.0s\n",
            "[CV 1/3; 23/36] START max_depth=7, max_features=0.5, max_samples=None, min_samples_leaf=10, n_estimators=100\n"
          ]
        },
        {
          "output_type": "stream",
          "name": "stderr",
          "text": [
            "/usr/local/lib/python3.7/dist-packages/sklearn/model_selection/_validation.py:680: DataConversionWarning: A column-vector y was passed when a 1d array was expected. Please change the shape of y to (n_samples,), for example using ravel().\n",
            "  estimator.fit(X_train, y_train, **fit_params)\n"
          ]
        },
        {
          "output_type": "stream",
          "name": "stdout",
          "text": [
            "[CV 1/3; 23/36] END max_depth=7, max_features=0.5, max_samples=None, min_samples_leaf=10, n_estimators=100;, score=0.716 total time=   0.3s\n",
            "[CV 2/3; 23/36] START max_depth=7, max_features=0.5, max_samples=None, min_samples_leaf=10, n_estimators=100\n"
          ]
        },
        {
          "output_type": "stream",
          "name": "stderr",
          "text": [
            "/usr/local/lib/python3.7/dist-packages/sklearn/model_selection/_validation.py:680: DataConversionWarning: A column-vector y was passed when a 1d array was expected. Please change the shape of y to (n_samples,), for example using ravel().\n",
            "  estimator.fit(X_train, y_train, **fit_params)\n"
          ]
        },
        {
          "output_type": "stream",
          "name": "stdout",
          "text": [
            "[CV 2/3; 23/36] END max_depth=7, max_features=0.5, max_samples=None, min_samples_leaf=10, n_estimators=100;, score=0.709 total time=   0.3s\n",
            "[CV 3/3; 23/36] START max_depth=7, max_features=0.5, max_samples=None, min_samples_leaf=10, n_estimators=100\n"
          ]
        },
        {
          "output_type": "stream",
          "name": "stderr",
          "text": [
            "/usr/local/lib/python3.7/dist-packages/sklearn/model_selection/_validation.py:680: DataConversionWarning: A column-vector y was passed when a 1d array was expected. Please change the shape of y to (n_samples,), for example using ravel().\n",
            "  estimator.fit(X_train, y_train, **fit_params)\n"
          ]
        },
        {
          "output_type": "stream",
          "name": "stdout",
          "text": [
            "[CV 3/3; 23/36] END max_depth=7, max_features=0.5, max_samples=None, min_samples_leaf=10, n_estimators=100;, score=0.716 total time=   0.3s\n",
            "[CV 1/3; 24/36] START max_depth=7, max_features=0.5, max_samples=None, min_samples_leaf=10, n_estimators=1000\n"
          ]
        },
        {
          "output_type": "stream",
          "name": "stderr",
          "text": [
            "/usr/local/lib/python3.7/dist-packages/sklearn/model_selection/_validation.py:680: DataConversionWarning: A column-vector y was passed when a 1d array was expected. Please change the shape of y to (n_samples,), for example using ravel().\n",
            "  estimator.fit(X_train, y_train, **fit_params)\n"
          ]
        },
        {
          "output_type": "stream",
          "name": "stdout",
          "text": [
            "[CV 1/3; 24/36] END max_depth=7, max_features=0.5, max_samples=None, min_samples_leaf=10, n_estimators=1000;, score=0.716 total time=   3.0s\n",
            "[CV 2/3; 24/36] START max_depth=7, max_features=0.5, max_samples=None, min_samples_leaf=10, n_estimators=1000\n"
          ]
        },
        {
          "output_type": "stream",
          "name": "stderr",
          "text": [
            "/usr/local/lib/python3.7/dist-packages/sklearn/model_selection/_validation.py:680: DataConversionWarning: A column-vector y was passed when a 1d array was expected. Please change the shape of y to (n_samples,), for example using ravel().\n",
            "  estimator.fit(X_train, y_train, **fit_params)\n"
          ]
        },
        {
          "output_type": "stream",
          "name": "stdout",
          "text": [
            "[CV 2/3; 24/36] END max_depth=7, max_features=0.5, max_samples=None, min_samples_leaf=10, n_estimators=1000;, score=0.712 total time=   2.9s\n",
            "[CV 3/3; 24/36] START max_depth=7, max_features=0.5, max_samples=None, min_samples_leaf=10, n_estimators=1000\n"
          ]
        },
        {
          "output_type": "stream",
          "name": "stderr",
          "text": [
            "/usr/local/lib/python3.7/dist-packages/sklearn/model_selection/_validation.py:680: DataConversionWarning: A column-vector y was passed when a 1d array was expected. Please change the shape of y to (n_samples,), for example using ravel().\n",
            "  estimator.fit(X_train, y_train, **fit_params)\n"
          ]
        },
        {
          "output_type": "stream",
          "name": "stdout",
          "text": [
            "[CV 3/3; 24/36] END max_depth=7, max_features=0.5, max_samples=None, min_samples_leaf=10, n_estimators=1000;, score=0.715 total time=   2.9s\n",
            "[CV 1/3; 25/36] START max_depth=7, max_features=1.0, max_samples=0.5, min_samples_leaf=1, n_estimators=100\n"
          ]
        },
        {
          "output_type": "stream",
          "name": "stderr",
          "text": [
            "/usr/local/lib/python3.7/dist-packages/sklearn/model_selection/_validation.py:680: DataConversionWarning: A column-vector y was passed when a 1d array was expected. Please change the shape of y to (n_samples,), for example using ravel().\n",
            "  estimator.fit(X_train, y_train, **fit_params)\n"
          ]
        },
        {
          "output_type": "stream",
          "name": "stdout",
          "text": [
            "[CV 1/3; 25/36] END max_depth=7, max_features=1.0, max_samples=0.5, min_samples_leaf=1, n_estimators=100;, score=0.723 total time=   0.3s\n",
            "[CV 2/3; 25/36] START max_depth=7, max_features=1.0, max_samples=0.5, min_samples_leaf=1, n_estimators=100\n"
          ]
        },
        {
          "output_type": "stream",
          "name": "stderr",
          "text": [
            "/usr/local/lib/python3.7/dist-packages/sklearn/model_selection/_validation.py:680: DataConversionWarning: A column-vector y was passed when a 1d array was expected. Please change the shape of y to (n_samples,), for example using ravel().\n",
            "  estimator.fit(X_train, y_train, **fit_params)\n"
          ]
        },
        {
          "output_type": "stream",
          "name": "stdout",
          "text": [
            "[CV 2/3; 25/36] END max_depth=7, max_features=1.0, max_samples=0.5, min_samples_leaf=1, n_estimators=100;, score=0.719 total time=   0.3s\n",
            "[CV 3/3; 25/36] START max_depth=7, max_features=1.0, max_samples=0.5, min_samples_leaf=1, n_estimators=100\n"
          ]
        },
        {
          "output_type": "stream",
          "name": "stderr",
          "text": [
            "/usr/local/lib/python3.7/dist-packages/sklearn/model_selection/_validation.py:680: DataConversionWarning: A column-vector y was passed when a 1d array was expected. Please change the shape of y to (n_samples,), for example using ravel().\n",
            "  estimator.fit(X_train, y_train, **fit_params)\n"
          ]
        },
        {
          "output_type": "stream",
          "name": "stdout",
          "text": [
            "[CV 3/3; 25/36] END max_depth=7, max_features=1.0, max_samples=0.5, min_samples_leaf=1, n_estimators=100;, score=0.716 total time=   0.3s\n",
            "[CV 1/3; 26/36] START max_depth=7, max_features=1.0, max_samples=0.5, min_samples_leaf=1, n_estimators=1000\n"
          ]
        },
        {
          "output_type": "stream",
          "name": "stderr",
          "text": [
            "/usr/local/lib/python3.7/dist-packages/sklearn/model_selection/_validation.py:680: DataConversionWarning: A column-vector y was passed when a 1d array was expected. Please change the shape of y to (n_samples,), for example using ravel().\n",
            "  estimator.fit(X_train, y_train, **fit_params)\n"
          ]
        },
        {
          "output_type": "stream",
          "name": "stdout",
          "text": [
            "[CV 1/3; 26/36] END max_depth=7, max_features=1.0, max_samples=0.5, min_samples_leaf=1, n_estimators=1000;, score=0.725 total time=   2.9s\n",
            "[CV 2/3; 26/36] START max_depth=7, max_features=1.0, max_samples=0.5, min_samples_leaf=1, n_estimators=1000\n"
          ]
        },
        {
          "output_type": "stream",
          "name": "stderr",
          "text": [
            "/usr/local/lib/python3.7/dist-packages/sklearn/model_selection/_validation.py:680: DataConversionWarning: A column-vector y was passed when a 1d array was expected. Please change the shape of y to (n_samples,), for example using ravel().\n",
            "  estimator.fit(X_train, y_train, **fit_params)\n"
          ]
        },
        {
          "output_type": "stream",
          "name": "stdout",
          "text": [
            "[CV 2/3; 26/36] END max_depth=7, max_features=1.0, max_samples=0.5, min_samples_leaf=1, n_estimators=1000;, score=0.717 total time=   3.0s\n",
            "[CV 3/3; 26/36] START max_depth=7, max_features=1.0, max_samples=0.5, min_samples_leaf=1, n_estimators=1000\n"
          ]
        },
        {
          "output_type": "stream",
          "name": "stderr",
          "text": [
            "/usr/local/lib/python3.7/dist-packages/sklearn/model_selection/_validation.py:680: DataConversionWarning: A column-vector y was passed when a 1d array was expected. Please change the shape of y to (n_samples,), for example using ravel().\n",
            "  estimator.fit(X_train, y_train, **fit_params)\n"
          ]
        },
        {
          "output_type": "stream",
          "name": "stdout",
          "text": [
            "[CV 3/3; 26/36] END max_depth=7, max_features=1.0, max_samples=0.5, min_samples_leaf=1, n_estimators=1000;, score=0.716 total time=   3.0s\n",
            "[CV 1/3; 27/36] START max_depth=7, max_features=1.0, max_samples=0.5, min_samples_leaf=3, n_estimators=100\n"
          ]
        },
        {
          "output_type": "stream",
          "name": "stderr",
          "text": [
            "/usr/local/lib/python3.7/dist-packages/sklearn/model_selection/_validation.py:680: DataConversionWarning: A column-vector y was passed when a 1d array was expected. Please change the shape of y to (n_samples,), for example using ravel().\n",
            "  estimator.fit(X_train, y_train, **fit_params)\n"
          ]
        },
        {
          "output_type": "stream",
          "name": "stdout",
          "text": [
            "[CV 1/3; 27/36] END max_depth=7, max_features=1.0, max_samples=0.5, min_samples_leaf=3, n_estimators=100;, score=0.721 total time=   0.3s\n",
            "[CV 2/3; 27/36] START max_depth=7, max_features=1.0, max_samples=0.5, min_samples_leaf=3, n_estimators=100\n"
          ]
        },
        {
          "output_type": "stream",
          "name": "stderr",
          "text": [
            "/usr/local/lib/python3.7/dist-packages/sklearn/model_selection/_validation.py:680: DataConversionWarning: A column-vector y was passed when a 1d array was expected. Please change the shape of y to (n_samples,), for example using ravel().\n",
            "  estimator.fit(X_train, y_train, **fit_params)\n"
          ]
        },
        {
          "output_type": "stream",
          "name": "stdout",
          "text": [
            "[CV 2/3; 27/36] END max_depth=7, max_features=1.0, max_samples=0.5, min_samples_leaf=3, n_estimators=100;, score=0.716 total time=   0.3s\n",
            "[CV 3/3; 27/36] START max_depth=7, max_features=1.0, max_samples=0.5, min_samples_leaf=3, n_estimators=100\n"
          ]
        },
        {
          "output_type": "stream",
          "name": "stderr",
          "text": [
            "/usr/local/lib/python3.7/dist-packages/sklearn/model_selection/_validation.py:680: DataConversionWarning: A column-vector y was passed when a 1d array was expected. Please change the shape of y to (n_samples,), for example using ravel().\n",
            "  estimator.fit(X_train, y_train, **fit_params)\n"
          ]
        },
        {
          "output_type": "stream",
          "name": "stdout",
          "text": [
            "[CV 3/3; 27/36] END max_depth=7, max_features=1.0, max_samples=0.5, min_samples_leaf=3, n_estimators=100;, score=0.716 total time=   0.3s\n",
            "[CV 1/3; 28/36] START max_depth=7, max_features=1.0, max_samples=0.5, min_samples_leaf=3, n_estimators=1000\n"
          ]
        },
        {
          "output_type": "stream",
          "name": "stderr",
          "text": [
            "/usr/local/lib/python3.7/dist-packages/sklearn/model_selection/_validation.py:680: DataConversionWarning: A column-vector y was passed when a 1d array was expected. Please change the shape of y to (n_samples,), for example using ravel().\n",
            "  estimator.fit(X_train, y_train, **fit_params)\n"
          ]
        },
        {
          "output_type": "stream",
          "name": "stdout",
          "text": [
            "[CV 1/3; 28/36] END max_depth=7, max_features=1.0, max_samples=0.5, min_samples_leaf=3, n_estimators=1000;, score=0.722 total time=   3.0s\n",
            "[CV 2/3; 28/36] START max_depth=7, max_features=1.0, max_samples=0.5, min_samples_leaf=3, n_estimators=1000\n"
          ]
        },
        {
          "output_type": "stream",
          "name": "stderr",
          "text": [
            "/usr/local/lib/python3.7/dist-packages/sklearn/model_selection/_validation.py:680: DataConversionWarning: A column-vector y was passed when a 1d array was expected. Please change the shape of y to (n_samples,), for example using ravel().\n",
            "  estimator.fit(X_train, y_train, **fit_params)\n"
          ]
        },
        {
          "output_type": "stream",
          "name": "stdout",
          "text": [
            "[CV 2/3; 28/36] END max_depth=7, max_features=1.0, max_samples=0.5, min_samples_leaf=3, n_estimators=1000;, score=0.715 total time=   3.1s\n",
            "[CV 3/3; 28/36] START max_depth=7, max_features=1.0, max_samples=0.5, min_samples_leaf=3, n_estimators=1000\n"
          ]
        },
        {
          "output_type": "stream",
          "name": "stderr",
          "text": [
            "/usr/local/lib/python3.7/dist-packages/sklearn/model_selection/_validation.py:680: DataConversionWarning: A column-vector y was passed when a 1d array was expected. Please change the shape of y to (n_samples,), for example using ravel().\n",
            "  estimator.fit(X_train, y_train, **fit_params)\n"
          ]
        },
        {
          "output_type": "stream",
          "name": "stdout",
          "text": [
            "[CV 3/3; 28/36] END max_depth=7, max_features=1.0, max_samples=0.5, min_samples_leaf=3, n_estimators=1000;, score=0.716 total time=   2.9s\n",
            "[CV 1/3; 29/36] START max_depth=7, max_features=1.0, max_samples=0.5, min_samples_leaf=10, n_estimators=100\n"
          ]
        },
        {
          "output_type": "stream",
          "name": "stderr",
          "text": [
            "/usr/local/lib/python3.7/dist-packages/sklearn/model_selection/_validation.py:680: DataConversionWarning: A column-vector y was passed when a 1d array was expected. Please change the shape of y to (n_samples,), for example using ravel().\n",
            "  estimator.fit(X_train, y_train, **fit_params)\n"
          ]
        },
        {
          "output_type": "stream",
          "name": "stdout",
          "text": [
            "[CV 1/3; 29/36] END max_depth=7, max_features=1.0, max_samples=0.5, min_samples_leaf=10, n_estimators=100;, score=0.721 total time=   0.3s\n",
            "[CV 2/3; 29/36] START max_depth=7, max_features=1.0, max_samples=0.5, min_samples_leaf=10, n_estimators=100\n"
          ]
        },
        {
          "output_type": "stream",
          "name": "stderr",
          "text": [
            "/usr/local/lib/python3.7/dist-packages/sklearn/model_selection/_validation.py:680: DataConversionWarning: A column-vector y was passed when a 1d array was expected. Please change the shape of y to (n_samples,), for example using ravel().\n",
            "  estimator.fit(X_train, y_train, **fit_params)\n"
          ]
        },
        {
          "output_type": "stream",
          "name": "stdout",
          "text": [
            "[CV 2/3; 29/36] END max_depth=7, max_features=1.0, max_samples=0.5, min_samples_leaf=10, n_estimators=100;, score=0.711 total time=   0.3s\n",
            "[CV 3/3; 29/36] START max_depth=7, max_features=1.0, max_samples=0.5, min_samples_leaf=10, n_estimators=100\n"
          ]
        },
        {
          "output_type": "stream",
          "name": "stderr",
          "text": [
            "/usr/local/lib/python3.7/dist-packages/sklearn/model_selection/_validation.py:680: DataConversionWarning: A column-vector y was passed when a 1d array was expected. Please change the shape of y to (n_samples,), for example using ravel().\n",
            "  estimator.fit(X_train, y_train, **fit_params)\n"
          ]
        },
        {
          "output_type": "stream",
          "name": "stdout",
          "text": [
            "[CV 3/3; 29/36] END max_depth=7, max_features=1.0, max_samples=0.5, min_samples_leaf=10, n_estimators=100;, score=0.715 total time=   0.3s\n",
            "[CV 1/3; 30/36] START max_depth=7, max_features=1.0, max_samples=0.5, min_samples_leaf=10, n_estimators=1000\n"
          ]
        },
        {
          "output_type": "stream",
          "name": "stderr",
          "text": [
            "/usr/local/lib/python3.7/dist-packages/sklearn/model_selection/_validation.py:680: DataConversionWarning: A column-vector y was passed when a 1d array was expected. Please change the shape of y to (n_samples,), for example using ravel().\n",
            "  estimator.fit(X_train, y_train, **fit_params)\n"
          ]
        },
        {
          "output_type": "stream",
          "name": "stdout",
          "text": [
            "[CV 1/3; 30/36] END max_depth=7, max_features=1.0, max_samples=0.5, min_samples_leaf=10, n_estimators=1000;, score=0.720 total time=   3.0s\n",
            "[CV 2/3; 30/36] START max_depth=7, max_features=1.0, max_samples=0.5, min_samples_leaf=10, n_estimators=1000\n"
          ]
        },
        {
          "output_type": "stream",
          "name": "stderr",
          "text": [
            "/usr/local/lib/python3.7/dist-packages/sklearn/model_selection/_validation.py:680: DataConversionWarning: A column-vector y was passed when a 1d array was expected. Please change the shape of y to (n_samples,), for example using ravel().\n",
            "  estimator.fit(X_train, y_train, **fit_params)\n"
          ]
        },
        {
          "output_type": "stream",
          "name": "stdout",
          "text": [
            "[CV 2/3; 30/36] END max_depth=7, max_features=1.0, max_samples=0.5, min_samples_leaf=10, n_estimators=1000;, score=0.711 total time=   3.1s\n",
            "[CV 3/3; 30/36] START max_depth=7, max_features=1.0, max_samples=0.5, min_samples_leaf=10, n_estimators=1000\n"
          ]
        },
        {
          "output_type": "stream",
          "name": "stderr",
          "text": [
            "/usr/local/lib/python3.7/dist-packages/sklearn/model_selection/_validation.py:680: DataConversionWarning: A column-vector y was passed when a 1d array was expected. Please change the shape of y to (n_samples,), for example using ravel().\n",
            "  estimator.fit(X_train, y_train, **fit_params)\n"
          ]
        },
        {
          "output_type": "stream",
          "name": "stdout",
          "text": [
            "[CV 3/3; 30/36] END max_depth=7, max_features=1.0, max_samples=0.5, min_samples_leaf=10, n_estimators=1000;, score=0.716 total time=   2.9s\n",
            "[CV 1/3; 31/36] START max_depth=7, max_features=1.0, max_samples=None, min_samples_leaf=1, n_estimators=100\n"
          ]
        },
        {
          "output_type": "stream",
          "name": "stderr",
          "text": [
            "/usr/local/lib/python3.7/dist-packages/sklearn/model_selection/_validation.py:680: DataConversionWarning: A column-vector y was passed when a 1d array was expected. Please change the shape of y to (n_samples,), for example using ravel().\n",
            "  estimator.fit(X_train, y_train, **fit_params)\n"
          ]
        },
        {
          "output_type": "stream",
          "name": "stdout",
          "text": [
            "[CV 1/3; 31/36] END max_depth=7, max_features=1.0, max_samples=None, min_samples_leaf=1, n_estimators=100;, score=0.718 total time=   0.3s\n",
            "[CV 2/3; 31/36] START max_depth=7, max_features=1.0, max_samples=None, min_samples_leaf=1, n_estimators=100\n"
          ]
        },
        {
          "output_type": "stream",
          "name": "stderr",
          "text": [
            "/usr/local/lib/python3.7/dist-packages/sklearn/model_selection/_validation.py:680: DataConversionWarning: A column-vector y was passed when a 1d array was expected. Please change the shape of y to (n_samples,), for example using ravel().\n",
            "  estimator.fit(X_train, y_train, **fit_params)\n"
          ]
        },
        {
          "output_type": "stream",
          "name": "stdout",
          "text": [
            "[CV 2/3; 31/36] END max_depth=7, max_features=1.0, max_samples=None, min_samples_leaf=1, n_estimators=100;, score=0.717 total time=   0.3s\n",
            "[CV 3/3; 31/36] START max_depth=7, max_features=1.0, max_samples=None, min_samples_leaf=1, n_estimators=100\n"
          ]
        },
        {
          "output_type": "stream",
          "name": "stderr",
          "text": [
            "/usr/local/lib/python3.7/dist-packages/sklearn/model_selection/_validation.py:680: DataConversionWarning: A column-vector y was passed when a 1d array was expected. Please change the shape of y to (n_samples,), for example using ravel().\n",
            "  estimator.fit(X_train, y_train, **fit_params)\n"
          ]
        },
        {
          "output_type": "stream",
          "name": "stdout",
          "text": [
            "[CV 3/3; 31/36] END max_depth=7, max_features=1.0, max_samples=None, min_samples_leaf=1, n_estimators=100;, score=0.716 total time=   0.3s\n",
            "[CV 1/3; 32/36] START max_depth=7, max_features=1.0, max_samples=None, min_samples_leaf=1, n_estimators=1000\n"
          ]
        },
        {
          "output_type": "stream",
          "name": "stderr",
          "text": [
            "/usr/local/lib/python3.7/dist-packages/sklearn/model_selection/_validation.py:680: DataConversionWarning: A column-vector y was passed when a 1d array was expected. Please change the shape of y to (n_samples,), for example using ravel().\n",
            "  estimator.fit(X_train, y_train, **fit_params)\n"
          ]
        },
        {
          "output_type": "stream",
          "name": "stdout",
          "text": [
            "[CV 1/3; 32/36] END max_depth=7, max_features=1.0, max_samples=None, min_samples_leaf=1, n_estimators=1000;, score=0.721 total time=   3.3s\n",
            "[CV 2/3; 32/36] START max_depth=7, max_features=1.0, max_samples=None, min_samples_leaf=1, n_estimators=1000\n"
          ]
        },
        {
          "output_type": "stream",
          "name": "stderr",
          "text": [
            "/usr/local/lib/python3.7/dist-packages/sklearn/model_selection/_validation.py:680: DataConversionWarning: A column-vector y was passed when a 1d array was expected. Please change the shape of y to (n_samples,), for example using ravel().\n",
            "  estimator.fit(X_train, y_train, **fit_params)\n"
          ]
        },
        {
          "output_type": "stream",
          "name": "stdout",
          "text": [
            "[CV 2/3; 32/36] END max_depth=7, max_features=1.0, max_samples=None, min_samples_leaf=1, n_estimators=1000;, score=0.718 total time=   3.3s\n",
            "[CV 3/3; 32/36] START max_depth=7, max_features=1.0, max_samples=None, min_samples_leaf=1, n_estimators=1000\n"
          ]
        },
        {
          "output_type": "stream",
          "name": "stderr",
          "text": [
            "/usr/local/lib/python3.7/dist-packages/sklearn/model_selection/_validation.py:680: DataConversionWarning: A column-vector y was passed when a 1d array was expected. Please change the shape of y to (n_samples,), for example using ravel().\n",
            "  estimator.fit(X_train, y_train, **fit_params)\n"
          ]
        },
        {
          "output_type": "stream",
          "name": "stdout",
          "text": [
            "[CV 3/3; 32/36] END max_depth=7, max_features=1.0, max_samples=None, min_samples_leaf=1, n_estimators=1000;, score=0.716 total time=   3.3s\n",
            "[CV 1/3; 33/36] START max_depth=7, max_features=1.0, max_samples=None, min_samples_leaf=3, n_estimators=100\n"
          ]
        },
        {
          "output_type": "stream",
          "name": "stderr",
          "text": [
            "/usr/local/lib/python3.7/dist-packages/sklearn/model_selection/_validation.py:680: DataConversionWarning: A column-vector y was passed when a 1d array was expected. Please change the shape of y to (n_samples,), for example using ravel().\n",
            "  estimator.fit(X_train, y_train, **fit_params)\n"
          ]
        },
        {
          "output_type": "stream",
          "name": "stdout",
          "text": [
            "[CV 1/3; 33/36] END max_depth=7, max_features=1.0, max_samples=None, min_samples_leaf=3, n_estimators=100;, score=0.721 total time=   0.3s\n",
            "[CV 2/3; 33/36] START max_depth=7, max_features=1.0, max_samples=None, min_samples_leaf=3, n_estimators=100\n"
          ]
        },
        {
          "output_type": "stream",
          "name": "stderr",
          "text": [
            "/usr/local/lib/python3.7/dist-packages/sklearn/model_selection/_validation.py:680: DataConversionWarning: A column-vector y was passed when a 1d array was expected. Please change the shape of y to (n_samples,), for example using ravel().\n",
            "  estimator.fit(X_train, y_train, **fit_params)\n"
          ]
        },
        {
          "output_type": "stream",
          "name": "stdout",
          "text": [
            "[CV 2/3; 33/36] END max_depth=7, max_features=1.0, max_samples=None, min_samples_leaf=3, n_estimators=100;, score=0.717 total time=   0.3s\n",
            "[CV 3/3; 33/36] START max_depth=7, max_features=1.0, max_samples=None, min_samples_leaf=3, n_estimators=100\n"
          ]
        },
        {
          "output_type": "stream",
          "name": "stderr",
          "text": [
            "/usr/local/lib/python3.7/dist-packages/sklearn/model_selection/_validation.py:680: DataConversionWarning: A column-vector y was passed when a 1d array was expected. Please change the shape of y to (n_samples,), for example using ravel().\n",
            "  estimator.fit(X_train, y_train, **fit_params)\n"
          ]
        },
        {
          "output_type": "stream",
          "name": "stdout",
          "text": [
            "[CV 3/3; 33/36] END max_depth=7, max_features=1.0, max_samples=None, min_samples_leaf=3, n_estimators=100;, score=0.717 total time=   0.3s\n",
            "[CV 1/3; 34/36] START max_depth=7, max_features=1.0, max_samples=None, min_samples_leaf=3, n_estimators=1000\n"
          ]
        },
        {
          "output_type": "stream",
          "name": "stderr",
          "text": [
            "/usr/local/lib/python3.7/dist-packages/sklearn/model_selection/_validation.py:680: DataConversionWarning: A column-vector y was passed when a 1d array was expected. Please change the shape of y to (n_samples,), for example using ravel().\n",
            "  estimator.fit(X_train, y_train, **fit_params)\n"
          ]
        },
        {
          "output_type": "stream",
          "name": "stdout",
          "text": [
            "[CV 1/3; 34/36] END max_depth=7, max_features=1.0, max_samples=None, min_samples_leaf=3, n_estimators=1000;, score=0.718 total time=   3.2s\n",
            "[CV 2/3; 34/36] START max_depth=7, max_features=1.0, max_samples=None, min_samples_leaf=3, n_estimators=1000\n"
          ]
        },
        {
          "output_type": "stream",
          "name": "stderr",
          "text": [
            "/usr/local/lib/python3.7/dist-packages/sklearn/model_selection/_validation.py:680: DataConversionWarning: A column-vector y was passed when a 1d array was expected. Please change the shape of y to (n_samples,), for example using ravel().\n",
            "  estimator.fit(X_train, y_train, **fit_params)\n"
          ]
        },
        {
          "output_type": "stream",
          "name": "stdout",
          "text": [
            "[CV 2/3; 34/36] END max_depth=7, max_features=1.0, max_samples=None, min_samples_leaf=3, n_estimators=1000;, score=0.717 total time=   3.3s\n",
            "[CV 3/3; 34/36] START max_depth=7, max_features=1.0, max_samples=None, min_samples_leaf=3, n_estimators=1000\n"
          ]
        },
        {
          "output_type": "stream",
          "name": "stderr",
          "text": [
            "/usr/local/lib/python3.7/dist-packages/sklearn/model_selection/_validation.py:680: DataConversionWarning: A column-vector y was passed when a 1d array was expected. Please change the shape of y to (n_samples,), for example using ravel().\n",
            "  estimator.fit(X_train, y_train, **fit_params)\n"
          ]
        },
        {
          "output_type": "stream",
          "name": "stdout",
          "text": [
            "[CV 3/3; 34/36] END max_depth=7, max_features=1.0, max_samples=None, min_samples_leaf=3, n_estimators=1000;, score=0.716 total time=   3.3s\n",
            "[CV 1/3; 35/36] START max_depth=7, max_features=1.0, max_samples=None, min_samples_leaf=10, n_estimators=100\n"
          ]
        },
        {
          "output_type": "stream",
          "name": "stderr",
          "text": [
            "/usr/local/lib/python3.7/dist-packages/sklearn/model_selection/_validation.py:680: DataConversionWarning: A column-vector y was passed when a 1d array was expected. Please change the shape of y to (n_samples,), for example using ravel().\n",
            "  estimator.fit(X_train, y_train, **fit_params)\n"
          ]
        },
        {
          "output_type": "stream",
          "name": "stdout",
          "text": [
            "[CV 1/3; 35/36] END max_depth=7, max_features=1.0, max_samples=None, min_samples_leaf=10, n_estimators=100;, score=0.720 total time=   0.3s\n",
            "[CV 2/3; 35/36] START max_depth=7, max_features=1.0, max_samples=None, min_samples_leaf=10, n_estimators=100\n"
          ]
        },
        {
          "output_type": "stream",
          "name": "stderr",
          "text": [
            "/usr/local/lib/python3.7/dist-packages/sklearn/model_selection/_validation.py:680: DataConversionWarning: A column-vector y was passed when a 1d array was expected. Please change the shape of y to (n_samples,), for example using ravel().\n",
            "  estimator.fit(X_train, y_train, **fit_params)\n"
          ]
        },
        {
          "output_type": "stream",
          "name": "stdout",
          "text": [
            "[CV 2/3; 35/36] END max_depth=7, max_features=1.0, max_samples=None, min_samples_leaf=10, n_estimators=100;, score=0.716 total time=   0.3s\n",
            "[CV 3/3; 35/36] START max_depth=7, max_features=1.0, max_samples=None, min_samples_leaf=10, n_estimators=100\n"
          ]
        },
        {
          "output_type": "stream",
          "name": "stderr",
          "text": [
            "/usr/local/lib/python3.7/dist-packages/sklearn/model_selection/_validation.py:680: DataConversionWarning: A column-vector y was passed when a 1d array was expected. Please change the shape of y to (n_samples,), for example using ravel().\n",
            "  estimator.fit(X_train, y_train, **fit_params)\n"
          ]
        },
        {
          "output_type": "stream",
          "name": "stdout",
          "text": [
            "[CV 3/3; 35/36] END max_depth=7, max_features=1.0, max_samples=None, min_samples_leaf=10, n_estimators=100;, score=0.715 total time=   0.3s\n",
            "[CV 1/3; 36/36] START max_depth=7, max_features=1.0, max_samples=None, min_samples_leaf=10, n_estimators=1000\n"
          ]
        },
        {
          "output_type": "stream",
          "name": "stderr",
          "text": [
            "/usr/local/lib/python3.7/dist-packages/sklearn/model_selection/_validation.py:680: DataConversionWarning: A column-vector y was passed when a 1d array was expected. Please change the shape of y to (n_samples,), for example using ravel().\n",
            "  estimator.fit(X_train, y_train, **fit_params)\n"
          ]
        },
        {
          "output_type": "stream",
          "name": "stdout",
          "text": [
            "[CV 1/3; 36/36] END max_depth=7, max_features=1.0, max_samples=None, min_samples_leaf=10, n_estimators=1000;, score=0.717 total time=   3.4s\n",
            "[CV 2/3; 36/36] START max_depth=7, max_features=1.0, max_samples=None, min_samples_leaf=10, n_estimators=1000\n"
          ]
        },
        {
          "output_type": "stream",
          "name": "stderr",
          "text": [
            "/usr/local/lib/python3.7/dist-packages/sklearn/model_selection/_validation.py:680: DataConversionWarning: A column-vector y was passed when a 1d array was expected. Please change the shape of y to (n_samples,), for example using ravel().\n",
            "  estimator.fit(X_train, y_train, **fit_params)\n"
          ]
        },
        {
          "output_type": "stream",
          "name": "stdout",
          "text": [
            "[CV 2/3; 36/36] END max_depth=7, max_features=1.0, max_samples=None, min_samples_leaf=10, n_estimators=1000;, score=0.717 total time=   3.3s\n",
            "[CV 3/3; 36/36] START max_depth=7, max_features=1.0, max_samples=None, min_samples_leaf=10, n_estimators=1000\n"
          ]
        },
        {
          "output_type": "stream",
          "name": "stderr",
          "text": [
            "/usr/local/lib/python3.7/dist-packages/sklearn/model_selection/_validation.py:680: DataConversionWarning: A column-vector y was passed when a 1d array was expected. Please change the shape of y to (n_samples,), for example using ravel().\n",
            "  estimator.fit(X_train, y_train, **fit_params)\n"
          ]
        },
        {
          "output_type": "stream",
          "name": "stdout",
          "text": [
            "[CV 3/3; 36/36] END max_depth=7, max_features=1.0, max_samples=None, min_samples_leaf=10, n_estimators=1000;, score=0.718 total time=   3.2s\n"
          ]
        },
        {
          "output_type": "stream",
          "name": "stderr",
          "text": [
            "/usr/local/lib/python3.7/dist-packages/sklearn/model_selection/_search.py:926: DataConversionWarning: A column-vector y was passed when a 1d array was expected. Please change the shape of y to (n_samples,), for example using ravel().\n",
            "  self.best_estimator_.fit(X, y, **fit_params)\n"
          ]
        },
        {
          "output_type": "execute_result",
          "data": {
            "text/plain": [
              "GridSearchCV(cv=3, estimator=RandomForestClassifier(),\n",
              "             param_grid={'max_depth': [7], 'max_features': [0.1, 0.5, 1.0],\n",
              "                         'max_samples': [0.5, None],\n",
              "                         'min_samples_leaf': [1, 3, 10],\n",
              "                         'n_estimators': [100, 1000]},\n",
              "             verbose=10)"
            ]
          },
          "metadata": {},
          "execution_count": 69
        }
      ]
    },
    {
      "cell_type": "code",
      "source": [
        "grid_search.best_params_"
      ],
      "metadata": {
        "id": "TcCMKMK5hLBP",
        "outputId": "45deb2db-7eb0-4dba-c285-2adb894563a4",
        "colab": {
          "base_uri": "https://localhost:8080/"
        }
      },
      "execution_count": 70,
      "outputs": [
        {
          "output_type": "execute_result",
          "data": {
            "text/plain": [
              "{'max_depth': 7,\n",
              " 'max_features': 1.0,\n",
              " 'max_samples': 0.5,\n",
              " 'min_samples_leaf': 1,\n",
              " 'n_estimators': 100}"
            ]
          },
          "metadata": {},
          "execution_count": 70
        }
      ]
    },
    {
      "cell_type": "code",
      "source": [
        "# Run the model using the parameters found from the grid search\n",
        "rf_model_meta = RandomForestClassifier(criterion='gini',max_depth=7, min_samples_leaf=1,n_estimators=100,\n",
        "                                 max_features=1,max_samples=0.5,random_state=0)\n",
        "rf_model_meta.fit(X_train_meta, y_train_meta)"
      ],
      "metadata": {
        "id": "cRq3FfCxhScw",
        "outputId": "ace555c8-bedd-450e-8ee1-959e823a3d4a",
        "colab": {
          "base_uri": "https://localhost:8080/"
        }
      },
      "execution_count": 71,
      "outputs": [
        {
          "output_type": "stream",
          "name": "stderr",
          "text": [
            "/usr/local/lib/python3.7/dist-packages/ipykernel_launcher.py:4: DataConversionWarning: A column-vector y was passed when a 1d array was expected. Please change the shape of y to (n_samples,), for example using ravel().\n",
            "  after removing the cwd from sys.path.\n"
          ]
        },
        {
          "output_type": "execute_result",
          "data": {
            "text/plain": [
              "RandomForestClassifier(max_depth=7, max_features=1, max_samples=0.5,\n",
              "                       random_state=0)"
            ]
          },
          "metadata": {},
          "execution_count": 71
        }
      ]
    },
    {
      "cell_type": "code",
      "source": [
        "test_preds = rf_model_meta.predict(X_test_meta).reshape(len(X_test_meta),1)\n",
        "test_acc = np.sum(test_preds==y_test_meta)/len(y_test_meta)\n"
      ],
      "metadata": {
        "id": "wvk7OWA1hrxy"
      },
      "execution_count": 74,
      "outputs": []
    },
    {
      "cell_type": "code",
      "source": [
        "test_acc"
      ],
      "metadata": {
        "id": "lleZnPRniuaB"
      },
      "execution_count": null,
      "outputs": []
    },
    {
      "cell_type": "code",
      "source": [
        "def calc_feature_importances(model,feat_names,num_to_show):\n",
        "    # Determine the relative importance of each feature using the random forest model\n",
        "    importances = model.feature_importances_\n",
        "    # Get an array of the indices that would sort \"importances\" in reverse order to get largest to smallest\n",
        "    indices = np.argsort(importances)[::-1]\n",
        "    ranked_feats = []\n",
        "    for i in range(len(indices)):\n",
        "        feat_name = feat_names[indices[i]]\n",
        "        ranked_feats.append(feat_name)\n",
        "    RF_ranking = pd.DataFrame()\n",
        "    RF_ranking['Feat Index'] = indices\n",
        "    RF_ranking['Feature'] = ranked_feats\n",
        "    RF_ranking['Importance'] = np.sort(importances)[::-1]\n",
        "    display(RF_ranking.iloc[:num_to_show,:])\n",
        "\n",
        "    # Plot the importance value for each feature\n",
        "    RF_ranking[:num_to_show][::-1].plot(x='Feature',y='Importance',kind='barh',figsize=(12,7),legend=False,title='RF Feature Importance')\n",
        "    plt.show()\n",
        "    return"
      ],
      "metadata": {
        "id": "GJUxdLS5i6Eh"
      },
      "execution_count": 79,
      "outputs": []
    },
    {
      "cell_type": "code",
      "source": [
        "top_feats = 30\n",
        "calc_feature_importances(rf_model_meta,X_test_meta.columns,top_feats)"
      ],
      "metadata": {
        "id": "sWHABd-Xi-B0",
        "outputId": "ca11d4e6-0e48-49ff-b65f-fab282d0f5dc",
        "colab": {
          "base_uri": "https://localhost:8080/",
          "height": 601
        }
      },
      "execution_count": 80,
      "outputs": [
        {
          "output_type": "display_data",
          "data": {
            "text/plain": [
              "   Feat Index       Feature  Importance\n",
              "0           0       dx_type    0.408924\n",
              "1           3      ageGroup    0.367154\n",
              "2           2  localization    0.204911\n",
              "3           1           sex    0.019012"
            ],
            "text/html": [
              "\n",
              "  <div id=\"df-c52bdf8f-cb67-4156-a72f-e89b87cea596\">\n",
              "    <div class=\"colab-df-container\">\n",
              "      <div>\n",
              "<style scoped>\n",
              "    .dataframe tbody tr th:only-of-type {\n",
              "        vertical-align: middle;\n",
              "    }\n",
              "\n",
              "    .dataframe tbody tr th {\n",
              "        vertical-align: top;\n",
              "    }\n",
              "\n",
              "    .dataframe thead th {\n",
              "        text-align: right;\n",
              "    }\n",
              "</style>\n",
              "<table border=\"1\" class=\"dataframe\">\n",
              "  <thead>\n",
              "    <tr style=\"text-align: right;\">\n",
              "      <th></th>\n",
              "      <th>Feat Index</th>\n",
              "      <th>Feature</th>\n",
              "      <th>Importance</th>\n",
              "    </tr>\n",
              "  </thead>\n",
              "  <tbody>\n",
              "    <tr>\n",
              "      <th>0</th>\n",
              "      <td>0</td>\n",
              "      <td>dx_type</td>\n",
              "      <td>0.408924</td>\n",
              "    </tr>\n",
              "    <tr>\n",
              "      <th>1</th>\n",
              "      <td>3</td>\n",
              "      <td>ageGroup</td>\n",
              "      <td>0.367154</td>\n",
              "    </tr>\n",
              "    <tr>\n",
              "      <th>2</th>\n",
              "      <td>2</td>\n",
              "      <td>localization</td>\n",
              "      <td>0.204911</td>\n",
              "    </tr>\n",
              "    <tr>\n",
              "      <th>3</th>\n",
              "      <td>1</td>\n",
              "      <td>sex</td>\n",
              "      <td>0.019012</td>\n",
              "    </tr>\n",
              "  </tbody>\n",
              "</table>\n",
              "</div>\n",
              "      <button class=\"colab-df-convert\" onclick=\"convertToInteractive('df-c52bdf8f-cb67-4156-a72f-e89b87cea596')\"\n",
              "              title=\"Convert this dataframe to an interactive table.\"\n",
              "              style=\"display:none;\">\n",
              "        \n",
              "  <svg xmlns=\"http://www.w3.org/2000/svg\" height=\"24px\"viewBox=\"0 0 24 24\"\n",
              "       width=\"24px\">\n",
              "    <path d=\"M0 0h24v24H0V0z\" fill=\"none\"/>\n",
              "    <path d=\"M18.56 5.44l.94 2.06.94-2.06 2.06-.94-2.06-.94-.94-2.06-.94 2.06-2.06.94zm-11 1L8.5 8.5l.94-2.06 2.06-.94-2.06-.94L8.5 2.5l-.94 2.06-2.06.94zm10 10l.94 2.06.94-2.06 2.06-.94-2.06-.94-.94-2.06-.94 2.06-2.06.94z\"/><path d=\"M17.41 7.96l-1.37-1.37c-.4-.4-.92-.59-1.43-.59-.52 0-1.04.2-1.43.59L10.3 9.45l-7.72 7.72c-.78.78-.78 2.05 0 2.83L4 21.41c.39.39.9.59 1.41.59.51 0 1.02-.2 1.41-.59l7.78-7.78 2.81-2.81c.8-.78.8-2.07 0-2.86zM5.41 20L4 18.59l7.72-7.72 1.47 1.35L5.41 20z\"/>\n",
              "  </svg>\n",
              "      </button>\n",
              "      \n",
              "  <style>\n",
              "    .colab-df-container {\n",
              "      display:flex;\n",
              "      flex-wrap:wrap;\n",
              "      gap: 12px;\n",
              "    }\n",
              "\n",
              "    .colab-df-convert {\n",
              "      background-color: #E8F0FE;\n",
              "      border: none;\n",
              "      border-radius: 50%;\n",
              "      cursor: pointer;\n",
              "      display: none;\n",
              "      fill: #1967D2;\n",
              "      height: 32px;\n",
              "      padding: 0 0 0 0;\n",
              "      width: 32px;\n",
              "    }\n",
              "\n",
              "    .colab-df-convert:hover {\n",
              "      background-color: #E2EBFA;\n",
              "      box-shadow: 0px 1px 2px rgba(60, 64, 67, 0.3), 0px 1px 3px 1px rgba(60, 64, 67, 0.15);\n",
              "      fill: #174EA6;\n",
              "    }\n",
              "\n",
              "    [theme=dark] .colab-df-convert {\n",
              "      background-color: #3B4455;\n",
              "      fill: #D2E3FC;\n",
              "    }\n",
              "\n",
              "    [theme=dark] .colab-df-convert:hover {\n",
              "      background-color: #434B5C;\n",
              "      box-shadow: 0px 1px 3px 1px rgba(0, 0, 0, 0.15);\n",
              "      filter: drop-shadow(0px 1px 2px rgba(0, 0, 0, 0.3));\n",
              "      fill: #FFFFFF;\n",
              "    }\n",
              "  </style>\n",
              "\n",
              "      <script>\n",
              "        const buttonEl =\n",
              "          document.querySelector('#df-c52bdf8f-cb67-4156-a72f-e89b87cea596 button.colab-df-convert');\n",
              "        buttonEl.style.display =\n",
              "          google.colab.kernel.accessAllowed ? 'block' : 'none';\n",
              "\n",
              "        async function convertToInteractive(key) {\n",
              "          const element = document.querySelector('#df-c52bdf8f-cb67-4156-a72f-e89b87cea596');\n",
              "          const dataTable =\n",
              "            await google.colab.kernel.invokeFunction('convertToInteractive',\n",
              "                                                     [key], {});\n",
              "          if (!dataTable) return;\n",
              "\n",
              "          const docLinkHtml = 'Like what you see? Visit the ' +\n",
              "            '<a target=\"_blank\" href=https://colab.research.google.com/notebooks/data_table.ipynb>data table notebook</a>'\n",
              "            + ' to learn more about interactive tables.';\n",
              "          element.innerHTML = '';\n",
              "          dataTable['output_type'] = 'display_data';\n",
              "          await google.colab.output.renderOutput(dataTable, element);\n",
              "          const docLink = document.createElement('div');\n",
              "          docLink.innerHTML = docLinkHtml;\n",
              "          element.appendChild(docLink);\n",
              "        }\n",
              "      </script>\n",
              "    </div>\n",
              "  </div>\n",
              "  "
            ]
          },
          "metadata": {}
        },
        {
          "output_type": "display_data",
          "data": {
            "text/plain": [
              "<Figure size 864x504 with 1 Axes>"
            ],
            "image/png": "[encoded data removed]"
          },
          "metadata": {
            "needs_background": "light"
          }
        }
      ]
    }
  ]
}