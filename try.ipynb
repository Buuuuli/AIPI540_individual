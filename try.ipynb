{
  "nbformat": 4,
  "nbformat_minor": 0,
  "metadata": {
    "colab": {
      "name": "Untitled5.ipynb",
      "provenance": [],
      "authorship_tag": "ABX9TyPU5vNuYravDfxJbAnJ6z1w",
      "include_colab_link": true
    },
    "kernelspec": {
      "name": "python3",
      "display_name": "Python 3"
    },
    "language_info": {
      "name": "python"
    },
    "accelerator": "GPU"
  },
  "cells": [
    {
      "cell_type": "markdown",
      "metadata": {
        "id": "view-in-github",
        "colab_type": "text"
      },
      "source": [
        "<a href=\"https://colab.research.google.com/github/Buuuuli/AIPI540_individual/blob/main/try.ipynb\" target=\"_parent\"><img src=\"https://colab.research.google.com/assets/colab-badge.svg\" alt=\"Open In Colab\"/></a>"
      ]
    },
    {
      "cell_type": "code",
      "execution_count": 1,
      "metadata": {
        "colab": {
          "base_uri": "https://localhost:8080/"
        },
        "id": "oVO59Z87vlcY",
        "outputId": "00c2d457-3c65-4149-f381-5d9d6e0200c7"
      },
      "outputs": [
        {
          "output_type": "stream",
          "name": "stdout",
          "text": [
            "Mounted at /content/drive\n"
          ]
        }
      ],
      "source": [
        "from os.path import join\n",
        "from google.colab import drive\n",
        "\n",
        "ROOT = \"/content/drive\"\n",
        "drive.mount(ROOT, force_remount=False)"
      ]
    },
    {
      "cell_type": "code",
      "source": [
        "#PROJ =\"MyDrive/repos\"\n",
        "#PROJECT_PATH = join(ROOT, PROJ)\n",
        "#!mkdir \"PROJECT_PATH\""
      ],
      "metadata": {
        "id": "wpZAVlC2vt3n"
      },
      "execution_count": null,
      "outputs": []
    },
    {
      "cell_type": "code",
      "source": [
        "!ls"
      ],
      "metadata": {
        "colab": {
          "base_uri": "https://localhost:8080/"
        },
        "id": "4_ExL1gSvt5x",
        "outputId": "5ec85602-62be-46d7-c657-e2c79c805f1e"
      },
      "execution_count": 2,
      "outputs": [
        {
          "output_type": "stream",
          "name": "stdout",
          "text": [
            "drive  sample_data\n"
          ]
        }
      ]
    },
    {
      "cell_type": "code",
      "source": [
        "%cd /content/drive/\"My Drive\"/AIPI540"
      ],
      "metadata": {
        "colab": {
          "base_uri": "https://localhost:8080/"
        },
        "id": "srqjyPn4vt7f",
        "outputId": "8965c91e-284f-4a5c-99c1-59c3e932faca"
      },
      "execution_count": 3,
      "outputs": [
        {
          "output_type": "stream",
          "name": "stdout",
          "text": [
            "/content/drive/My Drive/AIPI540\n"
          ]
        }
      ]
    },
    {
      "cell_type": "code",
      "source": [
        "import os\n",
        "import urllib.request\n",
        "import zipfile\n",
        "import copy\n",
        "import time\n",
        "import numpy as np\n",
        "import pandas as pd\n",
        "import torch\n",
        "from torchvision import datasets, transforms\n",
        "import torchvision\n",
        "from torch.utils.data import DataLoader, TensorDataset\n",
        "import torch.nn as nn\n",
        "import torch.nn.functional as F\n",
        "import torch.optim as optim\n",
        "from torchvision.datasets import FashionMNIST\n",
        "from torchsummary import summary\n",
        "import cv2 as cv\n",
        "import glob\n",
        "from PIL import Image\n",
        "import pickle as pkl\n",
        "from tqdm import tqdm"
      ],
      "metadata": {
        "id": "n4c9ECsa6fw6"
      },
      "execution_count": 4,
      "outputs": []
    },
    {
      "cell_type": "code",
      "source": [
        "# check what types of image we get\n",
        "#set the image directory\n",
        "files = os.listdir(\"./image/\")\n",
        "# print the types of image\n",
        "print(set([x.split(\".\")[1] for x in files]))\n"
      ],
      "metadata": {
        "id": "sDkJeDUI6f56",
        "outputId": "58145c9b-8602-4694-9a78-5e456536009c",
        "colab": {
          "base_uri": "https://localhost:8080/"
        }
      },
      "execution_count": 5,
      "outputs": [
        {
          "output_type": "stream",
          "name": "stdout",
          "text": [
            "{'jpg'}\n"
          ]
        }
      ]
    },
    {
      "cell_type": "code",
      "source": [
        "# prepare the directory for each image type\n",
        "extensions = (\"*.jpg\")\n",
        "path = []\n",
        "for extension in extensions:\n",
        "    path.extend(glob.glob(\"./image/\"+extension))"
      ],
      "metadata": {
        "id": "4wY5KZeT6f8n"
      },
      "execution_count": 6,
      "outputs": []
    },
    {
      "cell_type": "code",
      "source": [
        "# read data\n",
        "cv_img = []\n",
        "for img in tqdm(path):\n",
        "    # read image > to Tensor > permute the data > resize > flatten\n",
        "    n = torch.tensor(cv.imread(img))\n",
        "    cv_img.append(n)"
      ],
      "metadata": {
        "id": "-n6xyPMK6f-4",
        "outputId": "f1e37fd8-9813-4cdf-b8a4-991bafd771aa",
        "colab": {
          "base_uri": "https://localhost:8080/"
        }
      },
      "execution_count": null,
      "outputs": [
        {
          "output_type": "stream",
          "name": "stderr",
          "text": [
            "\r  0%|          | 0/10016 [00:00<?, ?it/s]"
          ]
        }
      ]
    },
    {
      "cell_type": "code",
      "source": [
        "cv_img[2]"
      ],
      "metadata": {
        "id": "Xxi2kR80CzmT",
        "outputId": "8ebf5d0c-6815-4597-f378-43e4c316a97a",
        "colab": {
          "base_uri": "https://localhost:8080/"
        }
      },
      "execution_count": 10,
      "outputs": [
        {
          "output_type": "execute_result",
          "data": {
            "text/plain": [
              "array([[[205, 169, 185],\n",
              "        [207, 172, 186],\n",
              "        [210, 176, 187],\n",
              "        ...,\n",
              "        [187, 150, 176],\n",
              "        [183, 148, 174],\n",
              "        [176, 145, 174]],\n",
              "\n",
              "       [[202, 171, 186],\n",
              "        [206, 175, 184],\n",
              "        [208, 172, 186],\n",
              "        ...,\n",
              "        [182, 147, 174],\n",
              "        [181, 147, 171],\n",
              "        [176, 144, 175]],\n",
              "\n",
              "       [[204, 171, 185],\n",
              "        [204, 171, 185],\n",
              "        [207, 171, 185],\n",
              "        ...,\n",
              "        [178, 147, 174],\n",
              "        [179, 142, 174],\n",
              "        [177, 142, 176]],\n",
              "\n",
              "       ...,\n",
              "\n",
              "       [[201, 171, 190],\n",
              "        [199, 171, 190],\n",
              "        [197, 170, 186],\n",
              "        ...,\n",
              "        [171, 132, 178],\n",
              "        [169, 131, 179],\n",
              "        [168, 132, 176]],\n",
              "\n",
              "       [[204, 173, 188],\n",
              "        [201, 174, 190],\n",
              "        [205, 170, 190],\n",
              "        ...,\n",
              "        [178, 139, 184],\n",
              "        [175, 139, 183],\n",
              "        [172, 138, 178]],\n",
              "\n",
              "       [[205, 171, 188],\n",
              "        [204, 172, 191],\n",
              "        [206, 170, 192],\n",
              "        ...,\n",
              "        [180, 145, 185],\n",
              "        [181, 142, 187],\n",
              "        [180, 138, 185]]], dtype=uint8)"
            ]
          },
          "metadata": {},
          "execution_count": 10
        }
      ]
    },
    {
      "cell_type": "code",
      "source": [
        "url = 'https://raw.github.com/Buuuuli/AIPI540_individual/blob/main/metadata/tidy_data.csv'\n",
        "df = pd.read_csv(url, index_col=0)\n",
        "print(df.head(5))"
      ],
      "metadata": {
        "id": "z2I-8vJDCzow"
      },
      "execution_count": null,
      "outputs": []
    },
    {
      "cell_type": "code",
      "source": [
        ""
      ],
      "metadata": {
        "id": "Hbi7UD9gC0FL"
      },
      "execution_count": null,
      "outputs": []
    },
    {
      "cell_type": "code",
      "source": [
        ""
      ],
      "metadata": {
        "id": "aea1c9XdC0Hk"
      },
      "execution_count": null,
      "outputs": []
    },
    {
      "cell_type": "code",
      "source": [
        "with open('./read_imgs.pkl','wb') as fp:\n",
        "  pkl.dump(cv_img,fp)"
      ],
      "metadata": {
        "id": "gWTvyEgP6gBP"
      },
      "execution_count": null,
      "outputs": []
    }
  ]
}