{
  "nbformat": 4,
  "nbformat_minor": 0,
  "metadata": {
    "colab": {
      "name": "Untitled5.ipynb",
      "provenance": [],
      "machine_shape": "hm",
      "authorship_tag": "ABX9TyMpIK5pwuYuzKCEcAiM87jj",
      "include_colab_link": true
    },
    "kernelspec": {
      "name": "python3",
      "display_name": "Python 3"
    },
    "language_info": {
      "name": "python"
    },
    "accelerator": "GPU",
    "widgets": {
      "application/vnd.jupyter.widget-state+json": {
        "8a5e9f2fdac04aa09155321bec0dd2e5": {
          "model_module": "@jupyter-widgets/controls",
          "model_name": "HBoxModel",
          "model_module_version": "1.5.0",
          "state": {
            "_dom_classes": [],
            "_model_module": "@jupyter-widgets/controls",
            "_model_module_version": "1.5.0",
            "_model_name": "HBoxModel",
            "_view_count": null,
            "_view_module": "@jupyter-widgets/controls",
            "_view_module_version": "1.5.0",
            "_view_name": "HBoxView",
            "box_style": "",
            "children": [
              "IPY_MODEL_c7d9384da63944cf9ef3e81caf4043ca",
              "IPY_MODEL_11519d8894cc4c188624425c27c7f8f6",
              "IPY_MODEL_d4c811d193e74e5ab749ed61374d490a"
            ],
            "layout": "IPY_MODEL_39cf558cb48c4fcaadfc8f31f393ad6c"
          }
        },
        "c7d9384da63944cf9ef3e81caf4043ca": {
          "model_module": "@jupyter-widgets/controls",
          "model_name": "HTMLModel",
          "model_module_version": "1.5.0",
          "state": {
            "_dom_classes": [],
            "_model_module": "@jupyter-widgets/controls",
            "_model_module_version": "1.5.0",
            "_model_name": "HTMLModel",
            "_view_count": null,
            "_view_module": "@jupyter-widgets/controls",
            "_view_module_version": "1.5.0",
            "_view_name": "HTMLView",
            "description": "",
            "description_tooltip": null,
            "layout": "IPY_MODEL_9b5b16984f854706823f1b6f5cfbf0d8",
            "placeholder": "​",
            "style": "IPY_MODEL_f756db424e514d87bc80fc5f11c35ddc",
            "value": "100%"
          }
        },
        "11519d8894cc4c188624425c27c7f8f6": {
          "model_module": "@jupyter-widgets/controls",
          "model_name": "FloatProgressModel",
          "model_module_version": "1.5.0",
          "state": {
            "_dom_classes": [],
            "_model_module": "@jupyter-widgets/controls",
            "_model_module_version": "1.5.0",
            "_model_name": "FloatProgressModel",
            "_view_count": null,
            "_view_module": "@jupyter-widgets/controls",
            "_view_module_version": "1.5.0",
            "_view_name": "ProgressView",
            "bar_style": "success",
            "description": "",
            "description_tooltip": null,
            "layout": "IPY_MODEL_ee5f3ae4f98d4a7494c4bd689fe1ae9c",
            "max": 46830571,
            "min": 0,
            "orientation": "horizontal",
            "style": "IPY_MODEL_d4483ddb6dad4e52acf2513764c0fb53",
            "value": 46830571
          }
        },
        "d4c811d193e74e5ab749ed61374d490a": {
          "model_module": "@jupyter-widgets/controls",
          "model_name": "HTMLModel",
          "model_module_version": "1.5.0",
          "state": {
            "_dom_classes": [],
            "_model_module": "@jupyter-widgets/controls",
            "_model_module_version": "1.5.0",
            "_model_name": "HTMLModel",
            "_view_count": null,
            "_view_module": "@jupyter-widgets/controls",
            "_view_module_version": "1.5.0",
            "_view_name": "HTMLView",
            "description": "",
            "description_tooltip": null,
            "layout": "IPY_MODEL_43724fe177884cae91e11e6dd1a60fdf",
            "placeholder": "​",
            "style": "IPY_MODEL_7d7f7b57e08e4cc6b97cbbc136dec4f2",
            "value": " 44.7M/44.7M [00:00&lt;00:00, 130MB/s]"
          }
        },
        "39cf558cb48c4fcaadfc8f31f393ad6c": {
          "model_module": "@jupyter-widgets/base",
          "model_name": "LayoutModel",
          "model_module_version": "1.2.0",
          "state": {
            "_model_module": "@jupyter-widgets/base",
            "_model_module_version": "1.2.0",
            "_model_name": "LayoutModel",
            "_view_count": null,
            "_view_module": "@jupyter-widgets/base",
            "_view_module_version": "1.2.0",
            "_view_name": "LayoutView",
            "align_content": null,
            "align_items": null,
            "align_self": null,
            "border": null,
            "bottom": null,
            "display": null,
            "flex": null,
            "flex_flow": null,
            "grid_area": null,
            "grid_auto_columns": null,
            "grid_auto_flow": null,
            "grid_auto_rows": null,
            "grid_column": null,
            "grid_gap": null,
            "grid_row": null,
            "grid_template_areas": null,
            "grid_template_columns": null,
            "grid_template_rows": null,
            "height": null,
            "justify_content": null,
            "justify_items": null,
            "left": null,
            "margin": null,
            "max_height": null,
            "max_width": null,
            "min_height": null,
            "min_width": null,
            "object_fit": null,
            "object_position": null,
            "order": null,
            "overflow": null,
            "overflow_x": null,
            "overflow_y": null,
            "padding": null,
            "right": null,
            "top": null,
            "visibility": null,
            "width": null
          }
        },
        "9b5b16984f854706823f1b6f5cfbf0d8": {
          "model_module": "@jupyter-widgets/base",
          "model_name": "LayoutModel",
          "model_module_version": "1.2.0",
          "state": {
            "_model_module": "@jupyter-widgets/base",
            "_model_module_version": "1.2.0",
            "_model_name": "LayoutModel",
            "_view_count": null,
            "_view_module": "@jupyter-widgets/base",
            "_view_module_version": "1.2.0",
            "_view_name": "LayoutView",
            "align_content": null,
            "align_items": null,
            "align_self": null,
            "border": null,
            "bottom": null,
            "display": null,
            "flex": null,
            "flex_flow": null,
            "grid_area": null,
            "grid_auto_columns": null,
            "grid_auto_flow": null,
            "grid_auto_rows": null,
            "grid_column": null,
            "grid_gap": null,
            "grid_row": null,
            "grid_template_areas": null,
            "grid_template_columns": null,
            "grid_template_rows": null,
            "height": null,
            "justify_content": null,
            "justify_items": null,
            "left": null,
            "margin": null,
            "max_height": null,
            "max_width": null,
            "min_height": null,
            "min_width": null,
            "object_fit": null,
            "object_position": null,
            "order": null,
            "overflow": null,
            "overflow_x": null,
            "overflow_y": null,
            "padding": null,
            "right": null,
            "top": null,
            "visibility": null,
            "width": null
          }
        },
        "f756db424e514d87bc80fc5f11c35ddc": {
          "model_module": "@jupyter-widgets/controls",
          "model_name": "DescriptionStyleModel",
          "model_module_version": "1.5.0",
          "state": {
            "_model_module": "@jupyter-widgets/controls",
            "_model_module_version": "1.5.0",
            "_model_name": "DescriptionStyleModel",
            "_view_count": null,
            "_view_module": "@jupyter-widgets/base",
            "_view_module_version": "1.2.0",
            "_view_name": "StyleView",
            "description_width": ""
          }
        },
        "ee5f3ae4f98d4a7494c4bd689fe1ae9c": {
          "model_module": "@jupyter-widgets/base",
          "model_name": "LayoutModel",
          "model_module_version": "1.2.0",
          "state": {
            "_model_module": "@jupyter-widgets/base",
            "_model_module_version": "1.2.0",
            "_model_name": "LayoutModel",
            "_view_count": null,
            "_view_module": "@jupyter-widgets/base",
            "_view_module_version": "1.2.0",
            "_view_name": "LayoutView",
            "align_content": null,
            "align_items": null,
            "align_self": null,
            "border": null,
            "bottom": null,
            "display": null,
            "flex": null,
            "flex_flow": null,
            "grid_area": null,
            "grid_auto_columns": null,
            "grid_auto_flow": null,
            "grid_auto_rows": null,
            "grid_column": null,
            "grid_gap": null,
            "grid_row": null,
            "grid_template_areas": null,
            "grid_template_columns": null,
            "grid_template_rows": null,
            "height": null,
            "justify_content": null,
            "justify_items": null,
            "left": null,
            "margin": null,
            "max_height": null,
            "max_width": null,
            "min_height": null,
            "min_width": null,
            "object_fit": null,
            "object_position": null,
            "order": null,
            "overflow": null,
            "overflow_x": null,
            "overflow_y": null,
            "padding": null,
            "right": null,
            "top": null,
            "visibility": null,
            "width": null
          }
        },
        "d4483ddb6dad4e52acf2513764c0fb53": {
          "model_module": "@jupyter-widgets/controls",
          "model_name": "ProgressStyleModel",
          "model_module_version": "1.5.0",
          "state": {
            "_model_module": "@jupyter-widgets/controls",
            "_model_module_version": "1.5.0",
            "_model_name": "ProgressStyleModel",
            "_view_count": null,
            "_view_module": "@jupyter-widgets/base",
            "_view_module_version": "1.2.0",
            "_view_name": "StyleView",
            "bar_color": null,
            "description_width": ""
          }
        },
        "43724fe177884cae91e11e6dd1a60fdf": {
          "model_module": "@jupyter-widgets/base",
          "model_name": "LayoutModel",
          "model_module_version": "1.2.0",
          "state": {
            "_model_module": "@jupyter-widgets/base",
            "_model_module_version": "1.2.0",
            "_model_name": "LayoutModel",
            "_view_count": null,
            "_view_module": "@jupyter-widgets/base",
            "_view_module_version": "1.2.0",
            "_view_name": "LayoutView",
            "align_content": null,
            "align_items": null,
            "align_self": null,
            "border": null,
            "bottom": null,
            "display": null,
            "flex": null,
            "flex_flow": null,
            "grid_area": null,
            "grid_auto_columns": null,
            "grid_auto_flow": null,
            "grid_auto_rows": null,
            "grid_column": null,
            "grid_gap": null,
            "grid_row": null,
            "grid_template_areas": null,
            "grid_template_columns": null,
            "grid_template_rows": null,
            "height": null,
            "justify_content": null,
            "justify_items": null,
            "left": null,
            "margin": null,
            "max_height": null,
            "max_width": null,
            "min_height": null,
            "min_width": null,
            "object_fit": null,
            "object_position": null,
            "order": null,
            "overflow": null,
            "overflow_x": null,
            "overflow_y": null,
            "padding": null,
            "right": null,
            "top": null,
            "visibility": null,
            "width": null
          }
        },
        "7d7f7b57e08e4cc6b97cbbc136dec4f2": {
          "model_module": "@jupyter-widgets/controls",
          "model_name": "DescriptionStyleModel",
          "model_module_version": "1.5.0",
          "state": {
            "_model_module": "@jupyter-widgets/controls",
            "_model_module_version": "1.5.0",
            "_model_name": "DescriptionStyleModel",
            "_view_count": null,
            "_view_module": "@jupyter-widgets/base",
            "_view_module_version": "1.2.0",
            "_view_name": "StyleView",
            "description_width": ""
          }
        },
        "ffe14334089144c7bd9c86810c645ecd": {
          "model_module": "@jupyter-widgets/controls",
          "model_name": "HBoxModel",
          "model_module_version": "1.5.0",
          "state": {
            "_dom_classes": [],
            "_model_module": "@jupyter-widgets/controls",
            "_model_module_version": "1.5.0",
            "_model_name": "HBoxModel",
            "_view_count": null,
            "_view_module": "@jupyter-widgets/controls",
            "_view_module_version": "1.5.0",
            "_view_name": "HBoxView",
            "box_style": "",
            "children": [
              "IPY_MODEL_19d3c457b2c24441a98d3b5075e9ef49",
              "IPY_MODEL_bd4f6b0d8a2e4e79ad77f72a6b89f2a3",
              "IPY_MODEL_cc66233def184ebaaae06f80b7208005"
            ],
            "layout": "IPY_MODEL_b4e2959b0b8844f3b824559217d3af2f"
          }
        },
        "19d3c457b2c24441a98d3b5075e9ef49": {
          "model_module": "@jupyter-widgets/controls",
          "model_name": "HTMLModel",
          "model_module_version": "1.5.0",
          "state": {
            "_dom_classes": [],
            "_model_module": "@jupyter-widgets/controls",
            "_model_module_version": "1.5.0",
            "_model_name": "HTMLModel",
            "_view_count": null,
            "_view_module": "@jupyter-widgets/controls",
            "_view_module_version": "1.5.0",
            "_view_name": "HTMLView",
            "description": "",
            "description_tooltip": null,
            "layout": "IPY_MODEL_2540e4d190c849719ca889a7733f91a0",
            "placeholder": "​",
            "style": "IPY_MODEL_39cfc8b805b24db1a7e7e6fdeb9ea594",
            "value": "100%"
          }
        },
        "bd4f6b0d8a2e4e79ad77f72a6b89f2a3": {
          "model_module": "@jupyter-widgets/controls",
          "model_name": "FloatProgressModel",
          "model_module_version": "1.5.0",
          "state": {
            "_dom_classes": [],
            "_model_module": "@jupyter-widgets/controls",
            "_model_module_version": "1.5.0",
            "_model_name": "FloatProgressModel",
            "_view_count": null,
            "_view_module": "@jupyter-widgets/controls",
            "_view_module_version": "1.5.0",
            "_view_name": "ProgressView",
            "bar_style": "success",
            "description": "",
            "description_tooltip": null,
            "layout": "IPY_MODEL_3acc3119f1294b38bfa9f75dce5af265",
            "max": 10016,
            "min": 0,
            "orientation": "horizontal",
            "style": "IPY_MODEL_6d464b2ab4f446d382b0d076882dcecb",
            "value": 10016
          }
        },
        "cc66233def184ebaaae06f80b7208005": {
          "model_module": "@jupyter-widgets/controls",
          "model_name": "HTMLModel",
          "model_module_version": "1.5.0",
          "state": {
            "_dom_classes": [],
            "_model_module": "@jupyter-widgets/controls",
            "_model_module_version": "1.5.0",
            "_model_name": "HTMLModel",
            "_view_count": null,
            "_view_module": "@jupyter-widgets/controls",
            "_view_module_version": "1.5.0",
            "_view_name": "HTMLView",
            "description": "",
            "description_tooltip": null,
            "layout": "IPY_MODEL_26f521682636454cbf996aa6a58bbd22",
            "placeholder": "​",
            "style": "IPY_MODEL_fe4e8a1558884ea087f4d9faaf522c55",
            "value": " 10016/10016 [00:00&lt;00:00, 8216.23it/s]"
          }
        },
        "b4e2959b0b8844f3b824559217d3af2f": {
          "model_module": "@jupyter-widgets/base",
          "model_name": "LayoutModel",
          "model_module_version": "1.2.0",
          "state": {
            "_model_module": "@jupyter-widgets/base",
            "_model_module_version": "1.2.0",
            "_model_name": "LayoutModel",
            "_view_count": null,
            "_view_module": "@jupyter-widgets/base",
            "_view_module_version": "1.2.0",
            "_view_name": "LayoutView",
            "align_content": null,
            "align_items": null,
            "align_self": null,
            "border": null,
            "bottom": null,
            "display": null,
            "flex": null,
            "flex_flow": null,
            "grid_area": null,
            "grid_auto_columns": null,
            "grid_auto_flow": null,
            "grid_auto_rows": null,
            "grid_column": null,
            "grid_gap": null,
            "grid_row": null,
            "grid_template_areas": null,
            "grid_template_columns": null,
            "grid_template_rows": null,
            "height": null,
            "justify_content": null,
            "justify_items": null,
            "left": null,
            "margin": null,
            "max_height": null,
            "max_width": null,
            "min_height": null,
            "min_width": null,
            "object_fit": null,
            "object_position": null,
            "order": null,
            "overflow": null,
            "overflow_x": null,
            "overflow_y": null,
            "padding": null,
            "right": null,
            "top": null,
            "visibility": null,
            "width": null
          }
        },
        "2540e4d190c849719ca889a7733f91a0": {
          "model_module": "@jupyter-widgets/base",
          "model_name": "LayoutModel",
          "model_module_version": "1.2.0",
          "state": {
            "_model_module": "@jupyter-widgets/base",
            "_model_module_version": "1.2.0",
            "_model_name": "LayoutModel",
            "_view_count": null,
            "_view_module": "@jupyter-widgets/base",
            "_view_module_version": "1.2.0",
            "_view_name": "LayoutView",
            "align_content": null,
            "align_items": null,
            "align_self": null,
            "border": null,
            "bottom": null,
            "display": null,
            "flex": null,
            "flex_flow": null,
            "grid_area": null,
            "grid_auto_columns": null,
            "grid_auto_flow": null,
            "grid_auto_rows": null,
            "grid_column": null,
            "grid_gap": null,
            "grid_row": null,
            "grid_template_areas": null,
            "grid_template_columns": null,
            "grid_template_rows": null,
            "height": null,
            "justify_content": null,
            "justify_items": null,
            "left": null,
            "margin": null,
            "max_height": null,
            "max_width": null,
            "min_height": null,
            "min_width": null,
            "object_fit": null,
            "object_position": null,
            "order": null,
            "overflow": null,
            "overflow_x": null,
            "overflow_y": null,
            "padding": null,
            "right": null,
            "top": null,
            "visibility": null,
            "width": null
          }
        },
        "39cfc8b805b24db1a7e7e6fdeb9ea594": {
          "model_module": "@jupyter-widgets/controls",
          "model_name": "DescriptionStyleModel",
          "model_module_version": "1.5.0",
          "state": {
            "_model_module": "@jupyter-widgets/controls",
            "_model_module_version": "1.5.0",
            "_model_name": "DescriptionStyleModel",
            "_view_count": null,
            "_view_module": "@jupyter-widgets/base",
            "_view_module_version": "1.2.0",
            "_view_name": "StyleView",
            "description_width": ""
          }
        },
        "3acc3119f1294b38bfa9f75dce5af265": {
          "model_module": "@jupyter-widgets/base",
          "model_name": "LayoutModel",
          "model_module_version": "1.2.0",
          "state": {
            "_model_module": "@jupyter-widgets/base",
            "_model_module_version": "1.2.0",
            "_model_name": "LayoutModel",
            "_view_count": null,
            "_view_module": "@jupyter-widgets/base",
            "_view_module_version": "1.2.0",
            "_view_name": "LayoutView",
            "align_content": null,
            "align_items": null,
            "align_self": null,
            "border": null,
            "bottom": null,
            "display": null,
            "flex": null,
            "flex_flow": null,
            "grid_area": null,
            "grid_auto_columns": null,
            "grid_auto_flow": null,
            "grid_auto_rows": null,
            "grid_column": null,
            "grid_gap": null,
            "grid_row": null,
            "grid_template_areas": null,
            "grid_template_columns": null,
            "grid_template_rows": null,
            "height": null,
            "justify_content": null,
            "justify_items": null,
            "left": null,
            "margin": null,
            "max_height": null,
            "max_width": null,
            "min_height": null,
            "min_width": null,
            "object_fit": null,
            "object_position": null,
            "order": null,
            "overflow": null,
            "overflow_x": null,
            "overflow_y": null,
            "padding": null,
            "right": null,
            "top": null,
            "visibility": null,
            "width": null
          }
        },
        "6d464b2ab4f446d382b0d076882dcecb": {
          "model_module": "@jupyter-widgets/controls",
          "model_name": "ProgressStyleModel",
          "model_module_version": "1.5.0",
          "state": {
            "_model_module": "@jupyter-widgets/controls",
            "_model_module_version": "1.5.0",
            "_model_name": "ProgressStyleModel",
            "_view_count": null,
            "_view_module": "@jupyter-widgets/base",
            "_view_module_version": "1.2.0",
            "_view_name": "StyleView",
            "bar_color": null,
            "description_width": ""
          }
        },
        "26f521682636454cbf996aa6a58bbd22": {
          "model_module": "@jupyter-widgets/base",
          "model_name": "LayoutModel",
          "model_module_version": "1.2.0",
          "state": {
            "_model_module": "@jupyter-widgets/base",
            "_model_module_version": "1.2.0",
            "_model_name": "LayoutModel",
            "_view_count": null,
            "_view_module": "@jupyter-widgets/base",
            "_view_module_version": "1.2.0",
            "_view_name": "LayoutView",
            "align_content": null,
            "align_items": null,
            "align_self": null,
            "border": null,
            "bottom": null,
            "display": null,
            "flex": null,
            "flex_flow": null,
            "grid_area": null,
            "grid_auto_columns": null,
            "grid_auto_flow": null,
            "grid_auto_rows": null,
            "grid_column": null,
            "grid_gap": null,
            "grid_row": null,
            "grid_template_areas": null,
            "grid_template_columns": null,
            "grid_template_rows": null,
            "height": null,
            "justify_content": null,
            "justify_items": null,
            "left": null,
            "margin": null,
            "max_height": null,
            "max_width": null,
            "min_height": null,
            "min_width": null,
            "object_fit": null,
            "object_position": null,
            "order": null,
            "overflow": null,
            "overflow_x": null,
            "overflow_y": null,
            "padding": null,
            "right": null,
            "top": null,
            "visibility": null,
            "width": null
          }
        },
        "fe4e8a1558884ea087f4d9faaf522c55": {
          "model_module": "@jupyter-widgets/controls",
          "model_name": "DescriptionStyleModel",
          "model_module_version": "1.5.0",
          "state": {
            "_model_module": "@jupyter-widgets/controls",
            "_model_module_version": "1.5.0",
            "_model_name": "DescriptionStyleModel",
            "_view_count": null,
            "_view_module": "@jupyter-widgets/base",
            "_view_module_version": "1.2.0",
            "_view_name": "StyleView",
            "description_width": ""
          }
        }
      }
    }
  },
  "cells": [
    {
      "cell_type": "markdown",
      "metadata": {
        "id": "view-in-github",
        "colab_type": "text"
      },
      "source": [
        "<a href=\"https://colab.research.google.com/github/Buuuuli/AIPI540_individual/blob/main/try.ipynb\" target=\"_parent\"><img src=\"https://colab.research.google.com/assets/colab-badge.svg\" alt=\"Open In Colab\"/></a>"
      ]
    },
    {
      "cell_type": "code",
      "execution_count": 22,
      "metadata": {
        "colab": {
          "base_uri": "https://localhost:8080/"
        },
        "id": "oVO59Z87vlcY",
        "outputId": "72ceacea-e086-4ea8-eff9-b34d6159c4c4"
      },
      "outputs": [
        {
          "output_type": "stream",
          "name": "stdout",
          "text": [
            "Drive already mounted at /content/drive; to attempt to forcibly remount, call drive.mount(\"/content/drive\", force_remount=True).\n"
          ]
        }
      ],
      "source": [
        "from os.path import join\n",
        "from google.colab import drive\n",
        "\n",
        "ROOT = \"/content/drive\"\n",
        "drive.mount(ROOT, force_remount=False)"
      ]
    },
    {
      "cell_type": "code",
      "source": [
        "#PROJ =\"MyDrive/repos\"\n",
        "#PROJECT_PATH = join(ROOT, PROJ)\n",
        "#!mkdir \"PROJECT_PATH\""
      ],
      "metadata": {
        "id": "wpZAVlC2vt3n"
      },
      "execution_count": null,
      "outputs": []
    },
    {
      "cell_type": "code",
      "source": [
        "!ls"
      ],
      "metadata": {
        "colab": {
          "base_uri": "https://localhost:8080/"
        },
        "id": "4_ExL1gSvt5x",
        "outputId": "b927291f-3dbd-49ad-b7a6-46c640e5065b"
      },
      "execution_count": 23,
      "outputs": [
        {
          "output_type": "stream",
          "name": "stdout",
          "text": [
            "image\n"
          ]
        }
      ]
    },
    {
      "cell_type": "code",
      "source": [
        "%cd /content/drive/\"My Drive\"/AIPI540"
      ],
      "metadata": {
        "colab": {
          "base_uri": "https://localhost:8080/"
        },
        "id": "srqjyPn4vt7f",
        "outputId": "e43da29f-e967-4ddf-d786-6b9941e6cac5"
      },
      "execution_count": 24,
      "outputs": [
        {
          "output_type": "stream",
          "name": "stdout",
          "text": [
            "/content/drive/My Drive/AIPI540\n"
          ]
        }
      ]
    },
    {
      "cell_type": "code",
      "source": [
        "import os\n",
        "import urllib.request\n",
        "import zipfile\n",
        "import copy\n",
        "import time\n",
        "import numpy as np\n",
        "import pandas as pd\n",
        "import torch\n",
        "from torchvision import datasets, transforms\n",
        "import torchvision\n",
        "from torch.utils.data import DataLoader, TensorDataset\n",
        "import torch.nn as nn\n",
        "import torch.nn.functional as F\n",
        "import torch.optim as optim\n",
        "from torchvision.datasets import FashionMNIST\n",
        "from torchsummary import summary\n",
        "import cv2 as cv\n",
        "import glob\n",
        "from PIL import Image\n",
        "import pickle as pkl\n",
        "from tqdm import tqdm\n",
        "from zipfile import ZipFile\n",
        "\n",
        "\n",
        "\n",
        "from sklearn.tree import DecisionTreeClassifier, DecisionTreeRegressor, plot_tree\n",
        "from sklearn.ensemble import RandomForestClassifier\n",
        "from sklearn.model_selection import train_test_split\n",
        "import matplotlib.pyplot as plt"
      ],
      "metadata": {
        "id": "n4c9ECsa6fw6"
      },
      "execution_count": 25,
      "outputs": []
    },
    {
      "cell_type": "code",
      "source": [
        ""
      ],
      "metadata": {
        "id": "7ncPXptY5jAl"
      },
      "execution_count": null,
      "outputs": []
    },
    {
      "cell_type": "code",
      "source": [
        "# check what types of image we get\n",
        "#set the image directory\n",
        "files = os.listdir(\"./image/\")\n",
        "# print the types of image\n",
        "print(set([x.split(\".\")[1] for x in files]))\n"
      ],
      "metadata": {
        "id": "sDkJeDUI6f56",
        "outputId": "b355c3fe-21e7-4d95-ac43-3c0cbded5b11",
        "colab": {
          "base_uri": "https://localhost:8080/"
        }
      },
      "execution_count": 26,
      "outputs": [
        {
          "output_type": "stream",
          "name": "stdout",
          "text": [
            "{'jpg'}\n"
          ]
        }
      ]
    },
    {
      "cell_type": "code",
      "source": [
        "sorted(files)"
      ],
      "metadata": {
        "id": "H6xGzLttqpwM",
        "outputId": "0137ef39-7a15-4370-9a98-8cf82094446a",
        "colab": {
          "base_uri": "https://localhost:8080/"
        }
      },
      "execution_count": null,
      "outputs": [
        {
          "output_type": "execute_result",
          "data": {
            "text/plain": [
              "['ISIC_0024306.jpg',\n",
              " 'ISIC_0024307.jpg',\n",
              " 'ISIC_0024308.jpg',\n",
              " 'ISIC_0024309.jpg',\n",
              " 'ISIC_0024310.jpg',\n",
              " 'ISIC_0024311.jpg',\n",
              " 'ISIC_0024312.jpg',\n",
              " 'ISIC_0024313.jpg',\n",
              " 'ISIC_0024314.jpg',\n",
              " 'ISIC_0024315.jpg',\n",
              " 'ISIC_0024316.jpg',\n",
              " 'ISIC_0024317.jpg',\n",
              " 'ISIC_0024318.jpg',\n",
              " 'ISIC_0024319.jpg',\n",
              " 'ISIC_0024320.jpg',\n",
              " 'ISIC_0024321.jpg',\n",
              " 'ISIC_0024322.jpg',\n",
              " 'ISIC_0024323.jpg',\n",
              " 'ISIC_0024324.jpg',\n",
              " 'ISIC_0024325.jpg',\n",
              " 'ISIC_0024326.jpg',\n",
              " 'ISIC_0024327.jpg',\n",
              " 'ISIC_0024328.jpg',\n",
              " 'ISIC_0024329.jpg',\n",
              " 'ISIC_0024330.jpg',\n",
              " 'ISIC_0024331.jpg',\n",
              " 'ISIC_0024332.jpg',\n",
              " 'ISIC_0024333.jpg',\n",
              " 'ISIC_0024334.jpg',\n",
              " 'ISIC_0024335.jpg',\n",
              " 'ISIC_0024336.jpg',\n",
              " 'ISIC_0024337.jpg',\n",
              " 'ISIC_0024338.jpg',\n",
              " 'ISIC_0024339.jpg',\n",
              " 'ISIC_0024340.jpg',\n",
              " 'ISIC_0024341.jpg',\n",
              " 'ISIC_0024342.jpg',\n",
              " 'ISIC_0024343.jpg',\n",
              " 'ISIC_0024344.jpg',\n",
              " 'ISIC_0024345.jpg',\n",
              " 'ISIC_0024346.jpg',\n",
              " 'ISIC_0024347.jpg',\n",
              " 'ISIC_0024348.jpg',\n",
              " 'ISIC_0024349.jpg',\n",
              " 'ISIC_0024350.jpg',\n",
              " 'ISIC_0024351.jpg',\n",
              " 'ISIC_0024352.jpg',\n",
              " 'ISIC_0024353.jpg',\n",
              " 'ISIC_0024354.jpg',\n",
              " 'ISIC_0024355.jpg',\n",
              " 'ISIC_0024356.jpg',\n",
              " 'ISIC_0024357.jpg',\n",
              " 'ISIC_0024358.jpg',\n",
              " 'ISIC_0024359.jpg',\n",
              " 'ISIC_0024360.jpg',\n",
              " 'ISIC_0024361.jpg',\n",
              " 'ISIC_0024362.jpg',\n",
              " 'ISIC_0024363.jpg',\n",
              " 'ISIC_0024364.jpg',\n",
              " 'ISIC_0024365.jpg',\n",
              " 'ISIC_0024366.jpg',\n",
              " 'ISIC_0024367.jpg',\n",
              " 'ISIC_0024368.jpg',\n",
              " 'ISIC_0024369.jpg',\n",
              " 'ISIC_0024370.jpg',\n",
              " 'ISIC_0024371.jpg',\n",
              " 'ISIC_0024372.jpg',\n",
              " 'ISIC_0024373.jpg',\n",
              " 'ISIC_0024374.jpg',\n",
              " 'ISIC_0024375.jpg',\n",
              " 'ISIC_0024376.jpg',\n",
              " 'ISIC_0024377.jpg',\n",
              " 'ISIC_0024378.jpg',\n",
              " 'ISIC_0024379.jpg',\n",
              " 'ISIC_0024380.jpg',\n",
              " 'ISIC_0024381.jpg',\n",
              " 'ISIC_0024382.jpg',\n",
              " 'ISIC_0024383.jpg',\n",
              " 'ISIC_0024384.jpg',\n",
              " 'ISIC_0024385.jpg',\n",
              " 'ISIC_0024386.jpg',\n",
              " 'ISIC_0024387.jpg',\n",
              " 'ISIC_0024388.jpg',\n",
              " 'ISIC_0024389.jpg',\n",
              " 'ISIC_0024390.jpg',\n",
              " 'ISIC_0024391.jpg',\n",
              " 'ISIC_0024392.jpg',\n",
              " 'ISIC_0024393.jpg',\n",
              " 'ISIC_0024394.jpg',\n",
              " 'ISIC_0024395.jpg',\n",
              " 'ISIC_0024396.jpg',\n",
              " 'ISIC_0024397.jpg',\n",
              " 'ISIC_0024398.jpg',\n",
              " 'ISIC_0024399.jpg',\n",
              " 'ISIC_0024400.jpg',\n",
              " 'ISIC_0024401.jpg',\n",
              " 'ISIC_0024402.jpg',\n",
              " 'ISIC_0024403.jpg',\n",
              " 'ISIC_0024404.jpg',\n",
              " 'ISIC_0024405.jpg',\n",
              " 'ISIC_0024406.jpg',\n",
              " 'ISIC_0024407.jpg',\n",
              " 'ISIC_0024408.jpg',\n",
              " 'ISIC_0024409.jpg',\n",
              " 'ISIC_0024410.jpg',\n",
              " 'ISIC_0024411.jpg',\n",
              " 'ISIC_0024412.jpg',\n",
              " 'ISIC_0024413.jpg',\n",
              " 'ISIC_0024414.jpg',\n",
              " 'ISIC_0024415.jpg',\n",
              " 'ISIC_0024416.jpg',\n",
              " 'ISIC_0024417.jpg',\n",
              " 'ISIC_0024418.jpg',\n",
              " 'ISIC_0024419.jpg',\n",
              " 'ISIC_0024420.jpg',\n",
              " 'ISIC_0024421.jpg',\n",
              " 'ISIC_0024422.jpg',\n",
              " 'ISIC_0024423.jpg',\n",
              " 'ISIC_0024424.jpg',\n",
              " 'ISIC_0024425.jpg',\n",
              " 'ISIC_0024426.jpg',\n",
              " 'ISIC_0024427.jpg',\n",
              " 'ISIC_0024428.jpg',\n",
              " 'ISIC_0024429.jpg',\n",
              " 'ISIC_0024430.jpg',\n",
              " 'ISIC_0024431.jpg',\n",
              " 'ISIC_0024432.jpg',\n",
              " 'ISIC_0024433.jpg',\n",
              " 'ISIC_0024434.jpg',\n",
              " 'ISIC_0024435.jpg',\n",
              " 'ISIC_0024436.jpg',\n",
              " 'ISIC_0024437.jpg',\n",
              " 'ISIC_0024438.jpg',\n",
              " 'ISIC_0024439.jpg',\n",
              " 'ISIC_0024440.jpg',\n",
              " 'ISIC_0024441.jpg',\n",
              " 'ISIC_0024442.jpg',\n",
              " 'ISIC_0024443.jpg',\n",
              " 'ISIC_0024444.jpg',\n",
              " 'ISIC_0024445.jpg',\n",
              " 'ISIC_0024446.jpg',\n",
              " 'ISIC_0024447.jpg',\n",
              " 'ISIC_0024448.jpg',\n",
              " 'ISIC_0024449.jpg',\n",
              " 'ISIC_0024450.jpg',\n",
              " 'ISIC_0024451.jpg',\n",
              " 'ISIC_0024452.jpg',\n",
              " 'ISIC_0024453.jpg',\n",
              " 'ISIC_0024454.jpg',\n",
              " 'ISIC_0024455.jpg',\n",
              " 'ISIC_0024456.jpg',\n",
              " 'ISIC_0024457.jpg',\n",
              " 'ISIC_0024458.jpg',\n",
              " 'ISIC_0024459.jpg',\n",
              " 'ISIC_0024460.jpg',\n",
              " 'ISIC_0024461.jpg',\n",
              " 'ISIC_0024462.jpg',\n",
              " 'ISIC_0024463.jpg',\n",
              " 'ISIC_0024464.jpg',\n",
              " 'ISIC_0024465.jpg',\n",
              " 'ISIC_0024466.jpg',\n",
              " 'ISIC_0024467.jpg',\n",
              " 'ISIC_0024468.jpg',\n",
              " 'ISIC_0024469.jpg',\n",
              " 'ISIC_0024470.jpg',\n",
              " 'ISIC_0024471.jpg',\n",
              " 'ISIC_0024472.jpg',\n",
              " 'ISIC_0024473.jpg',\n",
              " 'ISIC_0024474.jpg',\n",
              " 'ISIC_0024475.jpg',\n",
              " 'ISIC_0024476.jpg',\n",
              " 'ISIC_0024477.jpg',\n",
              " 'ISIC_0024478.jpg',\n",
              " 'ISIC_0024479.jpg',\n",
              " 'ISIC_0024480.jpg',\n",
              " 'ISIC_0024481.jpg',\n",
              " 'ISIC_0024482.jpg',\n",
              " 'ISIC_0024483.jpg',\n",
              " 'ISIC_0024484.jpg',\n",
              " 'ISIC_0024485.jpg',\n",
              " 'ISIC_0024486.jpg',\n",
              " 'ISIC_0024487.jpg',\n",
              " 'ISIC_0024488.jpg',\n",
              " 'ISIC_0024489.jpg',\n",
              " 'ISIC_0024490.jpg',\n",
              " 'ISIC_0024491.jpg',\n",
              " 'ISIC_0024492.jpg',\n",
              " 'ISIC_0024493.jpg',\n",
              " 'ISIC_0024494.jpg',\n",
              " 'ISIC_0024495.jpg',\n",
              " 'ISIC_0024496.jpg',\n",
              " 'ISIC_0024497.jpg',\n",
              " 'ISIC_0024498.jpg',\n",
              " 'ISIC_0024499.jpg',\n",
              " 'ISIC_0024500.jpg',\n",
              " 'ISIC_0024501.jpg',\n",
              " 'ISIC_0024502.jpg',\n",
              " 'ISIC_0024503.jpg',\n",
              " 'ISIC_0024504.jpg',\n",
              " 'ISIC_0024505.jpg',\n",
              " 'ISIC_0024506.jpg',\n",
              " 'ISIC_0024507.jpg',\n",
              " 'ISIC_0024508.jpg',\n",
              " 'ISIC_0024509.jpg',\n",
              " 'ISIC_0024510.jpg',\n",
              " 'ISIC_0024511.jpg',\n",
              " 'ISIC_0024512.jpg',\n",
              " 'ISIC_0024513.jpg',\n",
              " 'ISIC_0024514.jpg',\n",
              " 'ISIC_0024515.jpg',\n",
              " 'ISIC_0024516.jpg',\n",
              " 'ISIC_0024517.jpg',\n",
              " 'ISIC_0024518.jpg',\n",
              " 'ISIC_0024519.jpg',\n",
              " 'ISIC_0024520.jpg',\n",
              " 'ISIC_0024521.jpg',\n",
              " 'ISIC_0024522.jpg',\n",
              " 'ISIC_0024523.jpg',\n",
              " 'ISIC_0024524.jpg',\n",
              " 'ISIC_0024525.jpg',\n",
              " 'ISIC_0024526.jpg',\n",
              " 'ISIC_0024527.jpg',\n",
              " 'ISIC_0024528.jpg',\n",
              " 'ISIC_0024529.jpg',\n",
              " 'ISIC_0024530.jpg',\n",
              " 'ISIC_0024531.jpg',\n",
              " 'ISIC_0024532.jpg',\n",
              " 'ISIC_0024533.jpg',\n",
              " 'ISIC_0024534.jpg',\n",
              " 'ISIC_0024535.jpg',\n",
              " 'ISIC_0024536.jpg',\n",
              " 'ISIC_0024537.jpg',\n",
              " 'ISIC_0024538.jpg',\n",
              " 'ISIC_0024539.jpg',\n",
              " 'ISIC_0024540.jpg',\n",
              " 'ISIC_0024541.jpg',\n",
              " 'ISIC_0024542.jpg',\n",
              " 'ISIC_0024543.jpg',\n",
              " 'ISIC_0024544.jpg',\n",
              " 'ISIC_0024545.jpg',\n",
              " 'ISIC_0024546.jpg',\n",
              " 'ISIC_0024547.jpg',\n",
              " 'ISIC_0024548.jpg',\n",
              " 'ISIC_0024549.jpg',\n",
              " 'ISIC_0024550.jpg',\n",
              " 'ISIC_0024551.jpg',\n",
              " 'ISIC_0024552.jpg',\n",
              " 'ISIC_0024553.jpg',\n",
              " 'ISIC_0024554.jpg',\n",
              " 'ISIC_0024555.jpg',\n",
              " 'ISIC_0024556.jpg',\n",
              " 'ISIC_0024557.jpg',\n",
              " 'ISIC_0024558.jpg',\n",
              " 'ISIC_0024559.jpg',\n",
              " 'ISIC_0024560.jpg',\n",
              " 'ISIC_0024561.jpg',\n",
              " 'ISIC_0024562.jpg',\n",
              " 'ISIC_0024563.jpg',\n",
              " 'ISIC_0024564.jpg',\n",
              " 'ISIC_0024565.jpg',\n",
              " 'ISIC_0024566.jpg',\n",
              " 'ISIC_0024567.jpg',\n",
              " 'ISIC_0024568.jpg',\n",
              " 'ISIC_0024569.jpg',\n",
              " 'ISIC_0024570.jpg',\n",
              " 'ISIC_0024571.jpg',\n",
              " 'ISIC_0024572.jpg',\n",
              " 'ISIC_0024573.jpg',\n",
              " 'ISIC_0024574.jpg',\n",
              " 'ISIC_0024575.jpg',\n",
              " 'ISIC_0024576.jpg',\n",
              " 'ISIC_0024577.jpg',\n",
              " 'ISIC_0024578.jpg',\n",
              " 'ISIC_0024579.jpg',\n",
              " 'ISIC_0024580.jpg',\n",
              " 'ISIC_0024581.jpg',\n",
              " 'ISIC_0024582.jpg',\n",
              " 'ISIC_0024583.jpg',\n",
              " 'ISIC_0024584.jpg',\n",
              " 'ISIC_0024585.jpg',\n",
              " 'ISIC_0024586.jpg',\n",
              " 'ISIC_0024587.jpg',\n",
              " 'ISIC_0024588.jpg',\n",
              " 'ISIC_0024589.jpg',\n",
              " 'ISIC_0024590.jpg',\n",
              " 'ISIC_0024591.jpg',\n",
              " 'ISIC_0024592.jpg',\n",
              " 'ISIC_0024593.jpg',\n",
              " 'ISIC_0024594.jpg',\n",
              " 'ISIC_0024595.jpg',\n",
              " 'ISIC_0024596.jpg',\n",
              " 'ISIC_0024597.jpg',\n",
              " 'ISIC_0024598.jpg',\n",
              " 'ISIC_0024599.jpg',\n",
              " 'ISIC_0024600.jpg',\n",
              " 'ISIC_0024601.jpg',\n",
              " 'ISIC_0024602.jpg',\n",
              " 'ISIC_0024603.jpg',\n",
              " 'ISIC_0024604.jpg',\n",
              " 'ISIC_0024605.jpg',\n",
              " 'ISIC_0024606.jpg',\n",
              " 'ISIC_0024607.jpg',\n",
              " 'ISIC_0024608.jpg',\n",
              " 'ISIC_0024609.jpg',\n",
              " 'ISIC_0024610.jpg',\n",
              " 'ISIC_0024611.jpg',\n",
              " 'ISIC_0024612.jpg',\n",
              " 'ISIC_0024613.jpg',\n",
              " 'ISIC_0024614.jpg',\n",
              " 'ISIC_0024615.jpg',\n",
              " 'ISIC_0024616.jpg',\n",
              " 'ISIC_0024617.jpg',\n",
              " 'ISIC_0024618.jpg',\n",
              " 'ISIC_0024619.jpg',\n",
              " 'ISIC_0024620.jpg',\n",
              " 'ISIC_0024621.jpg',\n",
              " 'ISIC_0024622.jpg',\n",
              " 'ISIC_0024623.jpg',\n",
              " 'ISIC_0024624.jpg',\n",
              " 'ISIC_0024625.jpg',\n",
              " 'ISIC_0024626.jpg',\n",
              " 'ISIC_0024627.jpg',\n",
              " 'ISIC_0024628.jpg',\n",
              " 'ISIC_0024629.jpg',\n",
              " 'ISIC_0024630.jpg',\n",
              " 'ISIC_0024631.jpg',\n",
              " 'ISIC_0024632.jpg',\n",
              " 'ISIC_0024633.jpg',\n",
              " 'ISIC_0024634.jpg',\n",
              " 'ISIC_0024635.jpg',\n",
              " 'ISIC_0024636.jpg',\n",
              " 'ISIC_0024637.jpg',\n",
              " 'ISIC_0024638.jpg',\n",
              " 'ISIC_0024639.jpg',\n",
              " 'ISIC_0024640.jpg',\n",
              " 'ISIC_0024641.jpg',\n",
              " 'ISIC_0024642.jpg',\n",
              " 'ISIC_0024643.jpg',\n",
              " 'ISIC_0024644.jpg',\n",
              " 'ISIC_0024645.jpg',\n",
              " 'ISIC_0024646.jpg',\n",
              " 'ISIC_0024647.jpg',\n",
              " 'ISIC_0024648.jpg',\n",
              " 'ISIC_0024649.jpg',\n",
              " 'ISIC_0024650.jpg',\n",
              " 'ISIC_0024651.jpg',\n",
              " 'ISIC_0024652.jpg',\n",
              " 'ISIC_0024653.jpg',\n",
              " 'ISIC_0024654.jpg',\n",
              " 'ISIC_0024655.jpg',\n",
              " 'ISIC_0024656.jpg',\n",
              " 'ISIC_0024657.jpg',\n",
              " 'ISIC_0024658.jpg',\n",
              " 'ISIC_0024659.jpg',\n",
              " 'ISIC_0024660.jpg',\n",
              " 'ISIC_0024661.jpg',\n",
              " 'ISIC_0024662.jpg',\n",
              " 'ISIC_0024663.jpg',\n",
              " 'ISIC_0024664.jpg',\n",
              " 'ISIC_0024665.jpg',\n",
              " 'ISIC_0024666.jpg',\n",
              " 'ISIC_0024667.jpg',\n",
              " 'ISIC_0024668.jpg',\n",
              " 'ISIC_0024669.jpg',\n",
              " 'ISIC_0024670.jpg',\n",
              " 'ISIC_0024671.jpg',\n",
              " 'ISIC_0024672.jpg',\n",
              " 'ISIC_0024673.jpg',\n",
              " 'ISIC_0024674.jpg',\n",
              " 'ISIC_0024675.jpg',\n",
              " 'ISIC_0024676.jpg',\n",
              " 'ISIC_0024677.jpg',\n",
              " 'ISIC_0024678.jpg',\n",
              " 'ISIC_0024679.jpg',\n",
              " 'ISIC_0024680.jpg',\n",
              " 'ISIC_0024681.jpg',\n",
              " 'ISIC_0024682.jpg',\n",
              " 'ISIC_0024683.jpg',\n",
              " 'ISIC_0024684.jpg',\n",
              " 'ISIC_0024685.jpg',\n",
              " 'ISIC_0024686.jpg',\n",
              " 'ISIC_0024687.jpg',\n",
              " 'ISIC_0024688.jpg',\n",
              " 'ISIC_0024689.jpg',\n",
              " 'ISIC_0024690.jpg',\n",
              " 'ISIC_0024691.jpg',\n",
              " 'ISIC_0024692.jpg',\n",
              " 'ISIC_0024693.jpg',\n",
              " 'ISIC_0024694.jpg',\n",
              " 'ISIC_0024695.jpg',\n",
              " 'ISIC_0024696.jpg',\n",
              " 'ISIC_0024697.jpg',\n",
              " 'ISIC_0024698.jpg',\n",
              " 'ISIC_0024699.jpg',\n",
              " 'ISIC_0024700.jpg',\n",
              " 'ISIC_0024701.jpg',\n",
              " 'ISIC_0024702.jpg',\n",
              " 'ISIC_0024703.jpg',\n",
              " 'ISIC_0024704.jpg',\n",
              " 'ISIC_0024705.jpg',\n",
              " 'ISIC_0024706.jpg',\n",
              " 'ISIC_0024707.jpg',\n",
              " 'ISIC_0024708.jpg',\n",
              " 'ISIC_0024709.jpg',\n",
              " 'ISIC_0024710.jpg',\n",
              " 'ISIC_0024711.jpg',\n",
              " 'ISIC_0024712.jpg',\n",
              " 'ISIC_0024713.jpg',\n",
              " 'ISIC_0024714.jpg',\n",
              " 'ISIC_0024715.jpg',\n",
              " 'ISIC_0024716.jpg',\n",
              " 'ISIC_0024717.jpg',\n",
              " 'ISIC_0024718.jpg',\n",
              " 'ISIC_0024719.jpg',\n",
              " 'ISIC_0024720.jpg',\n",
              " 'ISIC_0024721.jpg',\n",
              " 'ISIC_0024722.jpg',\n",
              " 'ISIC_0024723.jpg',\n",
              " 'ISIC_0024724.jpg',\n",
              " 'ISIC_0024725.jpg',\n",
              " 'ISIC_0024726.jpg',\n",
              " 'ISIC_0024727.jpg',\n",
              " 'ISIC_0024728.jpg',\n",
              " 'ISIC_0024729.jpg',\n",
              " 'ISIC_0024730.jpg',\n",
              " 'ISIC_0024731.jpg',\n",
              " 'ISIC_0024732.jpg',\n",
              " 'ISIC_0024733.jpg',\n",
              " 'ISIC_0024734.jpg',\n",
              " 'ISIC_0024735.jpg',\n",
              " 'ISIC_0024736.jpg',\n",
              " 'ISIC_0024737.jpg',\n",
              " 'ISIC_0024738.jpg',\n",
              " 'ISIC_0024739.jpg',\n",
              " 'ISIC_0024740.jpg',\n",
              " 'ISIC_0024741.jpg',\n",
              " 'ISIC_0024742.jpg',\n",
              " 'ISIC_0024743.jpg',\n",
              " 'ISIC_0024744.jpg',\n",
              " 'ISIC_0024745.jpg',\n",
              " 'ISIC_0024746.jpg',\n",
              " 'ISIC_0024747.jpg',\n",
              " 'ISIC_0024748.jpg',\n",
              " 'ISIC_0024749.jpg',\n",
              " 'ISIC_0024750.jpg',\n",
              " 'ISIC_0024751.jpg',\n",
              " 'ISIC_0024752.jpg',\n",
              " 'ISIC_0024753.jpg',\n",
              " 'ISIC_0024754.jpg',\n",
              " 'ISIC_0024755.jpg',\n",
              " 'ISIC_0024756.jpg',\n",
              " 'ISIC_0024757.jpg',\n",
              " 'ISIC_0024758.jpg',\n",
              " 'ISIC_0024759.jpg',\n",
              " 'ISIC_0024760.jpg',\n",
              " 'ISIC_0024761.jpg',\n",
              " 'ISIC_0024762.jpg',\n",
              " 'ISIC_0024763.jpg',\n",
              " 'ISIC_0024764.jpg',\n",
              " 'ISIC_0024765.jpg',\n",
              " 'ISIC_0024766.jpg',\n",
              " 'ISIC_0024767.jpg',\n",
              " 'ISIC_0024768.jpg',\n",
              " 'ISIC_0024769.jpg',\n",
              " 'ISIC_0024770.jpg',\n",
              " 'ISIC_0024771.jpg',\n",
              " 'ISIC_0024772.jpg',\n",
              " 'ISIC_0024773.jpg',\n",
              " 'ISIC_0024774.jpg',\n",
              " 'ISIC_0024775.jpg',\n",
              " 'ISIC_0024776.jpg',\n",
              " 'ISIC_0024777.jpg',\n",
              " 'ISIC_0024778.jpg',\n",
              " 'ISIC_0024779.jpg',\n",
              " 'ISIC_0024780.jpg',\n",
              " 'ISIC_0024781.jpg',\n",
              " 'ISIC_0024782.jpg',\n",
              " 'ISIC_0024783.jpg',\n",
              " 'ISIC_0024784.jpg',\n",
              " 'ISIC_0024785.jpg',\n",
              " 'ISIC_0024786.jpg',\n",
              " 'ISIC_0024787.jpg',\n",
              " 'ISIC_0024788.jpg',\n",
              " 'ISIC_0024789.jpg',\n",
              " 'ISIC_0024790.jpg',\n",
              " 'ISIC_0024791.jpg',\n",
              " 'ISIC_0024792.jpg',\n",
              " 'ISIC_0024793.jpg',\n",
              " 'ISIC_0024794.jpg',\n",
              " 'ISIC_0024795.jpg',\n",
              " 'ISIC_0024796.jpg',\n",
              " 'ISIC_0024797.jpg',\n",
              " 'ISIC_0024798.jpg',\n",
              " 'ISIC_0024799.jpg',\n",
              " 'ISIC_0024800.jpg',\n",
              " 'ISIC_0024801.jpg',\n",
              " 'ISIC_0024802.jpg',\n",
              " 'ISIC_0024803.jpg',\n",
              " 'ISIC_0024804.jpg',\n",
              " 'ISIC_0024805.jpg',\n",
              " 'ISIC_0024806.jpg',\n",
              " 'ISIC_0024807.jpg',\n",
              " 'ISIC_0024808.jpg',\n",
              " 'ISIC_0024809.jpg',\n",
              " 'ISIC_0024810.jpg',\n",
              " 'ISIC_0024811.jpg',\n",
              " 'ISIC_0024812.jpg',\n",
              " 'ISIC_0024813.jpg',\n",
              " 'ISIC_0024814.jpg',\n",
              " 'ISIC_0024815.jpg',\n",
              " 'ISIC_0024816.jpg',\n",
              " 'ISIC_0024817.jpg',\n",
              " 'ISIC_0024818.jpg',\n",
              " 'ISIC_0024819.jpg',\n",
              " 'ISIC_0024820.jpg',\n",
              " 'ISIC_0024821.jpg',\n",
              " 'ISIC_0024822.jpg',\n",
              " 'ISIC_0024823.jpg',\n",
              " 'ISIC_0024824.jpg',\n",
              " 'ISIC_0024825.jpg',\n",
              " 'ISIC_0024826.jpg',\n",
              " 'ISIC_0024827.jpg',\n",
              " 'ISIC_0024828.jpg',\n",
              " 'ISIC_0024829.jpg',\n",
              " 'ISIC_0024830.jpg',\n",
              " 'ISIC_0024831.jpg',\n",
              " 'ISIC_0024832.jpg',\n",
              " 'ISIC_0024833.jpg',\n",
              " 'ISIC_0024834.jpg',\n",
              " 'ISIC_0024835.jpg',\n",
              " 'ISIC_0024836.jpg',\n",
              " 'ISIC_0024837.jpg',\n",
              " 'ISIC_0024838.jpg',\n",
              " 'ISIC_0024839.jpg',\n",
              " 'ISIC_0024840.jpg',\n",
              " 'ISIC_0024841.jpg',\n",
              " 'ISIC_0024842.jpg',\n",
              " 'ISIC_0024843.jpg',\n",
              " 'ISIC_0024844.jpg',\n",
              " 'ISIC_0024845.jpg',\n",
              " 'ISIC_0024846.jpg',\n",
              " 'ISIC_0024847.jpg',\n",
              " 'ISIC_0024848.jpg',\n",
              " 'ISIC_0024849.jpg',\n",
              " 'ISIC_0024850.jpg',\n",
              " 'ISIC_0024851.jpg',\n",
              " 'ISIC_0024852.jpg',\n",
              " 'ISIC_0024853.jpg',\n",
              " 'ISIC_0024854.jpg',\n",
              " 'ISIC_0024855.jpg',\n",
              " 'ISIC_0024856.jpg',\n",
              " 'ISIC_0024857.jpg',\n",
              " 'ISIC_0024858.jpg',\n",
              " 'ISIC_0024859.jpg',\n",
              " 'ISIC_0024860.jpg',\n",
              " 'ISIC_0024861.jpg',\n",
              " 'ISIC_0024862.jpg',\n",
              " 'ISIC_0024863.jpg',\n",
              " 'ISIC_0024864.jpg',\n",
              " 'ISIC_0024865.jpg',\n",
              " 'ISIC_0024866.jpg',\n",
              " 'ISIC_0024867.jpg',\n",
              " 'ISIC_0024868.jpg',\n",
              " 'ISIC_0024869.jpg',\n",
              " 'ISIC_0024870.jpg',\n",
              " 'ISIC_0024871.jpg',\n",
              " 'ISIC_0024872.jpg',\n",
              " 'ISIC_0024873.jpg',\n",
              " 'ISIC_0024874.jpg',\n",
              " 'ISIC_0024875.jpg',\n",
              " 'ISIC_0024876.jpg',\n",
              " 'ISIC_0024877.jpg',\n",
              " 'ISIC_0024878.jpg',\n",
              " 'ISIC_0024879.jpg',\n",
              " 'ISIC_0024880.jpg',\n",
              " 'ISIC_0024881.jpg',\n",
              " 'ISIC_0024882.jpg',\n",
              " 'ISIC_0024883.jpg',\n",
              " 'ISIC_0024884.jpg',\n",
              " 'ISIC_0024885.jpg',\n",
              " 'ISIC_0024886.jpg',\n",
              " 'ISIC_0024887.jpg',\n",
              " 'ISIC_0024888.jpg',\n",
              " 'ISIC_0024889.jpg',\n",
              " 'ISIC_0024890.jpg',\n",
              " 'ISIC_0024891.jpg',\n",
              " 'ISIC_0024892.jpg',\n",
              " 'ISIC_0024893.jpg',\n",
              " 'ISIC_0024894.jpg',\n",
              " 'ISIC_0024895.jpg',\n",
              " 'ISIC_0024896.jpg',\n",
              " 'ISIC_0024897.jpg',\n",
              " 'ISIC_0024898.jpg',\n",
              " 'ISIC_0024899.jpg',\n",
              " 'ISIC_0024900.jpg',\n",
              " 'ISIC_0024901.jpg',\n",
              " 'ISIC_0024902.jpg',\n",
              " 'ISIC_0024903.jpg',\n",
              " 'ISIC_0024904.jpg',\n",
              " 'ISIC_0024905.jpg',\n",
              " 'ISIC_0024906.jpg',\n",
              " 'ISIC_0024907.jpg',\n",
              " 'ISIC_0024908.jpg',\n",
              " 'ISIC_0024909.jpg',\n",
              " 'ISIC_0024910.jpg',\n",
              " 'ISIC_0024911.jpg',\n",
              " 'ISIC_0024912.jpg',\n",
              " 'ISIC_0024913.jpg',\n",
              " 'ISIC_0024914.jpg',\n",
              " 'ISIC_0024915.jpg',\n",
              " 'ISIC_0024916.jpg',\n",
              " 'ISIC_0024917.jpg',\n",
              " 'ISIC_0024918.jpg',\n",
              " 'ISIC_0024919.jpg',\n",
              " 'ISIC_0024920.jpg',\n",
              " 'ISIC_0024921.jpg',\n",
              " 'ISIC_0024922.jpg',\n",
              " 'ISIC_0024923.jpg',\n",
              " 'ISIC_0024924.jpg',\n",
              " 'ISIC_0024925.jpg',\n",
              " 'ISIC_0024926.jpg',\n",
              " 'ISIC_0024927.jpg',\n",
              " 'ISIC_0024928.jpg',\n",
              " 'ISIC_0024929.jpg',\n",
              " 'ISIC_0024930.jpg',\n",
              " 'ISIC_0024931.jpg',\n",
              " 'ISIC_0024932.jpg',\n",
              " 'ISIC_0024933.jpg',\n",
              " 'ISIC_0024934.jpg',\n",
              " 'ISIC_0024935.jpg',\n",
              " 'ISIC_0024936.jpg',\n",
              " 'ISIC_0024937.jpg',\n",
              " 'ISIC_0024938.jpg',\n",
              " 'ISIC_0024939.jpg',\n",
              " 'ISIC_0024940.jpg',\n",
              " 'ISIC_0024941.jpg',\n",
              " 'ISIC_0024942.jpg',\n",
              " 'ISIC_0024943.jpg',\n",
              " 'ISIC_0024944.jpg',\n",
              " 'ISIC_0024945.jpg',\n",
              " 'ISIC_0024946.jpg',\n",
              " 'ISIC_0024947.jpg',\n",
              " 'ISIC_0024948.jpg',\n",
              " 'ISIC_0024949.jpg',\n",
              " 'ISIC_0024950.jpg',\n",
              " 'ISIC_0024951.jpg',\n",
              " 'ISIC_0024952.jpg',\n",
              " 'ISIC_0024953.jpg',\n",
              " 'ISIC_0024954.jpg',\n",
              " 'ISIC_0024955.jpg',\n",
              " 'ISIC_0024956.jpg',\n",
              " 'ISIC_0024957.jpg',\n",
              " 'ISIC_0024958.jpg',\n",
              " 'ISIC_0024959.jpg',\n",
              " 'ISIC_0024960.jpg',\n",
              " 'ISIC_0024961.jpg',\n",
              " 'ISIC_0024962.jpg',\n",
              " 'ISIC_0024963.jpg',\n",
              " 'ISIC_0024964.jpg',\n",
              " 'ISIC_0024965.jpg',\n",
              " 'ISIC_0024966.jpg',\n",
              " 'ISIC_0024967.jpg',\n",
              " 'ISIC_0024968.jpg',\n",
              " 'ISIC_0024969.jpg',\n",
              " 'ISIC_0024970.jpg',\n",
              " 'ISIC_0024971.jpg',\n",
              " 'ISIC_0024972.jpg',\n",
              " 'ISIC_0024973.jpg',\n",
              " 'ISIC_0024974.jpg',\n",
              " 'ISIC_0024975.jpg',\n",
              " 'ISIC_0024976.jpg',\n",
              " 'ISIC_0024977.jpg',\n",
              " 'ISIC_0024978.jpg',\n",
              " 'ISIC_0024979.jpg',\n",
              " 'ISIC_0024980.jpg',\n",
              " 'ISIC_0024981.jpg',\n",
              " 'ISIC_0024982.jpg',\n",
              " 'ISIC_0024983.jpg',\n",
              " 'ISIC_0024984.jpg',\n",
              " 'ISIC_0024985.jpg',\n",
              " 'ISIC_0024986.jpg',\n",
              " 'ISIC_0024987.jpg',\n",
              " 'ISIC_0024988.jpg',\n",
              " 'ISIC_0024989.jpg',\n",
              " 'ISIC_0024990.jpg',\n",
              " 'ISIC_0024991.jpg',\n",
              " 'ISIC_0024992.jpg',\n",
              " 'ISIC_0024993.jpg',\n",
              " 'ISIC_0024994.jpg',\n",
              " 'ISIC_0024995.jpg',\n",
              " 'ISIC_0024996.jpg',\n",
              " 'ISIC_0024997.jpg',\n",
              " 'ISIC_0024998.jpg',\n",
              " 'ISIC_0024999.jpg',\n",
              " 'ISIC_0025000.jpg',\n",
              " 'ISIC_0025001.jpg',\n",
              " 'ISIC_0025002.jpg',\n",
              " 'ISIC_0025003.jpg',\n",
              " 'ISIC_0025004.jpg',\n",
              " 'ISIC_0025005.jpg',\n",
              " 'ISIC_0025006.jpg',\n",
              " 'ISIC_0025007.jpg',\n",
              " 'ISIC_0025008.jpg',\n",
              " 'ISIC_0025009.jpg',\n",
              " 'ISIC_0025010.jpg',\n",
              " 'ISIC_0025011.jpg',\n",
              " 'ISIC_0025012.jpg',\n",
              " 'ISIC_0025013.jpg',\n",
              " 'ISIC_0025014.jpg',\n",
              " 'ISIC_0025015.jpg',\n",
              " 'ISIC_0025016.jpg',\n",
              " 'ISIC_0025017.jpg',\n",
              " 'ISIC_0025018.jpg',\n",
              " 'ISIC_0025019.jpg',\n",
              " 'ISIC_0025020.jpg',\n",
              " 'ISIC_0025021.jpg',\n",
              " 'ISIC_0025022.jpg',\n",
              " 'ISIC_0025023.jpg',\n",
              " 'ISIC_0025024.jpg',\n",
              " 'ISIC_0025025.jpg',\n",
              " 'ISIC_0025026.jpg',\n",
              " 'ISIC_0025027.jpg',\n",
              " 'ISIC_0025028.jpg',\n",
              " 'ISIC_0025029.jpg',\n",
              " 'ISIC_0025030.jpg',\n",
              " 'ISIC_0025031.jpg',\n",
              " 'ISIC_0025032.jpg',\n",
              " 'ISIC_0025033.jpg',\n",
              " 'ISIC_0025034.jpg',\n",
              " 'ISIC_0025035.jpg',\n",
              " 'ISIC_0025036.jpg',\n",
              " 'ISIC_0025037.jpg',\n",
              " 'ISIC_0025038.jpg',\n",
              " 'ISIC_0025039.jpg',\n",
              " 'ISIC_0025040.jpg',\n",
              " 'ISIC_0025041.jpg',\n",
              " 'ISIC_0025042.jpg',\n",
              " 'ISIC_0025043.jpg',\n",
              " 'ISIC_0025044.jpg',\n",
              " 'ISIC_0025045.jpg',\n",
              " 'ISIC_0025046.jpg',\n",
              " 'ISIC_0025047.jpg',\n",
              " 'ISIC_0025048.jpg',\n",
              " 'ISIC_0025049.jpg',\n",
              " 'ISIC_0025050.jpg',\n",
              " 'ISIC_0025051.jpg',\n",
              " 'ISIC_0025052.jpg',\n",
              " 'ISIC_0025053.jpg',\n",
              " 'ISIC_0025054.jpg',\n",
              " 'ISIC_0025055.jpg',\n",
              " 'ISIC_0025056.jpg',\n",
              " 'ISIC_0025057.jpg',\n",
              " 'ISIC_0025058.jpg',\n",
              " 'ISIC_0025059.jpg',\n",
              " 'ISIC_0025060.jpg',\n",
              " 'ISIC_0025061.jpg',\n",
              " 'ISIC_0025062.jpg',\n",
              " 'ISIC_0025063.jpg',\n",
              " 'ISIC_0025064.jpg',\n",
              " 'ISIC_0025065.jpg',\n",
              " 'ISIC_0025066.jpg',\n",
              " 'ISIC_0025067.jpg',\n",
              " 'ISIC_0025068.jpg',\n",
              " 'ISIC_0025069.jpg',\n",
              " 'ISIC_0025070.jpg',\n",
              " 'ISIC_0025071.jpg',\n",
              " 'ISIC_0025072.jpg',\n",
              " 'ISIC_0025073.jpg',\n",
              " 'ISIC_0025074.jpg',\n",
              " 'ISIC_0025075.jpg',\n",
              " 'ISIC_0025076.jpg',\n",
              " 'ISIC_0025077.jpg',\n",
              " 'ISIC_0025078.jpg',\n",
              " 'ISIC_0025079.jpg',\n",
              " 'ISIC_0025080.jpg',\n",
              " 'ISIC_0025081.jpg',\n",
              " 'ISIC_0025082.jpg',\n",
              " 'ISIC_0025083.jpg',\n",
              " 'ISIC_0025084.jpg',\n",
              " 'ISIC_0025085.jpg',\n",
              " 'ISIC_0025086.jpg',\n",
              " 'ISIC_0025087.jpg',\n",
              " 'ISIC_0025088.jpg',\n",
              " 'ISIC_0025089.jpg',\n",
              " 'ISIC_0025090.jpg',\n",
              " 'ISIC_0025091.jpg',\n",
              " 'ISIC_0025092.jpg',\n",
              " 'ISIC_0025093.jpg',\n",
              " 'ISIC_0025094.jpg',\n",
              " 'ISIC_0025095.jpg',\n",
              " 'ISIC_0025096.jpg',\n",
              " 'ISIC_0025097.jpg',\n",
              " 'ISIC_0025098.jpg',\n",
              " 'ISIC_0025099.jpg',\n",
              " 'ISIC_0025100.jpg',\n",
              " 'ISIC_0025101.jpg',\n",
              " 'ISIC_0025102.jpg',\n",
              " 'ISIC_0025103.jpg',\n",
              " 'ISIC_0025104.jpg',\n",
              " 'ISIC_0025105.jpg',\n",
              " 'ISIC_0025106.jpg',\n",
              " 'ISIC_0025107.jpg',\n",
              " 'ISIC_0025108.jpg',\n",
              " 'ISIC_0025109.jpg',\n",
              " 'ISIC_0025110.jpg',\n",
              " 'ISIC_0025111.jpg',\n",
              " 'ISIC_0025112.jpg',\n",
              " 'ISIC_0025113.jpg',\n",
              " 'ISIC_0025114.jpg',\n",
              " 'ISIC_0025115.jpg',\n",
              " 'ISIC_0025116.jpg',\n",
              " 'ISIC_0025117.jpg',\n",
              " 'ISIC_0025118.jpg',\n",
              " 'ISIC_0025119.jpg',\n",
              " 'ISIC_0025120.jpg',\n",
              " 'ISIC_0025121.jpg',\n",
              " 'ISIC_0025122.jpg',\n",
              " 'ISIC_0025123.jpg',\n",
              " 'ISIC_0025124.jpg',\n",
              " 'ISIC_0025125.jpg',\n",
              " 'ISIC_0025126.jpg',\n",
              " 'ISIC_0025127.jpg',\n",
              " 'ISIC_0025128.jpg',\n",
              " 'ISIC_0025129.jpg',\n",
              " 'ISIC_0025130.jpg',\n",
              " 'ISIC_0025131.jpg',\n",
              " 'ISIC_0025132.jpg',\n",
              " 'ISIC_0025133.jpg',\n",
              " 'ISIC_0025134.jpg',\n",
              " 'ISIC_0025135.jpg',\n",
              " 'ISIC_0025136.jpg',\n",
              " 'ISIC_0025137.jpg',\n",
              " 'ISIC_0025138.jpg',\n",
              " 'ISIC_0025139.jpg',\n",
              " 'ISIC_0025140.jpg',\n",
              " 'ISIC_0025141.jpg',\n",
              " 'ISIC_0025142.jpg',\n",
              " 'ISIC_0025143.jpg',\n",
              " 'ISIC_0025144.jpg',\n",
              " 'ISIC_0025145.jpg',\n",
              " 'ISIC_0025146.jpg',\n",
              " 'ISIC_0025147.jpg',\n",
              " 'ISIC_0025148.jpg',\n",
              " 'ISIC_0025149.jpg',\n",
              " 'ISIC_0025150.jpg',\n",
              " 'ISIC_0025151.jpg',\n",
              " 'ISIC_0025152.jpg',\n",
              " 'ISIC_0025153.jpg',\n",
              " 'ISIC_0025154.jpg',\n",
              " 'ISIC_0025155.jpg',\n",
              " 'ISIC_0025156.jpg',\n",
              " 'ISIC_0025157.jpg',\n",
              " 'ISIC_0025158.jpg',\n",
              " 'ISIC_0025159.jpg',\n",
              " 'ISIC_0025160.jpg',\n",
              " 'ISIC_0025161.jpg',\n",
              " 'ISIC_0025162.jpg',\n",
              " 'ISIC_0025163.jpg',\n",
              " 'ISIC_0025164.jpg',\n",
              " 'ISIC_0025165.jpg',\n",
              " 'ISIC_0025166.jpg',\n",
              " 'ISIC_0025167.jpg',\n",
              " 'ISIC_0025168.jpg',\n",
              " 'ISIC_0025169.jpg',\n",
              " 'ISIC_0025170.jpg',\n",
              " 'ISIC_0025171.jpg',\n",
              " 'ISIC_0025172.jpg',\n",
              " 'ISIC_0025173.jpg',\n",
              " 'ISIC_0025174.jpg',\n",
              " 'ISIC_0025175.jpg',\n",
              " 'ISIC_0025176.jpg',\n",
              " 'ISIC_0025177.jpg',\n",
              " 'ISIC_0025178.jpg',\n",
              " 'ISIC_0025179.jpg',\n",
              " 'ISIC_0025180.jpg',\n",
              " 'ISIC_0025181.jpg',\n",
              " 'ISIC_0025182.jpg',\n",
              " 'ISIC_0025183.jpg',\n",
              " 'ISIC_0025184.jpg',\n",
              " 'ISIC_0025185.jpg',\n",
              " 'ISIC_0025186.jpg',\n",
              " 'ISIC_0025187.jpg',\n",
              " 'ISIC_0025188.jpg',\n",
              " 'ISIC_0025189.jpg',\n",
              " 'ISIC_0025190.jpg',\n",
              " 'ISIC_0025191.jpg',\n",
              " 'ISIC_0025192.jpg',\n",
              " 'ISIC_0025193.jpg',\n",
              " 'ISIC_0025194.jpg',\n",
              " 'ISIC_0025195.jpg',\n",
              " 'ISIC_0025196.jpg',\n",
              " 'ISIC_0025197.jpg',\n",
              " 'ISIC_0025198.jpg',\n",
              " 'ISIC_0025199.jpg',\n",
              " 'ISIC_0025200.jpg',\n",
              " 'ISIC_0025201.jpg',\n",
              " 'ISIC_0025202.jpg',\n",
              " 'ISIC_0025203.jpg',\n",
              " 'ISIC_0025204.jpg',\n",
              " 'ISIC_0025205.jpg',\n",
              " 'ISIC_0025206.jpg',\n",
              " 'ISIC_0025207.jpg',\n",
              " 'ISIC_0025208.jpg',\n",
              " 'ISIC_0025209.jpg',\n",
              " 'ISIC_0025210.jpg',\n",
              " 'ISIC_0025211.jpg',\n",
              " 'ISIC_0025212.jpg',\n",
              " 'ISIC_0025213.jpg',\n",
              " 'ISIC_0025214.jpg',\n",
              " 'ISIC_0025215.jpg',\n",
              " 'ISIC_0025216.jpg',\n",
              " 'ISIC_0025217.jpg',\n",
              " 'ISIC_0025218.jpg',\n",
              " 'ISIC_0025219.jpg',\n",
              " 'ISIC_0025220.jpg',\n",
              " 'ISIC_0025221.jpg',\n",
              " 'ISIC_0025222.jpg',\n",
              " 'ISIC_0025223.jpg',\n",
              " 'ISIC_0025224.jpg',\n",
              " 'ISIC_0025225.jpg',\n",
              " 'ISIC_0025226.jpg',\n",
              " 'ISIC_0025227.jpg',\n",
              " 'ISIC_0025228.jpg',\n",
              " 'ISIC_0025229.jpg',\n",
              " 'ISIC_0025230.jpg',\n",
              " 'ISIC_0025231.jpg',\n",
              " 'ISIC_0025232.jpg',\n",
              " 'ISIC_0025233.jpg',\n",
              " 'ISIC_0025234.jpg',\n",
              " 'ISIC_0025235.jpg',\n",
              " 'ISIC_0025236.jpg',\n",
              " 'ISIC_0025237.jpg',\n",
              " 'ISIC_0025238.jpg',\n",
              " 'ISIC_0025239.jpg',\n",
              " 'ISIC_0025240.jpg',\n",
              " 'ISIC_0025241.jpg',\n",
              " 'ISIC_0025242.jpg',\n",
              " 'ISIC_0025243.jpg',\n",
              " 'ISIC_0025244.jpg',\n",
              " 'ISIC_0025245.jpg',\n",
              " 'ISIC_0025246.jpg',\n",
              " 'ISIC_0025247.jpg',\n",
              " 'ISIC_0025248.jpg',\n",
              " 'ISIC_0025249.jpg',\n",
              " 'ISIC_0025250.jpg',\n",
              " 'ISIC_0025251.jpg',\n",
              " 'ISIC_0025252.jpg',\n",
              " 'ISIC_0025253.jpg',\n",
              " 'ISIC_0025254.jpg',\n",
              " 'ISIC_0025255.jpg',\n",
              " 'ISIC_0025256.jpg',\n",
              " 'ISIC_0025257.jpg',\n",
              " 'ISIC_0025258.jpg',\n",
              " 'ISIC_0025259.jpg',\n",
              " 'ISIC_0025260.jpg',\n",
              " 'ISIC_0025261.jpg',\n",
              " 'ISIC_0025262.jpg',\n",
              " 'ISIC_0025263.jpg',\n",
              " 'ISIC_0025264.jpg',\n",
              " 'ISIC_0025265.jpg',\n",
              " 'ISIC_0025266.jpg',\n",
              " 'ISIC_0025267.jpg',\n",
              " 'ISIC_0025268.jpg',\n",
              " 'ISIC_0025269.jpg',\n",
              " 'ISIC_0025270.jpg',\n",
              " 'ISIC_0025271.jpg',\n",
              " 'ISIC_0025272.jpg',\n",
              " 'ISIC_0025273.jpg',\n",
              " 'ISIC_0025274.jpg',\n",
              " 'ISIC_0025275.jpg',\n",
              " 'ISIC_0025276.jpg',\n",
              " 'ISIC_0025277.jpg',\n",
              " 'ISIC_0025278.jpg',\n",
              " 'ISIC_0025279.jpg',\n",
              " 'ISIC_0025280.jpg',\n",
              " 'ISIC_0025281.jpg',\n",
              " 'ISIC_0025282.jpg',\n",
              " 'ISIC_0025283.jpg',\n",
              " 'ISIC_0025284.jpg',\n",
              " 'ISIC_0025285.jpg',\n",
              " 'ISIC_0025286.jpg',\n",
              " 'ISIC_0025287.jpg',\n",
              " 'ISIC_0025288.jpg',\n",
              " 'ISIC_0025289.jpg',\n",
              " 'ISIC_0025290.jpg',\n",
              " 'ISIC_0025291.jpg',\n",
              " 'ISIC_0025292.jpg',\n",
              " 'ISIC_0025293.jpg',\n",
              " 'ISIC_0025294.jpg',\n",
              " 'ISIC_0025295.jpg',\n",
              " 'ISIC_0025296.jpg',\n",
              " 'ISIC_0025297.jpg',\n",
              " 'ISIC_0025298.jpg',\n",
              " 'ISIC_0025299.jpg',\n",
              " 'ISIC_0025300.jpg',\n",
              " 'ISIC_0025301.jpg',\n",
              " 'ISIC_0025302.jpg',\n",
              " 'ISIC_0025303.jpg',\n",
              " 'ISIC_0025304.jpg',\n",
              " 'ISIC_0025305.jpg',\n",
              " ...]"
            ]
          },
          "metadata": {},
          "execution_count": 19
        }
      ]
    },
    {
      "cell_type": "code",
      "source": [
        "# prepare the directory for each image type\n",
        "extensions = (\"*.jpg\")\n",
        "path = []\n",
        "for extension in extensions:\n",
        "    path.extend(glob.glob(\"./image/\"+extension))"
      ],
      "metadata": {
        "id": "4wY5KZeT6f8n"
      },
      "execution_count": null,
      "outputs": []
    },
    {
      "cell_type": "code",
      "source": [
        "path[0]"
      ],
      "metadata": {
        "id": "_MFxwq_UmSI4",
        "outputId": "e635024e-f7e8-4e6d-9bc4-eb5d0e6fbc1e",
        "colab": {
          "base_uri": "https://localhost:8080/",
          "height": 35
        }
      },
      "execution_count": null,
      "outputs": [
        {
          "output_type": "execute_result",
          "data": {
            "text/plain": [
              "'./image/ISIC_0033315.jpg'"
            ],
            "application/vnd.google.colaboratory.intrinsic+json": {
              "type": "string"
            }
          },
          "metadata": {},
          "execution_count": 14
        }
      ]
    },
    {
      "cell_type": "code",
      "source": [
        "from tqdm import notebook\n",
        "\n",
        "path_2 = os.listdir(\"./image/\")\n",
        "for i in notebook.trange(len(path)):\n",
        "  if path[i].split(\"/\")[-1] in path_2:\n",
        "    continue\n",
        "  print(path[i])"
      ],
      "metadata": {
        "id": "OSZlOCFrnjOh",
        "outputId": "68f314bb-fab6-444c-b0e2-2725254e5a6e",
        "colab": {
          "base_uri": "https://localhost:8080/",
          "height": 67,
          "referenced_widgets": [
            "ffe14334089144c7bd9c86810c645ecd",
            "19d3c457b2c24441a98d3b5075e9ef49",
            "bd4f6b0d8a2e4e79ad77f72a6b89f2a3",
            "cc66233def184ebaaae06f80b7208005",
            "b4e2959b0b8844f3b824559217d3af2f",
            "2540e4d190c849719ca889a7733f91a0",
            "39cfc8b805b24db1a7e7e6fdeb9ea594",
            "3acc3119f1294b38bfa9f75dce5af265",
            "6d464b2ab4f446d382b0d076882dcecb",
            "26f521682636454cbf996aa6a58bbd22",
            "fe4e8a1558884ea087f4d9faaf522c55"
          ]
        }
      },
      "execution_count": null,
      "outputs": [
        {
          "output_type": "display_data",
          "data": {
            "text/plain": [
              "  0%|          | 0/10016 [00:00<?, ?it/s]"
            ],
            "application/vnd.jupyter.widget-view+json": {
              "version_major": 2,
              "version_minor": 0,
              "model_id": "ffe14334089144c7bd9c86810c645ecd"
            }
          },
          "metadata": {}
        },
        {
          "output_type": "stream",
          "name": "stdout",
          "text": [
            "./image/.\n"
          ]
        }
      ]
    },
    {
      "cell_type": "code",
      "source": [
        "# set the transforms\n",
        "trans = transforms.Compose([#transforms.ToPILImage(),\n",
        "                            transforms.Resize((224, 224)),\n",
        "                            transforms.ToTensor(),\n",
        "                            transforms.Normalize([0.485, 0.456, 0.406], [0.229, 0.224, 0.225])])"
      ],
      "metadata": {
        "id": "Zu_F2FHgGY3m"
      },
      "execution_count": 34,
      "outputs": []
    },
    {
      "cell_type": "code",
      "source": [
        "# read data\n",
        "pil_img = []\n",
        "for img in tqdm(sorted(files)):\n",
        "    # read image > to Tensor > permute the data > resize > flatten\n",
        "    n= trans(Image.open(img))\n",
        "    pil_img.append(n)"
      ],
      "metadata": {
        "id": "-n6xyPMK6f-4",
        "outputId": "a7b00751-7989-4e13-e07e-70d2ca7509b2",
        "colab": {
          "base_uri": "https://localhost:8080/",
          "height": 363
        }
      },
      "execution_count": 35,
      "outputs": [
        {
          "output_type": "stream",
          "name": "stderr",
          "text": [
            "  0%|          | 0/10015 [00:00<?, ?it/s]\n"
          ]
        },
        {
          "output_type": "error",
          "ename": "FileNotFoundError",
          "evalue": "ignored",
          "traceback": [
            "\u001b[0;31m---------------------------------------------------------------------------\u001b[0m",
            "\u001b[0;31mFileNotFoundError\u001b[0m                         Traceback (most recent call last)",
            "\u001b[0;32m<ipython-input-35-2490d0e9569c>\u001b[0m in \u001b[0;36m<module>\u001b[0;34m()\u001b[0m\n\u001b[1;32m      3\u001b[0m \u001b[0;32mfor\u001b[0m \u001b[0mimg\u001b[0m \u001b[0;32min\u001b[0m \u001b[0mtqdm\u001b[0m\u001b[0;34m(\u001b[0m\u001b[0msorted\u001b[0m\u001b[0;34m(\u001b[0m\u001b[0mfiles\u001b[0m\u001b[0;34m)\u001b[0m\u001b[0;34m)\u001b[0m\u001b[0;34m:\u001b[0m\u001b[0;34m\u001b[0m\u001b[0;34m\u001b[0m\u001b[0m\n\u001b[1;32m      4\u001b[0m     \u001b[0;31m# read image > to Tensor > permute the data > resize > flatten\u001b[0m\u001b[0;34m\u001b[0m\u001b[0;34m\u001b[0m\u001b[0;34m\u001b[0m\u001b[0m\n\u001b[0;32m----> 5\u001b[0;31m     \u001b[0mn\u001b[0m\u001b[0;34m=\u001b[0m \u001b[0mtrans\u001b[0m\u001b[0;34m(\u001b[0m\u001b[0mImage\u001b[0m\u001b[0;34m.\u001b[0m\u001b[0mopen\u001b[0m\u001b[0;34m(\u001b[0m\u001b[0mimg\u001b[0m\u001b[0;34m)\u001b[0m\u001b[0;34m)\u001b[0m\u001b[0;34m\u001b[0m\u001b[0;34m\u001b[0m\u001b[0m\n\u001b[0m\u001b[1;32m      6\u001b[0m     \u001b[0mpil_img\u001b[0m\u001b[0;34m.\u001b[0m\u001b[0mappend\u001b[0m\u001b[0;34m(\u001b[0m\u001b[0mn\u001b[0m\u001b[0;34m)\u001b[0m\u001b[0;34m\u001b[0m\u001b[0;34m\u001b[0m\u001b[0m\n",
            "\u001b[0;32m/usr/local/lib/python3.7/dist-packages/PIL/Image.py\u001b[0m in \u001b[0;36mopen\u001b[0;34m(fp, mode)\u001b[0m\n\u001b[1;32m   2841\u001b[0m \u001b[0;34m\u001b[0m\u001b[0m\n\u001b[1;32m   2842\u001b[0m     \u001b[0;32mif\u001b[0m \u001b[0mfilename\u001b[0m\u001b[0;34m:\u001b[0m\u001b[0;34m\u001b[0m\u001b[0;34m\u001b[0m\u001b[0m\n\u001b[0;32m-> 2843\u001b[0;31m         \u001b[0mfp\u001b[0m \u001b[0;34m=\u001b[0m \u001b[0mbuiltins\u001b[0m\u001b[0;34m.\u001b[0m\u001b[0mopen\u001b[0m\u001b[0;34m(\u001b[0m\u001b[0mfilename\u001b[0m\u001b[0;34m,\u001b[0m \u001b[0;34m\"rb\"\u001b[0m\u001b[0;34m)\u001b[0m\u001b[0;34m\u001b[0m\u001b[0;34m\u001b[0m\u001b[0m\n\u001b[0m\u001b[1;32m   2844\u001b[0m         \u001b[0mexclusive_fp\u001b[0m \u001b[0;34m=\u001b[0m \u001b[0;32mTrue\u001b[0m\u001b[0;34m\u001b[0m\u001b[0;34m\u001b[0m\u001b[0m\n\u001b[1;32m   2845\u001b[0m \u001b[0;34m\u001b[0m\u001b[0m\n",
            "\u001b[0;31mFileNotFoundError\u001b[0m: [Errno 2] No such file or directory: 'ISIC_0024306.jpg'"
          ]
        }
      ]
    },
    {
      "cell_type": "code",
      "source": [
        "url1 = 'https://github.com/Buuuuli/AIPI540_individual/blob/main/metadata/raw_metadata.csv?raw=true'\n",
        "df = pd.read_csv(url1,index_col=0)\n",
        "print(df.head(5))"
      ],
      "metadata": {
        "id": "K1QCZ15x16Ww",
        "outputId": "7cc1631d-5047-4141-d3ce-d2354cd799b9",
        "colab": {
          "base_uri": "https://localhost:8080/"
        }
      },
      "execution_count": null,
      "outputs": [
        {
          "output_type": "stream",
          "name": "stdout",
          "text": [
            "                 image_id   dx    dx_type   age     sex     localization\n",
            "lesion_id                                                               \n",
            "HAM_0000550  ISIC_0024306   nv  follow_up  45.0    male            trunk\n",
            "HAM_0003577  ISIC_0024307   nv  follow_up  50.0    male  lower extremity\n",
            "HAM_0001477  ISIC_0024308   nv  follow_up  55.0  female            trunk\n",
            "HAM_0000484  ISIC_0024309   nv  follow_up  40.0    male            trunk\n",
            "HAM_0003350  ISIC_0024310  mel      histo  60.0    male            chest\n"
          ]
        }
      ]
    },
    {
      "cell_type": "code",
      "source": [
        "# group age\n",
        "bins =[0,10,20,30,40,50,60,70,80,90]\n",
        "labels = ['children','teenage','young','adult','midage','old1','old2','old3','older']\n",
        "\n",
        "df['ageGroup'] = pd.cut(df['age'], bins=bins, labels=labels, right=False)\n",
        "\n",
        "df = df.drop(\"age\", axis=1)"
      ],
      "metadata": {
        "id": "SsPUTFIy16aA"
      },
      "execution_count": null,
      "outputs": []
    },
    {
      "cell_type": "code",
      "source": [
        "# {0: 'akiec', 1: 'bcc', 2: 'bkl', 3: 'df', 4: 'mel', 5: 'nv', 6: 'vasc'}\n",
        "dx_dict = dict(enumerate(df['dx'].astype('category').cat.categories))\n",
        "\n",
        "# {0: 'confocal', 1: 'consensus', 2: 'follow_up', 3: 'histo'}\n",
        "dx_type_dict = dict(enumerate(df['dx_type'].astype('category').cat.categories))\n",
        "\n",
        "# {0: 'female', 1: 'male', 2: 'unknown'}\n",
        "sex_dict = dict(enumerate(df['sex'].astype('category').cat.categories))\n",
        "\n",
        "# {0: 'abdomen', 1: 'acral', 2: 'back', 3: 'chest', 4: 'ear',\n",
        "# 5: 'face', 6: 'foot', 7: 'genital', 8: 'hand', 9: 'lower extremity',\n",
        "# 10: 'neck', 11: 'scalp', 12: 'trunk', 13: 'unknown', 14: 'upper extremity'}\n",
        "localization_dict = dict(enumerate(df['localization'].astype('category').cat.categories))\n",
        "\n",
        "# {0: 'children', 1: 'teenage', 2: 'young', 3: 'adult', 4: 'midage',\n",
        "# 5: 'old', 6: 'old2', 7: 'old3', 8: 'older'}\n",
        "ageGroup_dict = dict(enumerate(df['ageGroup'].astype('category').cat.categories))"
      ],
      "metadata": {
        "id": "MSomlCAm2QQV"
      },
      "execution_count": null,
      "outputs": []
    },
    {
      "cell_type": "code",
      "source": [
        "# encode 'dx','dx_type','sex', 'localization'\n",
        "for col in ['dx','dx_type','sex','localization','ageGroup']:\n",
        "    df[col] = df[col].astype('category') # Convert to category type\n",
        "    df[col] = df[col].cat.codes # Convert to numerical code"
      ],
      "metadata": {
        "id": "uVb2Tp832QSs"
      },
      "execution_count": null,
      "outputs": []
    },
    {
      "cell_type": "code",
      "source": [
        "len(cv_img)"
      ],
      "metadata": {
        "id": "Hj7I0cOH33-V",
        "outputId": "3b9083fd-caf7-4413-bd78-5bf202e098e0",
        "colab": {
          "base_uri": "https://localhost:8080/"
        }
      },
      "execution_count": null,
      "outputs": [
        {
          "output_type": "execute_result",
          "data": {
            "text/plain": [
              "10016"
            ]
          },
          "metadata": {},
          "execution_count": 42
        }
      ]
    },
    {
      "cell_type": "code",
      "source": [
        "len(df)"
      ],
      "metadata": {
        "id": "OuyeS_or3_Pu",
        "outputId": "fb59e59f-3739-44d3-b1eb-ea95cab35d02",
        "colab": {
          "base_uri": "https://localhost:8080/"
        }
      },
      "execution_count": null,
      "outputs": [
        {
          "output_type": "execute_result",
          "data": {
            "text/plain": [
              "10015"
            ]
          },
          "metadata": {},
          "execution_count": 43
        }
      ]
    },
    {
      "cell_type": "code",
      "source": [
        "dict_image = {cv_img[i]: df[col][i] for i in range(len(cv_img))}"
      ],
      "metadata": {
        "id": "ZsfrzCJs2QUv",
        "outputId": "ba7b7ec7-a3b3-48c3-fb15-68dbefb2d039",
        "colab": {
          "base_uri": "https://localhost:8080/",
          "height": 317
        }
      },
      "execution_count": null,
      "outputs": [
        {
          "output_type": "error",
          "ename": "IndexError",
          "evalue": "ignored",
          "traceback": [
            "\u001b[0;31m---------------------------------------------------------------------------\u001b[0m",
            "\u001b[0;31mIndexError\u001b[0m                                Traceback (most recent call last)",
            "\u001b[0;32m<ipython-input-41-2875781e5acc>\u001b[0m in \u001b[0;36m<module>\u001b[0;34m()\u001b[0m\n\u001b[0;32m----> 1\u001b[0;31m \u001b[0mdict_image\u001b[0m \u001b[0;34m=\u001b[0m \u001b[0;34m{\u001b[0m\u001b[0mcv_img\u001b[0m\u001b[0;34m[\u001b[0m\u001b[0mi\u001b[0m\u001b[0;34m]\u001b[0m\u001b[0;34m:\u001b[0m \u001b[0mdf\u001b[0m\u001b[0;34m[\u001b[0m\u001b[0mcol\u001b[0m\u001b[0;34m]\u001b[0m\u001b[0;34m[\u001b[0m\u001b[0mi\u001b[0m\u001b[0;34m]\u001b[0m \u001b[0;32mfor\u001b[0m \u001b[0mi\u001b[0m \u001b[0;32min\u001b[0m \u001b[0mrange\u001b[0m\u001b[0;34m(\u001b[0m\u001b[0mlen\u001b[0m\u001b[0;34m(\u001b[0m\u001b[0mcv_img\u001b[0m\u001b[0;34m)\u001b[0m\u001b[0;34m)\u001b[0m\u001b[0;34m}\u001b[0m\u001b[0;34m\u001b[0m\u001b[0;34m\u001b[0m\u001b[0m\n\u001b[0m",
            "\u001b[0;32m<ipython-input-41-2875781e5acc>\u001b[0m in \u001b[0;36m<dictcomp>\u001b[0;34m(.0)\u001b[0m\n\u001b[0;32m----> 1\u001b[0;31m \u001b[0mdict_image\u001b[0m \u001b[0;34m=\u001b[0m \u001b[0;34m{\u001b[0m\u001b[0mcv_img\u001b[0m\u001b[0;34m[\u001b[0m\u001b[0mi\u001b[0m\u001b[0;34m]\u001b[0m\u001b[0;34m:\u001b[0m \u001b[0mdf\u001b[0m\u001b[0;34m[\u001b[0m\u001b[0mcol\u001b[0m\u001b[0;34m]\u001b[0m\u001b[0;34m[\u001b[0m\u001b[0mi\u001b[0m\u001b[0;34m]\u001b[0m \u001b[0;32mfor\u001b[0m \u001b[0mi\u001b[0m \u001b[0;32min\u001b[0m \u001b[0mrange\u001b[0m\u001b[0;34m(\u001b[0m\u001b[0mlen\u001b[0m\u001b[0;34m(\u001b[0m\u001b[0mcv_img\u001b[0m\u001b[0;34m)\u001b[0m\u001b[0;34m)\u001b[0m\u001b[0;34m}\u001b[0m\u001b[0;34m\u001b[0m\u001b[0;34m\u001b[0m\u001b[0m\n\u001b[0m",
            "\u001b[0;32m/usr/local/lib/python3.7/dist-packages/pandas/core/series.py\u001b[0m in \u001b[0;36m__getitem__\u001b[0;34m(self, key)\u001b[0m\n\u001b[1;32m    937\u001b[0m \u001b[0;34m\u001b[0m\u001b[0m\n\u001b[1;32m    938\u001b[0m         \u001b[0;32mif\u001b[0m \u001b[0mis_integer\u001b[0m\u001b[0;34m(\u001b[0m\u001b[0mkey\u001b[0m\u001b[0;34m)\u001b[0m \u001b[0;32mand\u001b[0m \u001b[0mself\u001b[0m\u001b[0;34m.\u001b[0m\u001b[0mindex\u001b[0m\u001b[0;34m.\u001b[0m\u001b[0m_should_fallback_to_positional\u001b[0m\u001b[0;34m(\u001b[0m\u001b[0;34m)\u001b[0m\u001b[0;34m:\u001b[0m\u001b[0;34m\u001b[0m\u001b[0;34m\u001b[0m\u001b[0m\n\u001b[0;32m--> 939\u001b[0;31m             \u001b[0;32mreturn\u001b[0m \u001b[0mself\u001b[0m\u001b[0;34m.\u001b[0m\u001b[0m_values\u001b[0m\u001b[0;34m[\u001b[0m\u001b[0mkey\u001b[0m\u001b[0;34m]\u001b[0m\u001b[0;34m\u001b[0m\u001b[0;34m\u001b[0m\u001b[0m\n\u001b[0m\u001b[1;32m    940\u001b[0m \u001b[0;34m\u001b[0m\u001b[0m\n\u001b[1;32m    941\u001b[0m         \u001b[0;32melif\u001b[0m \u001b[0mkey_is_scalar\u001b[0m\u001b[0;34m:\u001b[0m\u001b[0;34m\u001b[0m\u001b[0;34m\u001b[0m\u001b[0m\n",
            "\u001b[0;31mIndexError\u001b[0m: index 10015 is out of bounds for axis 0 with size 10015"
          ]
        }
      ]
    },
    {
      "cell_type": "code",
      "source": [
        ""
      ],
      "metadata": {
        "id": "c4CSzwmi2QXI"
      },
      "execution_count": null,
      "outputs": []
    },
    {
      "cell_type": "code",
      "source": [
        ""
      ],
      "metadata": {
        "id": "AY_07a1z2QZA"
      },
      "execution_count": null,
      "outputs": []
    },
    {
      "cell_type": "code",
      "source": [
        ""
      ],
      "metadata": {
        "id": "TIIwstHW2Qa6"
      },
      "execution_count": null,
      "outputs": []
    },
    {
      "cell_type": "code",
      "source": [
        ""
      ],
      "metadata": {
        "id": "eE_08Pdw2QdA"
      },
      "execution_count": null,
      "outputs": []
    },
    {
      "cell_type": "code",
      "source": [
        ""
      ],
      "metadata": {
        "id": "1RvSvJF016cR"
      },
      "execution_count": null,
      "outputs": []
    },
    {
      "cell_type": "code",
      "source": [
        "train_image, test_image = train_test_split(cv_img, test_size=0.2,shuffle=True ,random_state=45)"
      ],
      "metadata": {
        "id": "6J-4GSqrrttw"
      },
      "execution_count": null,
      "outputs": []
    },
    {
      "cell_type": "code",
      "source": [
        "batch_size = 16\n",
        "train_loader_resnet = DataLoader(train_image,batch_size=batch_size, shuffle=False)\n",
        "test_loader_resnet = DataLoader(test_image,batch_size=batch_size, shuffle=False)"
      ],
      "metadata": {
        "id": "G1IBOtW68m1A"
      },
      "execution_count": null,
      "outputs": []
    },
    {
      "cell_type": "code",
      "source": [
        "# Set random seeds for reproducibility\n",
        "torch.manual_seed(0)\n",
        "if torch.cuda.is_available():\n",
        "    torch.cuda.manual_seed(0)"
      ],
      "metadata": {
        "id": "wfeGr6OHt6XG"
      },
      "execution_count": null,
      "outputs": []
    },
    {
      "cell_type": "code",
      "source": [
        "#with open('./read_imgs.pkl','wb') as fp:\n",
        "  #pkl.dump(cv_img,fp)"
      ],
      "metadata": {
        "id": "quux7fOjOHbJ"
      },
      "execution_count": null,
      "outputs": []
    },
    {
      "cell_type": "code",
      "source": [
        "#with open('./read_imgs.pkl', 'rb') as fp:\n",
        "  #imgs = pkl.load(fp)"
      ],
      "metadata": {
        "id": "u9a1h8MiCkUK"
      },
      "execution_count": null,
      "outputs": []
    },
    {
      "cell_type": "code",
      "source": [
        "def train_model(model,criterion,optimizer,train_loader,n_epochs,device):\n",
        "    \n",
        "    loss_over_time = [] # to track the loss as the network trains\n",
        "    \n",
        "    model = model.to(device) # Send model to GPU if available\n",
        "    model.train() # Set the model to training mode\n",
        "    \n",
        "    for epoch in range(n_epochs):  # loop over the dataset multiple times\n",
        "        \n",
        "        running_loss = 0.0\n",
        "        \n",
        "        for i, data in enumerate(train_loader):\n",
        "            \n",
        "            # Get the input images and labels, and send to GPU if available\n",
        "            inputs, labels = data[0].to(device), data[1].to(device)\n",
        "\n",
        "            # Zero the weight gradients\n",
        "            optimizer.zero_grad()\n",
        "\n",
        "            # Forward pass to get outputs\n",
        "            outputs = model(inputs)\n",
        "\n",
        "            # Calculate the loss\n",
        "            loss = criterion(outputs, labels)\n",
        "\n",
        "            # Backpropagation to get the gradients with respect to each weight\n",
        "            loss.backward()\n",
        "\n",
        "            # Update the weights\n",
        "            optimizer.step()\n",
        "\n",
        "            # Convert loss into a scalar and add it to running_loss\n",
        "            running_loss += loss.item()\n",
        "            \n",
        "            if i % 1000 == 999:    # print every 1000 batches\n",
        "                avg_loss = running_loss/1000\n",
        "                # record and print the avg loss over the 1000 batches\n",
        "                loss_over_time.append(avg_loss)\n",
        "                print('Epoch: {}, Batch: {}, Avg. Loss: {:.4f}'.format(epoch + 1, i+1, avg_loss))\n",
        "                running_loss = 0.0\n",
        "\n",
        "    return loss_over_time"
      ],
      "metadata": {
        "id": "kx2Tn2G5D4vP"
      },
      "execution_count": null,
      "outputs": []
    },
    {
      "cell_type": "code",
      "source": [
        "def test_model(model,test_loader,device):\n",
        "    model = model.to(device)\n",
        "    # Turn autograd off\n",
        "    with torch.no_grad():\n",
        "\n",
        "        # Set the model to evaluation mode\n",
        "        model.eval()\n",
        "\n",
        "        # Set up lists to store true and predicted values\n",
        "        y_true = []\n",
        "        test_preds = []\n",
        "\n",
        "        # Calculate the predictions on the test set and add to list\n",
        "        for data in test_loader:\n",
        "            inputs, labels = data[0].to(device), data[1].to(device)\n",
        "            # Feed inputs through model to get raw scores\n",
        "            logits = net.forward(inputs)\n",
        "            # Convert raw scores to probabilities (not necessary since we just care about discrete probs in this case)\n",
        "            probs = F.softmax(logits,dim=1)\n",
        "            # Get discrete predictions using argmax\n",
        "            preds = np.argmax(probs.numpy(),axis=1)\n",
        "            # Add predictions and actuals to lists\n",
        "            test_preds.extend(preds)\n",
        "            y_true.extend(labels)\n",
        "\n",
        "        # Calculate the accuracy\n",
        "        test_preds = np.array(test_preds)\n",
        "        y_true = np.array(y_true)\n",
        "        test_acc = np.sum(test_preds == y_true)/y_true.shape[0]\n",
        "        \n",
        "        # Recall for each class\n",
        "        recall_vals = []\n",
        "        for i in range(10):\n",
        "            class_idx = np.argwhere(y_true==i)\n",
        "            total = len(class_idx)\n",
        "            correct = np.sum(test_preds[class_idx]==i)\n",
        "            recall = correct / total\n",
        "            recall_vals.append(recall)\n",
        "    \n",
        "    return test_acc,recall_vals"
      ],
      "metadata": {
        "id": "EFe0GSzTD4xv"
      },
      "execution_count": null,
      "outputs": []
    },
    {
      "cell_type": "code",
      "source": [
        "# Load a resnet18 pre-trained model\n",
        "model_resnet = torchvision.models.resnet18(pretrained=True)\n",
        "# Shut off autograd for all layers to freeze model so the layer weights are not trained\n",
        "for param in model_resnet.parameters():\n",
        "    param.requires_grad = False\n",
        "    \n",
        "# Replace the resnet input layer to take in grayscale images (1 input channel), since it was trained on color (3 input channels)\n",
        "in_channels = 3\n",
        "model_resnet.conv1 = nn.Conv2d(in_channels, 64, kernel_size=7, stride=2, padding=3, bias=False)\n",
        "\n",
        "# Replace the resnet final layer with a new fully connected Linear layer we will train on our task\n",
        "# Number of out units is number of classes (7)\n",
        "num_ftrs = model_resnet.fc.in_features\n",
        "model_resnet.fc = nn.Linear(num_ftrs, 7)\n",
        "\n",
        "# Train the model\n",
        "n_epochs = 3\n",
        "criterion = nn.CrossEntropyLoss()\n",
        "optimizer = optim.SGD(model_resnet.parameters(), lr=0.001)\n",
        "device = torch.device(\"cuda\" if torch.cuda.is_available() else \"cpu\")\n",
        "cost_path = train_model(model_resnet,criterion,optimizer,train_loader_resnet,n_epochs,device)\n",
        "\n",
        "# Visualize the loss as the network trained\n",
        "plt.plot(cost_path)\n",
        "plt.xlabel('Batch (1000s)')\n",
        "plt.ylabel('loss')\n",
        "plt.show()"
      ],
      "metadata": {
        "id": "bMk5_zrzuOSB",
        "outputId": "464adbc1-9c99-4ad1-de87-8debb01ca012",
        "colab": {
          "base_uri": "https://localhost:8080/",
          "height": 437,
          "referenced_widgets": [
            "8a5e9f2fdac04aa09155321bec0dd2e5",
            "c7d9384da63944cf9ef3e81caf4043ca",
            "11519d8894cc4c188624425c27c7f8f6",
            "d4c811d193e74e5ab749ed61374d490a",
            "39cf558cb48c4fcaadfc8f31f393ad6c",
            "9b5b16984f854706823f1b6f5cfbf0d8",
            "f756db424e514d87bc80fc5f11c35ddc",
            "ee5f3ae4f98d4a7494c4bd689fe1ae9c",
            "d4483ddb6dad4e52acf2513764c0fb53",
            "43724fe177884cae91e11e6dd1a60fdf",
            "7d7f7b57e08e4cc6b97cbbc136dec4f2"
          ]
        }
      },
      "execution_count": null,
      "outputs": [
        {
          "output_type": "stream",
          "name": "stderr",
          "text": [
            "Downloading: \"https://download.pytorch.org/models/resnet18-f37072fd.pth\" to /root/.cache/torch/hub/checkpoints/resnet18-f37072fd.pth\n"
          ]
        },
        {
          "output_type": "display_data",
          "data": {
            "text/plain": [
              "  0%|          | 0.00/44.7M [00:00<?, ?B/s]"
            ],
            "application/vnd.jupyter.widget-view+json": {
              "version_major": 2,
              "version_minor": 0,
              "model_id": "8a5e9f2fdac04aa09155321bec0dd2e5"
            }
          },
          "metadata": {}
        },
        {
          "output_type": "error",
          "ename": "RuntimeError",
          "evalue": "ignored",
          "traceback": [
            "\u001b[0;31m---------------------------------------------------------------------------\u001b[0m",
            "\u001b[0;31mRuntimeError\u001b[0m                              Traceback (most recent call last)",
            "\u001b[0;32m<ipython-input-20-e6ee42b29485>\u001b[0m in \u001b[0;36m<module>\u001b[0;34m()\u001b[0m\n\u001b[1;32m     19\u001b[0m \u001b[0moptimizer\u001b[0m \u001b[0;34m=\u001b[0m \u001b[0moptim\u001b[0m\u001b[0;34m.\u001b[0m\u001b[0mSGD\u001b[0m\u001b[0;34m(\u001b[0m\u001b[0mmodel_resnet\u001b[0m\u001b[0;34m.\u001b[0m\u001b[0mparameters\u001b[0m\u001b[0;34m(\u001b[0m\u001b[0;34m)\u001b[0m\u001b[0;34m,\u001b[0m \u001b[0mlr\u001b[0m\u001b[0;34m=\u001b[0m\u001b[0;36m0.001\u001b[0m\u001b[0;34m)\u001b[0m\u001b[0;34m\u001b[0m\u001b[0;34m\u001b[0m\u001b[0m\n\u001b[1;32m     20\u001b[0m \u001b[0mdevice\u001b[0m \u001b[0;34m=\u001b[0m \u001b[0mtorch\u001b[0m\u001b[0;34m.\u001b[0m\u001b[0mdevice\u001b[0m\u001b[0;34m(\u001b[0m\u001b[0;34m\"cuda\"\u001b[0m \u001b[0;32mif\u001b[0m \u001b[0mtorch\u001b[0m\u001b[0;34m.\u001b[0m\u001b[0mcuda\u001b[0m\u001b[0;34m.\u001b[0m\u001b[0mis_available\u001b[0m\u001b[0;34m(\u001b[0m\u001b[0;34m)\u001b[0m \u001b[0;32melse\u001b[0m \u001b[0;34m\"cpu\"\u001b[0m\u001b[0;34m)\u001b[0m\u001b[0;34m\u001b[0m\u001b[0;34m\u001b[0m\u001b[0m\n\u001b[0;32m---> 21\u001b[0;31m \u001b[0mcost_path\u001b[0m \u001b[0;34m=\u001b[0m \u001b[0mtrain_model\u001b[0m\u001b[0;34m(\u001b[0m\u001b[0mmodel_resnet\u001b[0m\u001b[0;34m,\u001b[0m\u001b[0mcriterion\u001b[0m\u001b[0;34m,\u001b[0m\u001b[0moptimizer\u001b[0m\u001b[0;34m,\u001b[0m\u001b[0mtrain_loader_resnet\u001b[0m\u001b[0;34m,\u001b[0m\u001b[0mn_epochs\u001b[0m\u001b[0;34m,\u001b[0m\u001b[0mdevice\u001b[0m\u001b[0;34m)\u001b[0m\u001b[0;34m\u001b[0m\u001b[0;34m\u001b[0m\u001b[0m\n\u001b[0m\u001b[1;32m     22\u001b[0m \u001b[0;34m\u001b[0m\u001b[0m\n\u001b[1;32m     23\u001b[0m \u001b[0;31m# Visualize the loss as the network trained\u001b[0m\u001b[0;34m\u001b[0m\u001b[0;34m\u001b[0m\u001b[0;34m\u001b[0m\u001b[0m\n",
            "\u001b[0;32m<ipython-input-18-176943d1c2ff>\u001b[0m in \u001b[0;36mtrain_model\u001b[0;34m(model, criterion, optimizer, train_loader, n_epochs, device)\u001b[0m\n\u001b[1;32m     19\u001b[0m \u001b[0;34m\u001b[0m\u001b[0m\n\u001b[1;32m     20\u001b[0m             \u001b[0;31m# Forward pass to get outputs\u001b[0m\u001b[0;34m\u001b[0m\u001b[0;34m\u001b[0m\u001b[0;34m\u001b[0m\u001b[0m\n\u001b[0;32m---> 21\u001b[0;31m             \u001b[0moutputs\u001b[0m \u001b[0;34m=\u001b[0m \u001b[0mmodel\u001b[0m\u001b[0;34m(\u001b[0m\u001b[0minputs\u001b[0m\u001b[0;34m)\u001b[0m\u001b[0;34m\u001b[0m\u001b[0;34m\u001b[0m\u001b[0m\n\u001b[0m\u001b[1;32m     22\u001b[0m \u001b[0;34m\u001b[0m\u001b[0m\n\u001b[1;32m     23\u001b[0m             \u001b[0;31m# Calculate the loss\u001b[0m\u001b[0;34m\u001b[0m\u001b[0;34m\u001b[0m\u001b[0;34m\u001b[0m\u001b[0m\n",
            "\u001b[0;32m/usr/local/lib/python3.7/dist-packages/torch/nn/modules/module.py\u001b[0m in \u001b[0;36m_call_impl\u001b[0;34m(self, *input, **kwargs)\u001b[0m\n\u001b[1;32m   1100\u001b[0m         if not (self._backward_hooks or self._forward_hooks or self._forward_pre_hooks or _global_backward_hooks\n\u001b[1;32m   1101\u001b[0m                 or _global_forward_hooks or _global_forward_pre_hooks):\n\u001b[0;32m-> 1102\u001b[0;31m             \u001b[0;32mreturn\u001b[0m \u001b[0mforward_call\u001b[0m\u001b[0;34m(\u001b[0m\u001b[0;34m*\u001b[0m\u001b[0minput\u001b[0m\u001b[0;34m,\u001b[0m \u001b[0;34m**\u001b[0m\u001b[0mkwargs\u001b[0m\u001b[0;34m)\u001b[0m\u001b[0;34m\u001b[0m\u001b[0;34m\u001b[0m\u001b[0m\n\u001b[0m\u001b[1;32m   1103\u001b[0m         \u001b[0;31m# Do not call functions when jit is used\u001b[0m\u001b[0;34m\u001b[0m\u001b[0;34m\u001b[0m\u001b[0;34m\u001b[0m\u001b[0m\n\u001b[1;32m   1104\u001b[0m         \u001b[0mfull_backward_hooks\u001b[0m\u001b[0;34m,\u001b[0m \u001b[0mnon_full_backward_hooks\u001b[0m \u001b[0;34m=\u001b[0m \u001b[0;34m[\u001b[0m\u001b[0;34m]\u001b[0m\u001b[0;34m,\u001b[0m \u001b[0;34m[\u001b[0m\u001b[0;34m]\u001b[0m\u001b[0;34m\u001b[0m\u001b[0;34m\u001b[0m\u001b[0m\n",
            "\u001b[0;32m/usr/local/lib/python3.7/dist-packages/torchvision/models/resnet.py\u001b[0m in \u001b[0;36mforward\u001b[0;34m(self, x)\u001b[0m\n\u001b[1;32m    247\u001b[0m \u001b[0;34m\u001b[0m\u001b[0m\n\u001b[1;32m    248\u001b[0m     \u001b[0;32mdef\u001b[0m \u001b[0mforward\u001b[0m\u001b[0;34m(\u001b[0m\u001b[0mself\u001b[0m\u001b[0;34m,\u001b[0m \u001b[0mx\u001b[0m\u001b[0;34m:\u001b[0m \u001b[0mTensor\u001b[0m\u001b[0;34m)\u001b[0m \u001b[0;34m->\u001b[0m \u001b[0mTensor\u001b[0m\u001b[0;34m:\u001b[0m\u001b[0;34m\u001b[0m\u001b[0;34m\u001b[0m\u001b[0m\n\u001b[0;32m--> 249\u001b[0;31m         \u001b[0;32mreturn\u001b[0m \u001b[0mself\u001b[0m\u001b[0;34m.\u001b[0m\u001b[0m_forward_impl\u001b[0m\u001b[0;34m(\u001b[0m\u001b[0mx\u001b[0m\u001b[0;34m)\u001b[0m\u001b[0;34m\u001b[0m\u001b[0;34m\u001b[0m\u001b[0m\n\u001b[0m\u001b[1;32m    250\u001b[0m \u001b[0;34m\u001b[0m\u001b[0m\n\u001b[1;32m    251\u001b[0m \u001b[0;34m\u001b[0m\u001b[0m\n",
            "\u001b[0;32m/usr/local/lib/python3.7/dist-packages/torchvision/models/resnet.py\u001b[0m in \u001b[0;36m_forward_impl\u001b[0;34m(self, x)\u001b[0m\n\u001b[1;32m    230\u001b[0m     \u001b[0;32mdef\u001b[0m \u001b[0m_forward_impl\u001b[0m\u001b[0;34m(\u001b[0m\u001b[0mself\u001b[0m\u001b[0;34m,\u001b[0m \u001b[0mx\u001b[0m\u001b[0;34m:\u001b[0m \u001b[0mTensor\u001b[0m\u001b[0;34m)\u001b[0m \u001b[0;34m->\u001b[0m \u001b[0mTensor\u001b[0m\u001b[0;34m:\u001b[0m\u001b[0;34m\u001b[0m\u001b[0;34m\u001b[0m\u001b[0m\n\u001b[1;32m    231\u001b[0m         \u001b[0;31m# See note [TorchScript super()]\u001b[0m\u001b[0;34m\u001b[0m\u001b[0;34m\u001b[0m\u001b[0;34m\u001b[0m\u001b[0m\n\u001b[0;32m--> 232\u001b[0;31m         \u001b[0mx\u001b[0m \u001b[0;34m=\u001b[0m \u001b[0mself\u001b[0m\u001b[0;34m.\u001b[0m\u001b[0mconv1\u001b[0m\u001b[0;34m(\u001b[0m\u001b[0mx\u001b[0m\u001b[0;34m)\u001b[0m\u001b[0;34m\u001b[0m\u001b[0;34m\u001b[0m\u001b[0m\n\u001b[0m\u001b[1;32m    233\u001b[0m         \u001b[0mx\u001b[0m \u001b[0;34m=\u001b[0m \u001b[0mself\u001b[0m\u001b[0;34m.\u001b[0m\u001b[0mbn1\u001b[0m\u001b[0;34m(\u001b[0m\u001b[0mx\u001b[0m\u001b[0;34m)\u001b[0m\u001b[0;34m\u001b[0m\u001b[0;34m\u001b[0m\u001b[0m\n\u001b[1;32m    234\u001b[0m         \u001b[0mx\u001b[0m \u001b[0;34m=\u001b[0m \u001b[0mself\u001b[0m\u001b[0;34m.\u001b[0m\u001b[0mrelu\u001b[0m\u001b[0;34m(\u001b[0m\u001b[0mx\u001b[0m\u001b[0;34m)\u001b[0m\u001b[0;34m\u001b[0m\u001b[0;34m\u001b[0m\u001b[0m\n",
            "\u001b[0;32m/usr/local/lib/python3.7/dist-packages/torch/nn/modules/module.py\u001b[0m in \u001b[0;36m_call_impl\u001b[0;34m(self, *input, **kwargs)\u001b[0m\n\u001b[1;32m   1100\u001b[0m         if not (self._backward_hooks or self._forward_hooks or self._forward_pre_hooks or _global_backward_hooks\n\u001b[1;32m   1101\u001b[0m                 or _global_forward_hooks or _global_forward_pre_hooks):\n\u001b[0;32m-> 1102\u001b[0;31m             \u001b[0;32mreturn\u001b[0m \u001b[0mforward_call\u001b[0m\u001b[0;34m(\u001b[0m\u001b[0;34m*\u001b[0m\u001b[0minput\u001b[0m\u001b[0;34m,\u001b[0m \u001b[0;34m**\u001b[0m\u001b[0mkwargs\u001b[0m\u001b[0;34m)\u001b[0m\u001b[0;34m\u001b[0m\u001b[0;34m\u001b[0m\u001b[0m\n\u001b[0m\u001b[1;32m   1103\u001b[0m         \u001b[0;31m# Do not call functions when jit is used\u001b[0m\u001b[0;34m\u001b[0m\u001b[0;34m\u001b[0m\u001b[0;34m\u001b[0m\u001b[0m\n\u001b[1;32m   1104\u001b[0m         \u001b[0mfull_backward_hooks\u001b[0m\u001b[0;34m,\u001b[0m \u001b[0mnon_full_backward_hooks\u001b[0m \u001b[0;34m=\u001b[0m \u001b[0;34m[\u001b[0m\u001b[0;34m]\u001b[0m\u001b[0;34m,\u001b[0m \u001b[0;34m[\u001b[0m\u001b[0;34m]\u001b[0m\u001b[0;34m\u001b[0m\u001b[0;34m\u001b[0m\u001b[0m\n",
            "\u001b[0;32m/usr/local/lib/python3.7/dist-packages/torch/nn/modules/conv.py\u001b[0m in \u001b[0;36mforward\u001b[0;34m(self, input)\u001b[0m\n\u001b[1;32m    444\u001b[0m \u001b[0;34m\u001b[0m\u001b[0m\n\u001b[1;32m    445\u001b[0m     \u001b[0;32mdef\u001b[0m \u001b[0mforward\u001b[0m\u001b[0;34m(\u001b[0m\u001b[0mself\u001b[0m\u001b[0;34m,\u001b[0m \u001b[0minput\u001b[0m\u001b[0;34m:\u001b[0m \u001b[0mTensor\u001b[0m\u001b[0;34m)\u001b[0m \u001b[0;34m->\u001b[0m \u001b[0mTensor\u001b[0m\u001b[0;34m:\u001b[0m\u001b[0;34m\u001b[0m\u001b[0;34m\u001b[0m\u001b[0m\n\u001b[0;32m--> 446\u001b[0;31m         \u001b[0;32mreturn\u001b[0m \u001b[0mself\u001b[0m\u001b[0;34m.\u001b[0m\u001b[0m_conv_forward\u001b[0m\u001b[0;34m(\u001b[0m\u001b[0minput\u001b[0m\u001b[0;34m,\u001b[0m \u001b[0mself\u001b[0m\u001b[0;34m.\u001b[0m\u001b[0mweight\u001b[0m\u001b[0;34m,\u001b[0m \u001b[0mself\u001b[0m\u001b[0;34m.\u001b[0m\u001b[0mbias\u001b[0m\u001b[0;34m)\u001b[0m\u001b[0;34m\u001b[0m\u001b[0;34m\u001b[0m\u001b[0m\n\u001b[0m\u001b[1;32m    447\u001b[0m \u001b[0;34m\u001b[0m\u001b[0m\n\u001b[1;32m    448\u001b[0m \u001b[0;32mclass\u001b[0m \u001b[0mConv3d\u001b[0m\u001b[0;34m(\u001b[0m\u001b[0m_ConvNd\u001b[0m\u001b[0;34m)\u001b[0m\u001b[0;34m:\u001b[0m\u001b[0;34m\u001b[0m\u001b[0;34m\u001b[0m\u001b[0m\n",
            "\u001b[0;32m/usr/local/lib/python3.7/dist-packages/torch/nn/modules/conv.py\u001b[0m in \u001b[0;36m_conv_forward\u001b[0;34m(self, input, weight, bias)\u001b[0m\n\u001b[1;32m    441\u001b[0m                             _pair(0), self.dilation, self.groups)\n\u001b[1;32m    442\u001b[0m         return F.conv2d(input, weight, bias, self.stride,\n\u001b[0;32m--> 443\u001b[0;31m                         self.padding, self.dilation, self.groups)\n\u001b[0m\u001b[1;32m    444\u001b[0m \u001b[0;34m\u001b[0m\u001b[0m\n\u001b[1;32m    445\u001b[0m     \u001b[0;32mdef\u001b[0m \u001b[0mforward\u001b[0m\u001b[0;34m(\u001b[0m\u001b[0mself\u001b[0m\u001b[0;34m,\u001b[0m \u001b[0minput\u001b[0m\u001b[0;34m:\u001b[0m \u001b[0mTensor\u001b[0m\u001b[0;34m)\u001b[0m \u001b[0;34m->\u001b[0m \u001b[0mTensor\u001b[0m\u001b[0;34m:\u001b[0m\u001b[0;34m\u001b[0m\u001b[0;34m\u001b[0m\u001b[0m\n",
            "\u001b[0;31mRuntimeError\u001b[0m: Expected 4-dimensional input for 4-dimensional weight [64, 3, 7, 7], but got 3-dimensional input of size [3, 450, 600] instead"
          ]
        }
      ]
    },
    {
      "cell_type": "code",
      "source": [
        "# Test the pre-trained model\n",
        "acc,recall_vals = test_model(model_resnet,test_loader_resnet,device)\n",
        "print('Test set accuracy is {:.3f}'.format(acc))\n",
        "for i in range(10):\n",
        "    print('For class {}, recall is {}'.format(classes[i],recall_vals[i]))"
      ],
      "metadata": {
        "id": "yGFtPncFuOT9"
      },
      "execution_count": null,
      "outputs": []
    },
    {
      "cell_type": "code",
      "source": [
        "x = torch.randn(3, 4)"
      ],
      "metadata": {
        "id": "Ex9NiV6hD47s"
      },
      "execution_count": null,
      "outputs": []
    },
    {
      "cell_type": "code",
      "source": [
        "x"
      ],
      "metadata": {
        "id": "6bXiJwy2-QYr",
        "outputId": "8095126b-2d0c-4c8a-e03e-6817abedde1a",
        "colab": {
          "base_uri": "https://localhost:8080/"
        }
      },
      "execution_count": null,
      "outputs": [
        {
          "output_type": "execute_result",
          "data": {
            "text/plain": [
              "tensor([[ 0.0582, -0.1821, -1.9462,  1.0853],\n",
              "        [-0.0085, -0.2652,  0.7063,  1.0526],\n",
              "        [-1.4475,  0.0270, -0.4036,  0.0922]])"
            ]
          },
          "metadata": {},
          "execution_count": 31
        }
      ]
    },
    {
      "cell_type": "code",
      "source": [
        "x = torch.unsqueeze(x, dim=0)"
      ],
      "metadata": {
        "id": "VnU3QCw_-QbG"
      },
      "execution_count": null,
      "outputs": []
    },
    {
      "cell_type": "code",
      "source": [
        "x.shape"
      ],
      "metadata": {
        "id": "5NNGQ8pC-Qcy",
        "outputId": "241200d1-41b0-492b-b11a-0549c8f69605",
        "colab": {
          "base_uri": "https://localhost:8080/"
        }
      },
      "execution_count": null,
      "outputs": [
        {
          "output_type": "execute_result",
          "data": {
            "text/plain": [
              "torch.Size([1, 3, 4])"
            ]
          },
          "metadata": {},
          "execution_count": 35
        }
      ]
    },
    {
      "cell_type": "code",
      "source": [
        ""
      ],
      "metadata": {
        "id": "872NnxTX-Qez",
        "outputId": "13928eb9-56e3-4ccb-8da4-0c10ea0a89e4",
        "colab": {
          "base_uri": "https://localhost:8080/"
        }
      },
      "execution_count": null,
      "outputs": [
        {
          "output_type": "execute_result",
          "data": {
            "text/plain": [
              "torch.Size([3, 450, 600])"
            ]
          },
          "metadata": {},
          "execution_count": 36
        }
      ]
    },
    {
      "cell_type": "code",
      "source": [
        ""
      ],
      "metadata": {
        "id": "1f8mE3gx-QhA"
      },
      "execution_count": null,
      "outputs": []
    },
    {
      "cell_type": "code",
      "source": [
        "url1 = 'https://github.com/Buuuuli/AIPI540_individual/blob/main/metadata/raw_metadata.csv?raw=true'"
      ],
      "metadata": {
        "id": "Xj1WsMEED5B6"
      },
      "execution_count": null,
      "outputs": []
    },
    {
      "cell_type": "code",
      "source": [
        "url = 'https://github.com/Buuuuli/AIPI540_individual/blob/main/metadata/tidy_data.csv?raw=true'\n",
        "df = pd.read_csv(url1,index_col=0)\n",
        "print(df.head(5))"
      ],
      "metadata": {
        "id": "z2I-8vJDCzow",
        "outputId": "62bed9f2-1ef9-400b-c661-bd322ebb9d8a",
        "colab": {
          "base_uri": "https://localhost:8080/"
        }
      },
      "execution_count": null,
      "outputs": [
        {
          "output_type": "stream",
          "name": "stdout",
          "text": [
            "                 image_id   dx    dx_type   age     sex     localization\n",
            "lesion_id                                                               \n",
            "HAM_0000550  ISIC_0024306   nv  follow_up  45.0    male            trunk\n",
            "HAM_0003577  ISIC_0024307   nv  follow_up  50.0    male  lower extremity\n",
            "HAM_0001477  ISIC_0024308   nv  follow_up  55.0  female            trunk\n",
            "HAM_0000484  ISIC_0024309   nv  follow_up  40.0    male            trunk\n",
            "HAM_0003350  ISIC_0024310  mel      histo  60.0    male            chest\n"
          ]
        }
      ]
    },
    {
      "cell_type": "code",
      "source": [
        "df.dx.value_counts()"
      ],
      "metadata": {
        "id": "C0-vuuhEYIlL",
        "outputId": "681e2ec5-4a43-4626-eb8c-31ab9668774e",
        "colab": {
          "base_uri": "https://localhost:8080/"
        }
      },
      "execution_count": null,
      "outputs": [
        {
          "output_type": "execute_result",
          "data": {
            "text/plain": [
              "nv       6705\n",
              "mel      1113\n",
              "bkl      1099\n",
              "bcc       514\n",
              "akiec     327\n",
              "vasc      142\n",
              "df        115\n",
              "Name: dx, dtype: int64"
            ]
          },
          "metadata": {},
          "execution_count": 58
        }
      ]
    },
    {
      "cell_type": "code",
      "source": [
        "#df['dx'] = df['dx'].map({\"nv\":0,\"mel\":1,\"bkl\":2,\"bcc\":3,\"akiec\":4,\"vasc\":5,\"df\":6})"
      ],
      "metadata": {
        "id": "YFyb4rGnYa0x"
      },
      "execution_count": null,
      "outputs": []
    },
    {
      "cell_type": "code",
      "source": [
        "# group age\n",
        "bins =[0,10,20,30,40,50,60,70,80,90]\n",
        "labels = ['children','teenage','young','adult','midage','old1','old2','old3','older']\n",
        "\n",
        "df['ageGroup'] = pd.cut(df['age'], bins=bins, labels=labels, right=False)\n",
        "\n",
        "df = df.drop(\"age\", axis=1)"
      ],
      "metadata": {
        "id": "_t2XqEJGY7hL"
      },
      "execution_count": null,
      "outputs": []
    },
    {
      "cell_type": "code",
      "source": [
        "# {0: 'akiec', 1: 'bcc', 2: 'bkl', 3: 'df', 4: 'mel', 5: 'nv', 6: 'vasc'}\n",
        "dx_dict = dict(enumerate(df['dx'].astype('category').cat.categories))\n",
        "\n",
        "# {0: 'confocal', 1: 'consensus', 2: 'follow_up', 3: 'histo'}\n",
        "dx_type_dict = dict(enumerate(df['dx_type'].astype('category').cat.categories))\n",
        "\n",
        "# {0: 'female', 1: 'male', 2: 'unknown'}\n",
        "sex_dict = dict(enumerate(df['sex'].astype('category').cat.categories))\n",
        "\n",
        "# {0: 'abdomen', 1: 'acral', 2: 'back', 3: 'chest', 4: 'ear',\n",
        "# 5: 'face', 6: 'foot', 7: 'genital', 8: 'hand', 9: 'lower extremity',\n",
        "# 10: 'neck', 11: 'scalp', 12: 'trunk', 13: 'unknown', 14: 'upper extremity'}\n",
        "localization_dict = dict(enumerate(df['localization'].astype('category').cat.categories))\n",
        "\n",
        "# {0: 'children', 1: 'teenage', 2: 'young', 3: 'adult', 4: 'midage',\n",
        "# 5: 'old', 6: 'old2', 7: 'old3', 8: 'older'}\n",
        "ageGroup_dict = dict(enumerate(df['ageGroup'].astype('category').cat.categories))"
      ],
      "metadata": {
        "id": "vAlh13gvfnYb"
      },
      "execution_count": null,
      "outputs": []
    },
    {
      "cell_type": "code",
      "source": [
        "# encode 'dx','dx_type','sex', 'localization'\n",
        "for col in ['dx','dx_type','sex','localization','ageGroup']:\n",
        "    df[col] = df[col].astype('category') # Convert to category type\n",
        "    df[col] = df[col].cat.codes # Convert to numerical code"
      ],
      "metadata": {
        "id": "i4dNhPsKf8AF"
      },
      "execution_count": null,
      "outputs": []
    },
    {
      "cell_type": "code",
      "source": [
        "df.dx.value_counts()"
      ],
      "metadata": {
        "id": "-yxsXe5ibZQJ",
        "outputId": "24281bf6-65f5-4347-be84-f4acdd4df183",
        "colab": {
          "base_uri": "https://localhost:8080/"
        }
      },
      "execution_count": null,
      "outputs": [
        {
          "output_type": "execute_result",
          "data": {
            "text/plain": [
              "5    6705\n",
              "4    1113\n",
              "2    1099\n",
              "1     514\n",
              "0     327\n",
              "6     142\n",
              "3     115\n",
              "Name: dx, dtype: int64"
            ]
          },
          "metadata": {},
          "execution_count": 65
        }
      ]
    },
    {
      "cell_type": "code",
      "source": [
        "#df['dx_type'] = df['dx_type'].map({\"histo\":0,\"follow_up\":1,\"consensus\":2,\"confocal\":3})"
      ],
      "metadata": {
        "id": "-vdWtfAYbemg"
      },
      "execution_count": null,
      "outputs": []
    },
    {
      "cell_type": "code",
      "source": [
        "#df.sex.value_counts()"
      ],
      "metadata": {
        "id": "J6q1KWIYbtlY",
        "outputId": "8cb6bbb0-477b-437f-c4da-e69c6c68adb4",
        "colab": {
          "base_uri": "https://localhost:8080/"
        }
      },
      "execution_count": null,
      "outputs": [
        {
          "output_type": "execute_result",
          "data": {
            "text/plain": [
              "male       5406\n",
              "female     4552\n",
              "unknown      57\n",
              "Name: sex, dtype: int64"
            ]
          },
          "metadata": {},
          "execution_count": 43
        }
      ]
    },
    {
      "cell_type": "code",
      "source": [
        "#df['sex'] = df['sex'].map({\"male\":0,\"female\":1,\"unknow\":2})"
      ],
      "metadata": {
        "id": "X3eMkweRbzQL"
      },
      "execution_count": null,
      "outputs": []
    },
    {
      "cell_type": "code",
      "source": [
        "#df.localization.value_counts()"
      ],
      "metadata": {
        "id": "ZagTAQfhb6nq",
        "outputId": "d9899f52-0b9c-4916-c48b-bec993a97e22",
        "colab": {
          "base_uri": "https://localhost:8080/"
        }
      },
      "execution_count": null,
      "outputs": [
        {
          "output_type": "execute_result",
          "data": {
            "text/plain": [
              "back               2192\n",
              "lower extremity    2077\n",
              "trunk              1404\n",
              "upper extremity    1118\n",
              "abdomen            1022\n",
              "face                745\n",
              "chest               407\n",
              "foot                319\n",
              "unknown             234\n",
              "neck                168\n",
              "scalp               128\n",
              "hand                 90\n",
              "ear                  56\n",
              "genital              48\n",
              "acral                 7\n",
              "Name: localization, dtype: int64"
            ]
          },
          "metadata": {},
          "execution_count": 45
        }
      ]
    },
    {
      "cell_type": "code",
      "source": [
        "#df['localization'] = df['localization'].map({\"back\":0,\"lower extremity\":1,\"trunk\":2,\"upper extremity\":3,\"abdomen\":4,\"face\":5,\"chest\":6,\n",
        "                                             \"foot\":7,\"unkown\":8,\"neck\":9,\"scalp\":10,\"hand\":11,\"ear\":12,\"genital\":13,\"acral\":14})"
      ],
      "metadata": {
        "id": "YYuA_k08cCni"
      },
      "execution_count": null,
      "outputs": []
    },
    {
      "cell_type": "code",
      "source": [
        "#df.ageGroup.value_counts()"
      ],
      "metadata": {
        "id": "raDW3X70c64f",
        "outputId": "0bf8cf61-1984-422c-ad0e-887ba10cfafc",
        "colab": {
          "base_uri": "https://localhost:8080/"
        }
      },
      "execution_count": null,
      "outputs": [
        {
          "output_type": "execute_result",
          "data": {
            "text/plain": [
              "midage      2284\n",
              "old1        2196\n",
              "old2        1534\n",
              "old3        1374\n",
              "adult       1217\n",
              "older        694\n",
              "young        416\n",
              "children     125\n",
              "teenage      118\n",
              "Name: ageGroup, dtype: int64"
            ]
          },
          "metadata": {},
          "execution_count": 47
        }
      ]
    },
    {
      "cell_type": "code",
      "source": [
        "#df['ageGroup'] = df['ageGroup'].map({\"teenage\":0,\"children\":1,\"young\":2,\"older\":3,\"adult\":4,\"old3\":5,\"old2\":6,\n",
        "                                             \"old1\":7,\"midage\":8})"
      ],
      "metadata": {
        "id": "KS2y1Csrc_L2"
      },
      "execution_count": null,
      "outputs": []
    },
    {
      "cell_type": "code",
      "source": [
        "#df.head()"
      ],
      "metadata": {
        "id": "cEHMrdJPY7jT",
        "outputId": "8876748f-68d0-4124-82a9-2c4e261a2f86",
        "colab": {
          "base_uri": "https://localhost:8080/",
          "height": 237
        }
      },
      "execution_count": null,
      "outputs": [
        {
          "output_type": "execute_result",
          "data": {
            "text/plain": [
              "                 image_id  dx  dx_type  sex  localization ageGroup\n",
              "lesion_id                                                         \n",
              "HAM_0000550  ISIC_0024306   0        1  0.0           2.0        8\n",
              "HAM_0003577  ISIC_0024307   0        1  0.0           1.0        7\n",
              "HAM_0001477  ISIC_0024308   0        1  1.0           2.0        7\n",
              "HAM_0000484  ISIC_0024309   0        1  0.0           2.0        8\n",
              "HAM_0003350  ISIC_0024310   1        0  0.0           6.0        6"
            ],
            "text/html": [
              "\n",
              "  <div id=\"df-73bebeee-6199-423a-b00c-5e8ca2d3f0d8\">\n",
              "    <div class=\"colab-df-container\">\n",
              "      <div>\n",
              "<style scoped>\n",
              "    .dataframe tbody tr th:only-of-type {\n",
              "        vertical-align: middle;\n",
              "    }\n",
              "\n",
              "    .dataframe tbody tr th {\n",
              "        vertical-align: top;\n",
              "    }\n",
              "\n",
              "    .dataframe thead th {\n",
              "        text-align: right;\n",
              "    }\n",
              "</style>\n",
              "<table border=\"1\" class=\"dataframe\">\n",
              "  <thead>\n",
              "    <tr style=\"text-align: right;\">\n",
              "      <th></th>\n",
              "      <th>image_id</th>\n",
              "      <th>dx</th>\n",
              "      <th>dx_type</th>\n",
              "      <th>sex</th>\n",
              "      <th>localization</th>\n",
              "      <th>ageGroup</th>\n",
              "    </tr>\n",
              "    <tr>\n",
              "      <th>lesion_id</th>\n",
              "      <th></th>\n",
              "      <th></th>\n",
              "      <th></th>\n",
              "      <th></th>\n",
              "      <th></th>\n",
              "      <th></th>\n",
              "    </tr>\n",
              "  </thead>\n",
              "  <tbody>\n",
              "    <tr>\n",
              "      <th>HAM_0000550</th>\n",
              "      <td>ISIC_0024306</td>\n",
              "      <td>0</td>\n",
              "      <td>1</td>\n",
              "      <td>0.0</td>\n",
              "      <td>2.0</td>\n",
              "      <td>8</td>\n",
              "    </tr>\n",
              "    <tr>\n",
              "      <th>HAM_0003577</th>\n",
              "      <td>ISIC_0024307</td>\n",
              "      <td>0</td>\n",
              "      <td>1</td>\n",
              "      <td>0.0</td>\n",
              "      <td>1.0</td>\n",
              "      <td>7</td>\n",
              "    </tr>\n",
              "    <tr>\n",
              "      <th>HAM_0001477</th>\n",
              "      <td>ISIC_0024308</td>\n",
              "      <td>0</td>\n",
              "      <td>1</td>\n",
              "      <td>1.0</td>\n",
              "      <td>2.0</td>\n",
              "      <td>7</td>\n",
              "    </tr>\n",
              "    <tr>\n",
              "      <th>HAM_0000484</th>\n",
              "      <td>ISIC_0024309</td>\n",
              "      <td>0</td>\n",
              "      <td>1</td>\n",
              "      <td>0.0</td>\n",
              "      <td>2.0</td>\n",
              "      <td>8</td>\n",
              "    </tr>\n",
              "    <tr>\n",
              "      <th>HAM_0003350</th>\n",
              "      <td>ISIC_0024310</td>\n",
              "      <td>1</td>\n",
              "      <td>0</td>\n",
              "      <td>0.0</td>\n",
              "      <td>6.0</td>\n",
              "      <td>6</td>\n",
              "    </tr>\n",
              "  </tbody>\n",
              "</table>\n",
              "</div>\n",
              "      <button class=\"colab-df-convert\" onclick=\"convertToInteractive('df-73bebeee-6199-423a-b00c-5e8ca2d3f0d8')\"\n",
              "              title=\"Convert this dataframe to an interactive table.\"\n",
              "              style=\"display:none;\">\n",
              "        \n",
              "  <svg xmlns=\"http://www.w3.org/2000/svg\" height=\"24px\"viewBox=\"0 0 24 24\"\n",
              "       width=\"24px\">\n",
              "    <path d=\"M0 0h24v24H0V0z\" fill=\"none\"/>\n",
              "    <path d=\"M18.56 5.44l.94 2.06.94-2.06 2.06-.94-2.06-.94-.94-2.06-.94 2.06-2.06.94zm-11 1L8.5 8.5l.94-2.06 2.06-.94-2.06-.94L8.5 2.5l-.94 2.06-2.06.94zm10 10l.94 2.06.94-2.06 2.06-.94-2.06-.94-.94-2.06-.94 2.06-2.06.94z\"/><path d=\"M17.41 7.96l-1.37-1.37c-.4-.4-.92-.59-1.43-.59-.52 0-1.04.2-1.43.59L10.3 9.45l-7.72 7.72c-.78.78-.78 2.05 0 2.83L4 21.41c.39.39.9.59 1.41.59.51 0 1.02-.2 1.41-.59l7.78-7.78 2.81-2.81c.8-.78.8-2.07 0-2.86zM5.41 20L4 18.59l7.72-7.72 1.47 1.35L5.41 20z\"/>\n",
              "  </svg>\n",
              "      </button>\n",
              "      \n",
              "  <style>\n",
              "    .colab-df-container {\n",
              "      display:flex;\n",
              "      flex-wrap:wrap;\n",
              "      gap: 12px;\n",
              "    }\n",
              "\n",
              "    .colab-df-convert {\n",
              "      background-color: #E8F0FE;\n",
              "      border: none;\n",
              "      border-radius: 50%;\n",
              "      cursor: pointer;\n",
              "      display: none;\n",
              "      fill: #1967D2;\n",
              "      height: 32px;\n",
              "      padding: 0 0 0 0;\n",
              "      width: 32px;\n",
              "    }\n",
              "\n",
              "    .colab-df-convert:hover {\n",
              "      background-color: #E2EBFA;\n",
              "      box-shadow: 0px 1px 2px rgba(60, 64, 67, 0.3), 0px 1px 3px 1px rgba(60, 64, 67, 0.15);\n",
              "      fill: #174EA6;\n",
              "    }\n",
              "\n",
              "    [theme=dark] .colab-df-convert {\n",
              "      background-color: #3B4455;\n",
              "      fill: #D2E3FC;\n",
              "    }\n",
              "\n",
              "    [theme=dark] .colab-df-convert:hover {\n",
              "      background-color: #434B5C;\n",
              "      box-shadow: 0px 1px 3px 1px rgba(0, 0, 0, 0.15);\n",
              "      filter: drop-shadow(0px 1px 2px rgba(0, 0, 0, 0.3));\n",
              "      fill: #FFFFFF;\n",
              "    }\n",
              "  </style>\n",
              "\n",
              "      <script>\n",
              "        const buttonEl =\n",
              "          document.querySelector('#df-73bebeee-6199-423a-b00c-5e8ca2d3f0d8 button.colab-df-convert');\n",
              "        buttonEl.style.display =\n",
              "          google.colab.kernel.accessAllowed ? 'block' : 'none';\n",
              "\n",
              "        async function convertToInteractive(key) {\n",
              "          const element = document.querySelector('#df-73bebeee-6199-423a-b00c-5e8ca2d3f0d8');\n",
              "          const dataTable =\n",
              "            await google.colab.kernel.invokeFunction('convertToInteractive',\n",
              "                                                     [key], {});\n",
              "          if (!dataTable) return;\n",
              "\n",
              "          const docLinkHtml = 'Like what you see? Visit the ' +\n",
              "            '<a target=\"_blank\" href=https://colab.research.google.com/notebooks/data_table.ipynb>data table notebook</a>'\n",
              "            + ' to learn more about interactive tables.';\n",
              "          element.innerHTML = '';\n",
              "          dataTable['output_type'] = 'display_data';\n",
              "          await google.colab.output.renderOutput(dataTable, element);\n",
              "          const docLink = document.createElement('div');\n",
              "          docLink.innerHTML = docLinkHtml;\n",
              "          element.appendChild(docLink);\n",
              "        }\n",
              "      </script>\n",
              "    </div>\n",
              "  </div>\n",
              "  "
            ]
          },
          "metadata": {},
          "execution_count": 49
        }
      ]
    },
    {
      "cell_type": "code",
      "source": [
        "X_meta = df[['dx_type','sex','localization','ageGroup']]"
      ],
      "metadata": {
        "id": "aea1c9XdC0Hk"
      },
      "execution_count": null,
      "outputs": []
    },
    {
      "cell_type": "code",
      "source": [
        "y_meta = df[['dx']]"
      ],
      "metadata": {
        "id": "29-j-T3mU-TV"
      },
      "execution_count": null,
      "outputs": []
    },
    {
      "cell_type": "code",
      "source": [
        "X_train_meta, X_test_meta, y_train_meta, y_test_meta = train_test_split(X_meta, y_meta, test_size=0.2,shuffle=True ,random_state=45)"
      ],
      "metadata": {
        "id": "6BGE69OFU-Vt"
      },
      "execution_count": null,
      "outputs": []
    },
    {
      "cell_type": "code",
      "source": [
        "from sklearn.model_selection import GridSearchCV\n",
        "\n",
        "params = {'min_samples_leaf':[1,3,10],'n_estimators':[100,1000],\n",
        "          'max_features':[0.1,0.5,1.],'max_samples':[0.5,None],'max_depth':[7]}\n",
        "\n",
        "model = RandomForestClassifier()\n",
        "grid_search = GridSearchCV(model,params,cv=3,verbose=10)\n",
        "grid_search.fit(X_train_meta,y_train_meta)"
      ],
      "metadata": {
        "id": "9CuA4uLYZ785",
        "outputId": "96a0e38c-287a-410c-f0a6-6430b93e89db",
        "colab": {
          "base_uri": "https://localhost:8080/"
        }
      },
      "execution_count": null,
      "outputs": [
        {
          "output_type": "stream",
          "name": "stdout",
          "text": [
            "Fitting 3 folds for each of 36 candidates, totalling 108 fits\n",
            "[CV 1/3; 1/36] START max_depth=7, max_features=0.1, max_samples=0.5, min_samples_leaf=1, n_estimators=100\n"
          ]
        },
        {
          "output_type": "stream",
          "name": "stderr",
          "text": [
            "/usr/local/lib/python3.7/dist-packages/sklearn/model_selection/_validation.py:680: DataConversionWarning: A column-vector y was passed when a 1d array was expected. Please change the shape of y to (n_samples,), for example using ravel().\n",
            "  estimator.fit(X_train, y_train, **fit_params)\n"
          ]
        },
        {
          "output_type": "stream",
          "name": "stdout",
          "text": [
            "[CV 1/3; 1/36] END max_depth=7, max_features=0.1, max_samples=0.5, min_samples_leaf=1, n_estimators=100;, score=0.721 total time=   0.3s\n",
            "[CV 2/3; 1/36] START max_depth=7, max_features=0.1, max_samples=0.5, min_samples_leaf=1, n_estimators=100\n"
          ]
        },
        {
          "output_type": "stream",
          "name": "stderr",
          "text": [
            "/usr/local/lib/python3.7/dist-packages/sklearn/model_selection/_validation.py:680: DataConversionWarning: A column-vector y was passed when a 1d array was expected. Please change the shape of y to (n_samples,), for example using ravel().\n",
            "  estimator.fit(X_train, y_train, **fit_params)\n"
          ]
        },
        {
          "output_type": "stream",
          "name": "stdout",
          "text": [
            "[CV 2/3; 1/36] END max_depth=7, max_features=0.1, max_samples=0.5, min_samples_leaf=1, n_estimators=100;, score=0.712 total time=   0.3s\n",
            "[CV 3/3; 1/36] START max_depth=7, max_features=0.1, max_samples=0.5, min_samples_leaf=1, n_estimators=100\n"
          ]
        },
        {
          "output_type": "stream",
          "name": "stderr",
          "text": [
            "/usr/local/lib/python3.7/dist-packages/sklearn/model_selection/_validation.py:680: DataConversionWarning: A column-vector y was passed when a 1d array was expected. Please change the shape of y to (n_samples,), for example using ravel().\n",
            "  estimator.fit(X_train, y_train, **fit_params)\n"
          ]
        },
        {
          "output_type": "stream",
          "name": "stdout",
          "text": [
            "[CV 3/3; 1/36] END max_depth=7, max_features=0.1, max_samples=0.5, min_samples_leaf=1, n_estimators=100;, score=0.714 total time=   0.3s\n",
            "[CV 1/3; 2/36] START max_depth=7, max_features=0.1, max_samples=0.5, min_samples_leaf=1, n_estimators=1000\n"
          ]
        },
        {
          "output_type": "stream",
          "name": "stderr",
          "text": [
            "/usr/local/lib/python3.7/dist-packages/sklearn/model_selection/_validation.py:680: DataConversionWarning: A column-vector y was passed when a 1d array was expected. Please change the shape of y to (n_samples,), for example using ravel().\n",
            "  estimator.fit(X_train, y_train, **fit_params)\n"
          ]
        },
        {
          "output_type": "stream",
          "name": "stdout",
          "text": [
            "[CV 1/3; 2/36] END max_depth=7, max_features=0.1, max_samples=0.5, min_samples_leaf=1, n_estimators=1000;, score=0.719 total time=   2.7s\n",
            "[CV 2/3; 2/36] START max_depth=7, max_features=0.1, max_samples=0.5, min_samples_leaf=1, n_estimators=1000\n"
          ]
        },
        {
          "output_type": "stream",
          "name": "stderr",
          "text": [
            "/usr/local/lib/python3.7/dist-packages/sklearn/model_selection/_validation.py:680: DataConversionWarning: A column-vector y was passed when a 1d array was expected. Please change the shape of y to (n_samples,), for example using ravel().\n",
            "  estimator.fit(X_train, y_train, **fit_params)\n"
          ]
        },
        {
          "output_type": "stream",
          "name": "stdout",
          "text": [
            "[CV 2/3; 2/36] END max_depth=7, max_features=0.1, max_samples=0.5, min_samples_leaf=1, n_estimators=1000;, score=0.714 total time=   2.7s\n",
            "[CV 3/3; 2/36] START max_depth=7, max_features=0.1, max_samples=0.5, min_samples_leaf=1, n_estimators=1000\n"
          ]
        },
        {
          "output_type": "stream",
          "name": "stderr",
          "text": [
            "/usr/local/lib/python3.7/dist-packages/sklearn/model_selection/_validation.py:680: DataConversionWarning: A column-vector y was passed when a 1d array was expected. Please change the shape of y to (n_samples,), for example using ravel().\n",
            "  estimator.fit(X_train, y_train, **fit_params)\n"
          ]
        },
        {
          "output_type": "stream",
          "name": "stdout",
          "text": [
            "[CV 3/3; 2/36] END max_depth=7, max_features=0.1, max_samples=0.5, min_samples_leaf=1, n_estimators=1000;, score=0.716 total time=   2.7s\n",
            "[CV 1/3; 3/36] START max_depth=7, max_features=0.1, max_samples=0.5, min_samples_leaf=3, n_estimators=100\n"
          ]
        },
        {
          "output_type": "stream",
          "name": "stderr",
          "text": [
            "/usr/local/lib/python3.7/dist-packages/sklearn/model_selection/_validation.py:680: DataConversionWarning: A column-vector y was passed when a 1d array was expected. Please change the shape of y to (n_samples,), for example using ravel().\n",
            "  estimator.fit(X_train, y_train, **fit_params)\n"
          ]
        },
        {
          "output_type": "stream",
          "name": "stdout",
          "text": [
            "[CV 1/3; 3/36] END max_depth=7, max_features=0.1, max_samples=0.5, min_samples_leaf=3, n_estimators=100;, score=0.712 total time=   0.3s\n",
            "[CV 2/3; 3/36] START max_depth=7, max_features=0.1, max_samples=0.5, min_samples_leaf=3, n_estimators=100\n"
          ]
        },
        {
          "output_type": "stream",
          "name": "stderr",
          "text": [
            "/usr/local/lib/python3.7/dist-packages/sklearn/model_selection/_validation.py:680: DataConversionWarning: A column-vector y was passed when a 1d array was expected. Please change the shape of y to (n_samples,), for example using ravel().\n",
            "  estimator.fit(X_train, y_train, **fit_params)\n"
          ]
        },
        {
          "output_type": "stream",
          "name": "stdout",
          "text": [
            "[CV 2/3; 3/36] END max_depth=7, max_features=0.1, max_samples=0.5, min_samples_leaf=3, n_estimators=100;, score=0.708 total time=   0.3s\n",
            "[CV 3/3; 3/36] START max_depth=7, max_features=0.1, max_samples=0.5, min_samples_leaf=3, n_estimators=100\n"
          ]
        },
        {
          "output_type": "stream",
          "name": "stderr",
          "text": [
            "/usr/local/lib/python3.7/dist-packages/sklearn/model_selection/_validation.py:680: DataConversionWarning: A column-vector y was passed when a 1d array was expected. Please change the shape of y to (n_samples,), for example using ravel().\n",
            "  estimator.fit(X_train, y_train, **fit_params)\n"
          ]
        },
        {
          "output_type": "stream",
          "name": "stdout",
          "text": [
            "[CV 3/3; 3/36] END max_depth=7, max_features=0.1, max_samples=0.5, min_samples_leaf=3, n_estimators=100;, score=0.713 total time=   0.3s\n",
            "[CV 1/3; 4/36] START max_depth=7, max_features=0.1, max_samples=0.5, min_samples_leaf=3, n_estimators=1000\n"
          ]
        },
        {
          "output_type": "stream",
          "name": "stderr",
          "text": [
            "/usr/local/lib/python3.7/dist-packages/sklearn/model_selection/_validation.py:680: DataConversionWarning: A column-vector y was passed when a 1d array was expected. Please change the shape of y to (n_samples,), for example using ravel().\n",
            "  estimator.fit(X_train, y_train, **fit_params)\n"
          ]
        },
        {
          "output_type": "stream",
          "name": "stdout",
          "text": [
            "[CV 1/3; 4/36] END max_depth=7, max_features=0.1, max_samples=0.5, min_samples_leaf=3, n_estimators=1000;, score=0.713 total time=   2.6s\n",
            "[CV 2/3; 4/36] START max_depth=7, max_features=0.1, max_samples=0.5, min_samples_leaf=3, n_estimators=1000\n"
          ]
        },
        {
          "output_type": "stream",
          "name": "stderr",
          "text": [
            "/usr/local/lib/python3.7/dist-packages/sklearn/model_selection/_validation.py:680: DataConversionWarning: A column-vector y was passed when a 1d array was expected. Please change the shape of y to (n_samples,), for example using ravel().\n",
            "  estimator.fit(X_train, y_train, **fit_params)\n"
          ]
        },
        {
          "output_type": "stream",
          "name": "stdout",
          "text": [
            "[CV 2/3; 4/36] END max_depth=7, max_features=0.1, max_samples=0.5, min_samples_leaf=3, n_estimators=1000;, score=0.709 total time=   2.6s\n",
            "[CV 3/3; 4/36] START max_depth=7, max_features=0.1, max_samples=0.5, min_samples_leaf=3, n_estimators=1000\n"
          ]
        },
        {
          "output_type": "stream",
          "name": "stderr",
          "text": [
            "/usr/local/lib/python3.7/dist-packages/sklearn/model_selection/_validation.py:680: DataConversionWarning: A column-vector y was passed when a 1d array was expected. Please change the shape of y to (n_samples,), for example using ravel().\n",
            "  estimator.fit(X_train, y_train, **fit_params)\n"
          ]
        },
        {
          "output_type": "stream",
          "name": "stdout",
          "text": [
            "[CV 3/3; 4/36] END max_depth=7, max_features=0.1, max_samples=0.5, min_samples_leaf=3, n_estimators=1000;, score=0.712 total time=   2.6s\n",
            "[CV 1/3; 5/36] START max_depth=7, max_features=0.1, max_samples=0.5, min_samples_leaf=10, n_estimators=100\n"
          ]
        },
        {
          "output_type": "stream",
          "name": "stderr",
          "text": [
            "/usr/local/lib/python3.7/dist-packages/sklearn/model_selection/_validation.py:680: DataConversionWarning: A column-vector y was passed when a 1d array was expected. Please change the shape of y to (n_samples,), for example using ravel().\n",
            "  estimator.fit(X_train, y_train, **fit_params)\n"
          ]
        },
        {
          "output_type": "stream",
          "name": "stdout",
          "text": [
            "[CV 1/3; 5/36] END max_depth=7, max_features=0.1, max_samples=0.5, min_samples_leaf=10, n_estimators=100;, score=0.710 total time=   0.3s\n",
            "[CV 2/3; 5/36] START max_depth=7, max_features=0.1, max_samples=0.5, min_samples_leaf=10, n_estimators=100\n"
          ]
        },
        {
          "output_type": "stream",
          "name": "stderr",
          "text": [
            "/usr/local/lib/python3.7/dist-packages/sklearn/model_selection/_validation.py:680: DataConversionWarning: A column-vector y was passed when a 1d array was expected. Please change the shape of y to (n_samples,), for example using ravel().\n",
            "  estimator.fit(X_train, y_train, **fit_params)\n"
          ]
        },
        {
          "output_type": "stream",
          "name": "stdout",
          "text": [
            "[CV 2/3; 5/36] END max_depth=7, max_features=0.1, max_samples=0.5, min_samples_leaf=10, n_estimators=100;, score=0.705 total time=   0.3s\n",
            "[CV 3/3; 5/36] START max_depth=7, max_features=0.1, max_samples=0.5, min_samples_leaf=10, n_estimators=100\n"
          ]
        },
        {
          "output_type": "stream",
          "name": "stderr",
          "text": [
            "/usr/local/lib/python3.7/dist-packages/sklearn/model_selection/_validation.py:680: DataConversionWarning: A column-vector y was passed when a 1d array was expected. Please change the shape of y to (n_samples,), for example using ravel().\n",
            "  estimator.fit(X_train, y_train, **fit_params)\n"
          ]
        },
        {
          "output_type": "stream",
          "name": "stdout",
          "text": [
            "[CV 3/3; 5/36] END max_depth=7, max_features=0.1, max_samples=0.5, min_samples_leaf=10, n_estimators=100;, score=0.708 total time=   0.3s\n",
            "[CV 1/3; 6/36] START max_depth=7, max_features=0.1, max_samples=0.5, min_samples_leaf=10, n_estimators=1000\n"
          ]
        },
        {
          "output_type": "stream",
          "name": "stderr",
          "text": [
            "/usr/local/lib/python3.7/dist-packages/sklearn/model_selection/_validation.py:680: DataConversionWarning: A column-vector y was passed when a 1d array was expected. Please change the shape of y to (n_samples,), for example using ravel().\n",
            "  estimator.fit(X_train, y_train, **fit_params)\n"
          ]
        },
        {
          "output_type": "stream",
          "name": "stdout",
          "text": [
            "[CV 1/3; 6/36] END max_depth=7, max_features=0.1, max_samples=0.5, min_samples_leaf=10, n_estimators=1000;, score=0.707 total time=   2.6s\n",
            "[CV 2/3; 6/36] START max_depth=7, max_features=0.1, max_samples=0.5, min_samples_leaf=10, n_estimators=1000\n"
          ]
        },
        {
          "output_type": "stream",
          "name": "stderr",
          "text": [
            "/usr/local/lib/python3.7/dist-packages/sklearn/model_selection/_validation.py:680: DataConversionWarning: A column-vector y was passed when a 1d array was expected. Please change the shape of y to (n_samples,), for example using ravel().\n",
            "  estimator.fit(X_train, y_train, **fit_params)\n"
          ]
        },
        {
          "output_type": "stream",
          "name": "stdout",
          "text": [
            "[CV 2/3; 6/36] END max_depth=7, max_features=0.1, max_samples=0.5, min_samples_leaf=10, n_estimators=1000;, score=0.703 total time=   2.6s\n",
            "[CV 3/3; 6/36] START max_depth=7, max_features=0.1, max_samples=0.5, min_samples_leaf=10, n_estimators=1000\n"
          ]
        },
        {
          "output_type": "stream",
          "name": "stderr",
          "text": [
            "/usr/local/lib/python3.7/dist-packages/sklearn/model_selection/_validation.py:680: DataConversionWarning: A column-vector y was passed when a 1d array was expected. Please change the shape of y to (n_samples,), for example using ravel().\n",
            "  estimator.fit(X_train, y_train, **fit_params)\n"
          ]
        },
        {
          "output_type": "stream",
          "name": "stdout",
          "text": [
            "[CV 3/3; 6/36] END max_depth=7, max_features=0.1, max_samples=0.5, min_samples_leaf=10, n_estimators=1000;, score=0.709 total time=   2.7s\n",
            "[CV 1/3; 7/36] START max_depth=7, max_features=0.1, max_samples=None, min_samples_leaf=1, n_estimators=100\n"
          ]
        },
        {
          "output_type": "stream",
          "name": "stderr",
          "text": [
            "/usr/local/lib/python3.7/dist-packages/sklearn/model_selection/_validation.py:680: DataConversionWarning: A column-vector y was passed when a 1d array was expected. Please change the shape of y to (n_samples,), for example using ravel().\n",
            "  estimator.fit(X_train, y_train, **fit_params)\n"
          ]
        },
        {
          "output_type": "stream",
          "name": "stdout",
          "text": [
            "[CV 1/3; 7/36] END max_depth=7, max_features=0.1, max_samples=None, min_samples_leaf=1, n_estimators=100;, score=0.720 total time=   0.3s\n",
            "[CV 2/3; 7/36] START max_depth=7, max_features=0.1, max_samples=None, min_samples_leaf=1, n_estimators=100\n"
          ]
        },
        {
          "output_type": "stream",
          "name": "stderr",
          "text": [
            "/usr/local/lib/python3.7/dist-packages/sklearn/model_selection/_validation.py:680: DataConversionWarning: A column-vector y was passed when a 1d array was expected. Please change the shape of y to (n_samples,), for example using ravel().\n",
            "  estimator.fit(X_train, y_train, **fit_params)\n"
          ]
        },
        {
          "output_type": "stream",
          "name": "stdout",
          "text": [
            "[CV 2/3; 7/36] END max_depth=7, max_features=0.1, max_samples=None, min_samples_leaf=1, n_estimators=100;, score=0.713 total time=   0.3s\n",
            "[CV 3/3; 7/36] START max_depth=7, max_features=0.1, max_samples=None, min_samples_leaf=1, n_estimators=100\n"
          ]
        },
        {
          "output_type": "stream",
          "name": "stderr",
          "text": [
            "/usr/local/lib/python3.7/dist-packages/sklearn/model_selection/_validation.py:680: DataConversionWarning: A column-vector y was passed when a 1d array was expected. Please change the shape of y to (n_samples,), for example using ravel().\n",
            "  estimator.fit(X_train, y_train, **fit_params)\n"
          ]
        },
        {
          "output_type": "stream",
          "name": "stdout",
          "text": [
            "[CV 3/3; 7/36] END max_depth=7, max_features=0.1, max_samples=None, min_samples_leaf=1, n_estimators=100;, score=0.717 total time=   0.3s\n",
            "[CV 1/3; 8/36] START max_depth=7, max_features=0.1, max_samples=None, min_samples_leaf=1, n_estimators=1000\n"
          ]
        },
        {
          "output_type": "stream",
          "name": "stderr",
          "text": [
            "/usr/local/lib/python3.7/dist-packages/sklearn/model_selection/_validation.py:680: DataConversionWarning: A column-vector y was passed when a 1d array was expected. Please change the shape of y to (n_samples,), for example using ravel().\n",
            "  estimator.fit(X_train, y_train, **fit_params)\n"
          ]
        },
        {
          "output_type": "stream",
          "name": "stdout",
          "text": [
            "[CV 1/3; 8/36] END max_depth=7, max_features=0.1, max_samples=None, min_samples_leaf=1, n_estimators=1000;, score=0.717 total time=   2.9s\n",
            "[CV 2/3; 8/36] START max_depth=7, max_features=0.1, max_samples=None, min_samples_leaf=1, n_estimators=1000\n"
          ]
        },
        {
          "output_type": "stream",
          "name": "stderr",
          "text": [
            "/usr/local/lib/python3.7/dist-packages/sklearn/model_selection/_validation.py:680: DataConversionWarning: A column-vector y was passed when a 1d array was expected. Please change the shape of y to (n_samples,), for example using ravel().\n",
            "  estimator.fit(X_train, y_train, **fit_params)\n"
          ]
        },
        {
          "output_type": "stream",
          "name": "stdout",
          "text": [
            "[CV 2/3; 8/36] END max_depth=7, max_features=0.1, max_samples=None, min_samples_leaf=1, n_estimators=1000;, score=0.711 total time=   2.9s\n",
            "[CV 3/3; 8/36] START max_depth=7, max_features=0.1, max_samples=None, min_samples_leaf=1, n_estimators=1000\n"
          ]
        },
        {
          "output_type": "stream",
          "name": "stderr",
          "text": [
            "/usr/local/lib/python3.7/dist-packages/sklearn/model_selection/_validation.py:680: DataConversionWarning: A column-vector y was passed when a 1d array was expected. Please change the shape of y to (n_samples,), for example using ravel().\n",
            "  estimator.fit(X_train, y_train, **fit_params)\n"
          ]
        },
        {
          "output_type": "stream",
          "name": "stdout",
          "text": [
            "[CV 3/3; 8/36] END max_depth=7, max_features=0.1, max_samples=None, min_samples_leaf=1, n_estimators=1000;, score=0.715 total time=   2.8s\n",
            "[CV 1/3; 9/36] START max_depth=7, max_features=0.1, max_samples=None, min_samples_leaf=3, n_estimators=100\n"
          ]
        },
        {
          "output_type": "stream",
          "name": "stderr",
          "text": [
            "/usr/local/lib/python3.7/dist-packages/sklearn/model_selection/_validation.py:680: DataConversionWarning: A column-vector y was passed when a 1d array was expected. Please change the shape of y to (n_samples,), for example using ravel().\n",
            "  estimator.fit(X_train, y_train, **fit_params)\n"
          ]
        },
        {
          "output_type": "stream",
          "name": "stdout",
          "text": [
            "[CV 1/3; 9/36] END max_depth=7, max_features=0.1, max_samples=None, min_samples_leaf=3, n_estimators=100;, score=0.716 total time=   0.3s\n",
            "[CV 2/3; 9/36] START max_depth=7, max_features=0.1, max_samples=None, min_samples_leaf=3, n_estimators=100\n"
          ]
        },
        {
          "output_type": "stream",
          "name": "stderr",
          "text": [
            "/usr/local/lib/python3.7/dist-packages/sklearn/model_selection/_validation.py:680: DataConversionWarning: A column-vector y was passed when a 1d array was expected. Please change the shape of y to (n_samples,), for example using ravel().\n",
            "  estimator.fit(X_train, y_train, **fit_params)\n"
          ]
        },
        {
          "output_type": "stream",
          "name": "stdout",
          "text": [
            "[CV 2/3; 9/36] END max_depth=7, max_features=0.1, max_samples=None, min_samples_leaf=3, n_estimators=100;, score=0.711 total time=   0.3s\n",
            "[CV 3/3; 9/36] START max_depth=7, max_features=0.1, max_samples=None, min_samples_leaf=3, n_estimators=100\n"
          ]
        },
        {
          "output_type": "stream",
          "name": "stderr",
          "text": [
            "/usr/local/lib/python3.7/dist-packages/sklearn/model_selection/_validation.py:680: DataConversionWarning: A column-vector y was passed when a 1d array was expected. Please change the shape of y to (n_samples,), for example using ravel().\n",
            "  estimator.fit(X_train, y_train, **fit_params)\n"
          ]
        },
        {
          "output_type": "stream",
          "name": "stdout",
          "text": [
            "[CV 3/3; 9/36] END max_depth=7, max_features=0.1, max_samples=None, min_samples_leaf=3, n_estimators=100;, score=0.711 total time=   0.3s\n",
            "[CV 1/3; 10/36] START max_depth=7, max_features=0.1, max_samples=None, min_samples_leaf=3, n_estimators=1000\n"
          ]
        },
        {
          "output_type": "stream",
          "name": "stderr",
          "text": [
            "/usr/local/lib/python3.7/dist-packages/sklearn/model_selection/_validation.py:680: DataConversionWarning: A column-vector y was passed when a 1d array was expected. Please change the shape of y to (n_samples,), for example using ravel().\n",
            "  estimator.fit(X_train, y_train, **fit_params)\n"
          ]
        },
        {
          "output_type": "stream",
          "name": "stdout",
          "text": [
            "[CV 1/3; 10/36] END max_depth=7, max_features=0.1, max_samples=None, min_samples_leaf=3, n_estimators=1000;, score=0.711 total time=   2.9s\n",
            "[CV 2/3; 10/36] START max_depth=7, max_features=0.1, max_samples=None, min_samples_leaf=3, n_estimators=1000\n"
          ]
        },
        {
          "output_type": "stream",
          "name": "stderr",
          "text": [
            "/usr/local/lib/python3.7/dist-packages/sklearn/model_selection/_validation.py:680: DataConversionWarning: A column-vector y was passed when a 1d array was expected. Please change the shape of y to (n_samples,), for example using ravel().\n",
            "  estimator.fit(X_train, y_train, **fit_params)\n"
          ]
        },
        {
          "output_type": "stream",
          "name": "stdout",
          "text": [
            "[CV 2/3; 10/36] END max_depth=7, max_features=0.1, max_samples=None, min_samples_leaf=3, n_estimators=1000;, score=0.708 total time=   2.8s\n",
            "[CV 3/3; 10/36] START max_depth=7, max_features=0.1, max_samples=None, min_samples_leaf=3, n_estimators=1000\n"
          ]
        },
        {
          "output_type": "stream",
          "name": "stderr",
          "text": [
            "/usr/local/lib/python3.7/dist-packages/sklearn/model_selection/_validation.py:680: DataConversionWarning: A column-vector y was passed when a 1d array was expected. Please change the shape of y to (n_samples,), for example using ravel().\n",
            "  estimator.fit(X_train, y_train, **fit_params)\n"
          ]
        },
        {
          "output_type": "stream",
          "name": "stdout",
          "text": [
            "[CV 3/3; 10/36] END max_depth=7, max_features=0.1, max_samples=None, min_samples_leaf=3, n_estimators=1000;, score=0.714 total time=   2.8s\n",
            "[CV 1/3; 11/36] START max_depth=7, max_features=0.1, max_samples=None, min_samples_leaf=10, n_estimators=100\n"
          ]
        },
        {
          "output_type": "stream",
          "name": "stderr",
          "text": [
            "/usr/local/lib/python3.7/dist-packages/sklearn/model_selection/_validation.py:680: DataConversionWarning: A column-vector y was passed when a 1d array was expected. Please change the shape of y to (n_samples,), for example using ravel().\n",
            "  estimator.fit(X_train, y_train, **fit_params)\n"
          ]
        },
        {
          "output_type": "stream",
          "name": "stdout",
          "text": [
            "[CV 1/3; 11/36] END max_depth=7, max_features=0.1, max_samples=None, min_samples_leaf=10, n_estimators=100;, score=0.711 total time=   0.3s\n",
            "[CV 2/3; 11/36] START max_depth=7, max_features=0.1, max_samples=None, min_samples_leaf=10, n_estimators=100\n"
          ]
        },
        {
          "output_type": "stream",
          "name": "stderr",
          "text": [
            "/usr/local/lib/python3.7/dist-packages/sklearn/model_selection/_validation.py:680: DataConversionWarning: A column-vector y was passed when a 1d array was expected. Please change the shape of y to (n_samples,), for example using ravel().\n",
            "  estimator.fit(X_train, y_train, **fit_params)\n"
          ]
        },
        {
          "output_type": "stream",
          "name": "stdout",
          "text": [
            "[CV 2/3; 11/36] END max_depth=7, max_features=0.1, max_samples=None, min_samples_leaf=10, n_estimators=100;, score=0.704 total time=   0.3s\n",
            "[CV 3/3; 11/36] START max_depth=7, max_features=0.1, max_samples=None, min_samples_leaf=10, n_estimators=100\n"
          ]
        },
        {
          "output_type": "stream",
          "name": "stderr",
          "text": [
            "/usr/local/lib/python3.7/dist-packages/sklearn/model_selection/_validation.py:680: DataConversionWarning: A column-vector y was passed when a 1d array was expected. Please change the shape of y to (n_samples,), for example using ravel().\n",
            "  estimator.fit(X_train, y_train, **fit_params)\n"
          ]
        },
        {
          "output_type": "stream",
          "name": "stdout",
          "text": [
            "[CV 3/3; 11/36] END max_depth=7, max_features=0.1, max_samples=None, min_samples_leaf=10, n_estimators=100;, score=0.712 total time=   0.3s\n",
            "[CV 1/3; 12/36] START max_depth=7, max_features=0.1, max_samples=None, min_samples_leaf=10, n_estimators=1000\n"
          ]
        },
        {
          "output_type": "stream",
          "name": "stderr",
          "text": [
            "/usr/local/lib/python3.7/dist-packages/sklearn/model_selection/_validation.py:680: DataConversionWarning: A column-vector y was passed when a 1d array was expected. Please change the shape of y to (n_samples,), for example using ravel().\n",
            "  estimator.fit(X_train, y_train, **fit_params)\n"
          ]
        },
        {
          "output_type": "stream",
          "name": "stdout",
          "text": [
            "[CV 1/3; 12/36] END max_depth=7, max_features=0.1, max_samples=None, min_samples_leaf=10, n_estimators=1000;, score=0.713 total time=   2.8s\n",
            "[CV 2/3; 12/36] START max_depth=7, max_features=0.1, max_samples=None, min_samples_leaf=10, n_estimators=1000\n"
          ]
        },
        {
          "output_type": "stream",
          "name": "stderr",
          "text": [
            "/usr/local/lib/python3.7/dist-packages/sklearn/model_selection/_validation.py:680: DataConversionWarning: A column-vector y was passed when a 1d array was expected. Please change the shape of y to (n_samples,), for example using ravel().\n",
            "  estimator.fit(X_train, y_train, **fit_params)\n"
          ]
        },
        {
          "output_type": "stream",
          "name": "stdout",
          "text": [
            "[CV 2/3; 12/36] END max_depth=7, max_features=0.1, max_samples=None, min_samples_leaf=10, n_estimators=1000;, score=0.704 total time=   2.8s\n",
            "[CV 3/3; 12/36] START max_depth=7, max_features=0.1, max_samples=None, min_samples_leaf=10, n_estimators=1000\n"
          ]
        },
        {
          "output_type": "stream",
          "name": "stderr",
          "text": [
            "/usr/local/lib/python3.7/dist-packages/sklearn/model_selection/_validation.py:680: DataConversionWarning: A column-vector y was passed when a 1d array was expected. Please change the shape of y to (n_samples,), for example using ravel().\n",
            "  estimator.fit(X_train, y_train, **fit_params)\n"
          ]
        },
        {
          "output_type": "stream",
          "name": "stdout",
          "text": [
            "[CV 3/3; 12/36] END max_depth=7, max_features=0.1, max_samples=None, min_samples_leaf=10, n_estimators=1000;, score=0.710 total time=   2.8s\n",
            "[CV 1/3; 13/36] START max_depth=7, max_features=0.5, max_samples=0.5, min_samples_leaf=1, n_estimators=100\n"
          ]
        },
        {
          "output_type": "stream",
          "name": "stderr",
          "text": [
            "/usr/local/lib/python3.7/dist-packages/sklearn/model_selection/_validation.py:680: DataConversionWarning: A column-vector y was passed when a 1d array was expected. Please change the shape of y to (n_samples,), for example using ravel().\n",
            "  estimator.fit(X_train, y_train, **fit_params)\n"
          ]
        },
        {
          "output_type": "stream",
          "name": "stdout",
          "text": [
            "[CV 1/3; 13/36] END max_depth=7, max_features=0.5, max_samples=0.5, min_samples_leaf=1, n_estimators=100;, score=0.712 total time=   0.3s\n",
            "[CV 2/3; 13/36] START max_depth=7, max_features=0.5, max_samples=0.5, min_samples_leaf=1, n_estimators=100\n"
          ]
        },
        {
          "output_type": "stream",
          "name": "stderr",
          "text": [
            "/usr/local/lib/python3.7/dist-packages/sklearn/model_selection/_validation.py:680: DataConversionWarning: A column-vector y was passed when a 1d array was expected. Please change the shape of y to (n_samples,), for example using ravel().\n",
            "  estimator.fit(X_train, y_train, **fit_params)\n"
          ]
        },
        {
          "output_type": "stream",
          "name": "stdout",
          "text": [
            "[CV 2/3; 13/36] END max_depth=7, max_features=0.5, max_samples=0.5, min_samples_leaf=1, n_estimators=100;, score=0.713 total time=   0.3s\n",
            "[CV 3/3; 13/36] START max_depth=7, max_features=0.5, max_samples=0.5, min_samples_leaf=1, n_estimators=100\n"
          ]
        },
        {
          "output_type": "stream",
          "name": "stderr",
          "text": [
            "/usr/local/lib/python3.7/dist-packages/sklearn/model_selection/_validation.py:680: DataConversionWarning: A column-vector y was passed when a 1d array was expected. Please change the shape of y to (n_samples,), for example using ravel().\n",
            "  estimator.fit(X_train, y_train, **fit_params)\n"
          ]
        },
        {
          "output_type": "stream",
          "name": "stdout",
          "text": [
            "[CV 3/3; 13/36] END max_depth=7, max_features=0.5, max_samples=0.5, min_samples_leaf=1, n_estimators=100;, score=0.716 total time=   0.3s\n",
            "[CV 1/3; 14/36] START max_depth=7, max_features=0.5, max_samples=0.5, min_samples_leaf=1, n_estimators=1000\n"
          ]
        },
        {
          "output_type": "stream",
          "name": "stderr",
          "text": [
            "/usr/local/lib/python3.7/dist-packages/sklearn/model_selection/_validation.py:680: DataConversionWarning: A column-vector y was passed when a 1d array was expected. Please change the shape of y to (n_samples,), for example using ravel().\n",
            "  estimator.fit(X_train, y_train, **fit_params)\n"
          ]
        },
        {
          "output_type": "stream",
          "name": "stdout",
          "text": [
            "[CV 1/3; 14/36] END max_depth=7, max_features=0.5, max_samples=0.5, min_samples_leaf=1, n_estimators=1000;, score=0.721 total time=   2.8s\n",
            "[CV 2/3; 14/36] START max_depth=7, max_features=0.5, max_samples=0.5, min_samples_leaf=1, n_estimators=1000\n"
          ]
        },
        {
          "output_type": "stream",
          "name": "stderr",
          "text": [
            "/usr/local/lib/python3.7/dist-packages/sklearn/model_selection/_validation.py:680: DataConversionWarning: A column-vector y was passed when a 1d array was expected. Please change the shape of y to (n_samples,), for example using ravel().\n",
            "  estimator.fit(X_train, y_train, **fit_params)\n"
          ]
        },
        {
          "output_type": "stream",
          "name": "stdout",
          "text": [
            "[CV 2/3; 14/36] END max_depth=7, max_features=0.5, max_samples=0.5, min_samples_leaf=1, n_estimators=1000;, score=0.709 total time=   2.8s\n",
            "[CV 3/3; 14/36] START max_depth=7, max_features=0.5, max_samples=0.5, min_samples_leaf=1, n_estimators=1000\n"
          ]
        },
        {
          "output_type": "stream",
          "name": "stderr",
          "text": [
            "/usr/local/lib/python3.7/dist-packages/sklearn/model_selection/_validation.py:680: DataConversionWarning: A column-vector y was passed when a 1d array was expected. Please change the shape of y to (n_samples,), for example using ravel().\n",
            "  estimator.fit(X_train, y_train, **fit_params)\n"
          ]
        },
        {
          "output_type": "stream",
          "name": "stdout",
          "text": [
            "[CV 3/3; 14/36] END max_depth=7, max_features=0.5, max_samples=0.5, min_samples_leaf=1, n_estimators=1000;, score=0.716 total time=   2.7s\n",
            "[CV 1/3; 15/36] START max_depth=7, max_features=0.5, max_samples=0.5, min_samples_leaf=3, n_estimators=100\n"
          ]
        },
        {
          "output_type": "stream",
          "name": "stderr",
          "text": [
            "/usr/local/lib/python3.7/dist-packages/sklearn/model_selection/_validation.py:680: DataConversionWarning: A column-vector y was passed when a 1d array was expected. Please change the shape of y to (n_samples,), for example using ravel().\n",
            "  estimator.fit(X_train, y_train, **fit_params)\n"
          ]
        },
        {
          "output_type": "stream",
          "name": "stdout",
          "text": [
            "[CV 1/3; 15/36] END max_depth=7, max_features=0.5, max_samples=0.5, min_samples_leaf=3, n_estimators=100;, score=0.720 total time=   0.3s\n",
            "[CV 2/3; 15/36] START max_depth=7, max_features=0.5, max_samples=0.5, min_samples_leaf=3, n_estimators=100\n"
          ]
        },
        {
          "output_type": "stream",
          "name": "stderr",
          "text": [
            "/usr/local/lib/python3.7/dist-packages/sklearn/model_selection/_validation.py:680: DataConversionWarning: A column-vector y was passed when a 1d array was expected. Please change the shape of y to (n_samples,), for example using ravel().\n",
            "  estimator.fit(X_train, y_train, **fit_params)\n"
          ]
        },
        {
          "output_type": "stream",
          "name": "stdout",
          "text": [
            "[CV 2/3; 15/36] END max_depth=7, max_features=0.5, max_samples=0.5, min_samples_leaf=3, n_estimators=100;, score=0.714 total time=   0.3s\n",
            "[CV 3/3; 15/36] START max_depth=7, max_features=0.5, max_samples=0.5, min_samples_leaf=3, n_estimators=100\n"
          ]
        },
        {
          "output_type": "stream",
          "name": "stderr",
          "text": [
            "/usr/local/lib/python3.7/dist-packages/sklearn/model_selection/_validation.py:680: DataConversionWarning: A column-vector y was passed when a 1d array was expected. Please change the shape of y to (n_samples,), for example using ravel().\n",
            "  estimator.fit(X_train, y_train, **fit_params)\n"
          ]
        },
        {
          "output_type": "stream",
          "name": "stdout",
          "text": [
            "[CV 3/3; 15/36] END max_depth=7, max_features=0.5, max_samples=0.5, min_samples_leaf=3, n_estimators=100;, score=0.717 total time=   0.3s\n",
            "[CV 1/3; 16/36] START max_depth=7, max_features=0.5, max_samples=0.5, min_samples_leaf=3, n_estimators=1000\n"
          ]
        },
        {
          "output_type": "stream",
          "name": "stderr",
          "text": [
            "/usr/local/lib/python3.7/dist-packages/sklearn/model_selection/_validation.py:680: DataConversionWarning: A column-vector y was passed when a 1d array was expected. Please change the shape of y to (n_samples,), for example using ravel().\n",
            "  estimator.fit(X_train, y_train, **fit_params)\n"
          ]
        },
        {
          "output_type": "stream",
          "name": "stdout",
          "text": [
            "[CV 1/3; 16/36] END max_depth=7, max_features=0.5, max_samples=0.5, min_samples_leaf=3, n_estimators=1000;, score=0.718 total time=   2.7s\n",
            "[CV 2/3; 16/36] START max_depth=7, max_features=0.5, max_samples=0.5, min_samples_leaf=3, n_estimators=1000\n"
          ]
        },
        {
          "output_type": "stream",
          "name": "stderr",
          "text": [
            "/usr/local/lib/python3.7/dist-packages/sklearn/model_selection/_validation.py:680: DataConversionWarning: A column-vector y was passed when a 1d array was expected. Please change the shape of y to (n_samples,), for example using ravel().\n",
            "  estimator.fit(X_train, y_train, **fit_params)\n"
          ]
        },
        {
          "output_type": "stream",
          "name": "stdout",
          "text": [
            "[CV 2/3; 16/36] END max_depth=7, max_features=0.5, max_samples=0.5, min_samples_leaf=3, n_estimators=1000;, score=0.710 total time=   2.7s\n",
            "[CV 3/3; 16/36] START max_depth=7, max_features=0.5, max_samples=0.5, min_samples_leaf=3, n_estimators=1000\n"
          ]
        },
        {
          "output_type": "stream",
          "name": "stderr",
          "text": [
            "/usr/local/lib/python3.7/dist-packages/sklearn/model_selection/_validation.py:680: DataConversionWarning: A column-vector y was passed when a 1d array was expected. Please change the shape of y to (n_samples,), for example using ravel().\n",
            "  estimator.fit(X_train, y_train, **fit_params)\n"
          ]
        },
        {
          "output_type": "stream",
          "name": "stdout",
          "text": [
            "[CV 3/3; 16/36] END max_depth=7, max_features=0.5, max_samples=0.5, min_samples_leaf=3, n_estimators=1000;, score=0.718 total time=   2.8s\n",
            "[CV 1/3; 17/36] START max_depth=7, max_features=0.5, max_samples=0.5, min_samples_leaf=10, n_estimators=100\n"
          ]
        },
        {
          "output_type": "stream",
          "name": "stderr",
          "text": [
            "/usr/local/lib/python3.7/dist-packages/sklearn/model_selection/_validation.py:680: DataConversionWarning: A column-vector y was passed when a 1d array was expected. Please change the shape of y to (n_samples,), for example using ravel().\n",
            "  estimator.fit(X_train, y_train, **fit_params)\n"
          ]
        },
        {
          "output_type": "stream",
          "name": "stdout",
          "text": [
            "[CV 1/3; 17/36] END max_depth=7, max_features=0.5, max_samples=0.5, min_samples_leaf=10, n_estimators=100;, score=0.713 total time=   0.3s\n",
            "[CV 2/3; 17/36] START max_depth=7, max_features=0.5, max_samples=0.5, min_samples_leaf=10, n_estimators=100\n"
          ]
        },
        {
          "output_type": "stream",
          "name": "stderr",
          "text": [
            "/usr/local/lib/python3.7/dist-packages/sklearn/model_selection/_validation.py:680: DataConversionWarning: A column-vector y was passed when a 1d array was expected. Please change the shape of y to (n_samples,), for example using ravel().\n",
            "  estimator.fit(X_train, y_train, **fit_params)\n"
          ]
        },
        {
          "output_type": "stream",
          "name": "stdout",
          "text": [
            "[CV 2/3; 17/36] END max_depth=7, max_features=0.5, max_samples=0.5, min_samples_leaf=10, n_estimators=100;, score=0.708 total time=   0.3s\n",
            "[CV 3/3; 17/36] START max_depth=7, max_features=0.5, max_samples=0.5, min_samples_leaf=10, n_estimators=100\n"
          ]
        },
        {
          "output_type": "stream",
          "name": "stderr",
          "text": [
            "/usr/local/lib/python3.7/dist-packages/sklearn/model_selection/_validation.py:680: DataConversionWarning: A column-vector y was passed when a 1d array was expected. Please change the shape of y to (n_samples,), for example using ravel().\n",
            "  estimator.fit(X_train, y_train, **fit_params)\n"
          ]
        },
        {
          "output_type": "stream",
          "name": "stdout",
          "text": [
            "[CV 3/3; 17/36] END max_depth=7, max_features=0.5, max_samples=0.5, min_samples_leaf=10, n_estimators=100;, score=0.714 total time=   0.3s\n",
            "[CV 1/3; 18/36] START max_depth=7, max_features=0.5, max_samples=0.5, min_samples_leaf=10, n_estimators=1000\n"
          ]
        },
        {
          "output_type": "stream",
          "name": "stderr",
          "text": [
            "/usr/local/lib/python3.7/dist-packages/sklearn/model_selection/_validation.py:680: DataConversionWarning: A column-vector y was passed when a 1d array was expected. Please change the shape of y to (n_samples,), for example using ravel().\n",
            "  estimator.fit(X_train, y_train, **fit_params)\n"
          ]
        },
        {
          "output_type": "stream",
          "name": "stdout",
          "text": [
            "[CV 1/3; 18/36] END max_depth=7, max_features=0.5, max_samples=0.5, min_samples_leaf=10, n_estimators=1000;, score=0.719 total time=   2.7s\n",
            "[CV 2/3; 18/36] START max_depth=7, max_features=0.5, max_samples=0.5, min_samples_leaf=10, n_estimators=1000\n"
          ]
        },
        {
          "output_type": "stream",
          "name": "stderr",
          "text": [
            "/usr/local/lib/python3.7/dist-packages/sklearn/model_selection/_validation.py:680: DataConversionWarning: A column-vector y was passed when a 1d array was expected. Please change the shape of y to (n_samples,), for example using ravel().\n",
            "  estimator.fit(X_train, y_train, **fit_params)\n"
          ]
        },
        {
          "output_type": "stream",
          "name": "stdout",
          "text": [
            "[CV 2/3; 18/36] END max_depth=7, max_features=0.5, max_samples=0.5, min_samples_leaf=10, n_estimators=1000;, score=0.708 total time=   2.7s\n",
            "[CV 3/3; 18/36] START max_depth=7, max_features=0.5, max_samples=0.5, min_samples_leaf=10, n_estimators=1000\n"
          ]
        },
        {
          "output_type": "stream",
          "name": "stderr",
          "text": [
            "/usr/local/lib/python3.7/dist-packages/sklearn/model_selection/_validation.py:680: DataConversionWarning: A column-vector y was passed when a 1d array was expected. Please change the shape of y to (n_samples,), for example using ravel().\n",
            "  estimator.fit(X_train, y_train, **fit_params)\n"
          ]
        },
        {
          "output_type": "stream",
          "name": "stdout",
          "text": [
            "[CV 3/3; 18/36] END max_depth=7, max_features=0.5, max_samples=0.5, min_samples_leaf=10, n_estimators=1000;, score=0.713 total time=   2.7s\n",
            "[CV 1/3; 19/36] START max_depth=7, max_features=0.5, max_samples=None, min_samples_leaf=1, n_estimators=100\n"
          ]
        },
        {
          "output_type": "stream",
          "name": "stderr",
          "text": [
            "/usr/local/lib/python3.7/dist-packages/sklearn/model_selection/_validation.py:680: DataConversionWarning: A column-vector y was passed when a 1d array was expected. Please change the shape of y to (n_samples,), for example using ravel().\n",
            "  estimator.fit(X_train, y_train, **fit_params)\n"
          ]
        },
        {
          "output_type": "stream",
          "name": "stdout",
          "text": [
            "[CV 1/3; 19/36] END max_depth=7, max_features=0.5, max_samples=None, min_samples_leaf=1, n_estimators=100;, score=0.719 total time=   0.3s\n",
            "[CV 2/3; 19/36] START max_depth=7, max_features=0.5, max_samples=None, min_samples_leaf=1, n_estimators=100\n"
          ]
        },
        {
          "output_type": "stream",
          "name": "stderr",
          "text": [
            "/usr/local/lib/python3.7/dist-packages/sklearn/model_selection/_validation.py:680: DataConversionWarning: A column-vector y was passed when a 1d array was expected. Please change the shape of y to (n_samples,), for example using ravel().\n",
            "  estimator.fit(X_train, y_train, **fit_params)\n"
          ]
        },
        {
          "output_type": "stream",
          "name": "stdout",
          "text": [
            "[CV 2/3; 19/36] END max_depth=7, max_features=0.5, max_samples=None, min_samples_leaf=1, n_estimators=100;, score=0.708 total time=   0.3s\n",
            "[CV 3/3; 19/36] START max_depth=7, max_features=0.5, max_samples=None, min_samples_leaf=1, n_estimators=100\n"
          ]
        },
        {
          "output_type": "stream",
          "name": "stderr",
          "text": [
            "/usr/local/lib/python3.7/dist-packages/sklearn/model_selection/_validation.py:680: DataConversionWarning: A column-vector y was passed when a 1d array was expected. Please change the shape of y to (n_samples,), for example using ravel().\n",
            "  estimator.fit(X_train, y_train, **fit_params)\n"
          ]
        },
        {
          "output_type": "stream",
          "name": "stdout",
          "text": [
            "[CV 3/3; 19/36] END max_depth=7, max_features=0.5, max_samples=None, min_samples_leaf=1, n_estimators=100;, score=0.718 total time=   0.3s\n",
            "[CV 1/3; 20/36] START max_depth=7, max_features=0.5, max_samples=None, min_samples_leaf=1, n_estimators=1000\n"
          ]
        },
        {
          "output_type": "stream",
          "name": "stderr",
          "text": [
            "/usr/local/lib/python3.7/dist-packages/sklearn/model_selection/_validation.py:680: DataConversionWarning: A column-vector y was passed when a 1d array was expected. Please change the shape of y to (n_samples,), for example using ravel().\n",
            "  estimator.fit(X_train, y_train, **fit_params)\n"
          ]
        },
        {
          "output_type": "stream",
          "name": "stdout",
          "text": [
            "[CV 1/3; 20/36] END max_depth=7, max_features=0.5, max_samples=None, min_samples_leaf=1, n_estimators=1000;, score=0.720 total time=   3.1s\n",
            "[CV 2/3; 20/36] START max_depth=7, max_features=0.5, max_samples=None, min_samples_leaf=1, n_estimators=1000\n"
          ]
        },
        {
          "output_type": "stream",
          "name": "stderr",
          "text": [
            "/usr/local/lib/python3.7/dist-packages/sklearn/model_selection/_validation.py:680: DataConversionWarning: A column-vector y was passed when a 1d array was expected. Please change the shape of y to (n_samples,), for example using ravel().\n",
            "  estimator.fit(X_train, y_train, **fit_params)\n"
          ]
        },
        {
          "output_type": "stream",
          "name": "stdout",
          "text": [
            "[CV 2/3; 20/36] END max_depth=7, max_features=0.5, max_samples=None, min_samples_leaf=1, n_estimators=1000;, score=0.709 total time=   3.0s\n",
            "[CV 3/3; 20/36] START max_depth=7, max_features=0.5, max_samples=None, min_samples_leaf=1, n_estimators=1000\n"
          ]
        },
        {
          "output_type": "stream",
          "name": "stderr",
          "text": [
            "/usr/local/lib/python3.7/dist-packages/sklearn/model_selection/_validation.py:680: DataConversionWarning: A column-vector y was passed when a 1d array was expected. Please change the shape of y to (n_samples,), for example using ravel().\n",
            "  estimator.fit(X_train, y_train, **fit_params)\n"
          ]
        },
        {
          "output_type": "stream",
          "name": "stdout",
          "text": [
            "[CV 3/3; 20/36] END max_depth=7, max_features=0.5, max_samples=None, min_samples_leaf=1, n_estimators=1000;, score=0.718 total time=   3.1s\n",
            "[CV 1/3; 21/36] START max_depth=7, max_features=0.5, max_samples=None, min_samples_leaf=3, n_estimators=100\n"
          ]
        },
        {
          "output_type": "stream",
          "name": "stderr",
          "text": [
            "/usr/local/lib/python3.7/dist-packages/sklearn/model_selection/_validation.py:680: DataConversionWarning: A column-vector y was passed when a 1d array was expected. Please change the shape of y to (n_samples,), for example using ravel().\n",
            "  estimator.fit(X_train, y_train, **fit_params)\n"
          ]
        },
        {
          "output_type": "stream",
          "name": "stdout",
          "text": [
            "[CV 1/3; 21/36] END max_depth=7, max_features=0.5, max_samples=None, min_samples_leaf=3, n_estimators=100;, score=0.715 total time=   0.3s\n",
            "[CV 2/3; 21/36] START max_depth=7, max_features=0.5, max_samples=None, min_samples_leaf=3, n_estimators=100\n"
          ]
        },
        {
          "output_type": "stream",
          "name": "stderr",
          "text": [
            "/usr/local/lib/python3.7/dist-packages/sklearn/model_selection/_validation.py:680: DataConversionWarning: A column-vector y was passed when a 1d array was expected. Please change the shape of y to (n_samples,), for example using ravel().\n",
            "  estimator.fit(X_train, y_train, **fit_params)\n"
          ]
        },
        {
          "output_type": "stream",
          "name": "stdout",
          "text": [
            "[CV 2/3; 21/36] END max_depth=7, max_features=0.5, max_samples=None, min_samples_leaf=3, n_estimators=100;, score=0.714 total time=   0.3s\n",
            "[CV 3/3; 21/36] START max_depth=7, max_features=0.5, max_samples=None, min_samples_leaf=3, n_estimators=100\n"
          ]
        },
        {
          "output_type": "stream",
          "name": "stderr",
          "text": [
            "/usr/local/lib/python3.7/dist-packages/sklearn/model_selection/_validation.py:680: DataConversionWarning: A column-vector y was passed when a 1d array was expected. Please change the shape of y to (n_samples,), for example using ravel().\n",
            "  estimator.fit(X_train, y_train, **fit_params)\n"
          ]
        },
        {
          "output_type": "stream",
          "name": "stdout",
          "text": [
            "[CV 3/3; 21/36] END max_depth=7, max_features=0.5, max_samples=None, min_samples_leaf=3, n_estimators=100;, score=0.715 total time=   0.3s\n",
            "[CV 1/3; 22/36] START max_depth=7, max_features=0.5, max_samples=None, min_samples_leaf=3, n_estimators=1000\n"
          ]
        },
        {
          "output_type": "stream",
          "name": "stderr",
          "text": [
            "/usr/local/lib/python3.7/dist-packages/sklearn/model_selection/_validation.py:680: DataConversionWarning: A column-vector y was passed when a 1d array was expected. Please change the shape of y to (n_samples,), for example using ravel().\n",
            "  estimator.fit(X_train, y_train, **fit_params)\n"
          ]
        },
        {
          "output_type": "stream",
          "name": "stdout",
          "text": [
            "[CV 1/3; 22/36] END max_depth=7, max_features=0.5, max_samples=None, min_samples_leaf=3, n_estimators=1000;, score=0.719 total time=   3.0s\n",
            "[CV 2/3; 22/36] START max_depth=7, max_features=0.5, max_samples=None, min_samples_leaf=3, n_estimators=1000\n"
          ]
        },
        {
          "output_type": "stream",
          "name": "stderr",
          "text": [
            "/usr/local/lib/python3.7/dist-packages/sklearn/model_selection/_validation.py:680: DataConversionWarning: A column-vector y was passed when a 1d array was expected. Please change the shape of y to (n_samples,), for example using ravel().\n",
            "  estimator.fit(X_train, y_train, **fit_params)\n"
          ]
        },
        {
          "output_type": "stream",
          "name": "stdout",
          "text": [
            "[CV 2/3; 22/36] END max_depth=7, max_features=0.5, max_samples=None, min_samples_leaf=3, n_estimators=1000;, score=0.709 total time=   3.0s\n",
            "[CV 3/3; 22/36] START max_depth=7, max_features=0.5, max_samples=None, min_samples_leaf=3, n_estimators=1000\n"
          ]
        },
        {
          "output_type": "stream",
          "name": "stderr",
          "text": [
            "/usr/local/lib/python3.7/dist-packages/sklearn/model_selection/_validation.py:680: DataConversionWarning: A column-vector y was passed when a 1d array was expected. Please change the shape of y to (n_samples,), for example using ravel().\n",
            "  estimator.fit(X_train, y_train, **fit_params)\n"
          ]
        },
        {
          "output_type": "stream",
          "name": "stdout",
          "text": [
            "[CV 3/3; 22/36] END max_depth=7, max_features=0.5, max_samples=None, min_samples_leaf=3, n_estimators=1000;, score=0.718 total time=   3.0s\n",
            "[CV 1/3; 23/36] START max_depth=7, max_features=0.5, max_samples=None, min_samples_leaf=10, n_estimators=100\n"
          ]
        },
        {
          "output_type": "stream",
          "name": "stderr",
          "text": [
            "/usr/local/lib/python3.7/dist-packages/sklearn/model_selection/_validation.py:680: DataConversionWarning: A column-vector y was passed when a 1d array was expected. Please change the shape of y to (n_samples,), for example using ravel().\n",
            "  estimator.fit(X_train, y_train, **fit_params)\n"
          ]
        },
        {
          "output_type": "stream",
          "name": "stdout",
          "text": [
            "[CV 1/3; 23/36] END max_depth=7, max_features=0.5, max_samples=None, min_samples_leaf=10, n_estimators=100;, score=0.716 total time=   0.3s\n",
            "[CV 2/3; 23/36] START max_depth=7, max_features=0.5, max_samples=None, min_samples_leaf=10, n_estimators=100\n"
          ]
        },
        {
          "output_type": "stream",
          "name": "stderr",
          "text": [
            "/usr/local/lib/python3.7/dist-packages/sklearn/model_selection/_validation.py:680: DataConversionWarning: A column-vector y was passed when a 1d array was expected. Please change the shape of y to (n_samples,), for example using ravel().\n",
            "  estimator.fit(X_train, y_train, **fit_params)\n"
          ]
        },
        {
          "output_type": "stream",
          "name": "stdout",
          "text": [
            "[CV 2/3; 23/36] END max_depth=7, max_features=0.5, max_samples=None, min_samples_leaf=10, n_estimators=100;, score=0.709 total time=   0.3s\n",
            "[CV 3/3; 23/36] START max_depth=7, max_features=0.5, max_samples=None, min_samples_leaf=10, n_estimators=100\n"
          ]
        },
        {
          "output_type": "stream",
          "name": "stderr",
          "text": [
            "/usr/local/lib/python3.7/dist-packages/sklearn/model_selection/_validation.py:680: DataConversionWarning: A column-vector y was passed when a 1d array was expected. Please change the shape of y to (n_samples,), for example using ravel().\n",
            "  estimator.fit(X_train, y_train, **fit_params)\n"
          ]
        },
        {
          "output_type": "stream",
          "name": "stdout",
          "text": [
            "[CV 3/3; 23/36] END max_depth=7, max_features=0.5, max_samples=None, min_samples_leaf=10, n_estimators=100;, score=0.716 total time=   0.3s\n",
            "[CV 1/3; 24/36] START max_depth=7, max_features=0.5, max_samples=None, min_samples_leaf=10, n_estimators=1000\n"
          ]
        },
        {
          "output_type": "stream",
          "name": "stderr",
          "text": [
            "/usr/local/lib/python3.7/dist-packages/sklearn/model_selection/_validation.py:680: DataConversionWarning: A column-vector y was passed when a 1d array was expected. Please change the shape of y to (n_samples,), for example using ravel().\n",
            "  estimator.fit(X_train, y_train, **fit_params)\n"
          ]
        },
        {
          "output_type": "stream",
          "name": "stdout",
          "text": [
            "[CV 1/3; 24/36] END max_depth=7, max_features=0.5, max_samples=None, min_samples_leaf=10, n_estimators=1000;, score=0.716 total time=   3.0s\n",
            "[CV 2/3; 24/36] START max_depth=7, max_features=0.5, max_samples=None, min_samples_leaf=10, n_estimators=1000\n"
          ]
        },
        {
          "output_type": "stream",
          "name": "stderr",
          "text": [
            "/usr/local/lib/python3.7/dist-packages/sklearn/model_selection/_validation.py:680: DataConversionWarning: A column-vector y was passed when a 1d array was expected. Please change the shape of y to (n_samples,), for example using ravel().\n",
            "  estimator.fit(X_train, y_train, **fit_params)\n"
          ]
        },
        {
          "output_type": "stream",
          "name": "stdout",
          "text": [
            "[CV 2/3; 24/36] END max_depth=7, max_features=0.5, max_samples=None, min_samples_leaf=10, n_estimators=1000;, score=0.712 total time=   2.9s\n",
            "[CV 3/3; 24/36] START max_depth=7, max_features=0.5, max_samples=None, min_samples_leaf=10, n_estimators=1000\n"
          ]
        },
        {
          "output_type": "stream",
          "name": "stderr",
          "text": [
            "/usr/local/lib/python3.7/dist-packages/sklearn/model_selection/_validation.py:680: DataConversionWarning: A column-vector y was passed when a 1d array was expected. Please change the shape of y to (n_samples,), for example using ravel().\n",
            "  estimator.fit(X_train, y_train, **fit_params)\n"
          ]
        },
        {
          "output_type": "stream",
          "name": "stdout",
          "text": [
            "[CV 3/3; 24/36] END max_depth=7, max_features=0.5, max_samples=None, min_samples_leaf=10, n_estimators=1000;, score=0.715 total time=   2.9s\n",
            "[CV 1/3; 25/36] START max_depth=7, max_features=1.0, max_samples=0.5, min_samples_leaf=1, n_estimators=100\n"
          ]
        },
        {
          "output_type": "stream",
          "name": "stderr",
          "text": [
            "/usr/local/lib/python3.7/dist-packages/sklearn/model_selection/_validation.py:680: DataConversionWarning: A column-vector y was passed when a 1d array was expected. Please change the shape of y to (n_samples,), for example using ravel().\n",
            "  estimator.fit(X_train, y_train, **fit_params)\n"
          ]
        },
        {
          "output_type": "stream",
          "name": "stdout",
          "text": [
            "[CV 1/3; 25/36] END max_depth=7, max_features=1.0, max_samples=0.5, min_samples_leaf=1, n_estimators=100;, score=0.723 total time=   0.3s\n",
            "[CV 2/3; 25/36] START max_depth=7, max_features=1.0, max_samples=0.5, min_samples_leaf=1, n_estimators=100\n"
          ]
        },
        {
          "output_type": "stream",
          "name": "stderr",
          "text": [
            "/usr/local/lib/python3.7/dist-packages/sklearn/model_selection/_validation.py:680: DataConversionWarning: A column-vector y was passed when a 1d array was expected. Please change the shape of y to (n_samples,), for example using ravel().\n",
            "  estimator.fit(X_train, y_train, **fit_params)\n"
          ]
        },
        {
          "output_type": "stream",
          "name": "stdout",
          "text": [
            "[CV 2/3; 25/36] END max_depth=7, max_features=1.0, max_samples=0.5, min_samples_leaf=1, n_estimators=100;, score=0.719 total time=   0.3s\n",
            "[CV 3/3; 25/36] START max_depth=7, max_features=1.0, max_samples=0.5, min_samples_leaf=1, n_estimators=100\n"
          ]
        },
        {
          "output_type": "stream",
          "name": "stderr",
          "text": [
            "/usr/local/lib/python3.7/dist-packages/sklearn/model_selection/_validation.py:680: DataConversionWarning: A column-vector y was passed when a 1d array was expected. Please change the shape of y to (n_samples,), for example using ravel().\n",
            "  estimator.fit(X_train, y_train, **fit_params)\n"
          ]
        },
        {
          "output_type": "stream",
          "name": "stdout",
          "text": [
            "[CV 3/3; 25/36] END max_depth=7, max_features=1.0, max_samples=0.5, min_samples_leaf=1, n_estimators=100;, score=0.716 total time=   0.3s\n",
            "[CV 1/3; 26/36] START max_depth=7, max_features=1.0, max_samples=0.5, min_samples_leaf=1, n_estimators=1000\n"
          ]
        },
        {
          "output_type": "stream",
          "name": "stderr",
          "text": [
            "/usr/local/lib/python3.7/dist-packages/sklearn/model_selection/_validation.py:680: DataConversionWarning: A column-vector y was passed when a 1d array was expected. Please change the shape of y to (n_samples,), for example using ravel().\n",
            "  estimator.fit(X_train, y_train, **fit_params)\n"
          ]
        },
        {
          "output_type": "stream",
          "name": "stdout",
          "text": [
            "[CV 1/3; 26/36] END max_depth=7, max_features=1.0, max_samples=0.5, min_samples_leaf=1, n_estimators=1000;, score=0.725 total time=   2.9s\n",
            "[CV 2/3; 26/36] START max_depth=7, max_features=1.0, max_samples=0.5, min_samples_leaf=1, n_estimators=1000\n"
          ]
        },
        {
          "output_type": "stream",
          "name": "stderr",
          "text": [
            "/usr/local/lib/python3.7/dist-packages/sklearn/model_selection/_validation.py:680: DataConversionWarning: A column-vector y was passed when a 1d array was expected. Please change the shape of y to (n_samples,), for example using ravel().\n",
            "  estimator.fit(X_train, y_train, **fit_params)\n"
          ]
        },
        {
          "output_type": "stream",
          "name": "stdout",
          "text": [
            "[CV 2/3; 26/36] END max_depth=7, max_features=1.0, max_samples=0.5, min_samples_leaf=1, n_estimators=1000;, score=0.717 total time=   3.0s\n",
            "[CV 3/3; 26/36] START max_depth=7, max_features=1.0, max_samples=0.5, min_samples_leaf=1, n_estimators=1000\n"
          ]
        },
        {
          "output_type": "stream",
          "name": "stderr",
          "text": [
            "/usr/local/lib/python3.7/dist-packages/sklearn/model_selection/_validation.py:680: DataConversionWarning: A column-vector y was passed when a 1d array was expected. Please change the shape of y to (n_samples,), for example using ravel().\n",
            "  estimator.fit(X_train, y_train, **fit_params)\n"
          ]
        },
        {
          "output_type": "stream",
          "name": "stdout",
          "text": [
            "[CV 3/3; 26/36] END max_depth=7, max_features=1.0, max_samples=0.5, min_samples_leaf=1, n_estimators=1000;, score=0.716 total time=   3.0s\n",
            "[CV 1/3; 27/36] START max_depth=7, max_features=1.0, max_samples=0.5, min_samples_leaf=3, n_estimators=100\n"
          ]
        },
        {
          "output_type": "stream",
          "name": "stderr",
          "text": [
            "/usr/local/lib/python3.7/dist-packages/sklearn/model_selection/_validation.py:680: DataConversionWarning: A column-vector y was passed when a 1d array was expected. Please change the shape of y to (n_samples,), for example using ravel().\n",
            "  estimator.fit(X_train, y_train, **fit_params)\n"
          ]
        },
        {
          "output_type": "stream",
          "name": "stdout",
          "text": [
            "[CV 1/3; 27/36] END max_depth=7, max_features=1.0, max_samples=0.5, min_samples_leaf=3, n_estimators=100;, score=0.721 total time=   0.3s\n",
            "[CV 2/3; 27/36] START max_depth=7, max_features=1.0, max_samples=0.5, min_samples_leaf=3, n_estimators=100\n"
          ]
        },
        {
          "output_type": "stream",
          "name": "stderr",
          "text": [
            "/usr/local/lib/python3.7/dist-packages/sklearn/model_selection/_validation.py:680: DataConversionWarning: A column-vector y was passed when a 1d array was expected. Please change the shape of y to (n_samples,), for example using ravel().\n",
            "  estimator.fit(X_train, y_train, **fit_params)\n"
          ]
        },
        {
          "output_type": "stream",
          "name": "stdout",
          "text": [
            "[CV 2/3; 27/36] END max_depth=7, max_features=1.0, max_samples=0.5, min_samples_leaf=3, n_estimators=100;, score=0.716 total time=   0.3s\n",
            "[CV 3/3; 27/36] START max_depth=7, max_features=1.0, max_samples=0.5, min_samples_leaf=3, n_estimators=100\n"
          ]
        },
        {
          "output_type": "stream",
          "name": "stderr",
          "text": [
            "/usr/local/lib/python3.7/dist-packages/sklearn/model_selection/_validation.py:680: DataConversionWarning: A column-vector y was passed when a 1d array was expected. Please change the shape of y to (n_samples,), for example using ravel().\n",
            "  estimator.fit(X_train, y_train, **fit_params)\n"
          ]
        },
        {
          "output_type": "stream",
          "name": "stdout",
          "text": [
            "[CV 3/3; 27/36] END max_depth=7, max_features=1.0, max_samples=0.5, min_samples_leaf=3, n_estimators=100;, score=0.716 total time=   0.3s\n",
            "[CV 1/3; 28/36] START max_depth=7, max_features=1.0, max_samples=0.5, min_samples_leaf=3, n_estimators=1000\n"
          ]
        },
        {
          "output_type": "stream",
          "name": "stderr",
          "text": [
            "/usr/local/lib/python3.7/dist-packages/sklearn/model_selection/_validation.py:680: DataConversionWarning: A column-vector y was passed when a 1d array was expected. Please change the shape of y to (n_samples,), for example using ravel().\n",
            "  estimator.fit(X_train, y_train, **fit_params)\n"
          ]
        },
        {
          "output_type": "stream",
          "name": "stdout",
          "text": [
            "[CV 1/3; 28/36] END max_depth=7, max_features=1.0, max_samples=0.5, min_samples_leaf=3, n_estimators=1000;, score=0.722 total time=   3.0s\n",
            "[CV 2/3; 28/36] START max_depth=7, max_features=1.0, max_samples=0.5, min_samples_leaf=3, n_estimators=1000\n"
          ]
        },
        {
          "output_type": "stream",
          "name": "stderr",
          "text": [
            "/usr/local/lib/python3.7/dist-packages/sklearn/model_selection/_validation.py:680: DataConversionWarning: A column-vector y was passed when a 1d array was expected. Please change the shape of y to (n_samples,), for example using ravel().\n",
            "  estimator.fit(X_train, y_train, **fit_params)\n"
          ]
        },
        {
          "output_type": "stream",
          "name": "stdout",
          "text": [
            "[CV 2/3; 28/36] END max_depth=7, max_features=1.0, max_samples=0.5, min_samples_leaf=3, n_estimators=1000;, score=0.715 total time=   3.1s\n",
            "[CV 3/3; 28/36] START max_depth=7, max_features=1.0, max_samples=0.5, min_samples_leaf=3, n_estimators=1000\n"
          ]
        },
        {
          "output_type": "stream",
          "name": "stderr",
          "text": [
            "/usr/local/lib/python3.7/dist-packages/sklearn/model_selection/_validation.py:680: DataConversionWarning: A column-vector y was passed when a 1d array was expected. Please change the shape of y to (n_samples,), for example using ravel().\n",
            "  estimator.fit(X_train, y_train, **fit_params)\n"
          ]
        },
        {
          "output_type": "stream",
          "name": "stdout",
          "text": [
            "[CV 3/3; 28/36] END max_depth=7, max_features=1.0, max_samples=0.5, min_samples_leaf=3, n_estimators=1000;, score=0.716 total time=   2.9s\n",
            "[CV 1/3; 29/36] START max_depth=7, max_features=1.0, max_samples=0.5, min_samples_leaf=10, n_estimators=100\n"
          ]
        },
        {
          "output_type": "stream",
          "name": "stderr",
          "text": [
            "/usr/local/lib/python3.7/dist-packages/sklearn/model_selection/_validation.py:680: DataConversionWarning: A column-vector y was passed when a 1d array was expected. Please change the shape of y to (n_samples,), for example using ravel().\n",
            "  estimator.fit(X_train, y_train, **fit_params)\n"
          ]
        },
        {
          "output_type": "stream",
          "name": "stdout",
          "text": [
            "[CV 1/3; 29/36] END max_depth=7, max_features=1.0, max_samples=0.5, min_samples_leaf=10, n_estimators=100;, score=0.721 total time=   0.3s\n",
            "[CV 2/3; 29/36] START max_depth=7, max_features=1.0, max_samples=0.5, min_samples_leaf=10, n_estimators=100\n"
          ]
        },
        {
          "output_type": "stream",
          "name": "stderr",
          "text": [
            "/usr/local/lib/python3.7/dist-packages/sklearn/model_selection/_validation.py:680: DataConversionWarning: A column-vector y was passed when a 1d array was expected. Please change the shape of y to (n_samples,), for example using ravel().\n",
            "  estimator.fit(X_train, y_train, **fit_params)\n"
          ]
        },
        {
          "output_type": "stream",
          "name": "stdout",
          "text": [
            "[CV 2/3; 29/36] END max_depth=7, max_features=1.0, max_samples=0.5, min_samples_leaf=10, n_estimators=100;, score=0.711 total time=   0.3s\n",
            "[CV 3/3; 29/36] START max_depth=7, max_features=1.0, max_samples=0.5, min_samples_leaf=10, n_estimators=100\n"
          ]
        },
        {
          "output_type": "stream",
          "name": "stderr",
          "text": [
            "/usr/local/lib/python3.7/dist-packages/sklearn/model_selection/_validation.py:680: DataConversionWarning: A column-vector y was passed when a 1d array was expected. Please change the shape of y to (n_samples,), for example using ravel().\n",
            "  estimator.fit(X_train, y_train, **fit_params)\n"
          ]
        },
        {
          "output_type": "stream",
          "name": "stdout",
          "text": [
            "[CV 3/3; 29/36] END max_depth=7, max_features=1.0, max_samples=0.5, min_samples_leaf=10, n_estimators=100;, score=0.715 total time=   0.3s\n",
            "[CV 1/3; 30/36] START max_depth=7, max_features=1.0, max_samples=0.5, min_samples_leaf=10, n_estimators=1000\n"
          ]
        },
        {
          "output_type": "stream",
          "name": "stderr",
          "text": [
            "/usr/local/lib/python3.7/dist-packages/sklearn/model_selection/_validation.py:680: DataConversionWarning: A column-vector y was passed when a 1d array was expected. Please change the shape of y to (n_samples,), for example using ravel().\n",
            "  estimator.fit(X_train, y_train, **fit_params)\n"
          ]
        },
        {
          "output_type": "stream",
          "name": "stdout",
          "text": [
            "[CV 1/3; 30/36] END max_depth=7, max_features=1.0, max_samples=0.5, min_samples_leaf=10, n_estimators=1000;, score=0.720 total time=   3.0s\n",
            "[CV 2/3; 30/36] START max_depth=7, max_features=1.0, max_samples=0.5, min_samples_leaf=10, n_estimators=1000\n"
          ]
        },
        {
          "output_type": "stream",
          "name": "stderr",
          "text": [
            "/usr/local/lib/python3.7/dist-packages/sklearn/model_selection/_validation.py:680: DataConversionWarning: A column-vector y was passed when a 1d array was expected. Please change the shape of y to (n_samples,), for example using ravel().\n",
            "  estimator.fit(X_train, y_train, **fit_params)\n"
          ]
        },
        {
          "output_type": "stream",
          "name": "stdout",
          "text": [
            "[CV 2/3; 30/36] END max_depth=7, max_features=1.0, max_samples=0.5, min_samples_leaf=10, n_estimators=1000;, score=0.711 total time=   3.1s\n",
            "[CV 3/3; 30/36] START max_depth=7, max_features=1.0, max_samples=0.5, min_samples_leaf=10, n_estimators=1000\n"
          ]
        },
        {
          "output_type": "stream",
          "name": "stderr",
          "text": [
            "/usr/local/lib/python3.7/dist-packages/sklearn/model_selection/_validation.py:680: DataConversionWarning: A column-vector y was passed when a 1d array was expected. Please change the shape of y to (n_samples,), for example using ravel().\n",
            "  estimator.fit(X_train, y_train, **fit_params)\n"
          ]
        },
        {
          "output_type": "stream",
          "name": "stdout",
          "text": [
            "[CV 3/3; 30/36] END max_depth=7, max_features=1.0, max_samples=0.5, min_samples_leaf=10, n_estimators=1000;, score=0.716 total time=   2.9s\n",
            "[CV 1/3; 31/36] START max_depth=7, max_features=1.0, max_samples=None, min_samples_leaf=1, n_estimators=100\n"
          ]
        },
        {
          "output_type": "stream",
          "name": "stderr",
          "text": [
            "/usr/local/lib/python3.7/dist-packages/sklearn/model_selection/_validation.py:680: DataConversionWarning: A column-vector y was passed when a 1d array was expected. Please change the shape of y to (n_samples,), for example using ravel().\n",
            "  estimator.fit(X_train, y_train, **fit_params)\n"
          ]
        },
        {
          "output_type": "stream",
          "name": "stdout",
          "text": [
            "[CV 1/3; 31/36] END max_depth=7, max_features=1.0, max_samples=None, min_samples_leaf=1, n_estimators=100;, score=0.718 total time=   0.3s\n",
            "[CV 2/3; 31/36] START max_depth=7, max_features=1.0, max_samples=None, min_samples_leaf=1, n_estimators=100\n"
          ]
        },
        {
          "output_type": "stream",
          "name": "stderr",
          "text": [
            "/usr/local/lib/python3.7/dist-packages/sklearn/model_selection/_validation.py:680: DataConversionWarning: A column-vector y was passed when a 1d array was expected. Please change the shape of y to (n_samples,), for example using ravel().\n",
            "  estimator.fit(X_train, y_train, **fit_params)\n"
          ]
        },
        {
          "output_type": "stream",
          "name": "stdout",
          "text": [
            "[CV 2/3; 31/36] END max_depth=7, max_features=1.0, max_samples=None, min_samples_leaf=1, n_estimators=100;, score=0.717 total time=   0.3s\n",
            "[CV 3/3; 31/36] START max_depth=7, max_features=1.0, max_samples=None, min_samples_leaf=1, n_estimators=100\n"
          ]
        },
        {
          "output_type": "stream",
          "name": "stderr",
          "text": [
            "/usr/local/lib/python3.7/dist-packages/sklearn/model_selection/_validation.py:680: DataConversionWarning: A column-vector y was passed when a 1d array was expected. Please change the shape of y to (n_samples,), for example using ravel().\n",
            "  estimator.fit(X_train, y_train, **fit_params)\n"
          ]
        },
        {
          "output_type": "stream",
          "name": "stdout",
          "text": [
            "[CV 3/3; 31/36] END max_depth=7, max_features=1.0, max_samples=None, min_samples_leaf=1, n_estimators=100;, score=0.716 total time=   0.3s\n",
            "[CV 1/3; 32/36] START max_depth=7, max_features=1.0, max_samples=None, min_samples_leaf=1, n_estimators=1000\n"
          ]
        },
        {
          "output_type": "stream",
          "name": "stderr",
          "text": [
            "/usr/local/lib/python3.7/dist-packages/sklearn/model_selection/_validation.py:680: DataConversionWarning: A column-vector y was passed when a 1d array was expected. Please change the shape of y to (n_samples,), for example using ravel().\n",
            "  estimator.fit(X_train, y_train, **fit_params)\n"
          ]
        },
        {
          "output_type": "stream",
          "name": "stdout",
          "text": [
            "[CV 1/3; 32/36] END max_depth=7, max_features=1.0, max_samples=None, min_samples_leaf=1, n_estimators=1000;, score=0.721 total time=   3.3s\n",
            "[CV 2/3; 32/36] START max_depth=7, max_features=1.0, max_samples=None, min_samples_leaf=1, n_estimators=1000\n"
          ]
        },
        {
          "output_type": "stream",
          "name": "stderr",
          "text": [
            "/usr/local/lib/python3.7/dist-packages/sklearn/model_selection/_validation.py:680: DataConversionWarning: A column-vector y was passed when a 1d array was expected. Please change the shape of y to (n_samples,), for example using ravel().\n",
            "  estimator.fit(X_train, y_train, **fit_params)\n"
          ]
        },
        {
          "output_type": "stream",
          "name": "stdout",
          "text": [
            "[CV 2/3; 32/36] END max_depth=7, max_features=1.0, max_samples=None, min_samples_leaf=1, n_estimators=1000;, score=0.718 total time=   3.3s\n",
            "[CV 3/3; 32/36] START max_depth=7, max_features=1.0, max_samples=None, min_samples_leaf=1, n_estimators=1000\n"
          ]
        },
        {
          "output_type": "stream",
          "name": "stderr",
          "text": [
            "/usr/local/lib/python3.7/dist-packages/sklearn/model_selection/_validation.py:680: DataConversionWarning: A column-vector y was passed when a 1d array was expected. Please change the shape of y to (n_samples,), for example using ravel().\n",
            "  estimator.fit(X_train, y_train, **fit_params)\n"
          ]
        },
        {
          "output_type": "stream",
          "name": "stdout",
          "text": [
            "[CV 3/3; 32/36] END max_depth=7, max_features=1.0, max_samples=None, min_samples_leaf=1, n_estimators=1000;, score=0.716 total time=   3.3s\n",
            "[CV 1/3; 33/36] START max_depth=7, max_features=1.0, max_samples=None, min_samples_leaf=3, n_estimators=100\n"
          ]
        },
        {
          "output_type": "stream",
          "name": "stderr",
          "text": [
            "/usr/local/lib/python3.7/dist-packages/sklearn/model_selection/_validation.py:680: DataConversionWarning: A column-vector y was passed when a 1d array was expected. Please change the shape of y to (n_samples,), for example using ravel().\n",
            "  estimator.fit(X_train, y_train, **fit_params)\n"
          ]
        },
        {
          "output_type": "stream",
          "name": "stdout",
          "text": [
            "[CV 1/3; 33/36] END max_depth=7, max_features=1.0, max_samples=None, min_samples_leaf=3, n_estimators=100;, score=0.721 total time=   0.3s\n",
            "[CV 2/3; 33/36] START max_depth=7, max_features=1.0, max_samples=None, min_samples_leaf=3, n_estimators=100\n"
          ]
        },
        {
          "output_type": "stream",
          "name": "stderr",
          "text": [
            "/usr/local/lib/python3.7/dist-packages/sklearn/model_selection/_validation.py:680: DataConversionWarning: A column-vector y was passed when a 1d array was expected. Please change the shape of y to (n_samples,), for example using ravel().\n",
            "  estimator.fit(X_train, y_train, **fit_params)\n"
          ]
        },
        {
          "output_type": "stream",
          "name": "stdout",
          "text": [
            "[CV 2/3; 33/36] END max_depth=7, max_features=1.0, max_samples=None, min_samples_leaf=3, n_estimators=100;, score=0.717 total time=   0.3s\n",
            "[CV 3/3; 33/36] START max_depth=7, max_features=1.0, max_samples=None, min_samples_leaf=3, n_estimators=100\n"
          ]
        },
        {
          "output_type": "stream",
          "name": "stderr",
          "text": [
            "/usr/local/lib/python3.7/dist-packages/sklearn/model_selection/_validation.py:680: DataConversionWarning: A column-vector y was passed when a 1d array was expected. Please change the shape of y to (n_samples,), for example using ravel().\n",
            "  estimator.fit(X_train, y_train, **fit_params)\n"
          ]
        },
        {
          "output_type": "stream",
          "name": "stdout",
          "text": [
            "[CV 3/3; 33/36] END max_depth=7, max_features=1.0, max_samples=None, min_samples_leaf=3, n_estimators=100;, score=0.717 total time=   0.3s\n",
            "[CV 1/3; 34/36] START max_depth=7, max_features=1.0, max_samples=None, min_samples_leaf=3, n_estimators=1000\n"
          ]
        },
        {
          "output_type": "stream",
          "name": "stderr",
          "text": [
            "/usr/local/lib/python3.7/dist-packages/sklearn/model_selection/_validation.py:680: DataConversionWarning: A column-vector y was passed when a 1d array was expected. Please change the shape of y to (n_samples,), for example using ravel().\n",
            "  estimator.fit(X_train, y_train, **fit_params)\n"
          ]
        },
        {
          "output_type": "stream",
          "name": "stdout",
          "text": [
            "[CV 1/3; 34/36] END max_depth=7, max_features=1.0, max_samples=None, min_samples_leaf=3, n_estimators=1000;, score=0.718 total time=   3.2s\n",
            "[CV 2/3; 34/36] START max_depth=7, max_features=1.0, max_samples=None, min_samples_leaf=3, n_estimators=1000\n"
          ]
        },
        {
          "output_type": "stream",
          "name": "stderr",
          "text": [
            "/usr/local/lib/python3.7/dist-packages/sklearn/model_selection/_validation.py:680: DataConversionWarning: A column-vector y was passed when a 1d array was expected. Please change the shape of y to (n_samples,), for example using ravel().\n",
            "  estimator.fit(X_train, y_train, **fit_params)\n"
          ]
        },
        {
          "output_type": "stream",
          "name": "stdout",
          "text": [
            "[CV 2/3; 34/36] END max_depth=7, max_features=1.0, max_samples=None, min_samples_leaf=3, n_estimators=1000;, score=0.717 total time=   3.3s\n",
            "[CV 3/3; 34/36] START max_depth=7, max_features=1.0, max_samples=None, min_samples_leaf=3, n_estimators=1000\n"
          ]
        },
        {
          "output_type": "stream",
          "name": "stderr",
          "text": [
            "/usr/local/lib/python3.7/dist-packages/sklearn/model_selection/_validation.py:680: DataConversionWarning: A column-vector y was passed when a 1d array was expected. Please change the shape of y to (n_samples,), for example using ravel().\n",
            "  estimator.fit(X_train, y_train, **fit_params)\n"
          ]
        },
        {
          "output_type": "stream",
          "name": "stdout",
          "text": [
            "[CV 3/3; 34/36] END max_depth=7, max_features=1.0, max_samples=None, min_samples_leaf=3, n_estimators=1000;, score=0.716 total time=   3.3s\n",
            "[CV 1/3; 35/36] START max_depth=7, max_features=1.0, max_samples=None, min_samples_leaf=10, n_estimators=100\n"
          ]
        },
        {
          "output_type": "stream",
          "name": "stderr",
          "text": [
            "/usr/local/lib/python3.7/dist-packages/sklearn/model_selection/_validation.py:680: DataConversionWarning: A column-vector y was passed when a 1d array was expected. Please change the shape of y to (n_samples,), for example using ravel().\n",
            "  estimator.fit(X_train, y_train, **fit_params)\n"
          ]
        },
        {
          "output_type": "stream",
          "name": "stdout",
          "text": [
            "[CV 1/3; 35/36] END max_depth=7, max_features=1.0, max_samples=None, min_samples_leaf=10, n_estimators=100;, score=0.720 total time=   0.3s\n",
            "[CV 2/3; 35/36] START max_depth=7, max_features=1.0, max_samples=None, min_samples_leaf=10, n_estimators=100\n"
          ]
        },
        {
          "output_type": "stream",
          "name": "stderr",
          "text": [
            "/usr/local/lib/python3.7/dist-packages/sklearn/model_selection/_validation.py:680: DataConversionWarning: A column-vector y was passed when a 1d array was expected. Please change the shape of y to (n_samples,), for example using ravel().\n",
            "  estimator.fit(X_train, y_train, **fit_params)\n"
          ]
        },
        {
          "output_type": "stream",
          "name": "stdout",
          "text": [
            "[CV 2/3; 35/36] END max_depth=7, max_features=1.0, max_samples=None, min_samples_leaf=10, n_estimators=100;, score=0.716 total time=   0.3s\n",
            "[CV 3/3; 35/36] START max_depth=7, max_features=1.0, max_samples=None, min_samples_leaf=10, n_estimators=100\n"
          ]
        },
        {
          "output_type": "stream",
          "name": "stderr",
          "text": [
            "/usr/local/lib/python3.7/dist-packages/sklearn/model_selection/_validation.py:680: DataConversionWarning: A column-vector y was passed when a 1d array was expected. Please change the shape of y to (n_samples,), for example using ravel().\n",
            "  estimator.fit(X_train, y_train, **fit_params)\n"
          ]
        },
        {
          "output_type": "stream",
          "name": "stdout",
          "text": [
            "[CV 3/3; 35/36] END max_depth=7, max_features=1.0, max_samples=None, min_samples_leaf=10, n_estimators=100;, score=0.715 total time=   0.3s\n",
            "[CV 1/3; 36/36] START max_depth=7, max_features=1.0, max_samples=None, min_samples_leaf=10, n_estimators=1000\n"
          ]
        },
        {
          "output_type": "stream",
          "name": "stderr",
          "text": [
            "/usr/local/lib/python3.7/dist-packages/sklearn/model_selection/_validation.py:680: DataConversionWarning: A column-vector y was passed when a 1d array was expected. Please change the shape of y to (n_samples,), for example using ravel().\n",
            "  estimator.fit(X_train, y_train, **fit_params)\n"
          ]
        },
        {
          "output_type": "stream",
          "name": "stdout",
          "text": [
            "[CV 1/3; 36/36] END max_depth=7, max_features=1.0, max_samples=None, min_samples_leaf=10, n_estimators=1000;, score=0.717 total time=   3.4s\n",
            "[CV 2/3; 36/36] START max_depth=7, max_features=1.0, max_samples=None, min_samples_leaf=10, n_estimators=1000\n"
          ]
        },
        {
          "output_type": "stream",
          "name": "stderr",
          "text": [
            "/usr/local/lib/python3.7/dist-packages/sklearn/model_selection/_validation.py:680: DataConversionWarning: A column-vector y was passed when a 1d array was expected. Please change the shape of y to (n_samples,), for example using ravel().\n",
            "  estimator.fit(X_train, y_train, **fit_params)\n"
          ]
        },
        {
          "output_type": "stream",
          "name": "stdout",
          "text": [
            "[CV 2/3; 36/36] END max_depth=7, max_features=1.0, max_samples=None, min_samples_leaf=10, n_estimators=1000;, score=0.717 total time=   3.3s\n",
            "[CV 3/3; 36/36] START max_depth=7, max_features=1.0, max_samples=None, min_samples_leaf=10, n_estimators=1000\n"
          ]
        },
        {
          "output_type": "stream",
          "name": "stderr",
          "text": [
            "/usr/local/lib/python3.7/dist-packages/sklearn/model_selection/_validation.py:680: DataConversionWarning: A column-vector y was passed when a 1d array was expected. Please change the shape of y to (n_samples,), for example using ravel().\n",
            "  estimator.fit(X_train, y_train, **fit_params)\n"
          ]
        },
        {
          "output_type": "stream",
          "name": "stdout",
          "text": [
            "[CV 3/3; 36/36] END max_depth=7, max_features=1.0, max_samples=None, min_samples_leaf=10, n_estimators=1000;, score=0.718 total time=   3.2s\n"
          ]
        },
        {
          "output_type": "stream",
          "name": "stderr",
          "text": [
            "/usr/local/lib/python3.7/dist-packages/sklearn/model_selection/_search.py:926: DataConversionWarning: A column-vector y was passed when a 1d array was expected. Please change the shape of y to (n_samples,), for example using ravel().\n",
            "  self.best_estimator_.fit(X, y, **fit_params)\n"
          ]
        },
        {
          "output_type": "execute_result",
          "data": {
            "text/plain": [
              "GridSearchCV(cv=3, estimator=RandomForestClassifier(),\n",
              "             param_grid={'max_depth': [7], 'max_features': [0.1, 0.5, 1.0],\n",
              "                         'max_samples': [0.5, None],\n",
              "                         'min_samples_leaf': [1, 3, 10],\n",
              "                         'n_estimators': [100, 1000]},\n",
              "             verbose=10)"
            ]
          },
          "metadata": {},
          "execution_count": 69
        }
      ]
    },
    {
      "cell_type": "code",
      "source": [
        "grid_search.best_params_"
      ],
      "metadata": {
        "id": "TcCMKMK5hLBP",
        "outputId": "45deb2db-7eb0-4dba-c285-2adb894563a4",
        "colab": {
          "base_uri": "https://localhost:8080/"
        }
      },
      "execution_count": null,
      "outputs": [
        {
          "output_type": "execute_result",
          "data": {
            "text/plain": [
              "{'max_depth': 7,\n",
              " 'max_features': 1.0,\n",
              " 'max_samples': 0.5,\n",
              " 'min_samples_leaf': 1,\n",
              " 'n_estimators': 100}"
            ]
          },
          "metadata": {},
          "execution_count": 70
        }
      ]
    },
    {
      "cell_type": "code",
      "source": [
        "# Run the model using the parameters found from the grid search\n",
        "rf_model_meta = RandomForestClassifier(criterion='gini',max_depth=7, min_samples_leaf=1,n_estimators=100,\n",
        "                                 max_features=1,max_samples=0.5,random_state=0)\n",
        "rf_model_meta.fit(X_train_meta, y_train_meta)"
      ],
      "metadata": {
        "id": "cRq3FfCxhScw",
        "outputId": "ace555c8-bedd-450e-8ee1-959e823a3d4a",
        "colab": {
          "base_uri": "https://localhost:8080/"
        }
      },
      "execution_count": null,
      "outputs": [
        {
          "output_type": "stream",
          "name": "stderr",
          "text": [
            "/usr/local/lib/python3.7/dist-packages/ipykernel_launcher.py:4: DataConversionWarning: A column-vector y was passed when a 1d array was expected. Please change the shape of y to (n_samples,), for example using ravel().\n",
            "  after removing the cwd from sys.path.\n"
          ]
        },
        {
          "output_type": "execute_result",
          "data": {
            "text/plain": [
              "RandomForestClassifier(max_depth=7, max_features=1, max_samples=0.5,\n",
              "                       random_state=0)"
            ]
          },
          "metadata": {},
          "execution_count": 71
        }
      ]
    },
    {
      "cell_type": "code",
      "source": [
        "test_preds = rf_model_meta.predict(X_test_meta).reshape(len(X_test_meta),1)\n",
        "test_acc = np.sum(test_preds==y_test_meta)/len(y_test_meta)\n"
      ],
      "metadata": {
        "id": "wvk7OWA1hrxy"
      },
      "execution_count": null,
      "outputs": []
    },
    {
      "cell_type": "code",
      "source": [
        "test_acc"
      ],
      "metadata": {
        "id": "lleZnPRniuaB"
      },
      "execution_count": null,
      "outputs": []
    },
    {
      "cell_type": "code",
      "source": [
        "def calc_feature_importances(model,feat_names,num_to_show):\n",
        "    # Determine the relative importance of each feature using the random forest model\n",
        "    importances = model.feature_importances_\n",
        "    # Get an array of the indices that would sort \"importances\" in reverse order to get largest to smallest\n",
        "    indices = np.argsort(importances)[::-1]\n",
        "    ranked_feats = []\n",
        "    for i in range(len(indices)):\n",
        "        feat_name = feat_names[indices[i]]\n",
        "        ranked_feats.append(feat_name)\n",
        "    RF_ranking = pd.DataFrame()\n",
        "    RF_ranking['Feat Index'] = indices\n",
        "    RF_ranking['Feature'] = ranked_feats\n",
        "    RF_ranking['Importance'] = np.sort(importances)[::-1]\n",
        "    display(RF_ranking.iloc[:num_to_show,:])\n",
        "\n",
        "    # Plot the importance value for each feature\n",
        "    RF_ranking[:num_to_show][::-1].plot(x='Feature',y='Importance',kind='barh',figsize=(12,7),legend=False,title='RF Feature Importance')\n",
        "    plt.show()\n",
        "    return"
      ],
      "metadata": {
        "id": "GJUxdLS5i6Eh"
      },
      "execution_count": null,
      "outputs": []
    },
    {
      "cell_type": "code",
      "source": [
        "top_feats = 30\n",
        "calc_feature_importances(rf_model_meta,X_test_meta.columns,top_feats)"
      ],
      "metadata": {
        "id": "sWHABd-Xi-B0",
        "outputId": "ca11d4e6-0e48-49ff-b65f-fab282d0f5dc",
        "colab": {
          "base_uri": "https://localhost:8080/",
          "height": 601
        }
      },
      "execution_count": null,
      "outputs": [
        {
          "output_type": "display_data",
          "data": {
            "text/plain": [
              "   Feat Index       Feature  Importance\n",
              "0           0       dx_type    0.408924\n",
              "1           3      ageGroup    0.367154\n",
              "2           2  localization    0.204911\n",
              "3           1           sex    0.019012"
            ],
            "text/html": [
              "\n",
              "  <div id=\"df-c52bdf8f-cb67-4156-a72f-e89b87cea596\">\n",
              "    <div class=\"colab-df-container\">\n",
              "      <div>\n",
              "<style scoped>\n",
              "    .dataframe tbody tr th:only-of-type {\n",
              "        vertical-align: middle;\n",
              "    }\n",
              "\n",
              "    .dataframe tbody tr th {\n",
              "        vertical-align: top;\n",
              "    }\n",
              "\n",
              "    .dataframe thead th {\n",
              "        text-align: right;\n",
              "    }\n",
              "</style>\n",
              "<table border=\"1\" class=\"dataframe\">\n",
              "  <thead>\n",
              "    <tr style=\"text-align: right;\">\n",
              "      <th></th>\n",
              "      <th>Feat Index</th>\n",
              "      <th>Feature</th>\n",
              "      <th>Importance</th>\n",
              "    </tr>\n",
              "  </thead>\n",
              "  <tbody>\n",
              "    <tr>\n",
              "      <th>0</th>\n",
              "      <td>0</td>\n",
              "      <td>dx_type</td>\n",
              "      <td>0.408924</td>\n",
              "    </tr>\n",
              "    <tr>\n",
              "      <th>1</th>\n",
              "      <td>3</td>\n",
              "      <td>ageGroup</td>\n",
              "      <td>0.367154</td>\n",
              "    </tr>\n",
              "    <tr>\n",
              "      <th>2</th>\n",
              "      <td>2</td>\n",
              "      <td>localization</td>\n",
              "      <td>0.204911</td>\n",
              "    </tr>\n",
              "    <tr>\n",
              "      <th>3</th>\n",
              "      <td>1</td>\n",
              "      <td>sex</td>\n",
              "      <td>0.019012</td>\n",
              "    </tr>\n",
              "  </tbody>\n",
              "</table>\n",
              "</div>\n",
              "      <button class=\"colab-df-convert\" onclick=\"convertToInteractive('df-c52bdf8f-cb67-4156-a72f-e89b87cea596')\"\n",
              "              title=\"Convert this dataframe to an interactive table.\"\n",
              "              style=\"display:none;\">\n",
              "        \n",
              "  <svg xmlns=\"http://www.w3.org/2000/svg\" height=\"24px\"viewBox=\"0 0 24 24\"\n",
              "       width=\"24px\">\n",
              "    <path d=\"M0 0h24v24H0V0z\" fill=\"none\"/>\n",
              "    <path d=\"M18.56 5.44l.94 2.06.94-2.06 2.06-.94-2.06-.94-.94-2.06-.94 2.06-2.06.94zm-11 1L8.5 8.5l.94-2.06 2.06-.94-2.06-.94L8.5 2.5l-.94 2.06-2.06.94zm10 10l.94 2.06.94-2.06 2.06-.94-2.06-.94-.94-2.06-.94 2.06-2.06.94z\"/><path d=\"M17.41 7.96l-1.37-1.37c-.4-.4-.92-.59-1.43-.59-.52 0-1.04.2-1.43.59L10.3 9.45l-7.72 7.72c-.78.78-.78 2.05 0 2.83L4 21.41c.39.39.9.59 1.41.59.51 0 1.02-.2 1.41-.59l7.78-7.78 2.81-2.81c.8-.78.8-2.07 0-2.86zM5.41 20L4 18.59l7.72-7.72 1.47 1.35L5.41 20z\"/>\n",
              "  </svg>\n",
              "      </button>\n",
              "      \n",
              "  <style>\n",
              "    .colab-df-container {\n",
              "      display:flex;\n",
              "      flex-wrap:wrap;\n",
              "      gap: 12px;\n",
              "    }\n",
              "\n",
              "    .colab-df-convert {\n",
              "      background-color: #E8F0FE;\n",
              "      border: none;\n",
              "      border-radius: 50%;\n",
              "      cursor: pointer;\n",
              "      display: none;\n",
              "      fill: #1967D2;\n",
              "      height: 32px;\n",
              "      padding: 0 0 0 0;\n",
              "      width: 32px;\n",
              "    }\n",
              "\n",
              "    .colab-df-convert:hover {\n",
              "      background-color: #E2EBFA;\n",
              "      box-shadow: 0px 1px 2px rgba(60, 64, 67, 0.3), 0px 1px 3px 1px rgba(60, 64, 67, 0.15);\n",
              "      fill: #174EA6;\n",
              "    }\n",
              "\n",
              "    [theme=dark] .colab-df-convert {\n",
              "      background-color: #3B4455;\n",
              "      fill: #D2E3FC;\n",
              "    }\n",
              "\n",
              "    [theme=dark] .colab-df-convert:hover {\n",
              "      background-color: #434B5C;\n",
              "      box-shadow: 0px 1px 3px 1px rgba(0, 0, 0, 0.15);\n",
              "      filter: drop-shadow(0px 1px 2px rgba(0, 0, 0, 0.3));\n",
              "      fill: #FFFFFF;\n",
              "    }\n",
              "  </style>\n",
              "\n",
              "      <script>\n",
              "        const buttonEl =\n",
              "          document.querySelector('#df-c52bdf8f-cb67-4156-a72f-e89b87cea596 button.colab-df-convert');\n",
              "        buttonEl.style.display =\n",
              "          google.colab.kernel.accessAllowed ? 'block' : 'none';\n",
              "\n",
              "        async function convertToInteractive(key) {\n",
              "          const element = document.querySelector('#df-c52bdf8f-cb67-4156-a72f-e89b87cea596');\n",
              "          const dataTable =\n",
              "            await google.colab.kernel.invokeFunction('convertToInteractive',\n",
              "                                                     [key], {});\n",
              "          if (!dataTable) return;\n",
              "\n",
              "          const docLinkHtml = 'Like what you see? Visit the ' +\n",
              "            '<a target=\"_blank\" href=https://colab.research.google.com/notebooks/data_table.ipynb>data table notebook</a>'\n",
              "            + ' to learn more about interactive tables.';\n",
              "          element.innerHTML = '';\n",
              "          dataTable['output_type'] = 'display_data';\n",
              "          await google.colab.output.renderOutput(dataTable, element);\n",
              "          const docLink = document.createElement('div');\n",
              "          docLink.innerHTML = docLinkHtml;\n",
              "          element.appendChild(docLink);\n",
              "        }\n",
              "      </script>\n",
              "    </div>\n",
              "  </div>\n",
              "  "
            ]
          },
          "metadata": {}
        },
        {
          "output_type": "display_data",
          "data": {
            "text/plain": [
              "<Figure size 864x504 with 1 Axes>"
            ],
            "image/png": "[encoded data removed]"
          },
          "metadata": {
            "needs_background": "light"
          }
        }
      ]
    }
  ]
}