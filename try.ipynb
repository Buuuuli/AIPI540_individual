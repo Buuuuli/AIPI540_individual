{
  "nbformat": 4,
  "nbformat_minor": 0,
  "metadata": {
    "colab": {
      "name": "Untitled5.ipynb",
      "provenance": [],
      "machine_shape": "hm",
      "authorship_tag": "ABX9TyOJ2rGhthFiOR8rNNQZ7L4s",
      "include_colab_link": true
    },
    "kernelspec": {
      "name": "python3",
      "display_name": "Python 3"
    },
    "language_info": {
      "name": "python"
    },
    "accelerator": "GPU",
    "widgets": {
      "application/vnd.jupyter.widget-state+json": {
        "8a5e9f2fdac04aa09155321bec0dd2e5": {
          "model_module": "@jupyter-widgets/controls",
          "model_name": "HBoxModel",
          "model_module_version": "1.5.0",
          "state": {
            "_dom_classes": [],
            "_model_module": "@jupyter-widgets/controls",
            "_model_module_version": "1.5.0",
            "_model_name": "HBoxModel",
            "_view_count": null,
            "_view_module": "@jupyter-widgets/controls",
            "_view_module_version": "1.5.0",
            "_view_name": "HBoxView",
            "box_style": "",
            "children": [
              "IPY_MODEL_c7d9384da63944cf9ef3e81caf4043ca",
              "IPY_MODEL_11519d8894cc4c188624425c27c7f8f6",
              "IPY_MODEL_d4c811d193e74e5ab749ed61374d490a"
            ],
            "layout": "IPY_MODEL_39cf558cb48c4fcaadfc8f31f393ad6c"
          }
        },
        "c7d9384da63944cf9ef3e81caf4043ca": {
          "model_module": "@jupyter-widgets/controls",
          "model_name": "HTMLModel",
          "model_module_version": "1.5.0",
          "state": {
            "_dom_classes": [],
            "_model_module": "@jupyter-widgets/controls",
            "_model_module_version": "1.5.0",
            "_model_name": "HTMLModel",
            "_view_count": null,
            "_view_module": "@jupyter-widgets/controls",
            "_view_module_version": "1.5.0",
            "_view_name": "HTMLView",
            "description": "",
            "description_tooltip": null,
            "layout": "IPY_MODEL_9b5b16984f854706823f1b6f5cfbf0d8",
            "placeholder": "​",
            "style": "IPY_MODEL_f756db424e514d87bc80fc5f11c35ddc",
            "value": "100%"
          }
        },
        "11519d8894cc4c188624425c27c7f8f6": {
          "model_module": "@jupyter-widgets/controls",
          "model_name": "FloatProgressModel",
          "model_module_version": "1.5.0",
          "state": {
            "_dom_classes": [],
            "_model_module": "@jupyter-widgets/controls",
            "_model_module_version": "1.5.0",
            "_model_name": "FloatProgressModel",
            "_view_count": null,
            "_view_module": "@jupyter-widgets/controls",
            "_view_module_version": "1.5.0",
            "_view_name": "ProgressView",
            "bar_style": "success",
            "description": "",
            "description_tooltip": null,
            "layout": "IPY_MODEL_ee5f3ae4f98d4a7494c4bd689fe1ae9c",
            "max": 46830571,
            "min": 0,
            "orientation": "horizontal",
            "style": "IPY_MODEL_d4483ddb6dad4e52acf2513764c0fb53",
            "value": 46830571
          }
        },
        "d4c811d193e74e5ab749ed61374d490a": {
          "model_module": "@jupyter-widgets/controls",
          "model_name": "HTMLModel",
          "model_module_version": "1.5.0",
          "state": {
            "_dom_classes": [],
            "_model_module": "@jupyter-widgets/controls",
            "_model_module_version": "1.5.0",
            "_model_name": "HTMLModel",
            "_view_count": null,
            "_view_module": "@jupyter-widgets/controls",
            "_view_module_version": "1.5.0",
            "_view_name": "HTMLView",
            "description": "",
            "description_tooltip": null,
            "layout": "IPY_MODEL_43724fe177884cae91e11e6dd1a60fdf",
            "placeholder": "​",
            "style": "IPY_MODEL_7d7f7b57e08e4cc6b97cbbc136dec4f2",
            "value": " 44.7M/44.7M [00:00&lt;00:00, 130MB/s]"
          }
        },
        "39cf558cb48c4fcaadfc8f31f393ad6c": {
          "model_module": "@jupyter-widgets/base",
          "model_name": "LayoutModel",
          "model_module_version": "1.2.0",
          "state": {
            "_model_module": "@jupyter-widgets/base",
            "_model_module_version": "1.2.0",
            "_model_name": "LayoutModel",
            "_view_count": null,
            "_view_module": "@jupyter-widgets/base",
            "_view_module_version": "1.2.0",
            "_view_name": "LayoutView",
            "align_content": null,
            "align_items": null,
            "align_self": null,
            "border": null,
            "bottom": null,
            "display": null,
            "flex": null,
            "flex_flow": null,
            "grid_area": null,
            "grid_auto_columns": null,
            "grid_auto_flow": null,
            "grid_auto_rows": null,
            "grid_column": null,
            "grid_gap": null,
            "grid_row": null,
            "grid_template_areas": null,
            "grid_template_columns": null,
            "grid_template_rows": null,
            "height": null,
            "justify_content": null,
            "justify_items": null,
            "left": null,
            "margin": null,
            "max_height": null,
            "max_width": null,
            "min_height": null,
            "min_width": null,
            "object_fit": null,
            "object_position": null,
            "order": null,
            "overflow": null,
            "overflow_x": null,
            "overflow_y": null,
            "padding": null,
            "right": null,
            "top": null,
            "visibility": null,
            "width": null
          }
        },
        "9b5b16984f854706823f1b6f5cfbf0d8": {
          "model_module": "@jupyter-widgets/base",
          "model_name": "LayoutModel",
          "model_module_version": "1.2.0",
          "state": {
            "_model_module": "@jupyter-widgets/base",
            "_model_module_version": "1.2.0",
            "_model_name": "LayoutModel",
            "_view_count": null,
            "_view_module": "@jupyter-widgets/base",
            "_view_module_version": "1.2.0",
            "_view_name": "LayoutView",
            "align_content": null,
            "align_items": null,
            "align_self": null,
            "border": null,
            "bottom": null,
            "display": null,
            "flex": null,
            "flex_flow": null,
            "grid_area": null,
            "grid_auto_columns": null,
            "grid_auto_flow": null,
            "grid_auto_rows": null,
            "grid_column": null,
            "grid_gap": null,
            "grid_row": null,
            "grid_template_areas": null,
            "grid_template_columns": null,
            "grid_template_rows": null,
            "height": null,
            "justify_content": null,
            "justify_items": null,
            "left": null,
            "margin": null,
            "max_height": null,
            "max_width": null,
            "min_height": null,
            "min_width": null,
            "object_fit": null,
            "object_position": null,
            "order": null,
            "overflow": null,
            "overflow_x": null,
            "overflow_y": null,
            "padding": null,
            "right": null,
            "top": null,
            "visibility": null,
            "width": null
          }
        },
        "f756db424e514d87bc80fc5f11c35ddc": {
          "model_module": "@jupyter-widgets/controls",
          "model_name": "DescriptionStyleModel",
          "model_module_version": "1.5.0",
          "state": {
            "_model_module": "@jupyter-widgets/controls",
            "_model_module_version": "1.5.0",
            "_model_name": "DescriptionStyleModel",
            "_view_count": null,
            "_view_module": "@jupyter-widgets/base",
            "_view_module_version": "1.2.0",
            "_view_name": "StyleView",
            "description_width": ""
          }
        },
        "ee5f3ae4f98d4a7494c4bd689fe1ae9c": {
          "model_module": "@jupyter-widgets/base",
          "model_name": "LayoutModel",
          "model_module_version": "1.2.0",
          "state": {
            "_model_module": "@jupyter-widgets/base",
            "_model_module_version": "1.2.0",
            "_model_name": "LayoutModel",
            "_view_count": null,
            "_view_module": "@jupyter-widgets/base",
            "_view_module_version": "1.2.0",
            "_view_name": "LayoutView",
            "align_content": null,
            "align_items": null,
            "align_self": null,
            "border": null,
            "bottom": null,
            "display": null,
            "flex": null,
            "flex_flow": null,
            "grid_area": null,
            "grid_auto_columns": null,
            "grid_auto_flow": null,
            "grid_auto_rows": null,
            "grid_column": null,
            "grid_gap": null,
            "grid_row": null,
            "grid_template_areas": null,
            "grid_template_columns": null,
            "grid_template_rows": null,
            "height": null,
            "justify_content": null,
            "justify_items": null,
            "left": null,
            "margin": null,
            "max_height": null,
            "max_width": null,
            "min_height": null,
            "min_width": null,
            "object_fit": null,
            "object_position": null,
            "order": null,
            "overflow": null,
            "overflow_x": null,
            "overflow_y": null,
            "padding": null,
            "right": null,
            "top": null,
            "visibility": null,
            "width": null
          }
        },
        "d4483ddb6dad4e52acf2513764c0fb53": {
          "model_module": "@jupyter-widgets/controls",
          "model_name": "ProgressStyleModel",
          "model_module_version": "1.5.0",
          "state": {
            "_model_module": "@jupyter-widgets/controls",
            "_model_module_version": "1.5.0",
            "_model_name": "ProgressStyleModel",
            "_view_count": null,
            "_view_module": "@jupyter-widgets/base",
            "_view_module_version": "1.2.0",
            "_view_name": "StyleView",
            "bar_color": null,
            "description_width": ""
          }
        },
        "43724fe177884cae91e11e6dd1a60fdf": {
          "model_module": "@jupyter-widgets/base",
          "model_name": "LayoutModel",
          "model_module_version": "1.2.0",
          "state": {
            "_model_module": "@jupyter-widgets/base",
            "_model_module_version": "1.2.0",
            "_model_name": "LayoutModel",
            "_view_count": null,
            "_view_module": "@jupyter-widgets/base",
            "_view_module_version": "1.2.0",
            "_view_name": "LayoutView",
            "align_content": null,
            "align_items": null,
            "align_self": null,
            "border": null,
            "bottom": null,
            "display": null,
            "flex": null,
            "flex_flow": null,
            "grid_area": null,
            "grid_auto_columns": null,
            "grid_auto_flow": null,
            "grid_auto_rows": null,
            "grid_column": null,
            "grid_gap": null,
            "grid_row": null,
            "grid_template_areas": null,
            "grid_template_columns": null,
            "grid_template_rows": null,
            "height": null,
            "justify_content": null,
            "justify_items": null,
            "left": null,
            "margin": null,
            "max_height": null,
            "max_width": null,
            "min_height": null,
            "min_width": null,
            "object_fit": null,
            "object_position": null,
            "order": null,
            "overflow": null,
            "overflow_x": null,
            "overflow_y": null,
            "padding": null,
            "right": null,
            "top": null,
            "visibility": null,
            "width": null
          }
        },
        "7d7f7b57e08e4cc6b97cbbc136dec4f2": {
          "model_module": "@jupyter-widgets/controls",
          "model_name": "DescriptionStyleModel",
          "model_module_version": "1.5.0",
          "state": {
            "_model_module": "@jupyter-widgets/controls",
            "_model_module_version": "1.5.0",
            "_model_name": "DescriptionStyleModel",
            "_view_count": null,
            "_view_module": "@jupyter-widgets/base",
            "_view_module_version": "1.2.0",
            "_view_name": "StyleView",
            "description_width": ""
          }
        }
      }
    }
  },
  "cells": [
    {
      "cell_type": "markdown",
      "metadata": {
        "id": "view-in-github",
        "colab_type": "text"
      },
      "source": [
        "<a href=\"https://colab.research.google.com/github/Buuuuli/AIPI540_individual/blob/main/try.ipynb\" target=\"_parent\"><img src=\"https://colab.research.google.com/assets/colab-badge.svg\" alt=\"Open In Colab\"/></a>"
      ]
    },
    {
      "cell_type": "code",
      "execution_count": 1,
      "metadata": {
        "colab": {
          "base_uri": "https://localhost:8080/"
        },
        "id": "oVO59Z87vlcY",
        "outputId": "e2722aaa-c146-4e4b-f633-48b85fdfc173"
      },
      "outputs": [
        {
          "output_type": "stream",
          "name": "stdout",
          "text": [
            "Drive already mounted at /content/drive; to attempt to forcibly remount, call drive.mount(\"/content/drive\", force_remount=True).\n"
          ]
        }
      ],
      "source": [
        "from os.path import join\n",
        "from google.colab import drive\n",
        "\n",
        "ROOT = \"/content/drive\"\n",
        "drive.mount(ROOT, force_remount=False)"
      ]
    },
    {
      "cell_type": "code",
      "source": [
        "#PROJ =\"MyDrive/repos\"\n",
        "#PROJECT_PATH = join(ROOT, PROJ)\n",
        "#!mkdir \"PROJECT_PATH\""
      ],
      "metadata": {
        "id": "wpZAVlC2vt3n"
      },
      "execution_count": 2,
      "outputs": []
    },
    {
      "cell_type": "code",
      "source": [
        "!ls"
      ],
      "metadata": {
        "colab": {
          "base_uri": "https://localhost:8080/"
        },
        "id": "4_ExL1gSvt5x",
        "outputId": "55f6bc08-9685-4fbe-934d-5c383335c911"
      },
      "execution_count": 2,
      "outputs": [
        {
          "output_type": "stream",
          "name": "stdout",
          "text": [
            "drive  local-file.xlsx\tsample_data\n"
          ]
        }
      ]
    },
    {
      "cell_type": "code",
      "source": [
        "%cd /content/drive/\"My Drive\"/AIPI540"
      ],
      "metadata": {
        "colab": {
          "base_uri": "https://localhost:8080/"
        },
        "id": "srqjyPn4vt7f",
        "outputId": "725bb350-7b0b-4ce8-96a2-73f7ec6214ac"
      },
      "execution_count": 3,
      "outputs": [
        {
          "output_type": "stream",
          "name": "stdout",
          "text": [
            "/content/drive/My Drive/AIPI540\n"
          ]
        }
      ]
    },
    {
      "cell_type": "code",
      "source": [
        "import os\n",
        "import urllib.request\n",
        "import zipfile\n",
        "import copy\n",
        "import time\n",
        "import numpy as np\n",
        "import pandas as pd\n",
        "import torch\n",
        "from torchvision import datasets, transforms\n",
        "import torchvision\n",
        "from torch.utils.data import DataLoader, TensorDataset\n",
        "import torch.nn as nn\n",
        "import torch.nn.functional as F\n",
        "import torch.optim as optim\n",
        "from torchvision.datasets import FashionMNIST\n",
        "from torchsummary import summary\n",
        "import cv2 as cv\n",
        "import glob\n",
        "from PIL import Image\n",
        "import pickle as pkl\n",
        "from tqdm import tqdm\n",
        "from zipfile import ZipFile\n",
        "\n",
        "\n",
        "\n",
        "from sklearn.tree import DecisionTreeClassifier, DecisionTreeRegressor, plot_tree\n",
        "from sklearn.ensemble import RandomForestClassifier\n",
        "from sklearn.model_selection import train_test_split\n",
        "import matplotlib.pyplot as plt"
      ],
      "metadata": {
        "id": "n4c9ECsa6fw6"
      },
      "execution_count": 10,
      "outputs": []
    },
    {
      "cell_type": "code",
      "source": [
        "# check what types of image we get\n",
        "#set the image directory\n",
        "files = os.listdir(\"./image/\")\n",
        "# print the types of image\n",
        "print(set([x.split(\".\")[1] for x in files]))\n"
      ],
      "metadata": {
        "id": "sDkJeDUI6f56",
        "outputId": "fa11bfcd-28fb-4266-e212-6cb78508e537",
        "colab": {
          "base_uri": "https://localhost:8080/"
        }
      },
      "execution_count": 5,
      "outputs": [
        {
          "output_type": "stream",
          "name": "stdout",
          "text": [
            "{'jpg'}\n"
          ]
        }
      ]
    },
    {
      "cell_type": "code",
      "source": [
        "# prepare the directory for each image type\n",
        "extensions = (\"*.jpg\")\n",
        "path = []\n",
        "for extension in extensions:\n",
        "    path.extend(glob.glob(\"./image/\"+extension))"
      ],
      "metadata": {
        "id": "4wY5KZeT6f8n"
      },
      "execution_count": 6,
      "outputs": []
    },
    {
      "cell_type": "code",
      "source": [
        "# set the transforms\n",
        "trans = transforms.Compose([transforms.Resize((224, 224)),\n",
        "                            transforms.ToTensor(),\n",
        "                            transforms.Normalize([0.485, 0.456, 0.406], [0.229, 0.224, 0.225])])"
      ],
      "metadata": {
        "id": "Zu_F2FHgGY3m"
      },
      "execution_count": 7,
      "outputs": []
    },
    {
      "cell_type": "code",
      "source": [
        "# read data\n",
        "cv_img = []\n",
        "for img in tqdm(path):\n",
        "    # read image > to Tensor > permute the data > resize > flatten\n",
        "    try:\n",
        "      n = trans(cv.imread(img))\n",
        "    except:\n",
        "      print(img)\n",
        "      pass\n",
        "    cv_img.append(n)"
      ],
      "metadata": {
        "id": "-n6xyPMK6f-4",
        "outputId": "1934bbd8-fc59-4bbe-f835-1eda029e9c56",
        "colab": {
          "base_uri": "https://localhost:8080/"
        }
      },
      "execution_count": 8,
      "outputs": [
        {
          "output_type": "stream",
          "name": "stderr",
          "text": [
            "100%|██████████| 10016/10016 [02:32<00:00, 65.59it/s]"
          ]
        },
        {
          "output_type": "stream",
          "name": "stdout",
          "text": [
            "./image/.\n"
          ]
        },
        {
          "output_type": "stream",
          "name": "stderr",
          "text": [
            "\n"
          ]
        }
      ]
    },
    {
      "cell_type": "code",
      "source": [
        "url1 = 'https://github.com/Buuuuli/AIPI540_individual/blob/main/metadata/raw_metadata.csv?raw=true'\n",
        "df = pd.read_csv(url1,index_col=0)\n",
        "print(df.head(5))"
      ],
      "metadata": {
        "id": "K1QCZ15x16Ww",
        "outputId": "7cc1631d-5047-4141-d3ce-d2354cd799b9",
        "colab": {
          "base_uri": "https://localhost:8080/"
        }
      },
      "execution_count": 37,
      "outputs": [
        {
          "output_type": "stream",
          "name": "stdout",
          "text": [
            "                 image_id   dx    dx_type   age     sex     localization\n",
            "lesion_id                                                               \n",
            "HAM_0000550  ISIC_0024306   nv  follow_up  45.0    male            trunk\n",
            "HAM_0003577  ISIC_0024307   nv  follow_up  50.0    male  lower extremity\n",
            "HAM_0001477  ISIC_0024308   nv  follow_up  55.0  female            trunk\n",
            "HAM_0000484  ISIC_0024309   nv  follow_up  40.0    male            trunk\n",
            "HAM_0003350  ISIC_0024310  mel      histo  60.0    male            chest\n"
          ]
        }
      ]
    },
    {
      "cell_type": "code",
      "source": [
        "# group age\n",
        "bins =[0,10,20,30,40,50,60,70,80,90]\n",
        "labels = ['children','teenage','young','adult','midage','old1','old2','old3','older']\n",
        "\n",
        "df['ageGroup'] = pd.cut(df['age'], bins=bins, labels=labels, right=False)\n",
        "\n",
        "df = df.drop(\"age\", axis=1)"
      ],
      "metadata": {
        "id": "SsPUTFIy16aA"
      },
      "execution_count": 38,
      "outputs": []
    },
    {
      "cell_type": "code",
      "source": [
        "# {0: 'akiec', 1: 'bcc', 2: 'bkl', 3: 'df', 4: 'mel', 5: 'nv', 6: 'vasc'}\n",
        "dx_dict = dict(enumerate(df['dx'].astype('category').cat.categories))\n",
        "\n",
        "# {0: 'confocal', 1: 'consensus', 2: 'follow_up', 3: 'histo'}\n",
        "dx_type_dict = dict(enumerate(df['dx_type'].astype('category').cat.categories))\n",
        "\n",
        "# {0: 'female', 1: 'male', 2: 'unknown'}\n",
        "sex_dict = dict(enumerate(df['sex'].astype('category').cat.categories))\n",
        "\n",
        "# {0: 'abdomen', 1: 'acral', 2: 'back', 3: 'chest', 4: 'ear',\n",
        "# 5: 'face', 6: 'foot', 7: 'genital', 8: 'hand', 9: 'lower extremity',\n",
        "# 10: 'neck', 11: 'scalp', 12: 'trunk', 13: 'unknown', 14: 'upper extremity'}\n",
        "localization_dict = dict(enumerate(df['localization'].astype('category').cat.categories))\n",
        "\n",
        "# {0: 'children', 1: 'teenage', 2: 'young', 3: 'adult', 4: 'midage',\n",
        "# 5: 'old', 6: 'old2', 7: 'old3', 8: 'older'}\n",
        "ageGroup_dict = dict(enumerate(df['ageGroup'].astype('category').cat.categories))"
      ],
      "metadata": {
        "id": "MSomlCAm2QQV"
      },
      "execution_count": 39,
      "outputs": []
    },
    {
      "cell_type": "code",
      "source": [
        "# encode 'dx','dx_type','sex', 'localization'\n",
        "for col in ['dx','dx_type','sex','localization','ageGroup']:\n",
        "    df[col] = df[col].astype('category') # Convert to category type\n",
        "    df[col] = df[col].cat.codes # Convert to numerical code"
      ],
      "metadata": {
        "id": "uVb2Tp832QSs"
      },
      "execution_count": 40,
      "outputs": []
    },
    {
      "cell_type": "code",
      "source": [
        "len(cv_img)"
      ],
      "metadata": {
        "id": "Hj7I0cOH33-V",
        "outputId": "3b9083fd-caf7-4413-bd78-5bf202e098e0",
        "colab": {
          "base_uri": "https://localhost:8080/"
        }
      },
      "execution_count": 42,
      "outputs": [
        {
          "output_type": "execute_result",
          "data": {
            "text/plain": [
              "10016"
            ]
          },
          "metadata": {},
          "execution_count": 42
        }
      ]
    },
    {
      "cell_type": "code",
      "source": [
        "len(df)"
      ],
      "metadata": {
        "id": "OuyeS_or3_Pu",
        "outputId": "fb59e59f-3739-44d3-b1eb-ea95cab35d02",
        "colab": {
          "base_uri": "https://localhost:8080/"
        }
      },
      "execution_count": 43,
      "outputs": [
        {
          "output_type": "execute_result",
          "data": {
            "text/plain": [
              "10015"
            ]
          },
          "metadata": {},
          "execution_count": 43
        }
      ]
    },
    {
      "cell_type": "code",
      "source": [
        "dict_image = {cv_img[i]: df[col][i] for i in range(len(cv_img))}"
      ],
      "metadata": {
        "id": "ZsfrzCJs2QUv",
        "outputId": "ba7b7ec7-a3b3-48c3-fb15-68dbefb2d039",
        "colab": {
          "base_uri": "https://localhost:8080/",
          "height": 317
        }
      },
      "execution_count": 41,
      "outputs": [
        {
          "output_type": "error",
          "ename": "IndexError",
          "evalue": "ignored",
          "traceback": [
            "\u001b[0;31m---------------------------------------------------------------------------\u001b[0m",
            "\u001b[0;31mIndexError\u001b[0m                                Traceback (most recent call last)",
            "\u001b[0;32m<ipython-input-41-2875781e5acc>\u001b[0m in \u001b[0;36m<module>\u001b[0;34m()\u001b[0m\n\u001b[0;32m----> 1\u001b[0;31m \u001b[0mdict_image\u001b[0m \u001b[0;34m=\u001b[0m \u001b[0;34m{\u001b[0m\u001b[0mcv_img\u001b[0m\u001b[0;34m[\u001b[0m\u001b[0mi\u001b[0m\u001b[0;34m]\u001b[0m\u001b[0;34m:\u001b[0m \u001b[0mdf\u001b[0m\u001b[0;34m[\u001b[0m\u001b[0mcol\u001b[0m\u001b[0;34m]\u001b[0m\u001b[0;34m[\u001b[0m\u001b[0mi\u001b[0m\u001b[0;34m]\u001b[0m \u001b[0;32mfor\u001b[0m \u001b[0mi\u001b[0m \u001b[0;32min\u001b[0m \u001b[0mrange\u001b[0m\u001b[0;34m(\u001b[0m\u001b[0mlen\u001b[0m\u001b[0;34m(\u001b[0m\u001b[0mcv_img\u001b[0m\u001b[0;34m)\u001b[0m\u001b[0;34m)\u001b[0m\u001b[0;34m}\u001b[0m\u001b[0;34m\u001b[0m\u001b[0;34m\u001b[0m\u001b[0m\n\u001b[0m",
            "\u001b[0;32m<ipython-input-41-2875781e5acc>\u001b[0m in \u001b[0;36m<dictcomp>\u001b[0;34m(.0)\u001b[0m\n\u001b[0;32m----> 1\u001b[0;31m \u001b[0mdict_image\u001b[0m \u001b[0;34m=\u001b[0m \u001b[0;34m{\u001b[0m\u001b[0mcv_img\u001b[0m\u001b[0;34m[\u001b[0m\u001b[0mi\u001b[0m\u001b[0;34m]\u001b[0m\u001b[0;34m:\u001b[0m \u001b[0mdf\u001b[0m\u001b[0;34m[\u001b[0m\u001b[0mcol\u001b[0m\u001b[0;34m]\u001b[0m\u001b[0;34m[\u001b[0m\u001b[0mi\u001b[0m\u001b[0;34m]\u001b[0m \u001b[0;32mfor\u001b[0m \u001b[0mi\u001b[0m \u001b[0;32min\u001b[0m \u001b[0mrange\u001b[0m\u001b[0;34m(\u001b[0m\u001b[0mlen\u001b[0m\u001b[0;34m(\u001b[0m\u001b[0mcv_img\u001b[0m\u001b[0;34m)\u001b[0m\u001b[0;34m)\u001b[0m\u001b[0;34m}\u001b[0m\u001b[0;34m\u001b[0m\u001b[0;34m\u001b[0m\u001b[0m\n\u001b[0m",
            "\u001b[0;32m/usr/local/lib/python3.7/dist-packages/pandas/core/series.py\u001b[0m in \u001b[0;36m__getitem__\u001b[0;34m(self, key)\u001b[0m\n\u001b[1;32m    937\u001b[0m \u001b[0;34m\u001b[0m\u001b[0m\n\u001b[1;32m    938\u001b[0m         \u001b[0;32mif\u001b[0m \u001b[0mis_integer\u001b[0m\u001b[0;34m(\u001b[0m\u001b[0mkey\u001b[0m\u001b[0;34m)\u001b[0m \u001b[0;32mand\u001b[0m \u001b[0mself\u001b[0m\u001b[0;34m.\u001b[0m\u001b[0mindex\u001b[0m\u001b[0;34m.\u001b[0m\u001b[0m_should_fallback_to_positional\u001b[0m\u001b[0;34m(\u001b[0m\u001b[0;34m)\u001b[0m\u001b[0;34m:\u001b[0m\u001b[0;34m\u001b[0m\u001b[0;34m\u001b[0m\u001b[0m\n\u001b[0;32m--> 939\u001b[0;31m             \u001b[0;32mreturn\u001b[0m \u001b[0mself\u001b[0m\u001b[0;34m.\u001b[0m\u001b[0m_values\u001b[0m\u001b[0;34m[\u001b[0m\u001b[0mkey\u001b[0m\u001b[0;34m]\u001b[0m\u001b[0;34m\u001b[0m\u001b[0;34m\u001b[0m\u001b[0m\n\u001b[0m\u001b[1;32m    940\u001b[0m \u001b[0;34m\u001b[0m\u001b[0m\n\u001b[1;32m    941\u001b[0m         \u001b[0;32melif\u001b[0m \u001b[0mkey_is_scalar\u001b[0m\u001b[0;34m:\u001b[0m\u001b[0;34m\u001b[0m\u001b[0;34m\u001b[0m\u001b[0m\n",
            "\u001b[0;31mIndexError\u001b[0m: index 10015 is out of bounds for axis 0 with size 10015"
          ]
        }
      ]
    },
    {
      "cell_type": "code",
      "source": [
        ""
      ],
      "metadata": {
        "id": "c4CSzwmi2QXI"
      },
      "execution_count": null,
      "outputs": []
    },
    {
      "cell_type": "code",
      "source": [
        ""
      ],
      "metadata": {
        "id": "AY_07a1z2QZA"
      },
      "execution_count": null,
      "outputs": []
    },
    {
      "cell_type": "code",
      "source": [
        ""
      ],
      "metadata": {
        "id": "TIIwstHW2Qa6"
      },
      "execution_count": null,
      "outputs": []
    },
    {
      "cell_type": "code",
      "source": [
        ""
      ],
      "metadata": {
        "id": "eE_08Pdw2QdA"
      },
      "execution_count": null,
      "outputs": []
    },
    {
      "cell_type": "code",
      "source": [
        ""
      ],
      "metadata": {
        "id": "1RvSvJF016cR"
      },
      "execution_count": null,
      "outputs": []
    },
    {
      "cell_type": "code",
      "source": [
        "train_image, test_image = train_test_split(cv_img, test_size=0.2,shuffle=True ,random_state=45)"
      ],
      "metadata": {
        "id": "6J-4GSqrrttw"
      },
      "execution_count": 13,
      "outputs": []
    },
    {
      "cell_type": "code",
      "source": [
        "batch_size = 16\n",
        "train_loader_resnet = DataLoader(train_image,batch_size=batch_size, shuffle=False)\n",
        "test_loader_resnet = DataLoader(test_image,batch_size=batch_size, shuffle=False)"
      ],
      "metadata": {
        "id": "G1IBOtW68m1A"
      },
      "execution_count": 16,
      "outputs": []
    },
    {
      "cell_type": "code",
      "source": [
        "# Set random seeds for reproducibility\n",
        "torch.manual_seed(0)\n",
        "if torch.cuda.is_available():\n",
        "    torch.cuda.manual_seed(0)"
      ],
      "metadata": {
        "id": "wfeGr6OHt6XG"
      },
      "execution_count": 17,
      "outputs": []
    },
    {
      "cell_type": "code",
      "source": [
        "#with open('./read_imgs.pkl','wb') as fp:\n",
        "  #pkl.dump(cv_img,fp)"
      ],
      "metadata": {
        "id": "quux7fOjOHbJ"
      },
      "execution_count": null,
      "outputs": []
    },
    {
      "cell_type": "code",
      "source": [
        "#with open('./read_imgs.pkl', 'rb') as fp:\n",
        "  #imgs = pkl.load(fp)"
      ],
      "metadata": {
        "id": "u9a1h8MiCkUK"
      },
      "execution_count": null,
      "outputs": []
    },
    {
      "cell_type": "code",
      "source": [
        "def train_model(model,criterion,optimizer,train_loader,n_epochs,device):\n",
        "    \n",
        "    loss_over_time = [] # to track the loss as the network trains\n",
        "    \n",
        "    model = model.to(device) # Send model to GPU if available\n",
        "    model.train() # Set the model to training mode\n",
        "    \n",
        "    for epoch in range(n_epochs):  # loop over the dataset multiple times\n",
        "        \n",
        "        running_loss = 0.0\n",
        "        \n",
        "        for i, data in enumerate(train_loader):\n",
        "            \n",
        "            # Get the input images and labels, and send to GPU if available\n",
        "            inputs, labels = data[0].to(device), data[1].to(device)\n",
        "\n",
        "            # Zero the weight gradients\n",
        "            optimizer.zero_grad()\n",
        "\n",
        "            # Forward pass to get outputs\n",
        "            outputs = model(inputs)\n",
        "\n",
        "            # Calculate the loss\n",
        "            loss = criterion(outputs, labels)\n",
        "\n",
        "            # Backpropagation to get the gradients with respect to each weight\n",
        "            loss.backward()\n",
        "\n",
        "            # Update the weights\n",
        "            optimizer.step()\n",
        "\n",
        "            # Convert loss into a scalar and add it to running_loss\n",
        "            running_loss += loss.item()\n",
        "            \n",
        "            if i % 1000 == 999:    # print every 1000 batches\n",
        "                avg_loss = running_loss/1000\n",
        "                # record and print the avg loss over the 1000 batches\n",
        "                loss_over_time.append(avg_loss)\n",
        "                print('Epoch: {}, Batch: {}, Avg. Loss: {:.4f}'.format(epoch + 1, i+1, avg_loss))\n",
        "                running_loss = 0.0\n",
        "\n",
        "    return loss_over_time"
      ],
      "metadata": {
        "id": "kx2Tn2G5D4vP"
      },
      "execution_count": 18,
      "outputs": []
    },
    {
      "cell_type": "code",
      "source": [
        "def test_model(model,test_loader,device):\n",
        "    model = model.to(device)\n",
        "    # Turn autograd off\n",
        "    with torch.no_grad():\n",
        "\n",
        "        # Set the model to evaluation mode\n",
        "        model.eval()\n",
        "\n",
        "        # Set up lists to store true and predicted values\n",
        "        y_true = []\n",
        "        test_preds = []\n",
        "\n",
        "        # Calculate the predictions on the test set and add to list\n",
        "        for data in test_loader:\n",
        "            inputs, labels = data[0].to(device), data[1].to(device)\n",
        "            # Feed inputs through model to get raw scores\n",
        "            logits = net.forward(inputs)\n",
        "            # Convert raw scores to probabilities (not necessary since we just care about discrete probs in this case)\n",
        "            probs = F.softmax(logits,dim=1)\n",
        "            # Get discrete predictions using argmax\n",
        "            preds = np.argmax(probs.numpy(),axis=1)\n",
        "            # Add predictions and actuals to lists\n",
        "            test_preds.extend(preds)\n",
        "            y_true.extend(labels)\n",
        "\n",
        "        # Calculate the accuracy\n",
        "        test_preds = np.array(test_preds)\n",
        "        y_true = np.array(y_true)\n",
        "        test_acc = np.sum(test_preds == y_true)/y_true.shape[0]\n",
        "        \n",
        "        # Recall for each class\n",
        "        recall_vals = []\n",
        "        for i in range(10):\n",
        "            class_idx = np.argwhere(y_true==i)\n",
        "            total = len(class_idx)\n",
        "            correct = np.sum(test_preds[class_idx]==i)\n",
        "            recall = correct / total\n",
        "            recall_vals.append(recall)\n",
        "    \n",
        "    return test_acc,recall_vals"
      ],
      "metadata": {
        "id": "EFe0GSzTD4xv"
      },
      "execution_count": 19,
      "outputs": []
    },
    {
      "cell_type": "code",
      "source": [
        "# Load a resnet18 pre-trained model\n",
        "model_resnet = torchvision.models.resnet18(pretrained=True)\n",
        "# Shut off autograd for all layers to freeze model so the layer weights are not trained\n",
        "for param in model_resnet.parameters():\n",
        "    param.requires_grad = False\n",
        "    \n",
        "# Replace the resnet input layer to take in grayscale images (1 input channel), since it was trained on color (3 input channels)\n",
        "in_channels = 3\n",
        "model_resnet.conv1 = nn.Conv2d(in_channels, 64, kernel_size=7, stride=2, padding=3, bias=False)\n",
        "\n",
        "# Replace the resnet final layer with a new fully connected Linear layer we will train on our task\n",
        "# Number of out units is number of classes (7)\n",
        "num_ftrs = model_resnet.fc.in_features\n",
        "model_resnet.fc = nn.Linear(num_ftrs, 7)\n",
        "\n",
        "# Train the model\n",
        "n_epochs = 3\n",
        "criterion = nn.CrossEntropyLoss()\n",
        "optimizer = optim.SGD(model_resnet.parameters(), lr=0.001)\n",
        "device = torch.device(\"cuda\" if torch.cuda.is_available() else \"cpu\")\n",
        "cost_path = train_model(model_resnet,criterion,optimizer,train_loader_resnet,n_epochs,device)\n",
        "\n",
        "# Visualize the loss as the network trained\n",
        "plt.plot(cost_path)\n",
        "plt.xlabel('Batch (1000s)')\n",
        "plt.ylabel('loss')\n",
        "plt.show()"
      ],
      "metadata": {
        "id": "bMk5_zrzuOSB",
        "outputId": "464adbc1-9c99-4ad1-de87-8debb01ca012",
        "colab": {
          "base_uri": "https://localhost:8080/",
          "height": 437,
          "referenced_widgets": [
            "8a5e9f2fdac04aa09155321bec0dd2e5",
            "c7d9384da63944cf9ef3e81caf4043ca",
            "11519d8894cc4c188624425c27c7f8f6",
            "d4c811d193e74e5ab749ed61374d490a",
            "39cf558cb48c4fcaadfc8f31f393ad6c",
            "9b5b16984f854706823f1b6f5cfbf0d8",
            "f756db424e514d87bc80fc5f11c35ddc",
            "ee5f3ae4f98d4a7494c4bd689fe1ae9c",
            "d4483ddb6dad4e52acf2513764c0fb53",
            "43724fe177884cae91e11e6dd1a60fdf",
            "7d7f7b57e08e4cc6b97cbbc136dec4f2"
          ]
        }
      },
      "execution_count": 20,
      "outputs": [
        {
          "output_type": "stream",
          "name": "stderr",
          "text": [
            "Downloading: \"https://download.pytorch.org/models/resnet18-f37072fd.pth\" to /root/.cache/torch/hub/checkpoints/resnet18-f37072fd.pth\n"
          ]
        },
        {
          "output_type": "display_data",
          "data": {
            "text/plain": [
              "  0%|          | 0.00/44.7M [00:00<?, ?B/s]"
            ],
            "application/vnd.jupyter.widget-view+json": {
              "version_major": 2,
              "version_minor": 0,
              "model_id": "8a5e9f2fdac04aa09155321bec0dd2e5"
            }
          },
          "metadata": {}
        },
        {
          "output_type": "error",
          "ename": "RuntimeError",
          "evalue": "ignored",
          "traceback": [
            "\u001b[0;31m---------------------------------------------------------------------------\u001b[0m",
            "\u001b[0;31mRuntimeError\u001b[0m                              Traceback (most recent call last)",
            "\u001b[0;32m<ipython-input-20-e6ee42b29485>\u001b[0m in \u001b[0;36m<module>\u001b[0;34m()\u001b[0m\n\u001b[1;32m     19\u001b[0m \u001b[0moptimizer\u001b[0m \u001b[0;34m=\u001b[0m \u001b[0moptim\u001b[0m\u001b[0;34m.\u001b[0m\u001b[0mSGD\u001b[0m\u001b[0;34m(\u001b[0m\u001b[0mmodel_resnet\u001b[0m\u001b[0;34m.\u001b[0m\u001b[0mparameters\u001b[0m\u001b[0;34m(\u001b[0m\u001b[0;34m)\u001b[0m\u001b[0;34m,\u001b[0m \u001b[0mlr\u001b[0m\u001b[0;34m=\u001b[0m\u001b[0;36m0.001\u001b[0m\u001b[0;34m)\u001b[0m\u001b[0;34m\u001b[0m\u001b[0;34m\u001b[0m\u001b[0m\n\u001b[1;32m     20\u001b[0m \u001b[0mdevice\u001b[0m \u001b[0;34m=\u001b[0m \u001b[0mtorch\u001b[0m\u001b[0;34m.\u001b[0m\u001b[0mdevice\u001b[0m\u001b[0;34m(\u001b[0m\u001b[0;34m\"cuda\"\u001b[0m \u001b[0;32mif\u001b[0m \u001b[0mtorch\u001b[0m\u001b[0;34m.\u001b[0m\u001b[0mcuda\u001b[0m\u001b[0;34m.\u001b[0m\u001b[0mis_available\u001b[0m\u001b[0;34m(\u001b[0m\u001b[0;34m)\u001b[0m \u001b[0;32melse\u001b[0m \u001b[0;34m\"cpu\"\u001b[0m\u001b[0;34m)\u001b[0m\u001b[0;34m\u001b[0m\u001b[0;34m\u001b[0m\u001b[0m\n\u001b[0;32m---> 21\u001b[0;31m \u001b[0mcost_path\u001b[0m \u001b[0;34m=\u001b[0m \u001b[0mtrain_model\u001b[0m\u001b[0;34m(\u001b[0m\u001b[0mmodel_resnet\u001b[0m\u001b[0;34m,\u001b[0m\u001b[0mcriterion\u001b[0m\u001b[0;34m,\u001b[0m\u001b[0moptimizer\u001b[0m\u001b[0;34m,\u001b[0m\u001b[0mtrain_loader_resnet\u001b[0m\u001b[0;34m,\u001b[0m\u001b[0mn_epochs\u001b[0m\u001b[0;34m,\u001b[0m\u001b[0mdevice\u001b[0m\u001b[0;34m)\u001b[0m\u001b[0;34m\u001b[0m\u001b[0;34m\u001b[0m\u001b[0m\n\u001b[0m\u001b[1;32m     22\u001b[0m \u001b[0;34m\u001b[0m\u001b[0m\n\u001b[1;32m     23\u001b[0m \u001b[0;31m# Visualize the loss as the network trained\u001b[0m\u001b[0;34m\u001b[0m\u001b[0;34m\u001b[0m\u001b[0;34m\u001b[0m\u001b[0m\n",
            "\u001b[0;32m<ipython-input-18-176943d1c2ff>\u001b[0m in \u001b[0;36mtrain_model\u001b[0;34m(model, criterion, optimizer, train_loader, n_epochs, device)\u001b[0m\n\u001b[1;32m     19\u001b[0m \u001b[0;34m\u001b[0m\u001b[0m\n\u001b[1;32m     20\u001b[0m             \u001b[0;31m# Forward pass to get outputs\u001b[0m\u001b[0;34m\u001b[0m\u001b[0;34m\u001b[0m\u001b[0;34m\u001b[0m\u001b[0m\n\u001b[0;32m---> 21\u001b[0;31m             \u001b[0moutputs\u001b[0m \u001b[0;34m=\u001b[0m \u001b[0mmodel\u001b[0m\u001b[0;34m(\u001b[0m\u001b[0minputs\u001b[0m\u001b[0;34m)\u001b[0m\u001b[0;34m\u001b[0m\u001b[0;34m\u001b[0m\u001b[0m\n\u001b[0m\u001b[1;32m     22\u001b[0m \u001b[0;34m\u001b[0m\u001b[0m\n\u001b[1;32m     23\u001b[0m             \u001b[0;31m# Calculate the loss\u001b[0m\u001b[0;34m\u001b[0m\u001b[0;34m\u001b[0m\u001b[0;34m\u001b[0m\u001b[0m\n",
            "\u001b[0;32m/usr/local/lib/python3.7/dist-packages/torch/nn/modules/module.py\u001b[0m in \u001b[0;36m_call_impl\u001b[0;34m(self, *input, **kwargs)\u001b[0m\n\u001b[1;32m   1100\u001b[0m         if not (self._backward_hooks or self._forward_hooks or self._forward_pre_hooks or _global_backward_hooks\n\u001b[1;32m   1101\u001b[0m                 or _global_forward_hooks or _global_forward_pre_hooks):\n\u001b[0;32m-> 1102\u001b[0;31m             \u001b[0;32mreturn\u001b[0m \u001b[0mforward_call\u001b[0m\u001b[0;34m(\u001b[0m\u001b[0;34m*\u001b[0m\u001b[0minput\u001b[0m\u001b[0;34m,\u001b[0m \u001b[0;34m**\u001b[0m\u001b[0mkwargs\u001b[0m\u001b[0;34m)\u001b[0m\u001b[0;34m\u001b[0m\u001b[0;34m\u001b[0m\u001b[0m\n\u001b[0m\u001b[1;32m   1103\u001b[0m         \u001b[0;31m# Do not call functions when jit is used\u001b[0m\u001b[0;34m\u001b[0m\u001b[0;34m\u001b[0m\u001b[0;34m\u001b[0m\u001b[0m\n\u001b[1;32m   1104\u001b[0m         \u001b[0mfull_backward_hooks\u001b[0m\u001b[0;34m,\u001b[0m \u001b[0mnon_full_backward_hooks\u001b[0m \u001b[0;34m=\u001b[0m \u001b[0;34m[\u001b[0m\u001b[0;34m]\u001b[0m\u001b[0;34m,\u001b[0m \u001b[0;34m[\u001b[0m\u001b[0;34m]\u001b[0m\u001b[0;34m\u001b[0m\u001b[0;34m\u001b[0m\u001b[0m\n",
            "\u001b[0;32m/usr/local/lib/python3.7/dist-packages/torchvision/models/resnet.py\u001b[0m in \u001b[0;36mforward\u001b[0;34m(self, x)\u001b[0m\n\u001b[1;32m    247\u001b[0m \u001b[0;34m\u001b[0m\u001b[0m\n\u001b[1;32m    248\u001b[0m     \u001b[0;32mdef\u001b[0m \u001b[0mforward\u001b[0m\u001b[0;34m(\u001b[0m\u001b[0mself\u001b[0m\u001b[0;34m,\u001b[0m \u001b[0mx\u001b[0m\u001b[0;34m:\u001b[0m \u001b[0mTensor\u001b[0m\u001b[0;34m)\u001b[0m \u001b[0;34m->\u001b[0m \u001b[0mTensor\u001b[0m\u001b[0;34m:\u001b[0m\u001b[0;34m\u001b[0m\u001b[0;34m\u001b[0m\u001b[0m\n\u001b[0;32m--> 249\u001b[0;31m         \u001b[0;32mreturn\u001b[0m \u001b[0mself\u001b[0m\u001b[0;34m.\u001b[0m\u001b[0m_forward_impl\u001b[0m\u001b[0;34m(\u001b[0m\u001b[0mx\u001b[0m\u001b[0;34m)\u001b[0m\u001b[0;34m\u001b[0m\u001b[0;34m\u001b[0m\u001b[0m\n\u001b[0m\u001b[1;32m    250\u001b[0m \u001b[0;34m\u001b[0m\u001b[0m\n\u001b[1;32m    251\u001b[0m \u001b[0;34m\u001b[0m\u001b[0m\n",
            "\u001b[0;32m/usr/local/lib/python3.7/dist-packages/torchvision/models/resnet.py\u001b[0m in \u001b[0;36m_forward_impl\u001b[0;34m(self, x)\u001b[0m\n\u001b[1;32m    230\u001b[0m     \u001b[0;32mdef\u001b[0m \u001b[0m_forward_impl\u001b[0m\u001b[0;34m(\u001b[0m\u001b[0mself\u001b[0m\u001b[0;34m,\u001b[0m \u001b[0mx\u001b[0m\u001b[0;34m:\u001b[0m \u001b[0mTensor\u001b[0m\u001b[0;34m)\u001b[0m \u001b[0;34m->\u001b[0m \u001b[0mTensor\u001b[0m\u001b[0;34m:\u001b[0m\u001b[0;34m\u001b[0m\u001b[0;34m\u001b[0m\u001b[0m\n\u001b[1;32m    231\u001b[0m         \u001b[0;31m# See note [TorchScript super()]\u001b[0m\u001b[0;34m\u001b[0m\u001b[0;34m\u001b[0m\u001b[0;34m\u001b[0m\u001b[0m\n\u001b[0;32m--> 232\u001b[0;31m         \u001b[0mx\u001b[0m \u001b[0;34m=\u001b[0m \u001b[0mself\u001b[0m\u001b[0;34m.\u001b[0m\u001b[0mconv1\u001b[0m\u001b[0;34m(\u001b[0m\u001b[0mx\u001b[0m\u001b[0;34m)\u001b[0m\u001b[0;34m\u001b[0m\u001b[0;34m\u001b[0m\u001b[0m\n\u001b[0m\u001b[1;32m    233\u001b[0m         \u001b[0mx\u001b[0m \u001b[0;34m=\u001b[0m \u001b[0mself\u001b[0m\u001b[0;34m.\u001b[0m\u001b[0mbn1\u001b[0m\u001b[0;34m(\u001b[0m\u001b[0mx\u001b[0m\u001b[0;34m)\u001b[0m\u001b[0;34m\u001b[0m\u001b[0;34m\u001b[0m\u001b[0m\n\u001b[1;32m    234\u001b[0m         \u001b[0mx\u001b[0m \u001b[0;34m=\u001b[0m \u001b[0mself\u001b[0m\u001b[0;34m.\u001b[0m\u001b[0mrelu\u001b[0m\u001b[0;34m(\u001b[0m\u001b[0mx\u001b[0m\u001b[0;34m)\u001b[0m\u001b[0;34m\u001b[0m\u001b[0;34m\u001b[0m\u001b[0m\n",
            "\u001b[0;32m/usr/local/lib/python3.7/dist-packages/torch/nn/modules/module.py\u001b[0m in \u001b[0;36m_call_impl\u001b[0;34m(self, *input, **kwargs)\u001b[0m\n\u001b[1;32m   1100\u001b[0m         if not (self._backward_hooks or self._forward_hooks or self._forward_pre_hooks or _global_backward_hooks\n\u001b[1;32m   1101\u001b[0m                 or _global_forward_hooks or _global_forward_pre_hooks):\n\u001b[0;32m-> 1102\u001b[0;31m             \u001b[0;32mreturn\u001b[0m \u001b[0mforward_call\u001b[0m\u001b[0;34m(\u001b[0m\u001b[0;34m*\u001b[0m\u001b[0minput\u001b[0m\u001b[0;34m,\u001b[0m \u001b[0;34m**\u001b[0m\u001b[0mkwargs\u001b[0m\u001b[0;34m)\u001b[0m\u001b[0;34m\u001b[0m\u001b[0;34m\u001b[0m\u001b[0m\n\u001b[0m\u001b[1;32m   1103\u001b[0m         \u001b[0;31m# Do not call functions when jit is used\u001b[0m\u001b[0;34m\u001b[0m\u001b[0;34m\u001b[0m\u001b[0;34m\u001b[0m\u001b[0m\n\u001b[1;32m   1104\u001b[0m         \u001b[0mfull_backward_hooks\u001b[0m\u001b[0;34m,\u001b[0m \u001b[0mnon_full_backward_hooks\u001b[0m \u001b[0;34m=\u001b[0m \u001b[0;34m[\u001b[0m\u001b[0;34m]\u001b[0m\u001b[0;34m,\u001b[0m \u001b[0;34m[\u001b[0m\u001b[0;34m]\u001b[0m\u001b[0;34m\u001b[0m\u001b[0;34m\u001b[0m\u001b[0m\n",
            "\u001b[0;32m/usr/local/lib/python3.7/dist-packages/torch/nn/modules/conv.py\u001b[0m in \u001b[0;36mforward\u001b[0;34m(self, input)\u001b[0m\n\u001b[1;32m    444\u001b[0m \u001b[0;34m\u001b[0m\u001b[0m\n\u001b[1;32m    445\u001b[0m     \u001b[0;32mdef\u001b[0m \u001b[0mforward\u001b[0m\u001b[0;34m(\u001b[0m\u001b[0mself\u001b[0m\u001b[0;34m,\u001b[0m \u001b[0minput\u001b[0m\u001b[0;34m:\u001b[0m \u001b[0mTensor\u001b[0m\u001b[0;34m)\u001b[0m \u001b[0;34m->\u001b[0m \u001b[0mTensor\u001b[0m\u001b[0;34m:\u001b[0m\u001b[0;34m\u001b[0m\u001b[0;34m\u001b[0m\u001b[0m\n\u001b[0;32m--> 446\u001b[0;31m         \u001b[0;32mreturn\u001b[0m \u001b[0mself\u001b[0m\u001b[0;34m.\u001b[0m\u001b[0m_conv_forward\u001b[0m\u001b[0;34m(\u001b[0m\u001b[0minput\u001b[0m\u001b[0;34m,\u001b[0m \u001b[0mself\u001b[0m\u001b[0;34m.\u001b[0m\u001b[0mweight\u001b[0m\u001b[0;34m,\u001b[0m \u001b[0mself\u001b[0m\u001b[0;34m.\u001b[0m\u001b[0mbias\u001b[0m\u001b[0;34m)\u001b[0m\u001b[0;34m\u001b[0m\u001b[0;34m\u001b[0m\u001b[0m\n\u001b[0m\u001b[1;32m    447\u001b[0m \u001b[0;34m\u001b[0m\u001b[0m\n\u001b[1;32m    448\u001b[0m \u001b[0;32mclass\u001b[0m \u001b[0mConv3d\u001b[0m\u001b[0;34m(\u001b[0m\u001b[0m_ConvNd\u001b[0m\u001b[0;34m)\u001b[0m\u001b[0;34m:\u001b[0m\u001b[0;34m\u001b[0m\u001b[0;34m\u001b[0m\u001b[0m\n",
            "\u001b[0;32m/usr/local/lib/python3.7/dist-packages/torch/nn/modules/conv.py\u001b[0m in \u001b[0;36m_conv_forward\u001b[0;34m(self, input, weight, bias)\u001b[0m\n\u001b[1;32m    441\u001b[0m                             _pair(0), self.dilation, self.groups)\n\u001b[1;32m    442\u001b[0m         return F.conv2d(input, weight, bias, self.stride,\n\u001b[0;32m--> 443\u001b[0;31m                         self.padding, self.dilation, self.groups)\n\u001b[0m\u001b[1;32m    444\u001b[0m \u001b[0;34m\u001b[0m\u001b[0m\n\u001b[1;32m    445\u001b[0m     \u001b[0;32mdef\u001b[0m \u001b[0mforward\u001b[0m\u001b[0;34m(\u001b[0m\u001b[0mself\u001b[0m\u001b[0;34m,\u001b[0m \u001b[0minput\u001b[0m\u001b[0;34m:\u001b[0m \u001b[0mTensor\u001b[0m\u001b[0;34m)\u001b[0m \u001b[0;34m->\u001b[0m \u001b[0mTensor\u001b[0m\u001b[0;34m:\u001b[0m\u001b[0;34m\u001b[0m\u001b[0;34m\u001b[0m\u001b[0m\n",
            "\u001b[0;31mRuntimeError\u001b[0m: Expected 4-dimensional input for 4-dimensional weight [64, 3, 7, 7], but got 3-dimensional input of size [3, 450, 600] instead"
          ]
        }
      ]
    },
    {
      "cell_type": "code",
      "source": [
        "# Test the pre-trained model\n",
        "acc,recall_vals = test_model(model_resnet,test_loader_resnet,device)\n",
        "print('Test set accuracy is {:.3f}'.format(acc))\n",
        "for i in range(10):\n",
        "    print('For class {}, recall is {}'.format(classes[i],recall_vals[i]))"
      ],
      "metadata": {
        "id": "yGFtPncFuOT9"
      },
      "execution_count": null,
      "outputs": []
    },
    {
      "cell_type": "code",
      "source": [
        "x = torch.randn(3, 4)"
      ],
      "metadata": {
        "id": "Ex9NiV6hD47s"
      },
      "execution_count": 30,
      "outputs": []
    },
    {
      "cell_type": "code",
      "source": [
        "x"
      ],
      "metadata": {
        "id": "6bXiJwy2-QYr",
        "outputId": "8095126b-2d0c-4c8a-e03e-6817abedde1a",
        "colab": {
          "base_uri": "https://localhost:8080/"
        }
      },
      "execution_count": 31,
      "outputs": [
        {
          "output_type": "execute_result",
          "data": {
            "text/plain": [
              "tensor([[ 0.0582, -0.1821, -1.9462,  1.0853],\n",
              "        [-0.0085, -0.2652,  0.7063,  1.0526],\n",
              "        [-1.4475,  0.0270, -0.4036,  0.0922]])"
            ]
          },
          "metadata": {},
          "execution_count": 31
        }
      ]
    },
    {
      "cell_type": "code",
      "source": [
        "x = torch.unsqueeze(x, dim=0)"
      ],
      "metadata": {
        "id": "VnU3QCw_-QbG"
      },
      "execution_count": 32,
      "outputs": []
    },
    {
      "cell_type": "code",
      "source": [
        "x.shape"
      ],
      "metadata": {
        "id": "5NNGQ8pC-Qcy",
        "outputId": "241200d1-41b0-492b-b11a-0549c8f69605",
        "colab": {
          "base_uri": "https://localhost:8080/"
        }
      },
      "execution_count": 35,
      "outputs": [
        {
          "output_type": "execute_result",
          "data": {
            "text/plain": [
              "torch.Size([1, 3, 4])"
            ]
          },
          "metadata": {},
          "execution_count": 35
        }
      ]
    },
    {
      "cell_type": "code",
      "source": [
        ""
      ],
      "metadata": {
        "id": "872NnxTX-Qez",
        "outputId": "13928eb9-56e3-4ccb-8da4-0c10ea0a89e4",
        "colab": {
          "base_uri": "https://localhost:8080/"
        }
      },
      "execution_count": 36,
      "outputs": [
        {
          "output_type": "execute_result",
          "data": {
            "text/plain": [
              "torch.Size([3, 450, 600])"
            ]
          },
          "metadata": {},
          "execution_count": 36
        }
      ]
    },
    {
      "cell_type": "code",
      "source": [
        ""
      ],
      "metadata": {
        "id": "1f8mE3gx-QhA"
      },
      "execution_count": null,
      "outputs": []
    },
    {
      "cell_type": "code",
      "source": [
        "url1 = 'https://github.com/Buuuuli/AIPI540_individual/blob/main/metadata/raw_metadata.csv?raw=true'"
      ],
      "metadata": {
        "id": "Xj1WsMEED5B6"
      },
      "execution_count": null,
      "outputs": []
    },
    {
      "cell_type": "code",
      "source": [
        "url = 'https://github.com/Buuuuli/AIPI540_individual/blob/main/metadata/tidy_data.csv?raw=true'\n",
        "df = pd.read_csv(url1,index_col=0)\n",
        "print(df.head(5))"
      ],
      "metadata": {
        "id": "z2I-8vJDCzow",
        "outputId": "62bed9f2-1ef9-400b-c661-bd322ebb9d8a",
        "colab": {
          "base_uri": "https://localhost:8080/"
        }
      },
      "execution_count": null,
      "outputs": [
        {
          "output_type": "stream",
          "name": "stdout",
          "text": [
            "                 image_id   dx    dx_type   age     sex     localization\n",
            "lesion_id                                                               \n",
            "HAM_0000550  ISIC_0024306   nv  follow_up  45.0    male            trunk\n",
            "HAM_0003577  ISIC_0024307   nv  follow_up  50.0    male  lower extremity\n",
            "HAM_0001477  ISIC_0024308   nv  follow_up  55.0  female            trunk\n",
            "HAM_0000484  ISIC_0024309   nv  follow_up  40.0    male            trunk\n",
            "HAM_0003350  ISIC_0024310  mel      histo  60.0    male            chest\n"
          ]
        }
      ]
    },
    {
      "cell_type": "code",
      "source": [
        "df.dx.value_counts()"
      ],
      "metadata": {
        "id": "C0-vuuhEYIlL",
        "outputId": "681e2ec5-4a43-4626-eb8c-31ab9668774e",
        "colab": {
          "base_uri": "https://localhost:8080/"
        }
      },
      "execution_count": null,
      "outputs": [
        {
          "output_type": "execute_result",
          "data": {
            "text/plain": [
              "nv       6705\n",
              "mel      1113\n",
              "bkl      1099\n",
              "bcc       514\n",
              "akiec     327\n",
              "vasc      142\n",
              "df        115\n",
              "Name: dx, dtype: int64"
            ]
          },
          "metadata": {},
          "execution_count": 58
        }
      ]
    },
    {
      "cell_type": "code",
      "source": [
        "#df['dx'] = df['dx'].map({\"nv\":0,\"mel\":1,\"bkl\":2,\"bcc\":3,\"akiec\":4,\"vasc\":5,\"df\":6})"
      ],
      "metadata": {
        "id": "YFyb4rGnYa0x"
      },
      "execution_count": null,
      "outputs": []
    },
    {
      "cell_type": "code",
      "source": [
        "# group age\n",
        "bins =[0,10,20,30,40,50,60,70,80,90]\n",
        "labels = ['children','teenage','young','adult','midage','old1','old2','old3','older']\n",
        "\n",
        "df['ageGroup'] = pd.cut(df['age'], bins=bins, labels=labels, right=False)\n",
        "\n",
        "df = df.drop(\"age\", axis=1)"
      ],
      "metadata": {
        "id": "_t2XqEJGY7hL"
      },
      "execution_count": null,
      "outputs": []
    },
    {
      "cell_type": "code",
      "source": [
        "# {0: 'akiec', 1: 'bcc', 2: 'bkl', 3: 'df', 4: 'mel', 5: 'nv', 6: 'vasc'}\n",
        "dx_dict = dict(enumerate(df['dx'].astype('category').cat.categories))\n",
        "\n",
        "# {0: 'confocal', 1: 'consensus', 2: 'follow_up', 3: 'histo'}\n",
        "dx_type_dict = dict(enumerate(df['dx_type'].astype('category').cat.categories))\n",
        "\n",
        "# {0: 'female', 1: 'male', 2: 'unknown'}\n",
        "sex_dict = dict(enumerate(df['sex'].astype('category').cat.categories))\n",
        "\n",
        "# {0: 'abdomen', 1: 'acral', 2: 'back', 3: 'chest', 4: 'ear',\n",
        "# 5: 'face', 6: 'foot', 7: 'genital', 8: 'hand', 9: 'lower extremity',\n",
        "# 10: 'neck', 11: 'scalp', 12: 'trunk', 13: 'unknown', 14: 'upper extremity'}\n",
        "localization_dict = dict(enumerate(df['localization'].astype('category').cat.categories))\n",
        "\n",
        "# {0: 'children', 1: 'teenage', 2: 'young', 3: 'adult', 4: 'midage',\n",
        "# 5: 'old', 6: 'old2', 7: 'old3', 8: 'older'}\n",
        "ageGroup_dict = dict(enumerate(df['ageGroup'].astype('category').cat.categories))"
      ],
      "metadata": {
        "id": "vAlh13gvfnYb"
      },
      "execution_count": null,
      "outputs": []
    },
    {
      "cell_type": "code",
      "source": [
        "# encode 'dx','dx_type','sex', 'localization'\n",
        "for col in ['dx','dx_type','sex','localization','ageGroup']:\n",
        "    df[col] = df[col].astype('category') # Convert to category type\n",
        "    df[col] = df[col].cat.codes # Convert to numerical code"
      ],
      "metadata": {
        "id": "i4dNhPsKf8AF"
      },
      "execution_count": null,
      "outputs": []
    },
    {
      "cell_type": "code",
      "source": [
        "df.dx.value_counts()"
      ],
      "metadata": {
        "id": "-yxsXe5ibZQJ",
        "outputId": "24281bf6-65f5-4347-be84-f4acdd4df183",
        "colab": {
          "base_uri": "https://localhost:8080/"
        }
      },
      "execution_count": null,
      "outputs": [
        {
          "output_type": "execute_result",
          "data": {
            "text/plain": [
              "5    6705\n",
              "4    1113\n",
              "2    1099\n",
              "1     514\n",
              "0     327\n",
              "6     142\n",
              "3     115\n",
              "Name: dx, dtype: int64"
            ]
          },
          "metadata": {},
          "execution_count": 65
        }
      ]
    },
    {
      "cell_type": "code",
      "source": [
        "#df['dx_type'] = df['dx_type'].map({\"histo\":0,\"follow_up\":1,\"consensus\":2,\"confocal\":3})"
      ],
      "metadata": {
        "id": "-vdWtfAYbemg"
      },
      "execution_count": null,
      "outputs": []
    },
    {
      "cell_type": "code",
      "source": [
        "#df.sex.value_counts()"
      ],
      "metadata": {
        "id": "J6q1KWIYbtlY",
        "outputId": "8cb6bbb0-477b-437f-c4da-e69c6c68adb4",
        "colab": {
          "base_uri": "https://localhost:8080/"
        }
      },
      "execution_count": null,
      "outputs": [
        {
          "output_type": "execute_result",
          "data": {
            "text/plain": [
              "male       5406\n",
              "female     4552\n",
              "unknown      57\n",
              "Name: sex, dtype: int64"
            ]
          },
          "metadata": {},
          "execution_count": 43
        }
      ]
    },
    {
      "cell_type": "code",
      "source": [
        "#df['sex'] = df['sex'].map({\"male\":0,\"female\":1,\"unknow\":2})"
      ],
      "metadata": {
        "id": "X3eMkweRbzQL"
      },
      "execution_count": null,
      "outputs": []
    },
    {
      "cell_type": "code",
      "source": [
        "#df.localization.value_counts()"
      ],
      "metadata": {
        "id": "ZagTAQfhb6nq",
        "outputId": "d9899f52-0b9c-4916-c48b-bec993a97e22",
        "colab": {
          "base_uri": "https://localhost:8080/"
        }
      },
      "execution_count": null,
      "outputs": [
        {
          "output_type": "execute_result",
          "data": {
            "text/plain": [
              "back               2192\n",
              "lower extremity    2077\n",
              "trunk              1404\n",
              "upper extremity    1118\n",
              "abdomen            1022\n",
              "face                745\n",
              "chest               407\n",
              "foot                319\n",
              "unknown             234\n",
              "neck                168\n",
              "scalp               128\n",
              "hand                 90\n",
              "ear                  56\n",
              "genital              48\n",
              "acral                 7\n",
              "Name: localization, dtype: int64"
            ]
          },
          "metadata": {},
          "execution_count": 45
        }
      ]
    },
    {
      "cell_type": "code",
      "source": [
        "#df['localization'] = df['localization'].map({\"back\":0,\"lower extremity\":1,\"trunk\":2,\"upper extremity\":3,\"abdomen\":4,\"face\":5,\"chest\":6,\n",
        "                                             \"foot\":7,\"unkown\":8,\"neck\":9,\"scalp\":10,\"hand\":11,\"ear\":12,\"genital\":13,\"acral\":14})"
      ],
      "metadata": {
        "id": "YYuA_k08cCni"
      },
      "execution_count": null,
      "outputs": []
    },
    {
      "cell_type": "code",
      "source": [
        "#df.ageGroup.value_counts()"
      ],
      "metadata": {
        "id": "raDW3X70c64f",
        "outputId": "0bf8cf61-1984-422c-ad0e-887ba10cfafc",
        "colab": {
          "base_uri": "https://localhost:8080/"
        }
      },
      "execution_count": null,
      "outputs": [
        {
          "output_type": "execute_result",
          "data": {
            "text/plain": [
              "midage      2284\n",
              "old1        2196\n",
              "old2        1534\n",
              "old3        1374\n",
              "adult       1217\n",
              "older        694\n",
              "young        416\n",
              "children     125\n",
              "teenage      118\n",
              "Name: ageGroup, dtype: int64"
            ]
          },
          "metadata": {},
          "execution_count": 47
        }
      ]
    },
    {
      "cell_type": "code",
      "source": [
        "#df['ageGroup'] = df['ageGroup'].map({\"teenage\":0,\"children\":1,\"young\":2,\"older\":3,\"adult\":4,\"old3\":5,\"old2\":6,\n",
        "                                             \"old1\":7,\"midage\":8})"
      ],
      "metadata": {
        "id": "KS2y1Csrc_L2"
      },
      "execution_count": null,
      "outputs": []
    },
    {
      "cell_type": "code",
      "source": [
        "#df.head()"
      ],
      "metadata": {
        "id": "cEHMrdJPY7jT",
        "outputId": "8876748f-68d0-4124-82a9-2c4e261a2f86",
        "colab": {
          "base_uri": "https://localhost:8080/",
          "height": 237
        }
      },
      "execution_count": null,
      "outputs": [
        {
          "output_type": "execute_result",
          "data": {
            "text/plain": [
              "                 image_id  dx  dx_type  sex  localization ageGroup\n",
              "lesion_id                                                         \n",
              "HAM_0000550  ISIC_0024306   0        1  0.0           2.0        8\n",
              "HAM_0003577  ISIC_0024307   0        1  0.0           1.0        7\n",
              "HAM_0001477  ISIC_0024308   0        1  1.0           2.0        7\n",
              "HAM_0000484  ISIC_0024309   0        1  0.0           2.0        8\n",
              "HAM_0003350  ISIC_0024310   1        0  0.0           6.0        6"
            ],
            "text/html": [
              "\n",
              "  <div id=\"df-73bebeee-6199-423a-b00c-5e8ca2d3f0d8\">\n",
              "    <div class=\"colab-df-container\">\n",
              "      <div>\n",
              "<style scoped>\n",
              "    .dataframe tbody tr th:only-of-type {\n",
              "        vertical-align: middle;\n",
              "    }\n",
              "\n",
              "    .dataframe tbody tr th {\n",
              "        vertical-align: top;\n",
              "    }\n",
              "\n",
              "    .dataframe thead th {\n",
              "        text-align: right;\n",
              "    }\n",
              "</style>\n",
              "<table border=\"1\" class=\"dataframe\">\n",
              "  <thead>\n",
              "    <tr style=\"text-align: right;\">\n",
              "      <th></th>\n",
              "      <th>image_id</th>\n",
              "      <th>dx</th>\n",
              "      <th>dx_type</th>\n",
              "      <th>sex</th>\n",
              "      <th>localization</th>\n",
              "      <th>ageGroup</th>\n",
              "    </tr>\n",
              "    <tr>\n",
              "      <th>lesion_id</th>\n",
              "      <th></th>\n",
              "      <th></th>\n",
              "      <th></th>\n",
              "      <th></th>\n",
              "      <th></th>\n",
              "      <th></th>\n",
              "    </tr>\n",
              "  </thead>\n",
              "  <tbody>\n",
              "    <tr>\n",
              "      <th>HAM_0000550</th>\n",
              "      <td>ISIC_0024306</td>\n",
              "      <td>0</td>\n",
              "      <td>1</td>\n",
              "      <td>0.0</td>\n",
              "      <td>2.0</td>\n",
              "      <td>8</td>\n",
              "    </tr>\n",
              "    <tr>\n",
              "      <th>HAM_0003577</th>\n",
              "      <td>ISIC_0024307</td>\n",
              "      <td>0</td>\n",
              "      <td>1</td>\n",
              "      <td>0.0</td>\n",
              "      <td>1.0</td>\n",
              "      <td>7</td>\n",
              "    </tr>\n",
              "    <tr>\n",
              "      <th>HAM_0001477</th>\n",
              "      <td>ISIC_0024308</td>\n",
              "      <td>0</td>\n",
              "      <td>1</td>\n",
              "      <td>1.0</td>\n",
              "      <td>2.0</td>\n",
              "      <td>7</td>\n",
              "    </tr>\n",
              "    <tr>\n",
              "      <th>HAM_0000484</th>\n",
              "      <td>ISIC_0024309</td>\n",
              "      <td>0</td>\n",
              "      <td>1</td>\n",
              "      <td>0.0</td>\n",
              "      <td>2.0</td>\n",
              "      <td>8</td>\n",
              "    </tr>\n",
              "    <tr>\n",
              "      <th>HAM_0003350</th>\n",
              "      <td>ISIC_0024310</td>\n",
              "      <td>1</td>\n",
              "      <td>0</td>\n",
              "      <td>0.0</td>\n",
              "      <td>6.0</td>\n",
              "      <td>6</td>\n",
              "    </tr>\n",
              "  </tbody>\n",
              "</table>\n",
              "</div>\n",
              "      <button class=\"colab-df-convert\" onclick=\"convertToInteractive('df-73bebeee-6199-423a-b00c-5e8ca2d3f0d8')\"\n",
              "              title=\"Convert this dataframe to an interactive table.\"\n",
              "              style=\"display:none;\">\n",
              "        \n",
              "  <svg xmlns=\"http://www.w3.org/2000/svg\" height=\"24px\"viewBox=\"0 0 24 24\"\n",
              "       width=\"24px\">\n",
              "    <path d=\"M0 0h24v24H0V0z\" fill=\"none\"/>\n",
              "    <path d=\"M18.56 5.44l.94 2.06.94-2.06 2.06-.94-2.06-.94-.94-2.06-.94 2.06-2.06.94zm-11 1L8.5 8.5l.94-2.06 2.06-.94-2.06-.94L8.5 2.5l-.94 2.06-2.06.94zm10 10l.94 2.06.94-2.06 2.06-.94-2.06-.94-.94-2.06-.94 2.06-2.06.94z\"/><path d=\"M17.41 7.96l-1.37-1.37c-.4-.4-.92-.59-1.43-.59-.52 0-1.04.2-1.43.59L10.3 9.45l-7.72 7.72c-.78.78-.78 2.05 0 2.83L4 21.41c.39.39.9.59 1.41.59.51 0 1.02-.2 1.41-.59l7.78-7.78 2.81-2.81c.8-.78.8-2.07 0-2.86zM5.41 20L4 18.59l7.72-7.72 1.47 1.35L5.41 20z\"/>\n",
              "  </svg>\n",
              "      </button>\n",
              "      \n",
              "  <style>\n",
              "    .colab-df-container {\n",
              "      display:flex;\n",
              "      flex-wrap:wrap;\n",
              "      gap: 12px;\n",
              "    }\n",
              "\n",
              "    .colab-df-convert {\n",
              "      background-color: #E8F0FE;\n",
              "      border: none;\n",
              "      border-radius: 50%;\n",
              "      cursor: pointer;\n",
              "      display: none;\n",
              "      fill: #1967D2;\n",
              "      height: 32px;\n",
              "      padding: 0 0 0 0;\n",
              "      width: 32px;\n",
              "    }\n",
              "\n",
              "    .colab-df-convert:hover {\n",
              "      background-color: #E2EBFA;\n",
              "      box-shadow: 0px 1px 2px rgba(60, 64, 67, 0.3), 0px 1px 3px 1px rgba(60, 64, 67, 0.15);\n",
              "      fill: #174EA6;\n",
              "    }\n",
              "\n",
              "    [theme=dark] .colab-df-convert {\n",
              "      background-color: #3B4455;\n",
              "      fill: #D2E3FC;\n",
              "    }\n",
              "\n",
              "    [theme=dark] .colab-df-convert:hover {\n",
              "      background-color: #434B5C;\n",
              "      box-shadow: 0px 1px 3px 1px rgba(0, 0, 0, 0.15);\n",
              "      filter: drop-shadow(0px 1px 2px rgba(0, 0, 0, 0.3));\n",
              "      fill: #FFFFFF;\n",
              "    }\n",
              "  </style>\n",
              "\n",
              "      <script>\n",
              "        const buttonEl =\n",
              "          document.querySelector('#df-73bebeee-6199-423a-b00c-5e8ca2d3f0d8 button.colab-df-convert');\n",
              "        buttonEl.style.display =\n",
              "          google.colab.kernel.accessAllowed ? 'block' : 'none';\n",
              "\n",
              "        async function convertToInteractive(key) {\n",
              "          const element = document.querySelector('#df-73bebeee-6199-423a-b00c-5e8ca2d3f0d8');\n",
              "          const dataTable =\n",
              "            await google.colab.kernel.invokeFunction('convertToInteractive',\n",
              "                                                     [key], {});\n",
              "          if (!dataTable) return;\n",
              "\n",
              "          const docLinkHtml = 'Like what you see? Visit the ' +\n",
              "            '<a target=\"_blank\" href=https://colab.research.google.com/notebooks/data_table.ipynb>data table notebook</a>'\n",
              "            + ' to learn more about interactive tables.';\n",
              "          element.innerHTML = '';\n",
              "          dataTable['output_type'] = 'display_data';\n",
              "          await google.colab.output.renderOutput(dataTable, element);\n",
              "          const docLink = document.createElement('div');\n",
              "          docLink.innerHTML = docLinkHtml;\n",
              "          element.appendChild(docLink);\n",
              "        }\n",
              "      </script>\n",
              "    </div>\n",
              "  </div>\n",
              "  "
            ]
          },
          "metadata": {},
          "execution_count": 49
        }
      ]
    },
    {
      "cell_type": "code",
      "source": [
        "X_meta = df[['dx_type','sex','localization','ageGroup']]"
      ],
      "metadata": {
        "id": "aea1c9XdC0Hk"
      },
      "execution_count": null,
      "outputs": []
    },
    {
      "cell_type": "code",
      "source": [
        "y_meta = df[['dx']]"
      ],
      "metadata": {
        "id": "29-j-T3mU-TV"
      },
      "execution_count": null,
      "outputs": []
    },
    {
      "cell_type": "code",
      "source": [
        "X_train_meta, X_test_meta, y_train_meta, y_test_meta = train_test_split(X_meta, y_meta, test_size=0.2,shuffle=True ,random_state=45)"
      ],
      "metadata": {
        "id": "6BGE69OFU-Vt"
      },
      "execution_count": null,
      "outputs": []
    },
    {
      "cell_type": "code",
      "source": [
        "from sklearn.model_selection import GridSearchCV\n",
        "\n",
        "params = {'min_samples_leaf':[1,3,10],'n_estimators':[100,1000],\n",
        "          'max_features':[0.1,0.5,1.],'max_samples':[0.5,None],'max_depth':[7]}\n",
        "\n",
        "model = RandomForestClassifier()\n",
        "grid_search = GridSearchCV(model,params,cv=3,verbose=10)\n",
        "grid_search.fit(X_train_meta,y_train_meta)"
      ],
      "metadata": {
        "id": "9CuA4uLYZ785",
        "outputId": "96a0e38c-287a-410c-f0a6-6430b93e89db",
        "colab": {
          "base_uri": "https://localhost:8080/"
        }
      },
      "execution_count": null,
      "outputs": [
        {
          "output_type": "stream",
          "name": "stdout",
          "text": [
            "Fitting 3 folds for each of 36 candidates, totalling 108 fits\n",
            "[CV 1/3; 1/36] START max_depth=7, max_features=0.1, max_samples=0.5, min_samples_leaf=1, n_estimators=100\n"
          ]
        },
        {
          "output_type": "stream",
          "name": "stderr",
          "text": [
            "/usr/local/lib/python3.7/dist-packages/sklearn/model_selection/_validation.py:680: DataConversionWarning: A column-vector y was passed when a 1d array was expected. Please change the shape of y to (n_samples,), for example using ravel().\n",
            "  estimator.fit(X_train, y_train, **fit_params)\n"
          ]
        },
        {
          "output_type": "stream",
          "name": "stdout",
          "text": [
            "[CV 1/3; 1/36] END max_depth=7, max_features=0.1, max_samples=0.5, min_samples_leaf=1, n_estimators=100;, score=0.721 total time=   0.3s\n",
            "[CV 2/3; 1/36] START max_depth=7, max_features=0.1, max_samples=0.5, min_samples_leaf=1, n_estimators=100\n"
          ]
        },
        {
          "output_type": "stream",
          "name": "stderr",
          "text": [
            "/usr/local/lib/python3.7/dist-packages/sklearn/model_selection/_validation.py:680: DataConversionWarning: A column-vector y was passed when a 1d array was expected. Please change the shape of y to (n_samples,), for example using ravel().\n",
            "  estimator.fit(X_train, y_train, **fit_params)\n"
          ]
        },
        {
          "output_type": "stream",
          "name": "stdout",
          "text": [
            "[CV 2/3; 1/36] END max_depth=7, max_features=0.1, max_samples=0.5, min_samples_leaf=1, n_estimators=100;, score=0.712 total time=   0.3s\n",
            "[CV 3/3; 1/36] START max_depth=7, max_features=0.1, max_samples=0.5, min_samples_leaf=1, n_estimators=100\n"
          ]
        },
        {
          "output_type": "stream",
          "name": "stderr",
          "text": [
            "/usr/local/lib/python3.7/dist-packages/sklearn/model_selection/_validation.py:680: DataConversionWarning: A column-vector y was passed when a 1d array was expected. Please change the shape of y to (n_samples,), for example using ravel().\n",
            "  estimator.fit(X_train, y_train, **fit_params)\n"
          ]
        },
        {
          "output_type": "stream",
          "name": "stdout",
          "text": [
            "[CV 3/3; 1/36] END max_depth=7, max_features=0.1, max_samples=0.5, min_samples_leaf=1, n_estimators=100;, score=0.714 total time=   0.3s\n",
            "[CV 1/3; 2/36] START max_depth=7, max_features=0.1, max_samples=0.5, min_samples_leaf=1, n_estimators=1000\n"
          ]
        },
        {
          "output_type": "stream",
          "name": "stderr",
          "text": [
            "/usr/local/lib/python3.7/dist-packages/sklearn/model_selection/_validation.py:680: DataConversionWarning: A column-vector y was passed when a 1d array was expected. Please change the shape of y to (n_samples,), for example using ravel().\n",
            "  estimator.fit(X_train, y_train, **fit_params)\n"
          ]
        },
        {
          "output_type": "stream",
          "name": "stdout",
          "text": [
            "[CV 1/3; 2/36] END max_depth=7, max_features=0.1, max_samples=0.5, min_samples_leaf=1, n_estimators=1000;, score=0.719 total time=   2.7s\n",
            "[CV 2/3; 2/36] START max_depth=7, max_features=0.1, max_samples=0.5, min_samples_leaf=1, n_estimators=1000\n"
          ]
        },
        {
          "output_type": "stream",
          "name": "stderr",
          "text": [
            "/usr/local/lib/python3.7/dist-packages/sklearn/model_selection/_validation.py:680: DataConversionWarning: A column-vector y was passed when a 1d array was expected. Please change the shape of y to (n_samples,), for example using ravel().\n",
            "  estimator.fit(X_train, y_train, **fit_params)\n"
          ]
        },
        {
          "output_type": "stream",
          "name": "stdout",
          "text": [
            "[CV 2/3; 2/36] END max_depth=7, max_features=0.1, max_samples=0.5, min_samples_leaf=1, n_estimators=1000;, score=0.714 total time=   2.7s\n",
            "[CV 3/3; 2/36] START max_depth=7, max_features=0.1, max_samples=0.5, min_samples_leaf=1, n_estimators=1000\n"
          ]
        },
        {
          "output_type": "stream",
          "name": "stderr",
          "text": [
            "/usr/local/lib/python3.7/dist-packages/sklearn/model_selection/_validation.py:680: DataConversionWarning: A column-vector y was passed when a 1d array was expected. Please change the shape of y to (n_samples,), for example using ravel().\n",
            "  estimator.fit(X_train, y_train, **fit_params)\n"
          ]
        },
        {
          "output_type": "stream",
          "name": "stdout",
          "text": [
            "[CV 3/3; 2/36] END max_depth=7, max_features=0.1, max_samples=0.5, min_samples_leaf=1, n_estimators=1000;, score=0.716 total time=   2.7s\n",
            "[CV 1/3; 3/36] START max_depth=7, max_features=0.1, max_samples=0.5, min_samples_leaf=3, n_estimators=100\n"
          ]
        },
        {
          "output_type": "stream",
          "name": "stderr",
          "text": [
            "/usr/local/lib/python3.7/dist-packages/sklearn/model_selection/_validation.py:680: DataConversionWarning: A column-vector y was passed when a 1d array was expected. Please change the shape of y to (n_samples,), for example using ravel().\n",
            "  estimator.fit(X_train, y_train, **fit_params)\n"
          ]
        },
        {
          "output_type": "stream",
          "name": "stdout",
          "text": [
            "[CV 1/3; 3/36] END max_depth=7, max_features=0.1, max_samples=0.5, min_samples_leaf=3, n_estimators=100;, score=0.712 total time=   0.3s\n",
            "[CV 2/3; 3/36] START max_depth=7, max_features=0.1, max_samples=0.5, min_samples_leaf=3, n_estimators=100\n"
          ]
        },
        {
          "output_type": "stream",
          "name": "stderr",
          "text": [
            "/usr/local/lib/python3.7/dist-packages/sklearn/model_selection/_validation.py:680: DataConversionWarning: A column-vector y was passed when a 1d array was expected. Please change the shape of y to (n_samples,), for example using ravel().\n",
            "  estimator.fit(X_train, y_train, **fit_params)\n"
          ]
        },
        {
          "output_type": "stream",
          "name": "stdout",
          "text": [
            "[CV 2/3; 3/36] END max_depth=7, max_features=0.1, max_samples=0.5, min_samples_leaf=3, n_estimators=100;, score=0.708 total time=   0.3s\n",
            "[CV 3/3; 3/36] START max_depth=7, max_features=0.1, max_samples=0.5, min_samples_leaf=3, n_estimators=100\n"
          ]
        },
        {
          "output_type": "stream",
          "name": "stderr",
          "text": [
            "/usr/local/lib/python3.7/dist-packages/sklearn/model_selection/_validation.py:680: DataConversionWarning: A column-vector y was passed when a 1d array was expected. Please change the shape of y to (n_samples,), for example using ravel().\n",
            "  estimator.fit(X_train, y_train, **fit_params)\n"
          ]
        },
        {
          "output_type": "stream",
          "name": "stdout",
          "text": [
            "[CV 3/3; 3/36] END max_depth=7, max_features=0.1, max_samples=0.5, min_samples_leaf=3, n_estimators=100;, score=0.713 total time=   0.3s\n",
            "[CV 1/3; 4/36] START max_depth=7, max_features=0.1, max_samples=0.5, min_samples_leaf=3, n_estimators=1000\n"
          ]
        },
        {
          "output_type": "stream",
          "name": "stderr",
          "text": [
            "/usr/local/lib/python3.7/dist-packages/sklearn/model_selection/_validation.py:680: DataConversionWarning: A column-vector y was passed when a 1d array was expected. Please change the shape of y to (n_samples,), for example using ravel().\n",
            "  estimator.fit(X_train, y_train, **fit_params)\n"
          ]
        },
        {
          "output_type": "stream",
          "name": "stdout",
          "text": [
            "[CV 1/3; 4/36] END max_depth=7, max_features=0.1, max_samples=0.5, min_samples_leaf=3, n_estimators=1000;, score=0.713 total time=   2.6s\n",
            "[CV 2/3; 4/36] START max_depth=7, max_features=0.1, max_samples=0.5, min_samples_leaf=3, n_estimators=1000\n"
          ]
        },
        {
          "output_type": "stream",
          "name": "stderr",
          "text": [
            "/usr/local/lib/python3.7/dist-packages/sklearn/model_selection/_validation.py:680: DataConversionWarning: A column-vector y was passed when a 1d array was expected. Please change the shape of y to (n_samples,), for example using ravel().\n",
            "  estimator.fit(X_train, y_train, **fit_params)\n"
          ]
        },
        {
          "output_type": "stream",
          "name": "stdout",
          "text": [
            "[CV 2/3; 4/36] END max_depth=7, max_features=0.1, max_samples=0.5, min_samples_leaf=3, n_estimators=1000;, score=0.709 total time=   2.6s\n",
            "[CV 3/3; 4/36] START max_depth=7, max_features=0.1, max_samples=0.5, min_samples_leaf=3, n_estimators=1000\n"
          ]
        },
        {
          "output_type": "stream",
          "name": "stderr",
          "text": [
            "/usr/local/lib/python3.7/dist-packages/sklearn/model_selection/_validation.py:680: DataConversionWarning: A column-vector y was passed when a 1d array was expected. Please change the shape of y to (n_samples,), for example using ravel().\n",
            "  estimator.fit(X_train, y_train, **fit_params)\n"
          ]
        },
        {
          "output_type": "stream",
          "name": "stdout",
          "text": [
            "[CV 3/3; 4/36] END max_depth=7, max_features=0.1, max_samples=0.5, min_samples_leaf=3, n_estimators=1000;, score=0.712 total time=   2.6s\n",
            "[CV 1/3; 5/36] START max_depth=7, max_features=0.1, max_samples=0.5, min_samples_leaf=10, n_estimators=100\n"
          ]
        },
        {
          "output_type": "stream",
          "name": "stderr",
          "text": [
            "/usr/local/lib/python3.7/dist-packages/sklearn/model_selection/_validation.py:680: DataConversionWarning: A column-vector y was passed when a 1d array was expected. Please change the shape of y to (n_samples,), for example using ravel().\n",
            "  estimator.fit(X_train, y_train, **fit_params)\n"
          ]
        },
        {
          "output_type": "stream",
          "name": "stdout",
          "text": [
            "[CV 1/3; 5/36] END max_depth=7, max_features=0.1, max_samples=0.5, min_samples_leaf=10, n_estimators=100;, score=0.710 total time=   0.3s\n",
            "[CV 2/3; 5/36] START max_depth=7, max_features=0.1, max_samples=0.5, min_samples_leaf=10, n_estimators=100\n"
          ]
        },
        {
          "output_type": "stream",
          "name": "stderr",
          "text": [
            "/usr/local/lib/python3.7/dist-packages/sklearn/model_selection/_validation.py:680: DataConversionWarning: A column-vector y was passed when a 1d array was expected. Please change the shape of y to (n_samples,), for example using ravel().\n",
            "  estimator.fit(X_train, y_train, **fit_params)\n"
          ]
        },
        {
          "output_type": "stream",
          "name": "stdout",
          "text": [
            "[CV 2/3; 5/36] END max_depth=7, max_features=0.1, max_samples=0.5, min_samples_leaf=10, n_estimators=100;, score=0.705 total time=   0.3s\n",
            "[CV 3/3; 5/36] START max_depth=7, max_features=0.1, max_samples=0.5, min_samples_leaf=10, n_estimators=100\n"
          ]
        },
        {
          "output_type": "stream",
          "name": "stderr",
          "text": [
            "/usr/local/lib/python3.7/dist-packages/sklearn/model_selection/_validation.py:680: DataConversionWarning: A column-vector y was passed when a 1d array was expected. Please change the shape of y to (n_samples,), for example using ravel().\n",
            "  estimator.fit(X_train, y_train, **fit_params)\n"
          ]
        },
        {
          "output_type": "stream",
          "name": "stdout",
          "text": [
            "[CV 3/3; 5/36] END max_depth=7, max_features=0.1, max_samples=0.5, min_samples_leaf=10, n_estimators=100;, score=0.708 total time=   0.3s\n",
            "[CV 1/3; 6/36] START max_depth=7, max_features=0.1, max_samples=0.5, min_samples_leaf=10, n_estimators=1000\n"
          ]
        },
        {
          "output_type": "stream",
          "name": "stderr",
          "text": [
            "/usr/local/lib/python3.7/dist-packages/sklearn/model_selection/_validation.py:680: DataConversionWarning: A column-vector y was passed when a 1d array was expected. Please change the shape of y to (n_samples,), for example using ravel().\n",
            "  estimator.fit(X_train, y_train, **fit_params)\n"
          ]
        },
        {
          "output_type": "stream",
          "name": "stdout",
          "text": [
            "[CV 1/3; 6/36] END max_depth=7, max_features=0.1, max_samples=0.5, min_samples_leaf=10, n_estimators=1000;, score=0.707 total time=   2.6s\n",
            "[CV 2/3; 6/36] START max_depth=7, max_features=0.1, max_samples=0.5, min_samples_leaf=10, n_estimators=1000\n"
          ]
        },
        {
          "output_type": "stream",
          "name": "stderr",
          "text": [
            "/usr/local/lib/python3.7/dist-packages/sklearn/model_selection/_validation.py:680: DataConversionWarning: A column-vector y was passed when a 1d array was expected. Please change the shape of y to (n_samples,), for example using ravel().\n",
            "  estimator.fit(X_train, y_train, **fit_params)\n"
          ]
        },
        {
          "output_type": "stream",
          "name": "stdout",
          "text": [
            "[CV 2/3; 6/36] END max_depth=7, max_features=0.1, max_samples=0.5, min_samples_leaf=10, n_estimators=1000;, score=0.703 total time=   2.6s\n",
            "[CV 3/3; 6/36] START max_depth=7, max_features=0.1, max_samples=0.5, min_samples_leaf=10, n_estimators=1000\n"
          ]
        },
        {
          "output_type": "stream",
          "name": "stderr",
          "text": [
            "/usr/local/lib/python3.7/dist-packages/sklearn/model_selection/_validation.py:680: DataConversionWarning: A column-vector y was passed when a 1d array was expected. Please change the shape of y to (n_samples,), for example using ravel().\n",
            "  estimator.fit(X_train, y_train, **fit_params)\n"
          ]
        },
        {
          "output_type": "stream",
          "name": "stdout",
          "text": [
            "[CV 3/3; 6/36] END max_depth=7, max_features=0.1, max_samples=0.5, min_samples_leaf=10, n_estimators=1000;, score=0.709 total time=   2.7s\n",
            "[CV 1/3; 7/36] START max_depth=7, max_features=0.1, max_samples=None, min_samples_leaf=1, n_estimators=100\n"
          ]
        },
        {
          "output_type": "stream",
          "name": "stderr",
          "text": [
            "/usr/local/lib/python3.7/dist-packages/sklearn/model_selection/_validation.py:680: DataConversionWarning: A column-vector y was passed when a 1d array was expected. Please change the shape of y to (n_samples,), for example using ravel().\n",
            "  estimator.fit(X_train, y_train, **fit_params)\n"
          ]
        },
        {
          "output_type": "stream",
          "name": "stdout",
          "text": [
            "[CV 1/3; 7/36] END max_depth=7, max_features=0.1, max_samples=None, min_samples_leaf=1, n_estimators=100;, score=0.720 total time=   0.3s\n",
            "[CV 2/3; 7/36] START max_depth=7, max_features=0.1, max_samples=None, min_samples_leaf=1, n_estimators=100\n"
          ]
        },
        {
          "output_type": "stream",
          "name": "stderr",
          "text": [
            "/usr/local/lib/python3.7/dist-packages/sklearn/model_selection/_validation.py:680: DataConversionWarning: A column-vector y was passed when a 1d array was expected. Please change the shape of y to (n_samples,), for example using ravel().\n",
            "  estimator.fit(X_train, y_train, **fit_params)\n"
          ]
        },
        {
          "output_type": "stream",
          "name": "stdout",
          "text": [
            "[CV 2/3; 7/36] END max_depth=7, max_features=0.1, max_samples=None, min_samples_leaf=1, n_estimators=100;, score=0.713 total time=   0.3s\n",
            "[CV 3/3; 7/36] START max_depth=7, max_features=0.1, max_samples=None, min_samples_leaf=1, n_estimators=100\n"
          ]
        },
        {
          "output_type": "stream",
          "name": "stderr",
          "text": [
            "/usr/local/lib/python3.7/dist-packages/sklearn/model_selection/_validation.py:680: DataConversionWarning: A column-vector y was passed when a 1d array was expected. Please change the shape of y to (n_samples,), for example using ravel().\n",
            "  estimator.fit(X_train, y_train, **fit_params)\n"
          ]
        },
        {
          "output_type": "stream",
          "name": "stdout",
          "text": [
            "[CV 3/3; 7/36] END max_depth=7, max_features=0.1, max_samples=None, min_samples_leaf=1, n_estimators=100;, score=0.717 total time=   0.3s\n",
            "[CV 1/3; 8/36] START max_depth=7, max_features=0.1, max_samples=None, min_samples_leaf=1, n_estimators=1000\n"
          ]
        },
        {
          "output_type": "stream",
          "name": "stderr",
          "text": [
            "/usr/local/lib/python3.7/dist-packages/sklearn/model_selection/_validation.py:680: DataConversionWarning: A column-vector y was passed when a 1d array was expected. Please change the shape of y to (n_samples,), for example using ravel().\n",
            "  estimator.fit(X_train, y_train, **fit_params)\n"
          ]
        },
        {
          "output_type": "stream",
          "name": "stdout",
          "text": [
            "[CV 1/3; 8/36] END max_depth=7, max_features=0.1, max_samples=None, min_samples_leaf=1, n_estimators=1000;, score=0.717 total time=   2.9s\n",
            "[CV 2/3; 8/36] START max_depth=7, max_features=0.1, max_samples=None, min_samples_leaf=1, n_estimators=1000\n"
          ]
        },
        {
          "output_type": "stream",
          "name": "stderr",
          "text": [
            "/usr/local/lib/python3.7/dist-packages/sklearn/model_selection/_validation.py:680: DataConversionWarning: A column-vector y was passed when a 1d array was expected. Please change the shape of y to (n_samples,), for example using ravel().\n",
            "  estimator.fit(X_train, y_train, **fit_params)\n"
          ]
        },
        {
          "output_type": "stream",
          "name": "stdout",
          "text": [
            "[CV 2/3; 8/36] END max_depth=7, max_features=0.1, max_samples=None, min_samples_leaf=1, n_estimators=1000;, score=0.711 total time=   2.9s\n",
            "[CV 3/3; 8/36] START max_depth=7, max_features=0.1, max_samples=None, min_samples_leaf=1, n_estimators=1000\n"
          ]
        },
        {
          "output_type": "stream",
          "name": "stderr",
          "text": [
            "/usr/local/lib/python3.7/dist-packages/sklearn/model_selection/_validation.py:680: DataConversionWarning: A column-vector y was passed when a 1d array was expected. Please change the shape of y to (n_samples,), for example using ravel().\n",
            "  estimator.fit(X_train, y_train, **fit_params)\n"
          ]
        },
        {
          "output_type": "stream",
          "name": "stdout",
          "text": [
            "[CV 3/3; 8/36] END max_depth=7, max_features=0.1, max_samples=None, min_samples_leaf=1, n_estimators=1000;, score=0.715 total time=   2.8s\n",
            "[CV 1/3; 9/36] START max_depth=7, max_features=0.1, max_samples=None, min_samples_leaf=3, n_estimators=100\n"
          ]
        },
        {
          "output_type": "stream",
          "name": "stderr",
          "text": [
            "/usr/local/lib/python3.7/dist-packages/sklearn/model_selection/_validation.py:680: DataConversionWarning: A column-vector y was passed when a 1d array was expected. Please change the shape of y to (n_samples,), for example using ravel().\n",
            "  estimator.fit(X_train, y_train, **fit_params)\n"
          ]
        },
        {
          "output_type": "stream",
          "name": "stdout",
          "text": [
            "[CV 1/3; 9/36] END max_depth=7, max_features=0.1, max_samples=None, min_samples_leaf=3, n_estimators=100;, score=0.716 total time=   0.3s\n",
            "[CV 2/3; 9/36] START max_depth=7, max_features=0.1, max_samples=None, min_samples_leaf=3, n_estimators=100\n"
          ]
        },
        {
          "output_type": "stream",
          "name": "stderr",
          "text": [
            "/usr/local/lib/python3.7/dist-packages/sklearn/model_selection/_validation.py:680: DataConversionWarning: A column-vector y was passed when a 1d array was expected. Please change the shape of y to (n_samples,), for example using ravel().\n",
            "  estimator.fit(X_train, y_train, **fit_params)\n"
          ]
        },
        {
          "output_type": "stream",
          "name": "stdout",
          "text": [
            "[CV 2/3; 9/36] END max_depth=7, max_features=0.1, max_samples=None, min_samples_leaf=3, n_estimators=100;, score=0.711 total time=   0.3s\n",
            "[CV 3/3; 9/36] START max_depth=7, max_features=0.1, max_samples=None, min_samples_leaf=3, n_estimators=100\n"
          ]
        },
        {
          "output_type": "stream",
          "name": "stderr",
          "text": [
            "/usr/local/lib/python3.7/dist-packages/sklearn/model_selection/_validation.py:680: DataConversionWarning: A column-vector y was passed when a 1d array was expected. Please change the shape of y to (n_samples,), for example using ravel().\n",
            "  estimator.fit(X_train, y_train, **fit_params)\n"
          ]
        },
        {
          "output_type": "stream",
          "name": "stdout",
          "text": [
            "[CV 3/3; 9/36] END max_depth=7, max_features=0.1, max_samples=None, min_samples_leaf=3, n_estimators=100;, score=0.711 total time=   0.3s\n",
            "[CV 1/3; 10/36] START max_depth=7, max_features=0.1, max_samples=None, min_samples_leaf=3, n_estimators=1000\n"
          ]
        },
        {
          "output_type": "stream",
          "name": "stderr",
          "text": [
            "/usr/local/lib/python3.7/dist-packages/sklearn/model_selection/_validation.py:680: DataConversionWarning: A column-vector y was passed when a 1d array was expected. Please change the shape of y to (n_samples,), for example using ravel().\n",
            "  estimator.fit(X_train, y_train, **fit_params)\n"
          ]
        },
        {
          "output_type": "stream",
          "name": "stdout",
          "text": [
            "[CV 1/3; 10/36] END max_depth=7, max_features=0.1, max_samples=None, min_samples_leaf=3, n_estimators=1000;, score=0.711 total time=   2.9s\n",
            "[CV 2/3; 10/36] START max_depth=7, max_features=0.1, max_samples=None, min_samples_leaf=3, n_estimators=1000\n"
          ]
        },
        {
          "output_type": "stream",
          "name": "stderr",
          "text": [
            "/usr/local/lib/python3.7/dist-packages/sklearn/model_selection/_validation.py:680: DataConversionWarning: A column-vector y was passed when a 1d array was expected. Please change the shape of y to (n_samples,), for example using ravel().\n",
            "  estimator.fit(X_train, y_train, **fit_params)\n"
          ]
        },
        {
          "output_type": "stream",
          "name": "stdout",
          "text": [
            "[CV 2/3; 10/36] END max_depth=7, max_features=0.1, max_samples=None, min_samples_leaf=3, n_estimators=1000;, score=0.708 total time=   2.8s\n",
            "[CV 3/3; 10/36] START max_depth=7, max_features=0.1, max_samples=None, min_samples_leaf=3, n_estimators=1000\n"
          ]
        },
        {
          "output_type": "stream",
          "name": "stderr",
          "text": [
            "/usr/local/lib/python3.7/dist-packages/sklearn/model_selection/_validation.py:680: DataConversionWarning: A column-vector y was passed when a 1d array was expected. Please change the shape of y to (n_samples,), for example using ravel().\n",
            "  estimator.fit(X_train, y_train, **fit_params)\n"
          ]
        },
        {
          "output_type": "stream",
          "name": "stdout",
          "text": [
            "[CV 3/3; 10/36] END max_depth=7, max_features=0.1, max_samples=None, min_samples_leaf=3, n_estimators=1000;, score=0.714 total time=   2.8s\n",
            "[CV 1/3; 11/36] START max_depth=7, max_features=0.1, max_samples=None, min_samples_leaf=10, n_estimators=100\n"
          ]
        },
        {
          "output_type": "stream",
          "name": "stderr",
          "text": [
            "/usr/local/lib/python3.7/dist-packages/sklearn/model_selection/_validation.py:680: DataConversionWarning: A column-vector y was passed when a 1d array was expected. Please change the shape of y to (n_samples,), for example using ravel().\n",
            "  estimator.fit(X_train, y_train, **fit_params)\n"
          ]
        },
        {
          "output_type": "stream",
          "name": "stdout",
          "text": [
            "[CV 1/3; 11/36] END max_depth=7, max_features=0.1, max_samples=None, min_samples_leaf=10, n_estimators=100;, score=0.711 total time=   0.3s\n",
            "[CV 2/3; 11/36] START max_depth=7, max_features=0.1, max_samples=None, min_samples_leaf=10, n_estimators=100\n"
          ]
        },
        {
          "output_type": "stream",
          "name": "stderr",
          "text": [
            "/usr/local/lib/python3.7/dist-packages/sklearn/model_selection/_validation.py:680: DataConversionWarning: A column-vector y was passed when a 1d array was expected. Please change the shape of y to (n_samples,), for example using ravel().\n",
            "  estimator.fit(X_train, y_train, **fit_params)\n"
          ]
        },
        {
          "output_type": "stream",
          "name": "stdout",
          "text": [
            "[CV 2/3; 11/36] END max_depth=7, max_features=0.1, max_samples=None, min_samples_leaf=10, n_estimators=100;, score=0.704 total time=   0.3s\n",
            "[CV 3/3; 11/36] START max_depth=7, max_features=0.1, max_samples=None, min_samples_leaf=10, n_estimators=100\n"
          ]
        },
        {
          "output_type": "stream",
          "name": "stderr",
          "text": [
            "/usr/local/lib/python3.7/dist-packages/sklearn/model_selection/_validation.py:680: DataConversionWarning: A column-vector y was passed when a 1d array was expected. Please change the shape of y to (n_samples,), for example using ravel().\n",
            "  estimator.fit(X_train, y_train, **fit_params)\n"
          ]
        },
        {
          "output_type": "stream",
          "name": "stdout",
          "text": [
            "[CV 3/3; 11/36] END max_depth=7, max_features=0.1, max_samples=None, min_samples_leaf=10, n_estimators=100;, score=0.712 total time=   0.3s\n",
            "[CV 1/3; 12/36] START max_depth=7, max_features=0.1, max_samples=None, min_samples_leaf=10, n_estimators=1000\n"
          ]
        },
        {
          "output_type": "stream",
          "name": "stderr",
          "text": [
            "/usr/local/lib/python3.7/dist-packages/sklearn/model_selection/_validation.py:680: DataConversionWarning: A column-vector y was passed when a 1d array was expected. Please change the shape of y to (n_samples,), for example using ravel().\n",
            "  estimator.fit(X_train, y_train, **fit_params)\n"
          ]
        },
        {
          "output_type": "stream",
          "name": "stdout",
          "text": [
            "[CV 1/3; 12/36] END max_depth=7, max_features=0.1, max_samples=None, min_samples_leaf=10, n_estimators=1000;, score=0.713 total time=   2.8s\n",
            "[CV 2/3; 12/36] START max_depth=7, max_features=0.1, max_samples=None, min_samples_leaf=10, n_estimators=1000\n"
          ]
        },
        {
          "output_type": "stream",
          "name": "stderr",
          "text": [
            "/usr/local/lib/python3.7/dist-packages/sklearn/model_selection/_validation.py:680: DataConversionWarning: A column-vector y was passed when a 1d array was expected. Please change the shape of y to (n_samples,), for example using ravel().\n",
            "  estimator.fit(X_train, y_train, **fit_params)\n"
          ]
        },
        {
          "output_type": "stream",
          "name": "stdout",
          "text": [
            "[CV 2/3; 12/36] END max_depth=7, max_features=0.1, max_samples=None, min_samples_leaf=10, n_estimators=1000;, score=0.704 total time=   2.8s\n",
            "[CV 3/3; 12/36] START max_depth=7, max_features=0.1, max_samples=None, min_samples_leaf=10, n_estimators=1000\n"
          ]
        },
        {
          "output_type": "stream",
          "name": "stderr",
          "text": [
            "/usr/local/lib/python3.7/dist-packages/sklearn/model_selection/_validation.py:680: DataConversionWarning: A column-vector y was passed when a 1d array was expected. Please change the shape of y to (n_samples,), for example using ravel().\n",
            "  estimator.fit(X_train, y_train, **fit_params)\n"
          ]
        },
        {
          "output_type": "stream",
          "name": "stdout",
          "text": [
            "[CV 3/3; 12/36] END max_depth=7, max_features=0.1, max_samples=None, min_samples_leaf=10, n_estimators=1000;, score=0.710 total time=   2.8s\n",
            "[CV 1/3; 13/36] START max_depth=7, max_features=0.5, max_samples=0.5, min_samples_leaf=1, n_estimators=100\n"
          ]
        },
        {
          "output_type": "stream",
          "name": "stderr",
          "text": [
            "/usr/local/lib/python3.7/dist-packages/sklearn/model_selection/_validation.py:680: DataConversionWarning: A column-vector y was passed when a 1d array was expected. Please change the shape of y to (n_samples,), for example using ravel().\n",
            "  estimator.fit(X_train, y_train, **fit_params)\n"
          ]
        },
        {
          "output_type": "stream",
          "name": "stdout",
          "text": [
            "[CV 1/3; 13/36] END max_depth=7, max_features=0.5, max_samples=0.5, min_samples_leaf=1, n_estimators=100;, score=0.712 total time=   0.3s\n",
            "[CV 2/3; 13/36] START max_depth=7, max_features=0.5, max_samples=0.5, min_samples_leaf=1, n_estimators=100\n"
          ]
        },
        {
          "output_type": "stream",
          "name": "stderr",
          "text": [
            "/usr/local/lib/python3.7/dist-packages/sklearn/model_selection/_validation.py:680: DataConversionWarning: A column-vector y was passed when a 1d array was expected. Please change the shape of y to (n_samples,), for example using ravel().\n",
            "  estimator.fit(X_train, y_train, **fit_params)\n"
          ]
        },
        {
          "output_type": "stream",
          "name": "stdout",
          "text": [
            "[CV 2/3; 13/36] END max_depth=7, max_features=0.5, max_samples=0.5, min_samples_leaf=1, n_estimators=100;, score=0.713 total time=   0.3s\n",
            "[CV 3/3; 13/36] START max_depth=7, max_features=0.5, max_samples=0.5, min_samples_leaf=1, n_estimators=100\n"
          ]
        },
        {
          "output_type": "stream",
          "name": "stderr",
          "text": [
            "/usr/local/lib/python3.7/dist-packages/sklearn/model_selection/_validation.py:680: DataConversionWarning: A column-vector y was passed when a 1d array was expected. Please change the shape of y to (n_samples,), for example using ravel().\n",
            "  estimator.fit(X_train, y_train, **fit_params)\n"
          ]
        },
        {
          "output_type": "stream",
          "name": "stdout",
          "text": [
            "[CV 3/3; 13/36] END max_depth=7, max_features=0.5, max_samples=0.5, min_samples_leaf=1, n_estimators=100;, score=0.716 total time=   0.3s\n",
            "[CV 1/3; 14/36] START max_depth=7, max_features=0.5, max_samples=0.5, min_samples_leaf=1, n_estimators=1000\n"
          ]
        },
        {
          "output_type": "stream",
          "name": "stderr",
          "text": [
            "/usr/local/lib/python3.7/dist-packages/sklearn/model_selection/_validation.py:680: DataConversionWarning: A column-vector y was passed when a 1d array was expected. Please change the shape of y to (n_samples,), for example using ravel().\n",
            "  estimator.fit(X_train, y_train, **fit_params)\n"
          ]
        },
        {
          "output_type": "stream",
          "name": "stdout",
          "text": [
            "[CV 1/3; 14/36] END max_depth=7, max_features=0.5, max_samples=0.5, min_samples_leaf=1, n_estimators=1000;, score=0.721 total time=   2.8s\n",
            "[CV 2/3; 14/36] START max_depth=7, max_features=0.5, max_samples=0.5, min_samples_leaf=1, n_estimators=1000\n"
          ]
        },
        {
          "output_type": "stream",
          "name": "stderr",
          "text": [
            "/usr/local/lib/python3.7/dist-packages/sklearn/model_selection/_validation.py:680: DataConversionWarning: A column-vector y was passed when a 1d array was expected. Please change the shape of y to (n_samples,), for example using ravel().\n",
            "  estimator.fit(X_train, y_train, **fit_params)\n"
          ]
        },
        {
          "output_type": "stream",
          "name": "stdout",
          "text": [
            "[CV 2/3; 14/36] END max_depth=7, max_features=0.5, max_samples=0.5, min_samples_leaf=1, n_estimators=1000;, score=0.709 total time=   2.8s\n",
            "[CV 3/3; 14/36] START max_depth=7, max_features=0.5, max_samples=0.5, min_samples_leaf=1, n_estimators=1000\n"
          ]
        },
        {
          "output_type": "stream",
          "name": "stderr",
          "text": [
            "/usr/local/lib/python3.7/dist-packages/sklearn/model_selection/_validation.py:680: DataConversionWarning: A column-vector y was passed when a 1d array was expected. Please change the shape of y to (n_samples,), for example using ravel().\n",
            "  estimator.fit(X_train, y_train, **fit_params)\n"
          ]
        },
        {
          "output_type": "stream",
          "name": "stdout",
          "text": [
            "[CV 3/3; 14/36] END max_depth=7, max_features=0.5, max_samples=0.5, min_samples_leaf=1, n_estimators=1000;, score=0.716 total time=   2.7s\n",
            "[CV 1/3; 15/36] START max_depth=7, max_features=0.5, max_samples=0.5, min_samples_leaf=3, n_estimators=100\n"
          ]
        },
        {
          "output_type": "stream",
          "name": "stderr",
          "text": [
            "/usr/local/lib/python3.7/dist-packages/sklearn/model_selection/_validation.py:680: DataConversionWarning: A column-vector y was passed when a 1d array was expected. Please change the shape of y to (n_samples,), for example using ravel().\n",
            "  estimator.fit(X_train, y_train, **fit_params)\n"
          ]
        },
        {
          "output_type": "stream",
          "name": "stdout",
          "text": [
            "[CV 1/3; 15/36] END max_depth=7, max_features=0.5, max_samples=0.5, min_samples_leaf=3, n_estimators=100;, score=0.720 total time=   0.3s\n",
            "[CV 2/3; 15/36] START max_depth=7, max_features=0.5, max_samples=0.5, min_samples_leaf=3, n_estimators=100\n"
          ]
        },
        {
          "output_type": "stream",
          "name": "stderr",
          "text": [
            "/usr/local/lib/python3.7/dist-packages/sklearn/model_selection/_validation.py:680: DataConversionWarning: A column-vector y was passed when a 1d array was expected. Please change the shape of y to (n_samples,), for example using ravel().\n",
            "  estimator.fit(X_train, y_train, **fit_params)\n"
          ]
        },
        {
          "output_type": "stream",
          "name": "stdout",
          "text": [
            "[CV 2/3; 15/36] END max_depth=7, max_features=0.5, max_samples=0.5, min_samples_leaf=3, n_estimators=100;, score=0.714 total time=   0.3s\n",
            "[CV 3/3; 15/36] START max_depth=7, max_features=0.5, max_samples=0.5, min_samples_leaf=3, n_estimators=100\n"
          ]
        },
        {
          "output_type": "stream",
          "name": "stderr",
          "text": [
            "/usr/local/lib/python3.7/dist-packages/sklearn/model_selection/_validation.py:680: DataConversionWarning: A column-vector y was passed when a 1d array was expected. Please change the shape of y to (n_samples,), for example using ravel().\n",
            "  estimator.fit(X_train, y_train, **fit_params)\n"
          ]
        },
        {
          "output_type": "stream",
          "name": "stdout",
          "text": [
            "[CV 3/3; 15/36] END max_depth=7, max_features=0.5, max_samples=0.5, min_samples_leaf=3, n_estimators=100;, score=0.717 total time=   0.3s\n",
            "[CV 1/3; 16/36] START max_depth=7, max_features=0.5, max_samples=0.5, min_samples_leaf=3, n_estimators=1000\n"
          ]
        },
        {
          "output_type": "stream",
          "name": "stderr",
          "text": [
            "/usr/local/lib/python3.7/dist-packages/sklearn/model_selection/_validation.py:680: DataConversionWarning: A column-vector y was passed when a 1d array was expected. Please change the shape of y to (n_samples,), for example using ravel().\n",
            "  estimator.fit(X_train, y_train, **fit_params)\n"
          ]
        },
        {
          "output_type": "stream",
          "name": "stdout",
          "text": [
            "[CV 1/3; 16/36] END max_depth=7, max_features=0.5, max_samples=0.5, min_samples_leaf=3, n_estimators=1000;, score=0.718 total time=   2.7s\n",
            "[CV 2/3; 16/36] START max_depth=7, max_features=0.5, max_samples=0.5, min_samples_leaf=3, n_estimators=1000\n"
          ]
        },
        {
          "output_type": "stream",
          "name": "stderr",
          "text": [
            "/usr/local/lib/python3.7/dist-packages/sklearn/model_selection/_validation.py:680: DataConversionWarning: A column-vector y was passed when a 1d array was expected. Please change the shape of y to (n_samples,), for example using ravel().\n",
            "  estimator.fit(X_train, y_train, **fit_params)\n"
          ]
        },
        {
          "output_type": "stream",
          "name": "stdout",
          "text": [
            "[CV 2/3; 16/36] END max_depth=7, max_features=0.5, max_samples=0.5, min_samples_leaf=3, n_estimators=1000;, score=0.710 total time=   2.7s\n",
            "[CV 3/3; 16/36] START max_depth=7, max_features=0.5, max_samples=0.5, min_samples_leaf=3, n_estimators=1000\n"
          ]
        },
        {
          "output_type": "stream",
          "name": "stderr",
          "text": [
            "/usr/local/lib/python3.7/dist-packages/sklearn/model_selection/_validation.py:680: DataConversionWarning: A column-vector y was passed when a 1d array was expected. Please change the shape of y to (n_samples,), for example using ravel().\n",
            "  estimator.fit(X_train, y_train, **fit_params)\n"
          ]
        },
        {
          "output_type": "stream",
          "name": "stdout",
          "text": [
            "[CV 3/3; 16/36] END max_depth=7, max_features=0.5, max_samples=0.5, min_samples_leaf=3, n_estimators=1000;, score=0.718 total time=   2.8s\n",
            "[CV 1/3; 17/36] START max_depth=7, max_features=0.5, max_samples=0.5, min_samples_leaf=10, n_estimators=100\n"
          ]
        },
        {
          "output_type": "stream",
          "name": "stderr",
          "text": [
            "/usr/local/lib/python3.7/dist-packages/sklearn/model_selection/_validation.py:680: DataConversionWarning: A column-vector y was passed when a 1d array was expected. Please change the shape of y to (n_samples,), for example using ravel().\n",
            "  estimator.fit(X_train, y_train, **fit_params)\n"
          ]
        },
        {
          "output_type": "stream",
          "name": "stdout",
          "text": [
            "[CV 1/3; 17/36] END max_depth=7, max_features=0.5, max_samples=0.5, min_samples_leaf=10, n_estimators=100;, score=0.713 total time=   0.3s\n",
            "[CV 2/3; 17/36] START max_depth=7, max_features=0.5, max_samples=0.5, min_samples_leaf=10, n_estimators=100\n"
          ]
        },
        {
          "output_type": "stream",
          "name": "stderr",
          "text": [
            "/usr/local/lib/python3.7/dist-packages/sklearn/model_selection/_validation.py:680: DataConversionWarning: A column-vector y was passed when a 1d array was expected. Please change the shape of y to (n_samples,), for example using ravel().\n",
            "  estimator.fit(X_train, y_train, **fit_params)\n"
          ]
        },
        {
          "output_type": "stream",
          "name": "stdout",
          "text": [
            "[CV 2/3; 17/36] END max_depth=7, max_features=0.5, max_samples=0.5, min_samples_leaf=10, n_estimators=100;, score=0.708 total time=   0.3s\n",
            "[CV 3/3; 17/36] START max_depth=7, max_features=0.5, max_samples=0.5, min_samples_leaf=10, n_estimators=100\n"
          ]
        },
        {
          "output_type": "stream",
          "name": "stderr",
          "text": [
            "/usr/local/lib/python3.7/dist-packages/sklearn/model_selection/_validation.py:680: DataConversionWarning: A column-vector y was passed when a 1d array was expected. Please change the shape of y to (n_samples,), for example using ravel().\n",
            "  estimator.fit(X_train, y_train, **fit_params)\n"
          ]
        },
        {
          "output_type": "stream",
          "name": "stdout",
          "text": [
            "[CV 3/3; 17/36] END max_depth=7, max_features=0.5, max_samples=0.5, min_samples_leaf=10, n_estimators=100;, score=0.714 total time=   0.3s\n",
            "[CV 1/3; 18/36] START max_depth=7, max_features=0.5, max_samples=0.5, min_samples_leaf=10, n_estimators=1000\n"
          ]
        },
        {
          "output_type": "stream",
          "name": "stderr",
          "text": [
            "/usr/local/lib/python3.7/dist-packages/sklearn/model_selection/_validation.py:680: DataConversionWarning: A column-vector y was passed when a 1d array was expected. Please change the shape of y to (n_samples,), for example using ravel().\n",
            "  estimator.fit(X_train, y_train, **fit_params)\n"
          ]
        },
        {
          "output_type": "stream",
          "name": "stdout",
          "text": [
            "[CV 1/3; 18/36] END max_depth=7, max_features=0.5, max_samples=0.5, min_samples_leaf=10, n_estimators=1000;, score=0.719 total time=   2.7s\n",
            "[CV 2/3; 18/36] START max_depth=7, max_features=0.5, max_samples=0.5, min_samples_leaf=10, n_estimators=1000\n"
          ]
        },
        {
          "output_type": "stream",
          "name": "stderr",
          "text": [
            "/usr/local/lib/python3.7/dist-packages/sklearn/model_selection/_validation.py:680: DataConversionWarning: A column-vector y was passed when a 1d array was expected. Please change the shape of y to (n_samples,), for example using ravel().\n",
            "  estimator.fit(X_train, y_train, **fit_params)\n"
          ]
        },
        {
          "output_type": "stream",
          "name": "stdout",
          "text": [
            "[CV 2/3; 18/36] END max_depth=7, max_features=0.5, max_samples=0.5, min_samples_leaf=10, n_estimators=1000;, score=0.708 total time=   2.7s\n",
            "[CV 3/3; 18/36] START max_depth=7, max_features=0.5, max_samples=0.5, min_samples_leaf=10, n_estimators=1000\n"
          ]
        },
        {
          "output_type": "stream",
          "name": "stderr",
          "text": [
            "/usr/local/lib/python3.7/dist-packages/sklearn/model_selection/_validation.py:680: DataConversionWarning: A column-vector y was passed when a 1d array was expected. Please change the shape of y to (n_samples,), for example using ravel().\n",
            "  estimator.fit(X_train, y_train, **fit_params)\n"
          ]
        },
        {
          "output_type": "stream",
          "name": "stdout",
          "text": [
            "[CV 3/3; 18/36] END max_depth=7, max_features=0.5, max_samples=0.5, min_samples_leaf=10, n_estimators=1000;, score=0.713 total time=   2.7s\n",
            "[CV 1/3; 19/36] START max_depth=7, max_features=0.5, max_samples=None, min_samples_leaf=1, n_estimators=100\n"
          ]
        },
        {
          "output_type": "stream",
          "name": "stderr",
          "text": [
            "/usr/local/lib/python3.7/dist-packages/sklearn/model_selection/_validation.py:680: DataConversionWarning: A column-vector y was passed when a 1d array was expected. Please change the shape of y to (n_samples,), for example using ravel().\n",
            "  estimator.fit(X_train, y_train, **fit_params)\n"
          ]
        },
        {
          "output_type": "stream",
          "name": "stdout",
          "text": [
            "[CV 1/3; 19/36] END max_depth=7, max_features=0.5, max_samples=None, min_samples_leaf=1, n_estimators=100;, score=0.719 total time=   0.3s\n",
            "[CV 2/3; 19/36] START max_depth=7, max_features=0.5, max_samples=None, min_samples_leaf=1, n_estimators=100\n"
          ]
        },
        {
          "output_type": "stream",
          "name": "stderr",
          "text": [
            "/usr/local/lib/python3.7/dist-packages/sklearn/model_selection/_validation.py:680: DataConversionWarning: A column-vector y was passed when a 1d array was expected. Please change the shape of y to (n_samples,), for example using ravel().\n",
            "  estimator.fit(X_train, y_train, **fit_params)\n"
          ]
        },
        {
          "output_type": "stream",
          "name": "stdout",
          "text": [
            "[CV 2/3; 19/36] END max_depth=7, max_features=0.5, max_samples=None, min_samples_leaf=1, n_estimators=100;, score=0.708 total time=   0.3s\n",
            "[CV 3/3; 19/36] START max_depth=7, max_features=0.5, max_samples=None, min_samples_leaf=1, n_estimators=100\n"
          ]
        },
        {
          "output_type": "stream",
          "name": "stderr",
          "text": [
            "/usr/local/lib/python3.7/dist-packages/sklearn/model_selection/_validation.py:680: DataConversionWarning: A column-vector y was passed when a 1d array was expected. Please change the shape of y to (n_samples,), for example using ravel().\n",
            "  estimator.fit(X_train, y_train, **fit_params)\n"
          ]
        },
        {
          "output_type": "stream",
          "name": "stdout",
          "text": [
            "[CV 3/3; 19/36] END max_depth=7, max_features=0.5, max_samples=None, min_samples_leaf=1, n_estimators=100;, score=0.718 total time=   0.3s\n",
            "[CV 1/3; 20/36] START max_depth=7, max_features=0.5, max_samples=None, min_samples_leaf=1, n_estimators=1000\n"
          ]
        },
        {
          "output_type": "stream",
          "name": "stderr",
          "text": [
            "/usr/local/lib/python3.7/dist-packages/sklearn/model_selection/_validation.py:680: DataConversionWarning: A column-vector y was passed when a 1d array was expected. Please change the shape of y to (n_samples,), for example using ravel().\n",
            "  estimator.fit(X_train, y_train, **fit_params)\n"
          ]
        },
        {
          "output_type": "stream",
          "name": "stdout",
          "text": [
            "[CV 1/3; 20/36] END max_depth=7, max_features=0.5, max_samples=None, min_samples_leaf=1, n_estimators=1000;, score=0.720 total time=   3.1s\n",
            "[CV 2/3; 20/36] START max_depth=7, max_features=0.5, max_samples=None, min_samples_leaf=1, n_estimators=1000\n"
          ]
        },
        {
          "output_type": "stream",
          "name": "stderr",
          "text": [
            "/usr/local/lib/python3.7/dist-packages/sklearn/model_selection/_validation.py:680: DataConversionWarning: A column-vector y was passed when a 1d array was expected. Please change the shape of y to (n_samples,), for example using ravel().\n",
            "  estimator.fit(X_train, y_train, **fit_params)\n"
          ]
        },
        {
          "output_type": "stream",
          "name": "stdout",
          "text": [
            "[CV 2/3; 20/36] END max_depth=7, max_features=0.5, max_samples=None, min_samples_leaf=1, n_estimators=1000;, score=0.709 total time=   3.0s\n",
            "[CV 3/3; 20/36] START max_depth=7, max_features=0.5, max_samples=None, min_samples_leaf=1, n_estimators=1000\n"
          ]
        },
        {
          "output_type": "stream",
          "name": "stderr",
          "text": [
            "/usr/local/lib/python3.7/dist-packages/sklearn/model_selection/_validation.py:680: DataConversionWarning: A column-vector y was passed when a 1d array was expected. Please change the shape of y to (n_samples,), for example using ravel().\n",
            "  estimator.fit(X_train, y_train, **fit_params)\n"
          ]
        },
        {
          "output_type": "stream",
          "name": "stdout",
          "text": [
            "[CV 3/3; 20/36] END max_depth=7, max_features=0.5, max_samples=None, min_samples_leaf=1, n_estimators=1000;, score=0.718 total time=   3.1s\n",
            "[CV 1/3; 21/36] START max_depth=7, max_features=0.5, max_samples=None, min_samples_leaf=3, n_estimators=100\n"
          ]
        },
        {
          "output_type": "stream",
          "name": "stderr",
          "text": [
            "/usr/local/lib/python3.7/dist-packages/sklearn/model_selection/_validation.py:680: DataConversionWarning: A column-vector y was passed when a 1d array was expected. Please change the shape of y to (n_samples,), for example using ravel().\n",
            "  estimator.fit(X_train, y_train, **fit_params)\n"
          ]
        },
        {
          "output_type": "stream",
          "name": "stdout",
          "text": [
            "[CV 1/3; 21/36] END max_depth=7, max_features=0.5, max_samples=None, min_samples_leaf=3, n_estimators=100;, score=0.715 total time=   0.3s\n",
            "[CV 2/3; 21/36] START max_depth=7, max_features=0.5, max_samples=None, min_samples_leaf=3, n_estimators=100\n"
          ]
        },
        {
          "output_type": "stream",
          "name": "stderr",
          "text": [
            "/usr/local/lib/python3.7/dist-packages/sklearn/model_selection/_validation.py:680: DataConversionWarning: A column-vector y was passed when a 1d array was expected. Please change the shape of y to (n_samples,), for example using ravel().\n",
            "  estimator.fit(X_train, y_train, **fit_params)\n"
          ]
        },
        {
          "output_type": "stream",
          "name": "stdout",
          "text": [
            "[CV 2/3; 21/36] END max_depth=7, max_features=0.5, max_samples=None, min_samples_leaf=3, n_estimators=100;, score=0.714 total time=   0.3s\n",
            "[CV 3/3; 21/36] START max_depth=7, max_features=0.5, max_samples=None, min_samples_leaf=3, n_estimators=100\n"
          ]
        },
        {
          "output_type": "stream",
          "name": "stderr",
          "text": [
            "/usr/local/lib/python3.7/dist-packages/sklearn/model_selection/_validation.py:680: DataConversionWarning: A column-vector y was passed when a 1d array was expected. Please change the shape of y to (n_samples,), for example using ravel().\n",
            "  estimator.fit(X_train, y_train, **fit_params)\n"
          ]
        },
        {
          "output_type": "stream",
          "name": "stdout",
          "text": [
            "[CV 3/3; 21/36] END max_depth=7, max_features=0.5, max_samples=None, min_samples_leaf=3, n_estimators=100;, score=0.715 total time=   0.3s\n",
            "[CV 1/3; 22/36] START max_depth=7, max_features=0.5, max_samples=None, min_samples_leaf=3, n_estimators=1000\n"
          ]
        },
        {
          "output_type": "stream",
          "name": "stderr",
          "text": [
            "/usr/local/lib/python3.7/dist-packages/sklearn/model_selection/_validation.py:680: DataConversionWarning: A column-vector y was passed when a 1d array was expected. Please change the shape of y to (n_samples,), for example using ravel().\n",
            "  estimator.fit(X_train, y_train, **fit_params)\n"
          ]
        },
        {
          "output_type": "stream",
          "name": "stdout",
          "text": [
            "[CV 1/3; 22/36] END max_depth=7, max_features=0.5, max_samples=None, min_samples_leaf=3, n_estimators=1000;, score=0.719 total time=   3.0s\n",
            "[CV 2/3; 22/36] START max_depth=7, max_features=0.5, max_samples=None, min_samples_leaf=3, n_estimators=1000\n"
          ]
        },
        {
          "output_type": "stream",
          "name": "stderr",
          "text": [
            "/usr/local/lib/python3.7/dist-packages/sklearn/model_selection/_validation.py:680: DataConversionWarning: A column-vector y was passed when a 1d array was expected. Please change the shape of y to (n_samples,), for example using ravel().\n",
            "  estimator.fit(X_train, y_train, **fit_params)\n"
          ]
        },
        {
          "output_type": "stream",
          "name": "stdout",
          "text": [
            "[CV 2/3; 22/36] END max_depth=7, max_features=0.5, max_samples=None, min_samples_leaf=3, n_estimators=1000;, score=0.709 total time=   3.0s\n",
            "[CV 3/3; 22/36] START max_depth=7, max_features=0.5, max_samples=None, min_samples_leaf=3, n_estimators=1000\n"
          ]
        },
        {
          "output_type": "stream",
          "name": "stderr",
          "text": [
            "/usr/local/lib/python3.7/dist-packages/sklearn/model_selection/_validation.py:680: DataConversionWarning: A column-vector y was passed when a 1d array was expected. Please change the shape of y to (n_samples,), for example using ravel().\n",
            "  estimator.fit(X_train, y_train, **fit_params)\n"
          ]
        },
        {
          "output_type": "stream",
          "name": "stdout",
          "text": [
            "[CV 3/3; 22/36] END max_depth=7, max_features=0.5, max_samples=None, min_samples_leaf=3, n_estimators=1000;, score=0.718 total time=   3.0s\n",
            "[CV 1/3; 23/36] START max_depth=7, max_features=0.5, max_samples=None, min_samples_leaf=10, n_estimators=100\n"
          ]
        },
        {
          "output_type": "stream",
          "name": "stderr",
          "text": [
            "/usr/local/lib/python3.7/dist-packages/sklearn/model_selection/_validation.py:680: DataConversionWarning: A column-vector y was passed when a 1d array was expected. Please change the shape of y to (n_samples,), for example using ravel().\n",
            "  estimator.fit(X_train, y_train, **fit_params)\n"
          ]
        },
        {
          "output_type": "stream",
          "name": "stdout",
          "text": [
            "[CV 1/3; 23/36] END max_depth=7, max_features=0.5, max_samples=None, min_samples_leaf=10, n_estimators=100;, score=0.716 total time=   0.3s\n",
            "[CV 2/3; 23/36] START max_depth=7, max_features=0.5, max_samples=None, min_samples_leaf=10, n_estimators=100\n"
          ]
        },
        {
          "output_type": "stream",
          "name": "stderr",
          "text": [
            "/usr/local/lib/python3.7/dist-packages/sklearn/model_selection/_validation.py:680: DataConversionWarning: A column-vector y was passed when a 1d array was expected. Please change the shape of y to (n_samples,), for example using ravel().\n",
            "  estimator.fit(X_train, y_train, **fit_params)\n"
          ]
        },
        {
          "output_type": "stream",
          "name": "stdout",
          "text": [
            "[CV 2/3; 23/36] END max_depth=7, max_features=0.5, max_samples=None, min_samples_leaf=10, n_estimators=100;, score=0.709 total time=   0.3s\n",
            "[CV 3/3; 23/36] START max_depth=7, max_features=0.5, max_samples=None, min_samples_leaf=10, n_estimators=100\n"
          ]
        },
        {
          "output_type": "stream",
          "name": "stderr",
          "text": [
            "/usr/local/lib/python3.7/dist-packages/sklearn/model_selection/_validation.py:680: DataConversionWarning: A column-vector y was passed when a 1d array was expected. Please change the shape of y to (n_samples,), for example using ravel().\n",
            "  estimator.fit(X_train, y_train, **fit_params)\n"
          ]
        },
        {
          "output_type": "stream",
          "name": "stdout",
          "text": [
            "[CV 3/3; 23/36] END max_depth=7, max_features=0.5, max_samples=None, min_samples_leaf=10, n_estimators=100;, score=0.716 total time=   0.3s\n",
            "[CV 1/3; 24/36] START max_depth=7, max_features=0.5, max_samples=None, min_samples_leaf=10, n_estimators=1000\n"
          ]
        },
        {
          "output_type": "stream",
          "name": "stderr",
          "text": [
            "/usr/local/lib/python3.7/dist-packages/sklearn/model_selection/_validation.py:680: DataConversionWarning: A column-vector y was passed when a 1d array was expected. Please change the shape of y to (n_samples,), for example using ravel().\n",
            "  estimator.fit(X_train, y_train, **fit_params)\n"
          ]
        },
        {
          "output_type": "stream",
          "name": "stdout",
          "text": [
            "[CV 1/3; 24/36] END max_depth=7, max_features=0.5, max_samples=None, min_samples_leaf=10, n_estimators=1000;, score=0.716 total time=   3.0s\n",
            "[CV 2/3; 24/36] START max_depth=7, max_features=0.5, max_samples=None, min_samples_leaf=10, n_estimators=1000\n"
          ]
        },
        {
          "output_type": "stream",
          "name": "stderr",
          "text": [
            "/usr/local/lib/python3.7/dist-packages/sklearn/model_selection/_validation.py:680: DataConversionWarning: A column-vector y was passed when a 1d array was expected. Please change the shape of y to (n_samples,), for example using ravel().\n",
            "  estimator.fit(X_train, y_train, **fit_params)\n"
          ]
        },
        {
          "output_type": "stream",
          "name": "stdout",
          "text": [
            "[CV 2/3; 24/36] END max_depth=7, max_features=0.5, max_samples=None, min_samples_leaf=10, n_estimators=1000;, score=0.712 total time=   2.9s\n",
            "[CV 3/3; 24/36] START max_depth=7, max_features=0.5, max_samples=None, min_samples_leaf=10, n_estimators=1000\n"
          ]
        },
        {
          "output_type": "stream",
          "name": "stderr",
          "text": [
            "/usr/local/lib/python3.7/dist-packages/sklearn/model_selection/_validation.py:680: DataConversionWarning: A column-vector y was passed when a 1d array was expected. Please change the shape of y to (n_samples,), for example using ravel().\n",
            "  estimator.fit(X_train, y_train, **fit_params)\n"
          ]
        },
        {
          "output_type": "stream",
          "name": "stdout",
          "text": [
            "[CV 3/3; 24/36] END max_depth=7, max_features=0.5, max_samples=None, min_samples_leaf=10, n_estimators=1000;, score=0.715 total time=   2.9s\n",
            "[CV 1/3; 25/36] START max_depth=7, max_features=1.0, max_samples=0.5, min_samples_leaf=1, n_estimators=100\n"
          ]
        },
        {
          "output_type": "stream",
          "name": "stderr",
          "text": [
            "/usr/local/lib/python3.7/dist-packages/sklearn/model_selection/_validation.py:680: DataConversionWarning: A column-vector y was passed when a 1d array was expected. Please change the shape of y to (n_samples,), for example using ravel().\n",
            "  estimator.fit(X_train, y_train, **fit_params)\n"
          ]
        },
        {
          "output_type": "stream",
          "name": "stdout",
          "text": [
            "[CV 1/3; 25/36] END max_depth=7, max_features=1.0, max_samples=0.5, min_samples_leaf=1, n_estimators=100;, score=0.723 total time=   0.3s\n",
            "[CV 2/3; 25/36] START max_depth=7, max_features=1.0, max_samples=0.5, min_samples_leaf=1, n_estimators=100\n"
          ]
        },
        {
          "output_type": "stream",
          "name": "stderr",
          "text": [
            "/usr/local/lib/python3.7/dist-packages/sklearn/model_selection/_validation.py:680: DataConversionWarning: A column-vector y was passed when a 1d array was expected. Please change the shape of y to (n_samples,), for example using ravel().\n",
            "  estimator.fit(X_train, y_train, **fit_params)\n"
          ]
        },
        {
          "output_type": "stream",
          "name": "stdout",
          "text": [
            "[CV 2/3; 25/36] END max_depth=7, max_features=1.0, max_samples=0.5, min_samples_leaf=1, n_estimators=100;, score=0.719 total time=   0.3s\n",
            "[CV 3/3; 25/36] START max_depth=7, max_features=1.0, max_samples=0.5, min_samples_leaf=1, n_estimators=100\n"
          ]
        },
        {
          "output_type": "stream",
          "name": "stderr",
          "text": [
            "/usr/local/lib/python3.7/dist-packages/sklearn/model_selection/_validation.py:680: DataConversionWarning: A column-vector y was passed when a 1d array was expected. Please change the shape of y to (n_samples,), for example using ravel().\n",
            "  estimator.fit(X_train, y_train, **fit_params)\n"
          ]
        },
        {
          "output_type": "stream",
          "name": "stdout",
          "text": [
            "[CV 3/3; 25/36] END max_depth=7, max_features=1.0, max_samples=0.5, min_samples_leaf=1, n_estimators=100;, score=0.716 total time=   0.3s\n",
            "[CV 1/3; 26/36] START max_depth=7, max_features=1.0, max_samples=0.5, min_samples_leaf=1, n_estimators=1000\n"
          ]
        },
        {
          "output_type": "stream",
          "name": "stderr",
          "text": [
            "/usr/local/lib/python3.7/dist-packages/sklearn/model_selection/_validation.py:680: DataConversionWarning: A column-vector y was passed when a 1d array was expected. Please change the shape of y to (n_samples,), for example using ravel().\n",
            "  estimator.fit(X_train, y_train, **fit_params)\n"
          ]
        },
        {
          "output_type": "stream",
          "name": "stdout",
          "text": [
            "[CV 1/3; 26/36] END max_depth=7, max_features=1.0, max_samples=0.5, min_samples_leaf=1, n_estimators=1000;, score=0.725 total time=   2.9s\n",
            "[CV 2/3; 26/36] START max_depth=7, max_features=1.0, max_samples=0.5, min_samples_leaf=1, n_estimators=1000\n"
          ]
        },
        {
          "output_type": "stream",
          "name": "stderr",
          "text": [
            "/usr/local/lib/python3.7/dist-packages/sklearn/model_selection/_validation.py:680: DataConversionWarning: A column-vector y was passed when a 1d array was expected. Please change the shape of y to (n_samples,), for example using ravel().\n",
            "  estimator.fit(X_train, y_train, **fit_params)\n"
          ]
        },
        {
          "output_type": "stream",
          "name": "stdout",
          "text": [
            "[CV 2/3; 26/36] END max_depth=7, max_features=1.0, max_samples=0.5, min_samples_leaf=1, n_estimators=1000;, score=0.717 total time=   3.0s\n",
            "[CV 3/3; 26/36] START max_depth=7, max_features=1.0, max_samples=0.5, min_samples_leaf=1, n_estimators=1000\n"
          ]
        },
        {
          "output_type": "stream",
          "name": "stderr",
          "text": [
            "/usr/local/lib/python3.7/dist-packages/sklearn/model_selection/_validation.py:680: DataConversionWarning: A column-vector y was passed when a 1d array was expected. Please change the shape of y to (n_samples,), for example using ravel().\n",
            "  estimator.fit(X_train, y_train, **fit_params)\n"
          ]
        },
        {
          "output_type": "stream",
          "name": "stdout",
          "text": [
            "[CV 3/3; 26/36] END max_depth=7, max_features=1.0, max_samples=0.5, min_samples_leaf=1, n_estimators=1000;, score=0.716 total time=   3.0s\n",
            "[CV 1/3; 27/36] START max_depth=7, max_features=1.0, max_samples=0.5, min_samples_leaf=3, n_estimators=100\n"
          ]
        },
        {
          "output_type": "stream",
          "name": "stderr",
          "text": [
            "/usr/local/lib/python3.7/dist-packages/sklearn/model_selection/_validation.py:680: DataConversionWarning: A column-vector y was passed when a 1d array was expected. Please change the shape of y to (n_samples,), for example using ravel().\n",
            "  estimator.fit(X_train, y_train, **fit_params)\n"
          ]
        },
        {
          "output_type": "stream",
          "name": "stdout",
          "text": [
            "[CV 1/3; 27/36] END max_depth=7, max_features=1.0, max_samples=0.5, min_samples_leaf=3, n_estimators=100;, score=0.721 total time=   0.3s\n",
            "[CV 2/3; 27/36] START max_depth=7, max_features=1.0, max_samples=0.5, min_samples_leaf=3, n_estimators=100\n"
          ]
        },
        {
          "output_type": "stream",
          "name": "stderr",
          "text": [
            "/usr/local/lib/python3.7/dist-packages/sklearn/model_selection/_validation.py:680: DataConversionWarning: A column-vector y was passed when a 1d array was expected. Please change the shape of y to (n_samples,), for example using ravel().\n",
            "  estimator.fit(X_train, y_train, **fit_params)\n"
          ]
        },
        {
          "output_type": "stream",
          "name": "stdout",
          "text": [
            "[CV 2/3; 27/36] END max_depth=7, max_features=1.0, max_samples=0.5, min_samples_leaf=3, n_estimators=100;, score=0.716 total time=   0.3s\n",
            "[CV 3/3; 27/36] START max_depth=7, max_features=1.0, max_samples=0.5, min_samples_leaf=3, n_estimators=100\n"
          ]
        },
        {
          "output_type": "stream",
          "name": "stderr",
          "text": [
            "/usr/local/lib/python3.7/dist-packages/sklearn/model_selection/_validation.py:680: DataConversionWarning: A column-vector y was passed when a 1d array was expected. Please change the shape of y to (n_samples,), for example using ravel().\n",
            "  estimator.fit(X_train, y_train, **fit_params)\n"
          ]
        },
        {
          "output_type": "stream",
          "name": "stdout",
          "text": [
            "[CV 3/3; 27/36] END max_depth=7, max_features=1.0, max_samples=0.5, min_samples_leaf=3, n_estimators=100;, score=0.716 total time=   0.3s\n",
            "[CV 1/3; 28/36] START max_depth=7, max_features=1.0, max_samples=0.5, min_samples_leaf=3, n_estimators=1000\n"
          ]
        },
        {
          "output_type": "stream",
          "name": "stderr",
          "text": [
            "/usr/local/lib/python3.7/dist-packages/sklearn/model_selection/_validation.py:680: DataConversionWarning: A column-vector y was passed when a 1d array was expected. Please change the shape of y to (n_samples,), for example using ravel().\n",
            "  estimator.fit(X_train, y_train, **fit_params)\n"
          ]
        },
        {
          "output_type": "stream",
          "name": "stdout",
          "text": [
            "[CV 1/3; 28/36] END max_depth=7, max_features=1.0, max_samples=0.5, min_samples_leaf=3, n_estimators=1000;, score=0.722 total time=   3.0s\n",
            "[CV 2/3; 28/36] START max_depth=7, max_features=1.0, max_samples=0.5, min_samples_leaf=3, n_estimators=1000\n"
          ]
        },
        {
          "output_type": "stream",
          "name": "stderr",
          "text": [
            "/usr/local/lib/python3.7/dist-packages/sklearn/model_selection/_validation.py:680: DataConversionWarning: A column-vector y was passed when a 1d array was expected. Please change the shape of y to (n_samples,), for example using ravel().\n",
            "  estimator.fit(X_train, y_train, **fit_params)\n"
          ]
        },
        {
          "output_type": "stream",
          "name": "stdout",
          "text": [
            "[CV 2/3; 28/36] END max_depth=7, max_features=1.0, max_samples=0.5, min_samples_leaf=3, n_estimators=1000;, score=0.715 total time=   3.1s\n",
            "[CV 3/3; 28/36] START max_depth=7, max_features=1.0, max_samples=0.5, min_samples_leaf=3, n_estimators=1000\n"
          ]
        },
        {
          "output_type": "stream",
          "name": "stderr",
          "text": [
            "/usr/local/lib/python3.7/dist-packages/sklearn/model_selection/_validation.py:680: DataConversionWarning: A column-vector y was passed when a 1d array was expected. Please change the shape of y to (n_samples,), for example using ravel().\n",
            "  estimator.fit(X_train, y_train, **fit_params)\n"
          ]
        },
        {
          "output_type": "stream",
          "name": "stdout",
          "text": [
            "[CV 3/3; 28/36] END max_depth=7, max_features=1.0, max_samples=0.5, min_samples_leaf=3, n_estimators=1000;, score=0.716 total time=   2.9s\n",
            "[CV 1/3; 29/36] START max_depth=7, max_features=1.0, max_samples=0.5, min_samples_leaf=10, n_estimators=100\n"
          ]
        },
        {
          "output_type": "stream",
          "name": "stderr",
          "text": [
            "/usr/local/lib/python3.7/dist-packages/sklearn/model_selection/_validation.py:680: DataConversionWarning: A column-vector y was passed when a 1d array was expected. Please change the shape of y to (n_samples,), for example using ravel().\n",
            "  estimator.fit(X_train, y_train, **fit_params)\n"
          ]
        },
        {
          "output_type": "stream",
          "name": "stdout",
          "text": [
            "[CV 1/3; 29/36] END max_depth=7, max_features=1.0, max_samples=0.5, min_samples_leaf=10, n_estimators=100;, score=0.721 total time=   0.3s\n",
            "[CV 2/3; 29/36] START max_depth=7, max_features=1.0, max_samples=0.5, min_samples_leaf=10, n_estimators=100\n"
          ]
        },
        {
          "output_type": "stream",
          "name": "stderr",
          "text": [
            "/usr/local/lib/python3.7/dist-packages/sklearn/model_selection/_validation.py:680: DataConversionWarning: A column-vector y was passed when a 1d array was expected. Please change the shape of y to (n_samples,), for example using ravel().\n",
            "  estimator.fit(X_train, y_train, **fit_params)\n"
          ]
        },
        {
          "output_type": "stream",
          "name": "stdout",
          "text": [
            "[CV 2/3; 29/36] END max_depth=7, max_features=1.0, max_samples=0.5, min_samples_leaf=10, n_estimators=100;, score=0.711 total time=   0.3s\n",
            "[CV 3/3; 29/36] START max_depth=7, max_features=1.0, max_samples=0.5, min_samples_leaf=10, n_estimators=100\n"
          ]
        },
        {
          "output_type": "stream",
          "name": "stderr",
          "text": [
            "/usr/local/lib/python3.7/dist-packages/sklearn/model_selection/_validation.py:680: DataConversionWarning: A column-vector y was passed when a 1d array was expected. Please change the shape of y to (n_samples,), for example using ravel().\n",
            "  estimator.fit(X_train, y_train, **fit_params)\n"
          ]
        },
        {
          "output_type": "stream",
          "name": "stdout",
          "text": [
            "[CV 3/3; 29/36] END max_depth=7, max_features=1.0, max_samples=0.5, min_samples_leaf=10, n_estimators=100;, score=0.715 total time=   0.3s\n",
            "[CV 1/3; 30/36] START max_depth=7, max_features=1.0, max_samples=0.5, min_samples_leaf=10, n_estimators=1000\n"
          ]
        },
        {
          "output_type": "stream",
          "name": "stderr",
          "text": [
            "/usr/local/lib/python3.7/dist-packages/sklearn/model_selection/_validation.py:680: DataConversionWarning: A column-vector y was passed when a 1d array was expected. Please change the shape of y to (n_samples,), for example using ravel().\n",
            "  estimator.fit(X_train, y_train, **fit_params)\n"
          ]
        },
        {
          "output_type": "stream",
          "name": "stdout",
          "text": [
            "[CV 1/3; 30/36] END max_depth=7, max_features=1.0, max_samples=0.5, min_samples_leaf=10, n_estimators=1000;, score=0.720 total time=   3.0s\n",
            "[CV 2/3; 30/36] START max_depth=7, max_features=1.0, max_samples=0.5, min_samples_leaf=10, n_estimators=1000\n"
          ]
        },
        {
          "output_type": "stream",
          "name": "stderr",
          "text": [
            "/usr/local/lib/python3.7/dist-packages/sklearn/model_selection/_validation.py:680: DataConversionWarning: A column-vector y was passed when a 1d array was expected. Please change the shape of y to (n_samples,), for example using ravel().\n",
            "  estimator.fit(X_train, y_train, **fit_params)\n"
          ]
        },
        {
          "output_type": "stream",
          "name": "stdout",
          "text": [
            "[CV 2/3; 30/36] END max_depth=7, max_features=1.0, max_samples=0.5, min_samples_leaf=10, n_estimators=1000;, score=0.711 total time=   3.1s\n",
            "[CV 3/3; 30/36] START max_depth=7, max_features=1.0, max_samples=0.5, min_samples_leaf=10, n_estimators=1000\n"
          ]
        },
        {
          "output_type": "stream",
          "name": "stderr",
          "text": [
            "/usr/local/lib/python3.7/dist-packages/sklearn/model_selection/_validation.py:680: DataConversionWarning: A column-vector y was passed when a 1d array was expected. Please change the shape of y to (n_samples,), for example using ravel().\n",
            "  estimator.fit(X_train, y_train, **fit_params)\n"
          ]
        },
        {
          "output_type": "stream",
          "name": "stdout",
          "text": [
            "[CV 3/3; 30/36] END max_depth=7, max_features=1.0, max_samples=0.5, min_samples_leaf=10, n_estimators=1000;, score=0.716 total time=   2.9s\n",
            "[CV 1/3; 31/36] START max_depth=7, max_features=1.0, max_samples=None, min_samples_leaf=1, n_estimators=100\n"
          ]
        },
        {
          "output_type": "stream",
          "name": "stderr",
          "text": [
            "/usr/local/lib/python3.7/dist-packages/sklearn/model_selection/_validation.py:680: DataConversionWarning: A column-vector y was passed when a 1d array was expected. Please change the shape of y to (n_samples,), for example using ravel().\n",
            "  estimator.fit(X_train, y_train, **fit_params)\n"
          ]
        },
        {
          "output_type": "stream",
          "name": "stdout",
          "text": [
            "[CV 1/3; 31/36] END max_depth=7, max_features=1.0, max_samples=None, min_samples_leaf=1, n_estimators=100;, score=0.718 total time=   0.3s\n",
            "[CV 2/3; 31/36] START max_depth=7, max_features=1.0, max_samples=None, min_samples_leaf=1, n_estimators=100\n"
          ]
        },
        {
          "output_type": "stream",
          "name": "stderr",
          "text": [
            "/usr/local/lib/python3.7/dist-packages/sklearn/model_selection/_validation.py:680: DataConversionWarning: A column-vector y was passed when a 1d array was expected. Please change the shape of y to (n_samples,), for example using ravel().\n",
            "  estimator.fit(X_train, y_train, **fit_params)\n"
          ]
        },
        {
          "output_type": "stream",
          "name": "stdout",
          "text": [
            "[CV 2/3; 31/36] END max_depth=7, max_features=1.0, max_samples=None, min_samples_leaf=1, n_estimators=100;, score=0.717 total time=   0.3s\n",
            "[CV 3/3; 31/36] START max_depth=7, max_features=1.0, max_samples=None, min_samples_leaf=1, n_estimators=100\n"
          ]
        },
        {
          "output_type": "stream",
          "name": "stderr",
          "text": [
            "/usr/local/lib/python3.7/dist-packages/sklearn/model_selection/_validation.py:680: DataConversionWarning: A column-vector y was passed when a 1d array was expected. Please change the shape of y to (n_samples,), for example using ravel().\n",
            "  estimator.fit(X_train, y_train, **fit_params)\n"
          ]
        },
        {
          "output_type": "stream",
          "name": "stdout",
          "text": [
            "[CV 3/3; 31/36] END max_depth=7, max_features=1.0, max_samples=None, min_samples_leaf=1, n_estimators=100;, score=0.716 total time=   0.3s\n",
            "[CV 1/3; 32/36] START max_depth=7, max_features=1.0, max_samples=None, min_samples_leaf=1, n_estimators=1000\n"
          ]
        },
        {
          "output_type": "stream",
          "name": "stderr",
          "text": [
            "/usr/local/lib/python3.7/dist-packages/sklearn/model_selection/_validation.py:680: DataConversionWarning: A column-vector y was passed when a 1d array was expected. Please change the shape of y to (n_samples,), for example using ravel().\n",
            "  estimator.fit(X_train, y_train, **fit_params)\n"
          ]
        },
        {
          "output_type": "stream",
          "name": "stdout",
          "text": [
            "[CV 1/3; 32/36] END max_depth=7, max_features=1.0, max_samples=None, min_samples_leaf=1, n_estimators=1000;, score=0.721 total time=   3.3s\n",
            "[CV 2/3; 32/36] START max_depth=7, max_features=1.0, max_samples=None, min_samples_leaf=1, n_estimators=1000\n"
          ]
        },
        {
          "output_type": "stream",
          "name": "stderr",
          "text": [
            "/usr/local/lib/python3.7/dist-packages/sklearn/model_selection/_validation.py:680: DataConversionWarning: A column-vector y was passed when a 1d array was expected. Please change the shape of y to (n_samples,), for example using ravel().\n",
            "  estimator.fit(X_train, y_train, **fit_params)\n"
          ]
        },
        {
          "output_type": "stream",
          "name": "stdout",
          "text": [
            "[CV 2/3; 32/36] END max_depth=7, max_features=1.0, max_samples=None, min_samples_leaf=1, n_estimators=1000;, score=0.718 total time=   3.3s\n",
            "[CV 3/3; 32/36] START max_depth=7, max_features=1.0, max_samples=None, min_samples_leaf=1, n_estimators=1000\n"
          ]
        },
        {
          "output_type": "stream",
          "name": "stderr",
          "text": [
            "/usr/local/lib/python3.7/dist-packages/sklearn/model_selection/_validation.py:680: DataConversionWarning: A column-vector y was passed when a 1d array was expected. Please change the shape of y to (n_samples,), for example using ravel().\n",
            "  estimator.fit(X_train, y_train, **fit_params)\n"
          ]
        },
        {
          "output_type": "stream",
          "name": "stdout",
          "text": [
            "[CV 3/3; 32/36] END max_depth=7, max_features=1.0, max_samples=None, min_samples_leaf=1, n_estimators=1000;, score=0.716 total time=   3.3s\n",
            "[CV 1/3; 33/36] START max_depth=7, max_features=1.0, max_samples=None, min_samples_leaf=3, n_estimators=100\n"
          ]
        },
        {
          "output_type": "stream",
          "name": "stderr",
          "text": [
            "/usr/local/lib/python3.7/dist-packages/sklearn/model_selection/_validation.py:680: DataConversionWarning: A column-vector y was passed when a 1d array was expected. Please change the shape of y to (n_samples,), for example using ravel().\n",
            "  estimator.fit(X_train, y_train, **fit_params)\n"
          ]
        },
        {
          "output_type": "stream",
          "name": "stdout",
          "text": [
            "[CV 1/3; 33/36] END max_depth=7, max_features=1.0, max_samples=None, min_samples_leaf=3, n_estimators=100;, score=0.721 total time=   0.3s\n",
            "[CV 2/3; 33/36] START max_depth=7, max_features=1.0, max_samples=None, min_samples_leaf=3, n_estimators=100\n"
          ]
        },
        {
          "output_type": "stream",
          "name": "stderr",
          "text": [
            "/usr/local/lib/python3.7/dist-packages/sklearn/model_selection/_validation.py:680: DataConversionWarning: A column-vector y was passed when a 1d array was expected. Please change the shape of y to (n_samples,), for example using ravel().\n",
            "  estimator.fit(X_train, y_train, **fit_params)\n"
          ]
        },
        {
          "output_type": "stream",
          "name": "stdout",
          "text": [
            "[CV 2/3; 33/36] END max_depth=7, max_features=1.0, max_samples=None, min_samples_leaf=3, n_estimators=100;, score=0.717 total time=   0.3s\n",
            "[CV 3/3; 33/36] START max_depth=7, max_features=1.0, max_samples=None, min_samples_leaf=3, n_estimators=100\n"
          ]
        },
        {
          "output_type": "stream",
          "name": "stderr",
          "text": [
            "/usr/local/lib/python3.7/dist-packages/sklearn/model_selection/_validation.py:680: DataConversionWarning: A column-vector y was passed when a 1d array was expected. Please change the shape of y to (n_samples,), for example using ravel().\n",
            "  estimator.fit(X_train, y_train, **fit_params)\n"
          ]
        },
        {
          "output_type": "stream",
          "name": "stdout",
          "text": [
            "[CV 3/3; 33/36] END max_depth=7, max_features=1.0, max_samples=None, min_samples_leaf=3, n_estimators=100;, score=0.717 total time=   0.3s\n",
            "[CV 1/3; 34/36] START max_depth=7, max_features=1.0, max_samples=None, min_samples_leaf=3, n_estimators=1000\n"
          ]
        },
        {
          "output_type": "stream",
          "name": "stderr",
          "text": [
            "/usr/local/lib/python3.7/dist-packages/sklearn/model_selection/_validation.py:680: DataConversionWarning: A column-vector y was passed when a 1d array was expected. Please change the shape of y to (n_samples,), for example using ravel().\n",
            "  estimator.fit(X_train, y_train, **fit_params)\n"
          ]
        },
        {
          "output_type": "stream",
          "name": "stdout",
          "text": [
            "[CV 1/3; 34/36] END max_depth=7, max_features=1.0, max_samples=None, min_samples_leaf=3, n_estimators=1000;, score=0.718 total time=   3.2s\n",
            "[CV 2/3; 34/36] START max_depth=7, max_features=1.0, max_samples=None, min_samples_leaf=3, n_estimators=1000\n"
          ]
        },
        {
          "output_type": "stream",
          "name": "stderr",
          "text": [
            "/usr/local/lib/python3.7/dist-packages/sklearn/model_selection/_validation.py:680: DataConversionWarning: A column-vector y was passed when a 1d array was expected. Please change the shape of y to (n_samples,), for example using ravel().\n",
            "  estimator.fit(X_train, y_train, **fit_params)\n"
          ]
        },
        {
          "output_type": "stream",
          "name": "stdout",
          "text": [
            "[CV 2/3; 34/36] END max_depth=7, max_features=1.0, max_samples=None, min_samples_leaf=3, n_estimators=1000;, score=0.717 total time=   3.3s\n",
            "[CV 3/3; 34/36] START max_depth=7, max_features=1.0, max_samples=None, min_samples_leaf=3, n_estimators=1000\n"
          ]
        },
        {
          "output_type": "stream",
          "name": "stderr",
          "text": [
            "/usr/local/lib/python3.7/dist-packages/sklearn/model_selection/_validation.py:680: DataConversionWarning: A column-vector y was passed when a 1d array was expected. Please change the shape of y to (n_samples,), for example using ravel().\n",
            "  estimator.fit(X_train, y_train, **fit_params)\n"
          ]
        },
        {
          "output_type": "stream",
          "name": "stdout",
          "text": [
            "[CV 3/3; 34/36] END max_depth=7, max_features=1.0, max_samples=None, min_samples_leaf=3, n_estimators=1000;, score=0.716 total time=   3.3s\n",
            "[CV 1/3; 35/36] START max_depth=7, max_features=1.0, max_samples=None, min_samples_leaf=10, n_estimators=100\n"
          ]
        },
        {
          "output_type": "stream",
          "name": "stderr",
          "text": [
            "/usr/local/lib/python3.7/dist-packages/sklearn/model_selection/_validation.py:680: DataConversionWarning: A column-vector y was passed when a 1d array was expected. Please change the shape of y to (n_samples,), for example using ravel().\n",
            "  estimator.fit(X_train, y_train, **fit_params)\n"
          ]
        },
        {
          "output_type": "stream",
          "name": "stdout",
          "text": [
            "[CV 1/3; 35/36] END max_depth=7, max_features=1.0, max_samples=None, min_samples_leaf=10, n_estimators=100;, score=0.720 total time=   0.3s\n",
            "[CV 2/3; 35/36] START max_depth=7, max_features=1.0, max_samples=None, min_samples_leaf=10, n_estimators=100\n"
          ]
        },
        {
          "output_type": "stream",
          "name": "stderr",
          "text": [
            "/usr/local/lib/python3.7/dist-packages/sklearn/model_selection/_validation.py:680: DataConversionWarning: A column-vector y was passed when a 1d array was expected. Please change the shape of y to (n_samples,), for example using ravel().\n",
            "  estimator.fit(X_train, y_train, **fit_params)\n"
          ]
        },
        {
          "output_type": "stream",
          "name": "stdout",
          "text": [
            "[CV 2/3; 35/36] END max_depth=7, max_features=1.0, max_samples=None, min_samples_leaf=10, n_estimators=100;, score=0.716 total time=   0.3s\n",
            "[CV 3/3; 35/36] START max_depth=7, max_features=1.0, max_samples=None, min_samples_leaf=10, n_estimators=100\n"
          ]
        },
        {
          "output_type": "stream",
          "name": "stderr",
          "text": [
            "/usr/local/lib/python3.7/dist-packages/sklearn/model_selection/_validation.py:680: DataConversionWarning: A column-vector y was passed when a 1d array was expected. Please change the shape of y to (n_samples,), for example using ravel().\n",
            "  estimator.fit(X_train, y_train, **fit_params)\n"
          ]
        },
        {
          "output_type": "stream",
          "name": "stdout",
          "text": [
            "[CV 3/3; 35/36] END max_depth=7, max_features=1.0, max_samples=None, min_samples_leaf=10, n_estimators=100;, score=0.715 total time=   0.3s\n",
            "[CV 1/3; 36/36] START max_depth=7, max_features=1.0, max_samples=None, min_samples_leaf=10, n_estimators=1000\n"
          ]
        },
        {
          "output_type": "stream",
          "name": "stderr",
          "text": [
            "/usr/local/lib/python3.7/dist-packages/sklearn/model_selection/_validation.py:680: DataConversionWarning: A column-vector y was passed when a 1d array was expected. Please change the shape of y to (n_samples,), for example using ravel().\n",
            "  estimator.fit(X_train, y_train, **fit_params)\n"
          ]
        },
        {
          "output_type": "stream",
          "name": "stdout",
          "text": [
            "[CV 1/3; 36/36] END max_depth=7, max_features=1.0, max_samples=None, min_samples_leaf=10, n_estimators=1000;, score=0.717 total time=   3.4s\n",
            "[CV 2/3; 36/36] START max_depth=7, max_features=1.0, max_samples=None, min_samples_leaf=10, n_estimators=1000\n"
          ]
        },
        {
          "output_type": "stream",
          "name": "stderr",
          "text": [
            "/usr/local/lib/python3.7/dist-packages/sklearn/model_selection/_validation.py:680: DataConversionWarning: A column-vector y was passed when a 1d array was expected. Please change the shape of y to (n_samples,), for example using ravel().\n",
            "  estimator.fit(X_train, y_train, **fit_params)\n"
          ]
        },
        {
          "output_type": "stream",
          "name": "stdout",
          "text": [
            "[CV 2/3; 36/36] END max_depth=7, max_features=1.0, max_samples=None, min_samples_leaf=10, n_estimators=1000;, score=0.717 total time=   3.3s\n",
            "[CV 3/3; 36/36] START max_depth=7, max_features=1.0, max_samples=None, min_samples_leaf=10, n_estimators=1000\n"
          ]
        },
        {
          "output_type": "stream",
          "name": "stderr",
          "text": [
            "/usr/local/lib/python3.7/dist-packages/sklearn/model_selection/_validation.py:680: DataConversionWarning: A column-vector y was passed when a 1d array was expected. Please change the shape of y to (n_samples,), for example using ravel().\n",
            "  estimator.fit(X_train, y_train, **fit_params)\n"
          ]
        },
        {
          "output_type": "stream",
          "name": "stdout",
          "text": [
            "[CV 3/3; 36/36] END max_depth=7, max_features=1.0, max_samples=None, min_samples_leaf=10, n_estimators=1000;, score=0.718 total time=   3.2s\n"
          ]
        },
        {
          "output_type": "stream",
          "name": "stderr",
          "text": [
            "/usr/local/lib/python3.7/dist-packages/sklearn/model_selection/_search.py:926: DataConversionWarning: A column-vector y was passed when a 1d array was expected. Please change the shape of y to (n_samples,), for example using ravel().\n",
            "  self.best_estimator_.fit(X, y, **fit_params)\n"
          ]
        },
        {
          "output_type": "execute_result",
          "data": {
            "text/plain": [
              "GridSearchCV(cv=3, estimator=RandomForestClassifier(),\n",
              "             param_grid={'max_depth': [7], 'max_features': [0.1, 0.5, 1.0],\n",
              "                         'max_samples': [0.5, None],\n",
              "                         'min_samples_leaf': [1, 3, 10],\n",
              "                         'n_estimators': [100, 1000]},\n",
              "             verbose=10)"
            ]
          },
          "metadata": {},
          "execution_count": 69
        }
      ]
    },
    {
      "cell_type": "code",
      "source": [
        "grid_search.best_params_"
      ],
      "metadata": {
        "id": "TcCMKMK5hLBP",
        "outputId": "45deb2db-7eb0-4dba-c285-2adb894563a4",
        "colab": {
          "base_uri": "https://localhost:8080/"
        }
      },
      "execution_count": null,
      "outputs": [
        {
          "output_type": "execute_result",
          "data": {
            "text/plain": [
              "{'max_depth': 7,\n",
              " 'max_features': 1.0,\n",
              " 'max_samples': 0.5,\n",
              " 'min_samples_leaf': 1,\n",
              " 'n_estimators': 100}"
            ]
          },
          "metadata": {},
          "execution_count": 70
        }
      ]
    },
    {
      "cell_type": "code",
      "source": [
        "# Run the model using the parameters found from the grid search\n",
        "rf_model_meta = RandomForestClassifier(criterion='gini',max_depth=7, min_samples_leaf=1,n_estimators=100,\n",
        "                                 max_features=1,max_samples=0.5,random_state=0)\n",
        "rf_model_meta.fit(X_train_meta, y_train_meta)"
      ],
      "metadata": {
        "id": "cRq3FfCxhScw",
        "outputId": "ace555c8-bedd-450e-8ee1-959e823a3d4a",
        "colab": {
          "base_uri": "https://localhost:8080/"
        }
      },
      "execution_count": null,
      "outputs": [
        {
          "output_type": "stream",
          "name": "stderr",
          "text": [
            "/usr/local/lib/python3.7/dist-packages/ipykernel_launcher.py:4: DataConversionWarning: A column-vector y was passed when a 1d array was expected. Please change the shape of y to (n_samples,), for example using ravel().\n",
            "  after removing the cwd from sys.path.\n"
          ]
        },
        {
          "output_type": "execute_result",
          "data": {
            "text/plain": [
              "RandomForestClassifier(max_depth=7, max_features=1, max_samples=0.5,\n",
              "                       random_state=0)"
            ]
          },
          "metadata": {},
          "execution_count": 71
        }
      ]
    },
    {
      "cell_type": "code",
      "source": [
        "test_preds = rf_model_meta.predict(X_test_meta).reshape(len(X_test_meta),1)\n",
        "test_acc = np.sum(test_preds==y_test_meta)/len(y_test_meta)\n"
      ],
      "metadata": {
        "id": "wvk7OWA1hrxy"
      },
      "execution_count": null,
      "outputs": []
    },
    {
      "cell_type": "code",
      "source": [
        "test_acc"
      ],
      "metadata": {
        "id": "lleZnPRniuaB"
      },
      "execution_count": null,
      "outputs": []
    },
    {
      "cell_type": "code",
      "source": [
        "def calc_feature_importances(model,feat_names,num_to_show):\n",
        "    # Determine the relative importance of each feature using the random forest model\n",
        "    importances = model.feature_importances_\n",
        "    # Get an array of the indices that would sort \"importances\" in reverse order to get largest to smallest\n",
        "    indices = np.argsort(importances)[::-1]\n",
        "    ranked_feats = []\n",
        "    for i in range(len(indices)):\n",
        "        feat_name = feat_names[indices[i]]\n",
        "        ranked_feats.append(feat_name)\n",
        "    RF_ranking = pd.DataFrame()\n",
        "    RF_ranking['Feat Index'] = indices\n",
        "    RF_ranking['Feature'] = ranked_feats\n",
        "    RF_ranking['Importance'] = np.sort(importances)[::-1]\n",
        "    display(RF_ranking.iloc[:num_to_show,:])\n",
        "\n",
        "    # Plot the importance value for each feature\n",
        "    RF_ranking[:num_to_show][::-1].plot(x='Feature',y='Importance',kind='barh',figsize=(12,7),legend=False,title='RF Feature Importance')\n",
        "    plt.show()\n",
        "    return"
      ],
      "metadata": {
        "id": "GJUxdLS5i6Eh"
      },
      "execution_count": null,
      "outputs": []
    },
    {
      "cell_type": "code",
      "source": [
        "top_feats = 30\n",
        "calc_feature_importances(rf_model_meta,X_test_meta.columns,top_feats)"
      ],
      "metadata": {
        "id": "sWHABd-Xi-B0",
        "outputId": "ca11d4e6-0e48-49ff-b65f-fab282d0f5dc",
        "colab": {
          "base_uri": "https://localhost:8080/",
          "height": 601
        }
      },
      "execution_count": null,
      "outputs": [
        {
          "output_type": "display_data",
          "data": {
            "text/plain": [
              "   Feat Index       Feature  Importance\n",
              "0           0       dx_type    0.408924\n",
              "1           3      ageGroup    0.367154\n",
              "2           2  localization    0.204911\n",
              "3           1           sex    0.019012"
            ],
            "text/html": [
              "\n",
              "  <div id=\"df-c52bdf8f-cb67-4156-a72f-e89b87cea596\">\n",
              "    <div class=\"colab-df-container\">\n",
              "      <div>\n",
              "<style scoped>\n",
              "    .dataframe tbody tr th:only-of-type {\n",
              "        vertical-align: middle;\n",
              "    }\n",
              "\n",
              "    .dataframe tbody tr th {\n",
              "        vertical-align: top;\n",
              "    }\n",
              "\n",
              "    .dataframe thead th {\n",
              "        text-align: right;\n",
              "    }\n",
              "</style>\n",
              "<table border=\"1\" class=\"dataframe\">\n",
              "  <thead>\n",
              "    <tr style=\"text-align: right;\">\n",
              "      <th></th>\n",
              "      <th>Feat Index</th>\n",
              "      <th>Feature</th>\n",
              "      <th>Importance</th>\n",
              "    </tr>\n",
              "  </thead>\n",
              "  <tbody>\n",
              "    <tr>\n",
              "      <th>0</th>\n",
              "      <td>0</td>\n",
              "      <td>dx_type</td>\n",
              "      <td>0.408924</td>\n",
              "    </tr>\n",
              "    <tr>\n",
              "      <th>1</th>\n",
              "      <td>3</td>\n",
              "      <td>ageGroup</td>\n",
              "      <td>0.367154</td>\n",
              "    </tr>\n",
              "    <tr>\n",
              "      <th>2</th>\n",
              "      <td>2</td>\n",
              "      <td>localization</td>\n",
              "      <td>0.204911</td>\n",
              "    </tr>\n",
              "    <tr>\n",
              "      <th>3</th>\n",
              "      <td>1</td>\n",
              "      <td>sex</td>\n",
              "      <td>0.019012</td>\n",
              "    </tr>\n",
              "  </tbody>\n",
              "</table>\n",
              "</div>\n",
              "      <button class=\"colab-df-convert\" onclick=\"convertToInteractive('df-c52bdf8f-cb67-4156-a72f-e89b87cea596')\"\n",
              "              title=\"Convert this dataframe to an interactive table.\"\n",
              "              style=\"display:none;\">\n",
              "        \n",
              "  <svg xmlns=\"http://www.w3.org/2000/svg\" height=\"24px\"viewBox=\"0 0 24 24\"\n",
              "       width=\"24px\">\n",
              "    <path d=\"M0 0h24v24H0V0z\" fill=\"none\"/>\n",
              "    <path d=\"M18.56 5.44l.94 2.06.94-2.06 2.06-.94-2.06-.94-.94-2.06-.94 2.06-2.06.94zm-11 1L8.5 8.5l.94-2.06 2.06-.94-2.06-.94L8.5 2.5l-.94 2.06-2.06.94zm10 10l.94 2.06.94-2.06 2.06-.94-2.06-.94-.94-2.06-.94 2.06-2.06.94z\"/><path d=\"M17.41 7.96l-1.37-1.37c-.4-.4-.92-.59-1.43-.59-.52 0-1.04.2-1.43.59L10.3 9.45l-7.72 7.72c-.78.78-.78 2.05 0 2.83L4 21.41c.39.39.9.59 1.41.59.51 0 1.02-.2 1.41-.59l7.78-7.78 2.81-2.81c.8-.78.8-2.07 0-2.86zM5.41 20L4 18.59l7.72-7.72 1.47 1.35L5.41 20z\"/>\n",
              "  </svg>\n",
              "      </button>\n",
              "      \n",
              "  <style>\n",
              "    .colab-df-container {\n",
              "      display:flex;\n",
              "      flex-wrap:wrap;\n",
              "      gap: 12px;\n",
              "    }\n",
              "\n",
              "    .colab-df-convert {\n",
              "      background-color: #E8F0FE;\n",
              "      border: none;\n",
              "      border-radius: 50%;\n",
              "      cursor: pointer;\n",
              "      display: none;\n",
              "      fill: #1967D2;\n",
              "      height: 32px;\n",
              "      padding: 0 0 0 0;\n",
              "      width: 32px;\n",
              "    }\n",
              "\n",
              "    .colab-df-convert:hover {\n",
              "      background-color: #E2EBFA;\n",
              "      box-shadow: 0px 1px 2px rgba(60, 64, 67, 0.3), 0px 1px 3px 1px rgba(60, 64, 67, 0.15);\n",
              "      fill: #174EA6;\n",
              "    }\n",
              "\n",
              "    [theme=dark] .colab-df-convert {\n",
              "      background-color: #3B4455;\n",
              "      fill: #D2E3FC;\n",
              "    }\n",
              "\n",
              "    [theme=dark] .colab-df-convert:hover {\n",
              "      background-color: #434B5C;\n",
              "      box-shadow: 0px 1px 3px 1px rgba(0, 0, 0, 0.15);\n",
              "      filter: drop-shadow(0px 1px 2px rgba(0, 0, 0, 0.3));\n",
              "      fill: #FFFFFF;\n",
              "    }\n",
              "  </style>\n",
              "\n",
              "      <script>\n",
              "        const buttonEl =\n",
              "          document.querySelector('#df-c52bdf8f-cb67-4156-a72f-e89b87cea596 button.colab-df-convert');\n",
              "        buttonEl.style.display =\n",
              "          google.colab.kernel.accessAllowed ? 'block' : 'none';\n",
              "\n",
              "        async function convertToInteractive(key) {\n",
              "          const element = document.querySelector('#df-c52bdf8f-cb67-4156-a72f-e89b87cea596');\n",
              "          const dataTable =\n",
              "            await google.colab.kernel.invokeFunction('convertToInteractive',\n",
              "                                                     [key], {});\n",
              "          if (!dataTable) return;\n",
              "\n",
              "          const docLinkHtml = 'Like what you see? Visit the ' +\n",
              "            '<a target=\"_blank\" href=https://colab.research.google.com/notebooks/data_table.ipynb>data table notebook</a>'\n",
              "            + ' to learn more about interactive tables.';\n",
              "          element.innerHTML = '';\n",
              "          dataTable['output_type'] = 'display_data';\n",
              "          await google.colab.output.renderOutput(dataTable, element);\n",
              "          const docLink = document.createElement('div');\n",
              "          docLink.innerHTML = docLinkHtml;\n",
              "          element.appendChild(docLink);\n",
              "        }\n",
              "      </script>\n",
              "    </div>\n",
              "  </div>\n",
              "  "
            ]
          },
          "metadata": {}
        },
        {
          "output_type": "display_data",
          "data": {
            "text/plain": [
              "<Figure size 864x504 with 1 Axes>"
            ],
            "image/png": "[encoded data removed]"
          },
          "metadata": {
            "needs_background": "light"
          }
        }
      ]
    }
  ]
}